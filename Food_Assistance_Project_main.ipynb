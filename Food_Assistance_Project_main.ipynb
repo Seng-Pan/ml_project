{
  "cells": [
    {
      "cell_type": "markdown",
      "metadata": {  
        "id": "view-in-github",  
        "colab_type": "text"
      },
      "source": [
        "<a href=\"https://colab.research.google.com/github/Seng-Pan/ml_project/blob/main/Food_Assistance_Project_main.ipynb\" target=\"_parent\"><img src=\"https://colab.research.google.com/assets/colab-badge.svg\" alt=\"Open In Colab\"/></a>"
      ]
    },
    {
      "cell_type": "markdown",
      "metadata": {
        "id": "oy0n_s3vyNCw"
      },
      "source": [
        "# FOOD ASSISTANCE\n"
      ]
    },
    {
      "cell_type": "markdown",
      "metadata": {
        "id": "XIlDTekBoY6J"
      },
      "source": [
        "# Main tasks\n",
        "- Calories Calculator\n",
        "- Cook Helper (Recommend Recipes)\n",
        "- Dietary Filter\n",
        "- Leftover Remixer\n",
        "- +allergic avoider"
      ]
    },
    {
      "cell_type": "markdown",
      "metadata": {
        "id": "pG0o8qiQ-k_I"
      },
      "source": [
        "# Flow of the application\n",
        "- Encode the query image and text with multimodal embedding\n",
        "- Use Embedded query (image + text) to query information in the RAG\n",
        "- Retrive the data (image + text) from the RAG, Augmented the prompt\n",
        "- Prompt the multimodal llm to get responds"
      ]
    },
    {
      "cell_type": "markdown",
      "metadata": {
        "id": "_WgZuszkZYbZ"
      },
      "source": [
        "# Flow of development\n",
        "- Fine-tune the multimodal embedding\n",
        "  - load dataset\n",
        "    - mrdbourke/food_vision_199_classes (food image, food label)\n",
        "    - Multimodal-Fatima/Food101_train (food image, food label, full description)\n",
        "    - Scuccorese/food-ingredients-dataset (food image, ingredients, category)\n",
        "    - mbien/recipe_nlg (label, recipe)\n",
        "    - pinkieseb/nutrition_dataset (food image, nutritions**)\n",
        "    - GPTasty/nutrition-positive-pairs (contrastive learning, positive pair nutrition)\n",
        "    - Hieu-Pham/kaggle_food_recipes (label, ingredient, instruction)\n",
        "- Implement RAG vector database system with fine-tuned multimodal embedding + faiss\n",
        "  - load dataset\n",
        "    - juliensimon/food102 (food image, food label) (food101 + extra class generated with stable diffusion)\n",
        "- Construct prompt for llm\n",
        "- Connect everything together   "
      ]
    },
    {
      "cell_type": "code",
      "execution_count": null,
      "metadata": {
        "colab": {
          "base_uri": "https://localhost:8080/"
        },
        "id": "BLWW5rJVyhFh",
        "outputId": "0666b4e0-7ca0-4905-8fc3-86d35c9de978"
      },
      "outputs": [
        {
          "name": "stdout",
          "output_type": "stream",
          "text": [
            "Python 3.11.12\n"
          ]
        }
      ],
      "source": [
        "!python --version"
      ]
    },
    {
      "cell_type": "code",
      "execution_count": null,
      "metadata": {
        "colab": {
          "base_uri": "https://localhost:8080/"
        },
        "collapsed": true,
        "id": "f49xIIYD_YT1",
        "outputId": "694df383-9c26-4362-a4de-985f115c886f"
      },
      "outputs": [
        {
          "output_type": "stream",
          "name": "stdout",
          "text": [
            "Requirement already satisfied: torch in /usr/local/lib/python3.11/dist-packages (2.6.0+cu124)\n",
            "Requirement already satisfied: filelock in /usr/local/lib/python3.11/dist-packages (from torch) (3.18.0)\n",
            "Requirement already satisfied: typing-extensions>=4.10.0 in /usr/local/lib/python3.11/dist-packages (from torch) (4.13.2)\n",
            "Requirement already satisfied: networkx in /usr/local/lib/python3.11/dist-packages (from torch) (3.4.2)\n",
            "Requirement already satisfied: jinja2 in /usr/local/lib/python3.11/dist-packages (from torch) (3.1.6)\n",
            "Requirement already satisfied: fsspec in /usr/local/lib/python3.11/dist-packages (from torch) (2025.3.2)\n",
            "Collecting nvidia-cuda-nvrtc-cu12==12.4.127 (from torch)\n",
            "  Downloading nvidia_cuda_nvrtc_cu12-12.4.127-py3-none-manylinux2014_x86_64.whl.metadata (1.5 kB)\n",
            "Collecting nvidia-cuda-runtime-cu12==12.4.127 (from torch)\n",
            "  Downloading nvidia_cuda_runtime_cu12-12.4.127-py3-none-manylinux2014_x86_64.whl.metadata (1.5 kB)\n",
            "Collecting nvidia-cuda-cupti-cu12==12.4.127 (from torch)\n",
            "  Downloading nvidia_cuda_cupti_cu12-12.4.127-py3-none-manylinux2014_x86_64.whl.metadata (1.6 kB)\n",
            "Collecting nvidia-cudnn-cu12==9.1.0.70 (from torch)\n",
            "  Downloading nvidia_cudnn_cu12-9.1.0.70-py3-none-manylinux2014_x86_64.whl.metadata (1.6 kB)\n",
            "Collecting nvidia-cublas-cu12==12.4.5.8 (from torch)\n",
            "  Downloading nvidia_cublas_cu12-12.4.5.8-py3-none-manylinux2014_x86_64.whl.metadata (1.5 kB)\n",
            "Collecting nvidia-cufft-cu12==11.2.1.3 (from torch)\n",
            "  Downloading nvidia_cufft_cu12-11.2.1.3-py3-none-manylinux2014_x86_64.whl.metadata (1.5 kB)\n",
            "Collecting nvidia-curand-cu12==10.3.5.147 (from torch)\n",
            "  Downloading nvidia_curand_cu12-10.3.5.147-py3-none-manylinux2014_x86_64.whl.metadata (1.5 kB)\n",
            "Collecting nvidia-cusolver-cu12==11.6.1.9 (from torch)\n",
            "  Downloading nvidia_cusolver_cu12-11.6.1.9-py3-none-manylinux2014_x86_64.whl.metadata (1.6 kB)\n",
            "Collecting nvidia-cusparse-cu12==12.3.1.170 (from torch)\n",
            "  Downloading nvidia_cusparse_cu12-12.3.1.170-py3-none-manylinux2014_x86_64.whl.metadata (1.6 kB)\n",
            "Requirement already satisfied: nvidia-cusparselt-cu12==0.6.2 in /usr/local/lib/python3.11/dist-packages (from torch) (0.6.2)\n",
            "Requirement already satisfied: nvidia-nccl-cu12==2.21.5 in /usr/local/lib/python3.11/dist-packages (from torch) (2.21.5)\n",
            "Requirement already satisfied: nvidia-nvtx-cu12==12.4.127 in /usr/local/lib/python3.11/dist-packages (from torch) (12.4.127)\n",
            "Collecting nvidia-nvjitlink-cu12==12.4.127 (from torch)\n",
            "  Downloading nvidia_nvjitlink_cu12-12.4.127-py3-none-manylinux2014_x86_64.whl.metadata (1.5 kB)\n",
            "Requirement already satisfied: triton==3.2.0 in /usr/local/lib/python3.11/dist-packages (from torch) (3.2.0)\n",
            "Requirement already satisfied: sympy==1.13.1 in /usr/local/lib/python3.11/dist-packages (from torch) (1.13.1)\n",
            "Requirement already satisfied: mpmath<1.4,>=1.1.0 in /usr/local/lib/python3.11/dist-packages (from sympy==1.13.1->torch) (1.3.0)\n",
            "Requirement already satisfied: MarkupSafe>=2.0 in /usr/local/lib/python3.11/dist-packages (from jinja2->torch) (3.0.2)\n",
            "Downloading nvidia_cublas_cu12-12.4.5.8-py3-none-manylinux2014_x86_64.whl (363.4 MB)\n",
            "\u001b[2K   \u001b[90m━━━━━━━━━━━━━━━━━━━━━━━━━━━━━━━━━━━━━━━━\u001b[0m \u001b[32m363.4/363.4 MB\u001b[0m \u001b[31m4.0 MB/s\u001b[0m eta \u001b[36m0:00:00\u001b[0m\n",
            "\u001b[?25hDownloading nvidia_cuda_cupti_cu12-12.4.127-py3-none-manylinux2014_x86_64.whl (13.8 MB)\n",
            "\u001b[2K   \u001b[90m━━━━━━━━━━━━━━━━━━━━━━━━━━━━━━━━━━━━━━━━\u001b[0m \u001b[32m13.8/13.8 MB\u001b[0m \u001b[31m37.6 MB/s\u001b[0m eta \u001b[36m0:00:00\u001b[0m\n",
            "\u001b[?25hDownloading nvidia_cuda_nvrtc_cu12-12.4.127-py3-none-manylinux2014_x86_64.whl (24.6 MB)\n",
            "\u001b[2K   \u001b[90m━━━━━━━━━━━━━━━━━━━━━━━━━━━━━━━━━━━━━━━━\u001b[0m \u001b[32m24.6/24.6 MB\u001b[0m \u001b[31m46.3 MB/s\u001b[0m eta \u001b[36m0:00:00\u001b[0m\n",
            "\u001b[?25hDownloading nvidia_cuda_runtime_cu12-12.4.127-py3-none-manylinux2014_x86_64.whl (883 kB)\n",
            "\u001b[2K   \u001b[90m━━━━━━━━━━━━━━━━━━━━━━━━━━━━━━━━━━━━━━━━\u001b[0m \u001b[32m883.7/883.7 kB\u001b[0m \u001b[31m34.1 MB/s\u001b[0m eta \u001b[36m0:00:00\u001b[0m\n",
            "\u001b[?25hDownloading nvidia_cudnn_cu12-9.1.0.70-py3-none-manylinux2014_x86_64.whl (664.8 MB)\n",
            "\u001b[2K   \u001b[90m━━━━━━━━━━━━━━━━━━━━━━━━━━━━━━━━━━━━━━━━\u001b[0m \u001b[32m664.8/664.8 MB\u001b[0m \u001b[31m2.1 MB/s\u001b[0m eta \u001b[36m0:00:00\u001b[0m\n",
            "\u001b[?25hDownloading nvidia_cufft_cu12-11.2.1.3-py3-none-manylinux2014_x86_64.whl (211.5 MB)\n",
            "\u001b[2K   \u001b[90m━━━━━━━━━━━━━━━━━━━━━━━━━━━━━━━━━━━━━━━━\u001b[0m \u001b[32m211.5/211.5 MB\u001b[0m \u001b[31m5.5 MB/s\u001b[0m eta \u001b[36m0:00:00\u001b[0m\n",
            "\u001b[?25hDownloading nvidia_curand_cu12-10.3.5.147-py3-none-manylinux2014_x86_64.whl (56.3 MB)\n",
            "\u001b[2K   \u001b[90m━━━━━━━━━━━━━━━━━━━━━━━━━━━━━━━━━━━━━━━━\u001b[0m \u001b[32m56.3/56.3 MB\u001b[0m \u001b[31m13.0 MB/s\u001b[0m eta \u001b[36m0:00:00\u001b[0m\n",
            "\u001b[?25hDownloading nvidia_cusolver_cu12-11.6.1.9-py3-none-manylinux2014_x86_64.whl (127.9 MB)\n",
            "\u001b[2K   \u001b[90m━━━━━━━━━━━━━━━━━━━━━━━━━━━━━━━━━━━━━━━━\u001b[0m \u001b[32m127.9/127.9 MB\u001b[0m \u001b[31m6.3 MB/s\u001b[0m eta \u001b[36m0:00:00\u001b[0m\n",
            "\u001b[?25hDownloading nvidia_cusparse_cu12-12.3.1.170-py3-none-manylinux2014_x86_64.whl (207.5 MB)\n",
            "\u001b[2K   \u001b[90m━━━━━━━━━━━━━━━━━━━━━━━━━━━━━━━━━━━━━━━━\u001b[0m \u001b[32m207.5/207.5 MB\u001b[0m \u001b[31m6.0 MB/s\u001b[0m eta \u001b[36m0:00:00\u001b[0m\n",
            "\u001b[?25hDownloading nvidia_nvjitlink_cu12-12.4.127-py3-none-manylinux2014_x86_64.whl (21.1 MB)\n",
            "\u001b[2K   \u001b[90m━━━━━━━━━━━━━━━━━━━━━━━━━━━━━━━━━━━━━━━━\u001b[0m \u001b[32m21.1/21.1 MB\u001b[0m \u001b[31m48.4 MB/s\u001b[0m eta \u001b[36m0:00:00\u001b[0m\n",
            "\u001b[?25hInstalling collected packages: nvidia-nvjitlink-cu12, nvidia-curand-cu12, nvidia-cufft-cu12, nvidia-cuda-runtime-cu12, nvidia-cuda-nvrtc-cu12, nvidia-cuda-cupti-cu12, nvidia-cublas-cu12, nvidia-cusparse-cu12, nvidia-cudnn-cu12, nvidia-cusolver-cu12\n",
            "  Attempting uninstall: nvidia-nvjitlink-cu12\n",
            "    Found existing installation: nvidia-nvjitlink-cu12 12.5.82\n",
            "    Uninstalling nvidia-nvjitlink-cu12-12.5.82:\n",
            "      Successfully uninstalled nvidia-nvjitlink-cu12-12.5.82\n",
            "  Attempting uninstall: nvidia-curand-cu12\n",
            "    Found existing installation: nvidia-curand-cu12 10.3.6.82\n",
            "    Uninstalling nvidia-curand-cu12-10.3.6.82:\n",
            "      Successfully uninstalled nvidia-curand-cu12-10.3.6.82\n",
            "  Attempting uninstall: nvidia-cufft-cu12\n",
            "    Found existing installation: nvidia-cufft-cu12 11.2.3.61\n",
            "    Uninstalling nvidia-cufft-cu12-11.2.3.61:\n",
            "      Successfully uninstalled nvidia-cufft-cu12-11.2.3.61\n",
            "  Attempting uninstall: nvidia-cuda-runtime-cu12\n",
            "    Found existing installation: nvidia-cuda-runtime-cu12 12.5.82\n",
            "    Uninstalling nvidia-cuda-runtime-cu12-12.5.82:\n",
            "      Successfully uninstalled nvidia-cuda-runtime-cu12-12.5.82\n",
            "  Attempting uninstall: nvidia-cuda-nvrtc-cu12\n",
            "    Found existing installation: nvidia-cuda-nvrtc-cu12 12.5.82\n",
            "    Uninstalling nvidia-cuda-nvrtc-cu12-12.5.82:\n",
            "      Successfully uninstalled nvidia-cuda-nvrtc-cu12-12.5.82\n",
            "  Attempting uninstall: nvidia-cuda-cupti-cu12\n",
            "    Found existing installation: nvidia-cuda-cupti-cu12 12.5.82\n",
            "    Uninstalling nvidia-cuda-cupti-cu12-12.5.82:\n",
            "      Successfully uninstalled nvidia-cuda-cupti-cu12-12.5.82\n",
            "  Attempting uninstall: nvidia-cublas-cu12\n",
            "    Found existing installation: nvidia-cublas-cu12 12.5.3.2\n",
            "    Uninstalling nvidia-cublas-cu12-12.5.3.2:\n",
            "      Successfully uninstalled nvidia-cublas-cu12-12.5.3.2\n",
            "  Attempting uninstall: nvidia-cusparse-cu12\n",
            "    Found existing installation: nvidia-cusparse-cu12 12.5.1.3\n",
            "    Uninstalling nvidia-cusparse-cu12-12.5.1.3:\n",
            "      Successfully uninstalled nvidia-cusparse-cu12-12.5.1.3\n",
            "  Attempting uninstall: nvidia-cudnn-cu12\n",
            "    Found existing installation: nvidia-cudnn-cu12 9.3.0.75\n",
            "    Uninstalling nvidia-cudnn-cu12-9.3.0.75:\n",
            "      Successfully uninstalled nvidia-cudnn-cu12-9.3.0.75\n",
            "  Attempting uninstall: nvidia-cusolver-cu12\n",
            "    Found existing installation: nvidia-cusolver-cu12 11.6.3.83\n",
            "    Uninstalling nvidia-cusolver-cu12-11.6.3.83:\n",
            "      Successfully uninstalled nvidia-cusolver-cu12-11.6.3.83\n",
            "Successfully installed nvidia-cublas-cu12-12.4.5.8 nvidia-cuda-cupti-cu12-12.4.127 nvidia-cuda-nvrtc-cu12-12.4.127 nvidia-cuda-runtime-cu12-12.4.127 nvidia-cudnn-cu12-9.1.0.70 nvidia-cufft-cu12-11.2.1.3 nvidia-curand-cu12-10.3.5.147 nvidia-cusolver-cu12-11.6.1.9 nvidia-cusparse-cu12-12.3.1.170 nvidia-nvjitlink-cu12-12.4.127\n",
            "Requirement already satisfied: torchvision in /usr/local/lib/python3.11/dist-packages (0.21.0+cu124)\n",
            "Requirement already satisfied: numpy in /usr/local/lib/python3.11/dist-packages (from torchvision) (2.0.2)\n",
            "Requirement already satisfied: torch==2.6.0 in /usr/local/lib/python3.11/dist-packages (from torchvision) (2.6.0+cu124)\n",
            "Requirement already satisfied: pillow!=8.3.*,>=5.3.0 in /usr/local/lib/python3.11/dist-packages (from torchvision) (11.2.1)\n",
            "Requirement already satisfied: filelock in /usr/local/lib/python3.11/dist-packages (from torch==2.6.0->torchvision) (3.18.0)\n",
            "Requirement already satisfied: typing-extensions>=4.10.0 in /usr/local/lib/python3.11/dist-packages (from torch==2.6.0->torchvision) (4.13.2)\n",
            "Requirement already satisfied: networkx in /usr/local/lib/python3.11/dist-packages (from torch==2.6.0->torchvision) (3.4.2)\n",
            "Requirement already satisfied: jinja2 in /usr/local/lib/python3.11/dist-packages (from torch==2.6.0->torchvision) (3.1.6)\n",
            "Requirement already satisfied: fsspec in /usr/local/lib/python3.11/dist-packages (from torch==2.6.0->torchvision) (2025.3.2)\n",
            "Requirement already satisfied: nvidia-cuda-nvrtc-cu12==12.4.127 in /usr/local/lib/python3.11/dist-packages (from torch==2.6.0->torchvision) (12.4.127)\n",
            "Requirement already satisfied: nvidia-cuda-runtime-cu12==12.4.127 in /usr/local/lib/python3.11/dist-packages (from torch==2.6.0->torchvision) (12.4.127)\n",
            "Requirement already satisfied: nvidia-cuda-cupti-cu12==12.4.127 in /usr/local/lib/python3.11/dist-packages (from torch==2.6.0->torchvision) (12.4.127)\n",
            "Requirement already satisfied: nvidia-cudnn-cu12==9.1.0.70 in /usr/local/lib/python3.11/dist-packages (from torch==2.6.0->torchvision) (9.1.0.70)\n",
            "Requirement already satisfied: nvidia-cublas-cu12==12.4.5.8 in /usr/local/lib/python3.11/dist-packages (from torch==2.6.0->torchvision) (12.4.5.8)\n",
            "Requirement already satisfied: nvidia-cufft-cu12==11.2.1.3 in /usr/local/lib/python3.11/dist-packages (from torch==2.6.0->torchvision) (11.2.1.3)\n",
            "Requirement already satisfied: nvidia-curand-cu12==10.3.5.147 in /usr/local/lib/python3.11/dist-packages (from torch==2.6.0->torchvision) (10.3.5.147)\n",
            "Requirement already satisfied: nvidia-cusolver-cu12==11.6.1.9 in /usr/local/lib/python3.11/dist-packages (from torch==2.6.0->torchvision) (11.6.1.9)\n",
            "Requirement already satisfied: nvidia-cusparse-cu12==12.3.1.170 in /usr/local/lib/python3.11/dist-packages (from torch==2.6.0->torchvision) (12.3.1.170)\n",
            "Requirement already satisfied: nvidia-cusparselt-cu12==0.6.2 in /usr/local/lib/python3.11/dist-packages (from torch==2.6.0->torchvision) (0.6.2)\n",
            "Requirement already satisfied: nvidia-nccl-cu12==2.21.5 in /usr/local/lib/python3.11/dist-packages (from torch==2.6.0->torchvision) (2.21.5)\n",
            "Requirement already satisfied: nvidia-nvtx-cu12==12.4.127 in /usr/local/lib/python3.11/dist-packages (from torch==2.6.0->torchvision) (12.4.127)\n",
            "Requirement already satisfied: nvidia-nvjitlink-cu12==12.4.127 in /usr/local/lib/python3.11/dist-packages (from torch==2.6.0->torchvision) (12.4.127)\n",
            "Requirement already satisfied: triton==3.2.0 in /usr/local/lib/python3.11/dist-packages (from torch==2.6.0->torchvision) (3.2.0)\n",
            "Requirement already satisfied: sympy==1.13.1 in /usr/local/lib/python3.11/dist-packages (from torch==2.6.0->torchvision) (1.13.1)\n",
            "Requirement already satisfied: mpmath<1.4,>=1.1.0 in /usr/local/lib/python3.11/dist-packages (from sympy==1.13.1->torch==2.6.0->torchvision) (1.3.0)\n",
            "Requirement already satisfied: MarkupSafe>=2.0 in /usr/local/lib/python3.11/dist-packages (from jinja2->torch==2.6.0->torchvision) (3.0.2)\n",
            "Collecting evaluate\n",
            "  Downloading evaluate-0.4.3-py3-none-any.whl.metadata (9.2 kB)\n",
            "Collecting datasets>=2.0.0 (from evaluate)\n",
            "  Downloading datasets-3.5.1-py3-none-any.whl.metadata (19 kB)\n",
            "Requirement already satisfied: numpy>=1.17 in /usr/local/lib/python3.11/dist-packages (from evaluate) (2.0.2)\n",
            "Collecting dill (from evaluate)\n",
            "  Downloading dill-0.4.0-py3-none-any.whl.metadata (10 kB)\n",
            "Requirement already satisfied: pandas in /usr/local/lib/python3.11/dist-packages (from evaluate) (2.2.2)\n",
            "Requirement already satisfied: requests>=2.19.0 in /usr/local/lib/python3.11/dist-packages (from evaluate) (2.32.3)\n",
            "Requirement already satisfied: tqdm>=4.62.1 in /usr/local/lib/python3.11/dist-packages (from evaluate) (4.67.1)\n",
            "Collecting xxhash (from evaluate)\n",
            "  Downloading xxhash-3.5.0-cp311-cp311-manylinux_2_17_x86_64.manylinux2014_x86_64.whl.metadata (12 kB)\n",
            "Collecting multiprocess (from evaluate)\n",
            "  Downloading multiprocess-0.70.18-py311-none-any.whl.metadata (7.5 kB)\n",
            "Requirement already satisfied: fsspec>=2021.05.0 in /usr/local/lib/python3.11/dist-packages (from fsspec[http]>=2021.05.0->evaluate) (2025.3.2)\n",
            "Requirement already satisfied: huggingface-hub>=0.7.0 in /usr/local/lib/python3.11/dist-packages (from evaluate) (0.30.2)\n",
            "Requirement already satisfied: packaging in /usr/local/lib/python3.11/dist-packages (from evaluate) (24.2)\n",
            "Requirement already satisfied: filelock in /usr/local/lib/python3.11/dist-packages (from datasets>=2.0.0->evaluate) (3.18.0)\n",
            "Requirement already satisfied: pyarrow>=15.0.0 in /usr/local/lib/python3.11/dist-packages (from datasets>=2.0.0->evaluate) (18.1.0)\n",
            "Collecting dill (from evaluate)\n",
            "  Downloading dill-0.3.8-py3-none-any.whl.metadata (10 kB)\n",
            "Collecting multiprocess (from evaluate)\n",
            "  Downloading multiprocess-0.70.16-py311-none-any.whl.metadata (7.2 kB)\n",
            "Collecting fsspec>=2021.05.0 (from fsspec[http]>=2021.05.0->evaluate)\n",
            "  Downloading fsspec-2025.3.0-py3-none-any.whl.metadata (11 kB)\n",
            "Requirement already satisfied: aiohttp in /usr/local/lib/python3.11/dist-packages (from datasets>=2.0.0->evaluate) (3.11.15)\n",
            "Requirement already satisfied: pyyaml>=5.1 in /usr/local/lib/python3.11/dist-packages (from datasets>=2.0.0->evaluate) (6.0.2)\n",
            "Requirement already satisfied: typing-extensions>=3.7.4.3 in /usr/local/lib/python3.11/dist-packages (from huggingface-hub>=0.7.0->evaluate) (4.13.2)\n",
            "Requirement already satisfied: charset-normalizer<4,>=2 in /usr/local/lib/python3.11/dist-packages (from requests>=2.19.0->evaluate) (3.4.1)\n",
            "Requirement already satisfied: idna<4,>=2.5 in /usr/local/lib/python3.11/dist-packages (from requests>=2.19.0->evaluate) (3.10)\n",
            "Requirement already satisfied: urllib3<3,>=1.21.1 in /usr/local/lib/python3.11/dist-packages (from requests>=2.19.0->evaluate) (2.4.0)\n",
            "Requirement already satisfied: certifi>=2017.4.17 in /usr/local/lib/python3.11/dist-packages (from requests>=2.19.0->evaluate) (2025.4.26)\n",
            "Requirement already satisfied: python-dateutil>=2.8.2 in /usr/local/lib/python3.11/dist-packages (from pandas->evaluate) (2.9.0.post0)\n",
            "Requirement already satisfied: pytz>=2020.1 in /usr/local/lib/python3.11/dist-packages (from pandas->evaluate) (2025.2)\n",
            "Requirement already satisfied: tzdata>=2022.7 in /usr/local/lib/python3.11/dist-packages (from pandas->evaluate) (2025.2)\n",
            "Requirement already satisfied: aiohappyeyeballs>=2.3.0 in /usr/local/lib/python3.11/dist-packages (from aiohttp->datasets>=2.0.0->evaluate) (2.6.1)\n",
            "Requirement already satisfied: aiosignal>=1.1.2 in /usr/local/lib/python3.11/dist-packages (from aiohttp->datasets>=2.0.0->evaluate) (1.3.2)\n",
            "Requirement already satisfied: attrs>=17.3.0 in /usr/local/lib/python3.11/dist-packages (from aiohttp->datasets>=2.0.0->evaluate) (25.3.0)\n",
            "Requirement already satisfied: frozenlist>=1.1.1 in /usr/local/lib/python3.11/dist-packages (from aiohttp->datasets>=2.0.0->evaluate) (1.6.0)\n",
            "Requirement already satisfied: multidict<7.0,>=4.5 in /usr/local/lib/python3.11/dist-packages (from aiohttp->datasets>=2.0.0->evaluate) (6.4.3)\n",
            "Requirement already satisfied: propcache>=0.2.0 in /usr/local/lib/python3.11/dist-packages (from aiohttp->datasets>=2.0.0->evaluate) (0.3.1)\n",
            "Requirement already satisfied: yarl<2.0,>=1.17.0 in /usr/local/lib/python3.11/dist-packages (from aiohttp->datasets>=2.0.0->evaluate) (1.20.0)\n",
            "Requirement already satisfied: six>=1.5 in /usr/local/lib/python3.11/dist-packages (from python-dateutil>=2.8.2->pandas->evaluate) (1.17.0)\n",
            "Downloading evaluate-0.4.3-py3-none-any.whl (84 kB)\n",
            "\u001b[2K   \u001b[90m━━━━━━━━━━━━━━━━━━━━━━━━━━━━━━━━━━━━━━━━\u001b[0m \u001b[32m84.0/84.0 kB\u001b[0m \u001b[31m4.7 MB/s\u001b[0m eta \u001b[36m0:00:00\u001b[0m\n",
            "\u001b[?25hDownloading datasets-3.5.1-py3-none-any.whl (491 kB)\n",
            "\u001b[2K   \u001b[90m━━━━━━━━━━━━━━━━━━━━━━━━━━━━━━━━━━━━━━━━\u001b[0m \u001b[32m491.4/491.4 kB\u001b[0m \u001b[31m22.6 MB/s\u001b[0m eta \u001b[36m0:00:00\u001b[0m\n",
            "\u001b[?25hDownloading dill-0.3.8-py3-none-any.whl (116 kB)\n",
            "\u001b[2K   \u001b[90m━━━━━━━━━━━━━━━━━━━━━━━━━━━━━━━━━━━━━━━━\u001b[0m \u001b[32m116.3/116.3 kB\u001b[0m \u001b[31m13.5 MB/s\u001b[0m eta \u001b[36m0:00:00\u001b[0m\n",
            "\u001b[?25hDownloading fsspec-2025.3.0-py3-none-any.whl (193 kB)\n",
            "\u001b[2K   \u001b[90m━━━━━━━━━━━━━━━━━━━━━━━━━━━━━━━━━━━━━━━━\u001b[0m \u001b[32m193.6/193.6 kB\u001b[0m \u001b[31m20.7 MB/s\u001b[0m eta \u001b[36m0:00:00\u001b[0m\n",
            "\u001b[?25hDownloading multiprocess-0.70.16-py311-none-any.whl (143 kB)\n",
            "\u001b[2K   \u001b[90m━━━━━━━━━━━━━━━━━━━━━━━━━━━━━━━━━━━━━━━━\u001b[0m \u001b[32m143.5/143.5 kB\u001b[0m \u001b[31m16.0 MB/s\u001b[0m eta \u001b[36m0:00:00\u001b[0m\n",
            "\u001b[?25hDownloading xxhash-3.5.0-cp311-cp311-manylinux_2_17_x86_64.manylinux2014_x86_64.whl (194 kB)\n",
            "\u001b[2K   \u001b[90m━━━━━━━━━━━━━━━━━━━━━━━━━━━━━━━━━━━━━━━━\u001b[0m \u001b[32m194.8/194.8 kB\u001b[0m \u001b[31m21.0 MB/s\u001b[0m eta \u001b[36m0:00:00\u001b[0m\n",
            "\u001b[?25hInstalling collected packages: xxhash, fsspec, dill, multiprocess, datasets, evaluate\n",
            "  Attempting uninstall: fsspec\n",
            "    Found existing installation: fsspec 2025.3.2\n",
            "    Uninstalling fsspec-2025.3.2:\n",
            "      Successfully uninstalled fsspec-2025.3.2\n",
            "\u001b[31mERROR: pip's dependency resolver does not currently take into account all the packages that are installed. This behaviour is the source of the following dependency conflicts.\n",
            "gcsfs 2025.3.2 requires fsspec==2025.3.2, but you have fsspec 2025.3.0 which is incompatible.\u001b[0m\u001b[31m\n",
            "\u001b[0mSuccessfully installed datasets-3.5.1 dill-0.3.8 evaluate-0.4.3 fsspec-2025.3.0 multiprocess-0.70.16 xxhash-3.5.0\n",
            "Requirement already satisfied: accelerate in /usr/local/lib/python3.11/dist-packages (1.6.0)\n",
            "Requirement already satisfied: numpy<3.0.0,>=1.17 in /usr/local/lib/python3.11/dist-packages (from accelerate) (2.0.2)\n",
            "Requirement already satisfied: packaging>=20.0 in /usr/local/lib/python3.11/dist-packages (from accelerate) (24.2)\n",
            "Requirement already satisfied: psutil in /usr/local/lib/python3.11/dist-packages (from accelerate) (5.9.5)\n",
            "Requirement already satisfied: pyyaml in /usr/local/lib/python3.11/dist-packages (from accelerate) (6.0.2)\n",
            "Requirement already satisfied: torch>=2.0.0 in /usr/local/lib/python3.11/dist-packages (from accelerate) (2.6.0+cu124)\n",
            "Requirement already satisfied: huggingface-hub>=0.21.0 in /usr/local/lib/python3.11/dist-packages (from accelerate) (0.30.2)\n",
            "Requirement already satisfied: safetensors>=0.4.3 in /usr/local/lib/python3.11/dist-packages (from accelerate) (0.5.3)\n",
            "Requirement already satisfied: filelock in /usr/local/lib/python3.11/dist-packages (from huggingface-hub>=0.21.0->accelerate) (3.18.0)\n",
            "Requirement already satisfied: fsspec>=2023.5.0 in /usr/local/lib/python3.11/dist-packages (from huggingface-hub>=0.21.0->accelerate) (2025.3.0)\n",
            "Requirement already satisfied: requests in /usr/local/lib/python3.11/dist-packages (from huggingface-hub>=0.21.0->accelerate) (2.32.3)\n",
            "Requirement already satisfied: tqdm>=4.42.1 in /usr/local/lib/python3.11/dist-packages (from huggingface-hub>=0.21.0->accelerate) (4.67.1)\n",
            "Requirement already satisfied: typing-extensions>=3.7.4.3 in /usr/local/lib/python3.11/dist-packages (from huggingface-hub>=0.21.0->accelerate) (4.13.2)\n",
            "Requirement already satisfied: networkx in /usr/local/lib/python3.11/dist-packages (from torch>=2.0.0->accelerate) (3.4.2)\n",
            "Requirement already satisfied: jinja2 in /usr/local/lib/python3.11/dist-packages (from torch>=2.0.0->accelerate) (3.1.6)\n",
            "Requirement already satisfied: nvidia-cuda-nvrtc-cu12==12.4.127 in /usr/local/lib/python3.11/dist-packages (from torch>=2.0.0->accelerate) (12.4.127)\n",
            "Requirement already satisfied: nvidia-cuda-runtime-cu12==12.4.127 in /usr/local/lib/python3.11/dist-packages (from torch>=2.0.0->accelerate) (12.4.127)\n",
            "Requirement already satisfied: nvidia-cuda-cupti-cu12==12.4.127 in /usr/local/lib/python3.11/dist-packages (from torch>=2.0.0->accelerate) (12.4.127)\n",
            "Requirement already satisfied: nvidia-cudnn-cu12==9.1.0.70 in /usr/local/lib/python3.11/dist-packages (from torch>=2.0.0->accelerate) (9.1.0.70)\n",
            "Requirement already satisfied: nvidia-cublas-cu12==12.4.5.8 in /usr/local/lib/python3.11/dist-packages (from torch>=2.0.0->accelerate) (12.4.5.8)\n",
            "Requirement already satisfied: nvidia-cufft-cu12==11.2.1.3 in /usr/local/lib/python3.11/dist-packages (from torch>=2.0.0->accelerate) (11.2.1.3)\n",
            "Requirement already satisfied: nvidia-curand-cu12==10.3.5.147 in /usr/local/lib/python3.11/dist-packages (from torch>=2.0.0->accelerate) (10.3.5.147)\n",
            "Requirement already satisfied: nvidia-cusolver-cu12==11.6.1.9 in /usr/local/lib/python3.11/dist-packages (from torch>=2.0.0->accelerate) (11.6.1.9)\n",
            "Requirement already satisfied: nvidia-cusparse-cu12==12.3.1.170 in /usr/local/lib/python3.11/dist-packages (from torch>=2.0.0->accelerate) (12.3.1.170)\n",
            "Requirement already satisfied: nvidia-cusparselt-cu12==0.6.2 in /usr/local/lib/python3.11/dist-packages (from torch>=2.0.0->accelerate) (0.6.2)\n",
            "Requirement already satisfied: nvidia-nccl-cu12==2.21.5 in /usr/local/lib/python3.11/dist-packages (from torch>=2.0.0->accelerate) (2.21.5)\n",
            "Requirement already satisfied: nvidia-nvtx-cu12==12.4.127 in /usr/local/lib/python3.11/dist-packages (from torch>=2.0.0->accelerate) (12.4.127)\n",
            "Requirement already satisfied: nvidia-nvjitlink-cu12==12.4.127 in /usr/local/lib/python3.11/dist-packages (from torch>=2.0.0->accelerate) (12.4.127)\n",
            "Requirement already satisfied: triton==3.2.0 in /usr/local/lib/python3.11/dist-packages (from torch>=2.0.0->accelerate) (3.2.0)\n",
            "Requirement already satisfied: sympy==1.13.1 in /usr/local/lib/python3.11/dist-packages (from torch>=2.0.0->accelerate) (1.13.1)\n",
            "Requirement already satisfied: mpmath<1.4,>=1.1.0 in /usr/local/lib/python3.11/dist-packages (from sympy==1.13.1->torch>=2.0.0->accelerate) (1.3.0)\n",
            "Requirement already satisfied: MarkupSafe>=2.0 in /usr/local/lib/python3.11/dist-packages (from jinja2->torch>=2.0.0->accelerate) (3.0.2)\n",
            "Requirement already satisfied: charset-normalizer<4,>=2 in /usr/local/lib/python3.11/dist-packages (from requests->huggingface-hub>=0.21.0->accelerate) (3.4.1)\n",
            "Requirement already satisfied: idna<4,>=2.5 in /usr/local/lib/python3.11/dist-packages (from requests->huggingface-hub>=0.21.0->accelerate) (3.10)\n",
            "Requirement already satisfied: urllib3<3,>=1.21.1 in /usr/local/lib/python3.11/dist-packages (from requests->huggingface-hub>=0.21.0->accelerate) (2.4.0)\n",
            "Requirement already satisfied: certifi>=2017.4.17 in /usr/local/lib/python3.11/dist-packages (from requests->huggingface-hub>=0.21.0->accelerate) (2025.4.26)\n",
            "Requirement already satisfied: transformers in /usr/local/lib/python3.11/dist-packages (4.51.3)\n",
            "Requirement already satisfied: filelock in /usr/local/lib/python3.11/dist-packages (from transformers) (3.18.0)\n",
            "Requirement already satisfied: huggingface-hub<1.0,>=0.30.0 in /usr/local/lib/python3.11/dist-packages (from transformers) (0.30.2)\n",
            "Requirement already satisfied: numpy>=1.17 in /usr/local/lib/python3.11/dist-packages (from transformers) (2.0.2)\n",
            "Requirement already satisfied: packaging>=20.0 in /usr/local/lib/python3.11/dist-packages (from transformers) (24.2)\n",
            "Requirement already satisfied: pyyaml>=5.1 in /usr/local/lib/python3.11/dist-packages (from transformers) (6.0.2)\n",
            "Requirement already satisfied: regex!=2019.12.17 in /usr/local/lib/python3.11/dist-packages (from transformers) (2024.11.6)\n",
            "Requirement already satisfied: requests in /usr/local/lib/python3.11/dist-packages (from transformers) (2.32.3)\n",
            "Requirement already satisfied: tokenizers<0.22,>=0.21 in /usr/local/lib/python3.11/dist-packages (from transformers) (0.21.1)\n",
            "Requirement already satisfied: safetensors>=0.4.3 in /usr/local/lib/python3.11/dist-packages (from transformers) (0.5.3)\n",
            "Requirement already satisfied: tqdm>=4.27 in /usr/local/lib/python3.11/dist-packages (from transformers) (4.67.1)\n",
            "Requirement already satisfied: fsspec>=2023.5.0 in /usr/local/lib/python3.11/dist-packages (from huggingface-hub<1.0,>=0.30.0->transformers) (2025.3.0)\n",
            "Requirement already satisfied: typing-extensions>=3.7.4.3 in /usr/local/lib/python3.11/dist-packages (from huggingface-hub<1.0,>=0.30.0->transformers) (4.13.2)\n",
            "Requirement already satisfied: charset-normalizer<4,>=2 in /usr/local/lib/python3.11/dist-packages (from requests->transformers) (3.4.1)\n",
            "Requirement already satisfied: idna<4,>=2.5 in /usr/local/lib/python3.11/dist-packages (from requests->transformers) (3.10)\n",
            "Requirement already satisfied: urllib3<3,>=1.21.1 in /usr/local/lib/python3.11/dist-packages (from requests->transformers) (2.4.0)\n",
            "Requirement already satisfied: certifi>=2017.4.17 in /usr/local/lib/python3.11/dist-packages (from requests->transformers) (2025.4.26)\n",
            "Collecting gradio\n",
            "  Downloading gradio-5.29.0-py3-none-any.whl.metadata (16 kB)\n",
            "Collecting aiofiles<25.0,>=22.0 (from gradio)\n",
            "  Downloading aiofiles-24.1.0-py3-none-any.whl.metadata (10 kB)\n",
            "Requirement already satisfied: anyio<5.0,>=3.0 in /usr/local/lib/python3.11/dist-packages (from gradio) (4.9.0)\n",
            "Collecting fastapi<1.0,>=0.115.2 (from gradio)\n",
            "  Downloading fastapi-0.115.12-py3-none-any.whl.metadata (27 kB)\n",
            "Collecting ffmpy (from gradio)\n",
            "  Downloading ffmpy-0.5.0-py3-none-any.whl.metadata (3.0 kB)\n",
            "Collecting gradio-client==1.10.0 (from gradio)\n",
            "  Downloading gradio_client-1.10.0-py3-none-any.whl.metadata (7.1 kB)\n",
            "Collecting groovy~=0.1 (from gradio)\n",
            "  Downloading groovy-0.1.2-py3-none-any.whl.metadata (6.1 kB)\n",
            "Requirement already satisfied: httpx>=0.24.1 in /usr/local/lib/python3.11/dist-packages (from gradio) (0.28.1)\n",
            "Requirement already satisfied: huggingface-hub>=0.28.1 in /usr/local/lib/python3.11/dist-packages (from gradio) (0.30.2)\n",
            "Requirement already satisfied: jinja2<4.0 in /usr/local/lib/python3.11/dist-packages (from gradio) (3.1.6)\n",
            "Requirement already satisfied: markupsafe<4.0,>=2.0 in /usr/local/lib/python3.11/dist-packages (from gradio) (3.0.2)\n",
            "Requirement already satisfied: numpy<3.0,>=1.0 in /usr/local/lib/python3.11/dist-packages (from gradio) (2.0.2)\n",
            "Requirement already satisfied: orjson~=3.0 in /usr/local/lib/python3.11/dist-packages (from gradio) (3.10.17)\n",
            "Requirement already satisfied: packaging in /usr/local/lib/python3.11/dist-packages (from gradio) (24.2)\n",
            "Requirement already satisfied: pandas<3.0,>=1.0 in /usr/local/lib/python3.11/dist-packages (from gradio) (2.2.2)\n",
            "Requirement already satisfied: pillow<12.0,>=8.0 in /usr/local/lib/python3.11/dist-packages (from gradio) (11.2.1)\n",
            "Requirement already satisfied: pydantic<2.12,>=2.0 in /usr/local/lib/python3.11/dist-packages (from gradio) (2.11.3)\n",
            "Collecting pydub (from gradio)\n",
            "  Downloading pydub-0.25.1-py2.py3-none-any.whl.metadata (1.4 kB)\n",
            "Collecting python-multipart>=0.0.18 (from gradio)\n",
            "  Downloading python_multipart-0.0.20-py3-none-any.whl.metadata (1.8 kB)\n",
            "Requirement already satisfied: pyyaml<7.0,>=5.0 in /usr/local/lib/python3.11/dist-packages (from gradio) (6.0.2)\n",
            "Collecting ruff>=0.9.3 (from gradio)\n",
            "  Downloading ruff-0.11.8-py3-none-manylinux_2_17_x86_64.manylinux2014_x86_64.whl.metadata (25 kB)\n",
            "Collecting safehttpx<0.2.0,>=0.1.6 (from gradio)\n",
            "  Downloading safehttpx-0.1.6-py3-none-any.whl.metadata (4.2 kB)\n",
            "Collecting semantic-version~=2.0 (from gradio)\n",
            "  Downloading semantic_version-2.10.0-py2.py3-none-any.whl.metadata (9.7 kB)\n",
            "Collecting starlette<1.0,>=0.40.0 (from gradio)\n",
            "  Downloading starlette-0.46.2-py3-none-any.whl.metadata (6.2 kB)\n",
            "Collecting tomlkit<0.14.0,>=0.12.0 (from gradio)\n",
            "  Downloading tomlkit-0.13.2-py3-none-any.whl.metadata (2.7 kB)\n",
            "Requirement already satisfied: typer<1.0,>=0.12 in /usr/local/lib/python3.11/dist-packages (from gradio) (0.15.3)\n",
            "Requirement already satisfied: typing-extensions~=4.0 in /usr/local/lib/python3.11/dist-packages (from gradio) (4.13.2)\n",
            "Collecting uvicorn>=0.14.0 (from gradio)\n",
            "  Downloading uvicorn-0.34.2-py3-none-any.whl.metadata (6.5 kB)\n",
            "Requirement already satisfied: fsspec in /usr/local/lib/python3.11/dist-packages (from gradio-client==1.10.0->gradio) (2025.3.0)\n",
            "Requirement already satisfied: websockets<16.0,>=10.0 in /usr/local/lib/python3.11/dist-packages (from gradio-client==1.10.0->gradio) (15.0.1)\n",
            "Requirement already satisfied: idna>=2.8 in /usr/local/lib/python3.11/dist-packages (from anyio<5.0,>=3.0->gradio) (3.10)\n",
            "Requirement already satisfied: sniffio>=1.1 in /usr/local/lib/python3.11/dist-packages (from anyio<5.0,>=3.0->gradio) (1.3.1)\n",
            "Requirement already satisfied: certifi in /usr/local/lib/python3.11/dist-packages (from httpx>=0.24.1->gradio) (2025.4.26)\n",
            "Requirement already satisfied: httpcore==1.* in /usr/local/lib/python3.11/dist-packages (from httpx>=0.24.1->gradio) (1.0.9)\n",
            "Requirement already satisfied: h11>=0.16 in /usr/local/lib/python3.11/dist-packages (from httpcore==1.*->httpx>=0.24.1->gradio) (0.16.0)\n",
            "Requirement already satisfied: filelock in /usr/local/lib/python3.11/dist-packages (from huggingface-hub>=0.28.1->gradio) (3.18.0)\n",
            "Requirement already satisfied: requests in /usr/local/lib/python3.11/dist-packages (from huggingface-hub>=0.28.1->gradio) (2.32.3)\n",
            "Requirement already satisfied: tqdm>=4.42.1 in /usr/local/lib/python3.11/dist-packages (from huggingface-hub>=0.28.1->gradio) (4.67.1)\n",
            "Requirement already satisfied: python-dateutil>=2.8.2 in /usr/local/lib/python3.11/dist-packages (from pandas<3.0,>=1.0->gradio) (2.9.0.post0)\n",
            "Requirement already satisfied: pytz>=2020.1 in /usr/local/lib/python3.11/dist-packages (from pandas<3.0,>=1.0->gradio) (2025.2)\n",
            "Requirement already satisfied: tzdata>=2022.7 in /usr/local/lib/python3.11/dist-packages (from pandas<3.0,>=1.0->gradio) (2025.2)\n",
            "Requirement already satisfied: annotated-types>=0.6.0 in /usr/local/lib/python3.11/dist-packages (from pydantic<2.12,>=2.0->gradio) (0.7.0)\n",
            "Requirement already satisfied: pydantic-core==2.33.1 in /usr/local/lib/python3.11/dist-packages (from pydantic<2.12,>=2.0->gradio) (2.33.1)\n",
            "Requirement already satisfied: typing-inspection>=0.4.0 in /usr/local/lib/python3.11/dist-packages (from pydantic<2.12,>=2.0->gradio) (0.4.0)\n",
            "Requirement already satisfied: click>=8.0.0 in /usr/local/lib/python3.11/dist-packages (from typer<1.0,>=0.12->gradio) (8.1.8)\n",
            "Requirement already satisfied: shellingham>=1.3.0 in /usr/local/lib/python3.11/dist-packages (from typer<1.0,>=0.12->gradio) (1.5.4)\n",
            "Requirement already satisfied: rich>=10.11.0 in /usr/local/lib/python3.11/dist-packages (from typer<1.0,>=0.12->gradio) (13.9.4)\n",
            "Requirement already satisfied: six>=1.5 in /usr/local/lib/python3.11/dist-packages (from python-dateutil>=2.8.2->pandas<3.0,>=1.0->gradio) (1.17.0)\n",
            "Requirement already satisfied: markdown-it-py>=2.2.0 in /usr/local/lib/python3.11/dist-packages (from rich>=10.11.0->typer<1.0,>=0.12->gradio) (3.0.0)\n",
            "Requirement already satisfied: pygments<3.0.0,>=2.13.0 in /usr/local/lib/python3.11/dist-packages (from rich>=10.11.0->typer<1.0,>=0.12->gradio) (2.19.1)\n",
            "Requirement already satisfied: charset-normalizer<4,>=2 in /usr/local/lib/python3.11/dist-packages (from requests->huggingface-hub>=0.28.1->gradio) (3.4.1)\n",
            "Requirement already satisfied: urllib3<3,>=1.21.1 in /usr/local/lib/python3.11/dist-packages (from requests->huggingface-hub>=0.28.1->gradio) (2.4.0)\n",
            "Requirement already satisfied: mdurl~=0.1 in /usr/local/lib/python3.11/dist-packages (from markdown-it-py>=2.2.0->rich>=10.11.0->typer<1.0,>=0.12->gradio) (0.1.2)\n",
            "Downloading gradio-5.29.0-py3-none-any.whl (54.1 MB)\n",
            "\u001b[2K   \u001b[90m━━━━━━━━━━━━━━━━━━━━━━━━━━━━━━━━━━━━━━━━\u001b[0m \u001b[32m54.1/54.1 MB\u001b[0m \u001b[31m14.3 MB/s\u001b[0m eta \u001b[36m0:00:00\u001b[0m\n",
            "\u001b[?25hDownloading gradio_client-1.10.0-py3-none-any.whl (322 kB)\n",
            "\u001b[2K   \u001b[90m━━━━━━━━━━━━━━━━━━━━━━━━━━━━━━━━━━━━━━━━\u001b[0m \u001b[32m322.9/322.9 kB\u001b[0m \u001b[31m27.3 MB/s\u001b[0m eta \u001b[36m0:00:00\u001b[0m\n",
            "\u001b[?25hDownloading aiofiles-24.1.0-py3-none-any.whl (15 kB)\n",
            "Downloading fastapi-0.115.12-py3-none-any.whl (95 kB)\n",
            "\u001b[2K   \u001b[90m━━━━━━━━━━━━━━━━━━━━━━━━━━━━━━━━━━━━━━━━\u001b[0m \u001b[32m95.2/95.2 kB\u001b[0m \u001b[31m10.0 MB/s\u001b[0m eta \u001b[36m0:00:00\u001b[0m\n",
            "\u001b[?25hDownloading groovy-0.1.2-py3-none-any.whl (14 kB)\n",
            "Downloading python_multipart-0.0.20-py3-none-any.whl (24 kB)\n",
            "Downloading ruff-0.11.8-py3-none-manylinux_2_17_x86_64.manylinux2014_x86_64.whl (11.5 MB)\n",
            "\u001b[2K   \u001b[90m━━━━━━━━━━━━━━━━━━━━━━━━━━━━━━━━━━━━━━━━\u001b[0m \u001b[32m11.5/11.5 MB\u001b[0m \u001b[31m53.5 MB/s\u001b[0m eta \u001b[36m0:00:00\u001b[0m\n",
            "\u001b[?25hDownloading safehttpx-0.1.6-py3-none-any.whl (8.7 kB)\n",
            "Downloading semantic_version-2.10.0-py2.py3-none-any.whl (15 kB)\n",
            "Downloading starlette-0.46.2-py3-none-any.whl (72 kB)\n",
            "\u001b[2K   \u001b[90m━━━━━━━━━━━━━━━━━━━━━━━━━━━━━━━━━━━━━━━━\u001b[0m \u001b[32m72.0/72.0 kB\u001b[0m \u001b[31m6.7 MB/s\u001b[0m eta \u001b[36m0:00:00\u001b[0m\n",
            "\u001b[?25hDownloading tomlkit-0.13.2-py3-none-any.whl (37 kB)\n",
            "Downloading uvicorn-0.34.2-py3-none-any.whl (62 kB)\n",
            "\u001b[2K   \u001b[90m━━━━━━━━━━━━━━━━━━━━━━━━━━━━━━━━━━━━━━━━\u001b[0m \u001b[32m62.5/62.5 kB\u001b[0m \u001b[31m6.3 MB/s\u001b[0m eta \u001b[36m0:00:00\u001b[0m\n",
            "\u001b[?25hDownloading ffmpy-0.5.0-py3-none-any.whl (6.0 kB)\n",
            "Downloading pydub-0.25.1-py2.py3-none-any.whl (32 kB)\n",
            "Installing collected packages: pydub, uvicorn, tomlkit, semantic-version, ruff, python-multipart, groovy, ffmpy, aiofiles, starlette, safehttpx, gradio-client, fastapi, gradio\n",
            "Successfully installed aiofiles-24.1.0 fastapi-0.115.12 ffmpy-0.5.0 gradio-5.29.0 gradio-client-1.10.0 groovy-0.1.2 pydub-0.25.1 python-multipart-0.0.20 ruff-0.11.8 safehttpx-0.1.6 semantic-version-2.10.0 starlette-0.46.2 tomlkit-0.13.2 uvicorn-0.34.2\n",
            "Requirement already satisfied: huggingface-hub in /usr/local/lib/python3.11/dist-packages (0.30.2)\n",
            "Requirement already satisfied: filelock in /usr/local/lib/python3.11/dist-packages (from huggingface-hub) (3.18.0)\n",
            "Requirement already satisfied: fsspec>=2023.5.0 in /usr/local/lib/python3.11/dist-packages (from huggingface-hub) (2025.3.0)\n",
            "Requirement already satisfied: packaging>=20.9 in /usr/local/lib/python3.11/dist-packages (from huggingface-hub) (24.2)\n",
            "Requirement already satisfied: pyyaml>=5.1 in /usr/local/lib/python3.11/dist-packages (from huggingface-hub) (6.0.2)\n",
            "Requirement already satisfied: requests in /usr/local/lib/python3.11/dist-packages (from huggingface-hub) (2.32.3)\n",
            "Requirement already satisfied: tqdm>=4.42.1 in /usr/local/lib/python3.11/dist-packages (from huggingface-hub) (4.67.1)\n",
            "Requirement already satisfied: typing-extensions>=3.7.4.3 in /usr/local/lib/python3.11/dist-packages (from huggingface-hub) (4.13.2)\n",
            "Requirement already satisfied: charset-normalizer<4,>=2 in /usr/local/lib/python3.11/dist-packages (from requests->huggingface-hub) (3.4.1)\n",
            "Requirement already satisfied: idna<4,>=2.5 in /usr/local/lib/python3.11/dist-packages (from requests->huggingface-hub) (3.10)\n",
            "Requirement already satisfied: urllib3<3,>=1.21.1 in /usr/local/lib/python3.11/dist-packages (from requests->huggingface-hub) (2.4.0)\n",
            "Requirement already satisfied: certifi>=2017.4.17 in /usr/local/lib/python3.11/dist-packages (from requests->huggingface-hub) (2025.4.26)\n",
            "Collecting faiss-cpu\n",
            "  Downloading faiss_cpu-1.11.0-cp311-cp311-manylinux_2_28_x86_64.whl.metadata (4.8 kB)\n",
            "Requirement already satisfied: numpy<3.0,>=1.25.0 in /usr/local/lib/python3.11/dist-packages (from faiss-cpu) (2.0.2)\n",
            "Requirement already satisfied: packaging in /usr/local/lib/python3.11/dist-packages (from faiss-cpu) (24.2)\n",
            "Downloading faiss_cpu-1.11.0-cp311-cp311-manylinux_2_28_x86_64.whl (31.3 MB)\n",
            "\u001b[2K   \u001b[90m━━━━━━━━━━━━━━━━━━━━━━━━━━━━━━━━━━━━━━━━\u001b[0m \u001b[32m31.3/31.3 MB\u001b[0m \u001b[31m14.6 MB/s\u001b[0m eta \u001b[36m0:00:00\u001b[0m\n",
            "\u001b[?25hInstalling collected packages: faiss-cpu\n",
            "Successfully installed faiss-cpu-1.11.0\n",
            "Requirement already satisfied: sentence-transformers in /usr/local/lib/python3.11/dist-packages (3.4.1)\n",
            "Requirement already satisfied: transformers<5.0.0,>=4.41.0 in /usr/local/lib/python3.11/dist-packages (from sentence-transformers) (4.51.3)\n",
            "Requirement already satisfied: tqdm in /usr/local/lib/python3.11/dist-packages (from sentence-transformers) (4.67.1)\n",
            "Requirement already satisfied: torch>=1.11.0 in /usr/local/lib/python3.11/dist-packages (from sentence-transformers) (2.6.0+cu124)\n",
            "Requirement already satisfied: scikit-learn in /usr/local/lib/python3.11/dist-packages (from sentence-transformers) (1.6.1)\n",
            "Requirement already satisfied: scipy in /usr/local/lib/python3.11/dist-packages (from sentence-transformers) (1.15.2)\n",
            "Requirement already satisfied: huggingface-hub>=0.20.0 in /usr/local/lib/python3.11/dist-packages (from sentence-transformers) (0.30.2)\n",
            "Requirement already satisfied: Pillow in /usr/local/lib/python3.11/dist-packages (from sentence-transformers) (11.2.1)\n",
            "Requirement already satisfied: filelock in /usr/local/lib/python3.11/dist-packages (from huggingface-hub>=0.20.0->sentence-transformers) (3.18.0)\n",
            "Requirement already satisfied: fsspec>=2023.5.0 in /usr/local/lib/python3.11/dist-packages (from huggingface-hub>=0.20.0->sentence-transformers) (2025.3.0)\n",
            "Requirement already satisfied: packaging>=20.9 in /usr/local/lib/python3.11/dist-packages (from huggingface-hub>=0.20.0->sentence-transformers) (24.2)\n",
            "Requirement already satisfied: pyyaml>=5.1 in /usr/local/lib/python3.11/dist-packages (from huggingface-hub>=0.20.0->sentence-transformers) (6.0.2)\n",
            "Requirement already satisfied: requests in /usr/local/lib/python3.11/dist-packages (from huggingface-hub>=0.20.0->sentence-transformers) (2.32.3)\n",
            "Requirement already satisfied: typing-extensions>=3.7.4.3 in /usr/local/lib/python3.11/dist-packages (from huggingface-hub>=0.20.0->sentence-transformers) (4.13.2)\n",
            "Requirement already satisfied: networkx in /usr/local/lib/python3.11/dist-packages (from torch>=1.11.0->sentence-transformers) (3.4.2)\n",
            "Requirement already satisfied: jinja2 in /usr/local/lib/python3.11/dist-packages (from torch>=1.11.0->sentence-transformers) (3.1.6)\n",
            "Requirement already satisfied: nvidia-cuda-nvrtc-cu12==12.4.127 in /usr/local/lib/python3.11/dist-packages (from torch>=1.11.0->sentence-transformers) (12.4.127)\n",
            "Requirement already satisfied: nvidia-cuda-runtime-cu12==12.4.127 in /usr/local/lib/python3.11/dist-packages (from torch>=1.11.0->sentence-transformers) (12.4.127)\n",
            "Requirement already satisfied: nvidia-cuda-cupti-cu12==12.4.127 in /usr/local/lib/python3.11/dist-packages (from torch>=1.11.0->sentence-transformers) (12.4.127)\n",
            "Requirement already satisfied: nvidia-cudnn-cu12==9.1.0.70 in /usr/local/lib/python3.11/dist-packages (from torch>=1.11.0->sentence-transformers) (9.1.0.70)\n",
            "Requirement already satisfied: nvidia-cublas-cu12==12.4.5.8 in /usr/local/lib/python3.11/dist-packages (from torch>=1.11.0->sentence-transformers) (12.4.5.8)\n",
            "Requirement already satisfied: nvidia-cufft-cu12==11.2.1.3 in /usr/local/lib/python3.11/dist-packages (from torch>=1.11.0->sentence-transformers) (11.2.1.3)\n",
            "Requirement already satisfied: nvidia-curand-cu12==10.3.5.147 in /usr/local/lib/python3.11/dist-packages (from torch>=1.11.0->sentence-transformers) (10.3.5.147)\n",
            "Requirement already satisfied: nvidia-cusolver-cu12==11.6.1.9 in /usr/local/lib/python3.11/dist-packages (from torch>=1.11.0->sentence-transformers) (11.6.1.9)\n",
            "Requirement already satisfied: nvidia-cusparse-cu12==12.3.1.170 in /usr/local/lib/python3.11/dist-packages (from torch>=1.11.0->sentence-transformers) (12.3.1.170)\n",
            "Requirement already satisfied: nvidia-cusparselt-cu12==0.6.2 in /usr/local/lib/python3.11/dist-packages (from torch>=1.11.0->sentence-transformers) (0.6.2)\n",
            "Requirement already satisfied: nvidia-nccl-cu12==2.21.5 in /usr/local/lib/python3.11/dist-packages (from torch>=1.11.0->sentence-transformers) (2.21.5)\n",
            "Requirement already satisfied: nvidia-nvtx-cu12==12.4.127 in /usr/local/lib/python3.11/dist-packages (from torch>=1.11.0->sentence-transformers) (12.4.127)\n",
            "Requirement already satisfied: nvidia-nvjitlink-cu12==12.4.127 in /usr/local/lib/python3.11/dist-packages (from torch>=1.11.0->sentence-transformers) (12.4.127)\n",
            "Requirement already satisfied: triton==3.2.0 in /usr/local/lib/python3.11/dist-packages (from torch>=1.11.0->sentence-transformers) (3.2.0)\n",
            "Requirement already satisfied: sympy==1.13.1 in /usr/local/lib/python3.11/dist-packages (from torch>=1.11.0->sentence-transformers) (1.13.1)\n",
            "Requirement already satisfied: mpmath<1.4,>=1.1.0 in /usr/local/lib/python3.11/dist-packages (from sympy==1.13.1->torch>=1.11.0->sentence-transformers) (1.3.0)\n",
            "Requirement already satisfied: numpy>=1.17 in /usr/local/lib/python3.11/dist-packages (from transformers<5.0.0,>=4.41.0->sentence-transformers) (2.0.2)\n",
            "Requirement already satisfied: regex!=2019.12.17 in /usr/local/lib/python3.11/dist-packages (from transformers<5.0.0,>=4.41.0->sentence-transformers) (2024.11.6)\n",
            "Requirement already satisfied: tokenizers<0.22,>=0.21 in /usr/local/lib/python3.11/dist-packages (from transformers<5.0.0,>=4.41.0->sentence-transformers) (0.21.1)\n",
            "Requirement already satisfied: safetensors>=0.4.3 in /usr/local/lib/python3.11/dist-packages (from transformers<5.0.0,>=4.41.0->sentence-transformers) (0.5.3)\n",
            "Requirement already satisfied: joblib>=1.2.0 in /usr/local/lib/python3.11/dist-packages (from scikit-learn->sentence-transformers) (1.4.2)\n",
            "Requirement already satisfied: threadpoolctl>=3.1.0 in /usr/local/lib/python3.11/dist-packages (from scikit-learn->sentence-transformers) (3.6.0)\n",
            "Requirement already satisfied: MarkupSafe>=2.0 in /usr/local/lib/python3.11/dist-packages (from jinja2->torch>=1.11.0->sentence-transformers) (3.0.2)\n",
            "Requirement already satisfied: charset-normalizer<4,>=2 in /usr/local/lib/python3.11/dist-packages (from requests->huggingface-hub>=0.20.0->sentence-transformers) (3.4.1)\n",
            "Requirement already satisfied: idna<4,>=2.5 in /usr/local/lib/python3.11/dist-packages (from requests->huggingface-hub>=0.20.0->sentence-transformers) (3.10)\n",
            "Requirement already satisfied: urllib3<3,>=1.21.1 in /usr/local/lib/python3.11/dist-packages (from requests->huggingface-hub>=0.20.0->sentence-transformers) (2.4.0)\n",
            "Requirement already satisfied: certifi>=2017.4.17 in /usr/local/lib/python3.11/dist-packages (from requests->huggingface-hub>=0.20.0->sentence-transformers) (2025.4.26)\n"
          ]
        }
      ],
      "source": [
        "# install all dependencies\n",
        "!pip install torch\n",
        "!pip install torchvision\n",
        "\n",
        "!pip install evaluate\n",
        "!pip install accelerate\n",
        "\n",
        "!pip install transformers\n",
        "# !pip install datasets\n",
        "!pip install gradio\n",
        "!pip install huggingface-hub\n",
        "\n",
        "!pip install faiss-cpu\n",
        "\n",
        "!pip install sentence-transformers"
      ]
    },
    {
      "cell_type": "code",
      "execution_count": null,
      "metadata": {
        "colab": {
          "base_uri": "https://localhost:8080/"
        },
        "id": "vYAkPkTRX6Ip",
        "outputId": "807db519-aca3-4b1f-dc62-d46fd32b5a1a"
      },
      "outputs": [
        {
          "output_type": "stream",
          "name": "stdout",
          "text": [
            "Collecting streamlit\n",
            "  Downloading streamlit-1.45.0-py3-none-any.whl.metadata (8.9 kB)\n",
            "Requirement already satisfied: altair<6,>=4.0 in /usr/local/lib/python3.11/dist-packages (from streamlit) (5.5.0)\n",
            "Requirement already satisfied: blinker<2,>=1.5.0 in /usr/local/lib/python3.11/dist-packages (from streamlit) (1.9.0)\n",
            "Requirement already satisfied: cachetools<6,>=4.0 in /usr/local/lib/python3.11/dist-packages (from streamlit) (5.5.2)\n",
            "Requirement already satisfied: click<9,>=7.0 in /usr/local/lib/python3.11/dist-packages (from streamlit) (8.1.8)\n",
            "Requirement already satisfied: numpy<3,>=1.23 in /usr/local/lib/python3.11/dist-packages (from streamlit) (2.0.2)\n",
            "Requirement already satisfied: packaging<25,>=20 in /usr/local/lib/python3.11/dist-packages (from streamlit) (24.2)\n",
            "Requirement already satisfied: pandas<3,>=1.4.0 in /usr/local/lib/python3.11/dist-packages (from streamlit) (2.2.2)\n",
            "Requirement already satisfied: pillow<12,>=7.1.0 in /usr/local/lib/python3.11/dist-packages (from streamlit) (11.2.1)\n",
            "Requirement already satisfied: protobuf<7,>=3.20 in /usr/local/lib/python3.11/dist-packages (from streamlit) (5.29.4)\n",
            "Requirement already satisfied: pyarrow>=7.0 in /usr/local/lib/python3.11/dist-packages (from streamlit) (18.1.0)\n",
            "Requirement already satisfied: requests<3,>=2.27 in /usr/local/lib/python3.11/dist-packages (from streamlit) (2.32.3)\n",
            "Requirement already satisfied: tenacity<10,>=8.1.0 in /usr/local/lib/python3.11/dist-packages (from streamlit) (9.1.2)\n",
            "Requirement already satisfied: toml<2,>=0.10.1 in /usr/local/lib/python3.11/dist-packages (from streamlit) (0.10.2)\n",
            "Requirement already satisfied: typing-extensions<5,>=4.4.0 in /usr/local/lib/python3.11/dist-packages (from streamlit) (4.13.2)\n",
            "Collecting watchdog<7,>=2.1.5 (from streamlit)\n",
            "  Downloading watchdog-6.0.0-py3-none-manylinux2014_x86_64.whl.metadata (44 kB)\n",
            "\u001b[2K     \u001b[90m━━━━━━━━━━━━━━━━━━━━━━━━━━━━━━━━━━━━━━━━\u001b[0m \u001b[32m44.3/44.3 kB\u001b[0m \u001b[31m2.9 MB/s\u001b[0m eta \u001b[36m0:00:00\u001b[0m\n",
            "\u001b[?25hRequirement already satisfied: gitpython!=3.1.19,<4,>=3.0.7 in /usr/local/lib/python3.11/dist-packages (from streamlit) (3.1.44)\n",
            "Collecting pydeck<1,>=0.8.0b4 (from streamlit)\n",
            "  Downloading pydeck-0.9.1-py2.py3-none-any.whl.metadata (4.1 kB)\n",
            "Requirement already satisfied: tornado<7,>=6.0.3 in /usr/local/lib/python3.11/dist-packages (from streamlit) (6.4.2)\n",
            "Requirement already satisfied: jinja2 in /usr/local/lib/python3.11/dist-packages (from altair<6,>=4.0->streamlit) (3.1.6)\n",
            "Requirement already satisfied: jsonschema>=3.0 in /usr/local/lib/python3.11/dist-packages (from altair<6,>=4.0->streamlit) (4.23.0)\n",
            "Requirement already satisfied: narwhals>=1.14.2 in /usr/local/lib/python3.11/dist-packages (from altair<6,>=4.0->streamlit) (1.37.1)\n",
            "Requirement already satisfied: gitdb<5,>=4.0.1 in /usr/local/lib/python3.11/dist-packages (from gitpython!=3.1.19,<4,>=3.0.7->streamlit) (4.0.12)\n",
            "Requirement already satisfied: python-dateutil>=2.8.2 in /usr/local/lib/python3.11/dist-packages (from pandas<3,>=1.4.0->streamlit) (2.9.0.post0)\n",
            "Requirement already satisfied: pytz>=2020.1 in /usr/local/lib/python3.11/dist-packages (from pandas<3,>=1.4.0->streamlit) (2025.2)\n",
            "Requirement already satisfied: tzdata>=2022.7 in /usr/local/lib/python3.11/dist-packages (from pandas<3,>=1.4.0->streamlit) (2025.2)\n",
            "Requirement already satisfied: charset-normalizer<4,>=2 in /usr/local/lib/python3.11/dist-packages (from requests<3,>=2.27->streamlit) (3.4.1)\n",
            "Requirement already satisfied: idna<4,>=2.5 in /usr/local/lib/python3.11/dist-packages (from requests<3,>=2.27->streamlit) (3.10)\n",
            "Requirement already satisfied: urllib3<3,>=1.21.1 in /usr/local/lib/python3.11/dist-packages (from requests<3,>=2.27->streamlit) (2.4.0)\n",
            "Requirement already satisfied: certifi>=2017.4.17 in /usr/local/lib/python3.11/dist-packages (from requests<3,>=2.27->streamlit) (2025.4.26)\n",
            "Requirement already satisfied: smmap<6,>=3.0.1 in /usr/local/lib/python3.11/dist-packages (from gitdb<5,>=4.0.1->gitpython!=3.1.19,<4,>=3.0.7->streamlit) (5.0.2)\n",
            "Requirement already satisfied: MarkupSafe>=2.0 in /usr/local/lib/python3.11/dist-packages (from jinja2->altair<6,>=4.0->streamlit) (3.0.2)\n",
            "Requirement already satisfied: attrs>=22.2.0 in /usr/local/lib/python3.11/dist-packages (from jsonschema>=3.0->altair<6,>=4.0->streamlit) (25.3.0)\n",
            "Requirement already satisfied: jsonschema-specifications>=2023.03.6 in /usr/local/lib/python3.11/dist-packages (from jsonschema>=3.0->altair<6,>=4.0->streamlit) (2025.4.1)\n",
            "Requirement already satisfied: referencing>=0.28.4 in /usr/local/lib/python3.11/dist-packages (from jsonschema>=3.0->altair<6,>=4.0->streamlit) (0.36.2)\n",
            "Requirement already satisfied: rpds-py>=0.7.1 in /usr/local/lib/python3.11/dist-packages (from jsonschema>=3.0->altair<6,>=4.0->streamlit) (0.24.0)\n",
            "Requirement already satisfied: six>=1.5 in /usr/local/lib/python3.11/dist-packages (from python-dateutil>=2.8.2->pandas<3,>=1.4.0->streamlit) (1.17.0)\n",
            "Downloading streamlit-1.45.0-py3-none-any.whl (9.9 MB)\n",
            "\u001b[2K   \u001b[90m━━━━━━━━━━━━━━━━━━━━━━━━━━━━━━━━━━━━━━━━\u001b[0m \u001b[32m9.9/9.9 MB\u001b[0m \u001b[31m30.7 MB/s\u001b[0m eta \u001b[36m0:00:00\u001b[0m\n",
            "\u001b[?25hDownloading pydeck-0.9.1-py2.py3-none-any.whl (6.9 MB)\n",
            "\u001b[2K   \u001b[90m━━━━━━━━━━━━━━━━━━━━━━━━━━━━━━━━━━━━━━━━\u001b[0m \u001b[32m6.9/6.9 MB\u001b[0m \u001b[31m50.9 MB/s\u001b[0m eta \u001b[36m0:00:00\u001b[0m\n",
            "\u001b[?25hDownloading watchdog-6.0.0-py3-none-manylinux2014_x86_64.whl (79 kB)\n",
            "\u001b[2K   \u001b[90m━━━━━━━━━━━━━━━━━━━━━━━━━━━━━━━━━━━━━━━━\u001b[0m \u001b[32m79.1/79.1 kB\u001b[0m \u001b[31m5.6 MB/s\u001b[0m eta \u001b[36m0:00:00\u001b[0m\n",
            "\u001b[?25hInstalling collected packages: watchdog, pydeck, streamlit\n",
            "Successfully installed pydeck-0.9.1 streamlit-1.45.0 watchdog-6.0.0\n",
            "Collecting streamlit-tags\n",
            "  Downloading streamlit_tags-1.2.8-py3-none-any.whl.metadata (5.7 kB)\n",
            "Requirement already satisfied: streamlit>=0.63 in /usr/local/lib/python3.11/dist-packages (from streamlit-tags) (1.45.0)\n",
            "Requirement already satisfied: altair<6,>=4.0 in /usr/local/lib/python3.11/dist-packages (from streamlit>=0.63->streamlit-tags) (5.5.0)\n",
            "Requirement already satisfied: blinker<2,>=1.5.0 in /usr/local/lib/python3.11/dist-packages (from streamlit>=0.63->streamlit-tags) (1.9.0)\n",
            "Requirement already satisfied: cachetools<6,>=4.0 in /usr/local/lib/python3.11/dist-packages (from streamlit>=0.63->streamlit-tags) (5.5.2)\n",
            "Requirement already satisfied: click<9,>=7.0 in /usr/local/lib/python3.11/dist-packages (from streamlit>=0.63->streamlit-tags) (8.1.8)\n",
            "Requirement already satisfied: numpy<3,>=1.23 in /usr/local/lib/python3.11/dist-packages (from streamlit>=0.63->streamlit-tags) (2.0.2)\n",
            "Requirement already satisfied: packaging<25,>=20 in /usr/local/lib/python3.11/dist-packages (from streamlit>=0.63->streamlit-tags) (24.2)\n",
            "Requirement already satisfied: pandas<3,>=1.4.0 in /usr/local/lib/python3.11/dist-packages (from streamlit>=0.63->streamlit-tags) (2.2.2)\n",
            "Requirement already satisfied: pillow<12,>=7.1.0 in /usr/local/lib/python3.11/dist-packages (from streamlit>=0.63->streamlit-tags) (11.2.1)\n",
            "Requirement already satisfied: protobuf<7,>=3.20 in /usr/local/lib/python3.11/dist-packages (from streamlit>=0.63->streamlit-tags) (5.29.4)\n",
            "Requirement already satisfied: pyarrow>=7.0 in /usr/local/lib/python3.11/dist-packages (from streamlit>=0.63->streamlit-tags) (18.1.0)\n",
            "Requirement already satisfied: requests<3,>=2.27 in /usr/local/lib/python3.11/dist-packages (from streamlit>=0.63->streamlit-tags) (2.32.3)\n",
            "Requirement already satisfied: tenacity<10,>=8.1.0 in /usr/local/lib/python3.11/dist-packages (from streamlit>=0.63->streamlit-tags) (9.1.2)\n",
            "Requirement already satisfied: toml<2,>=0.10.1 in /usr/local/lib/python3.11/dist-packages (from streamlit>=0.63->streamlit-tags) (0.10.2)\n",
            "Requirement already satisfied: typing-extensions<5,>=4.4.0 in /usr/local/lib/python3.11/dist-packages (from streamlit>=0.63->streamlit-tags) (4.13.2)\n",
            "Requirement already satisfied: watchdog<7,>=2.1.5 in /usr/local/lib/python3.11/dist-packages (from streamlit>=0.63->streamlit-tags) (6.0.0)\n",
            "Requirement already satisfied: gitpython!=3.1.19,<4,>=3.0.7 in /usr/local/lib/python3.11/dist-packages (from streamlit>=0.63->streamlit-tags) (3.1.44)\n",
            "Requirement already satisfied: pydeck<1,>=0.8.0b4 in /usr/local/lib/python3.11/dist-packages (from streamlit>=0.63->streamlit-tags) (0.9.1)\n",
            "Requirement already satisfied: tornado<7,>=6.0.3 in /usr/local/lib/python3.11/dist-packages (from streamlit>=0.63->streamlit-tags) (6.4.2)\n",
            "Requirement already satisfied: jinja2 in /usr/local/lib/python3.11/dist-packages (from altair<6,>=4.0->streamlit>=0.63->streamlit-tags) (3.1.6)\n",
            "Requirement already satisfied: jsonschema>=3.0 in /usr/local/lib/python3.11/dist-packages (from altair<6,>=4.0->streamlit>=0.63->streamlit-tags) (4.23.0)\n",
            "Requirement already satisfied: narwhals>=1.14.2 in /usr/local/lib/python3.11/dist-packages (from altair<6,>=4.0->streamlit>=0.63->streamlit-tags) (1.37.1)\n",
            "Requirement already satisfied: gitdb<5,>=4.0.1 in /usr/local/lib/python3.11/dist-packages (from gitpython!=3.1.19,<4,>=3.0.7->streamlit>=0.63->streamlit-tags) (4.0.12)\n",
            "Requirement already satisfied: python-dateutil>=2.8.2 in /usr/local/lib/python3.11/dist-packages (from pandas<3,>=1.4.0->streamlit>=0.63->streamlit-tags) (2.9.0.post0)\n",
            "Requirement already satisfied: pytz>=2020.1 in /usr/local/lib/python3.11/dist-packages (from pandas<3,>=1.4.0->streamlit>=0.63->streamlit-tags) (2025.2)\n",
            "Requirement already satisfied: tzdata>=2022.7 in /usr/local/lib/python3.11/dist-packages (from pandas<3,>=1.4.0->streamlit>=0.63->streamlit-tags) (2025.2)\n",
            "Requirement already satisfied: charset-normalizer<4,>=2 in /usr/local/lib/python3.11/dist-packages (from requests<3,>=2.27->streamlit>=0.63->streamlit-tags) (3.4.1)\n",
            "Requirement already satisfied: idna<4,>=2.5 in /usr/local/lib/python3.11/dist-packages (from requests<3,>=2.27->streamlit>=0.63->streamlit-tags) (3.10)\n",
            "Requirement already satisfied: urllib3<3,>=1.21.1 in /usr/local/lib/python3.11/dist-packages (from requests<3,>=2.27->streamlit>=0.63->streamlit-tags) (2.4.0)\n",
            "Requirement already satisfied: certifi>=2017.4.17 in /usr/local/lib/python3.11/dist-packages (from requests<3,>=2.27->streamlit>=0.63->streamlit-tags) (2025.4.26)\n",
            "Requirement already satisfied: smmap<6,>=3.0.1 in /usr/local/lib/python3.11/dist-packages (from gitdb<5,>=4.0.1->gitpython!=3.1.19,<4,>=3.0.7->streamlit>=0.63->streamlit-tags) (5.0.2)\n",
            "Requirement already satisfied: MarkupSafe>=2.0 in /usr/local/lib/python3.11/dist-packages (from jinja2->altair<6,>=4.0->streamlit>=0.63->streamlit-tags) (3.0.2)\n",
            "Requirement already satisfied: attrs>=22.2.0 in /usr/local/lib/python3.11/dist-packages (from jsonschema>=3.0->altair<6,>=4.0->streamlit>=0.63->streamlit-tags) (25.3.0)\n",
            "Requirement already satisfied: jsonschema-specifications>=2023.03.6 in /usr/local/lib/python3.11/dist-packages (from jsonschema>=3.0->altair<6,>=4.0->streamlit>=0.63->streamlit-tags) (2025.4.1)\n",
            "Requirement already satisfied: referencing>=0.28.4 in /usr/local/lib/python3.11/dist-packages (from jsonschema>=3.0->altair<6,>=4.0->streamlit>=0.63->streamlit-tags) (0.36.2)\n",
            "Requirement already satisfied: rpds-py>=0.7.1 in /usr/local/lib/python3.11/dist-packages (from jsonschema>=3.0->altair<6,>=4.0->streamlit>=0.63->streamlit-tags) (0.24.0)\n",
            "Requirement already satisfied: six>=1.5 in /usr/local/lib/python3.11/dist-packages (from python-dateutil>=2.8.2->pandas<3,>=1.4.0->streamlit>=0.63->streamlit-tags) (1.17.0)\n",
            "Downloading streamlit_tags-1.2.8-py3-none-any.whl (2.7 MB)\n",
            "\u001b[2K   \u001b[90m━━━━━━━━━━━━━━━━━━━━━━━━━━━━━━━━━━━━━━━━\u001b[0m \u001b[32m2.7/2.7 MB\u001b[0m \u001b[31m24.2 MB/s\u001b[0m eta \u001b[36m0:00:00\u001b[0m\n",
            "\u001b[?25hInstalling collected packages: streamlit-tags\n",
            "Successfully installed streamlit-tags-1.2.8\n"
          ]
        }
      ],
      "source": [
        "!pip install streamlit\n",
        "!pip install streamlit-tags"
      ]
    },
    {
      "cell_type": "code",
      "execution_count": null,
      "metadata": {
        "colab": {
          "base_uri": "https://localhost:8080/"
        },
        "id": "gXnzVdJEwxXY",
        "outputId": "d00fdf4a-d629-495b-a842-3d016e6f8c33"
      },
      "outputs": [
        {
          "output_type": "stream",
          "name": "stdout",
          "text": [
            "Collecting bitsandbytes\n",
            "  Downloading bitsandbytes-0.45.5-py3-none-manylinux_2_24_x86_64.whl.metadata (5.0 kB)\n",
            "Requirement already satisfied: torch<3,>=2.0 in /usr/local/lib/python3.11/dist-packages (from bitsandbytes) (2.6.0+cu124)\n",
            "Requirement already satisfied: numpy>=1.17 in /usr/local/lib/python3.11/dist-packages (from bitsandbytes) (2.0.2)\n",
            "Requirement already satisfied: filelock in /usr/local/lib/python3.11/dist-packages (from torch<3,>=2.0->bitsandbytes) (3.18.0)\n",
            "Requirement already satisfied: typing-extensions>=4.10.0 in /usr/local/lib/python3.11/dist-packages (from torch<3,>=2.0->bitsandbytes) (4.13.2)\n",
            "Requirement already satisfied: networkx in /usr/local/lib/python3.11/dist-packages (from torch<3,>=2.0->bitsandbytes) (3.4.2)\n",
            "Requirement already satisfied: jinja2 in /usr/local/lib/python3.11/dist-packages (from torch<3,>=2.0->bitsandbytes) (3.1.6)\n",
            "Requirement already satisfied: fsspec in /usr/local/lib/python3.11/dist-packages (from torch<3,>=2.0->bitsandbytes) (2025.3.0)\n",
            "Requirement already satisfied: nvidia-cuda-nvrtc-cu12==12.4.127 in /usr/local/lib/python3.11/dist-packages (from torch<3,>=2.0->bitsandbytes) (12.4.127)\n",
            "Requirement already satisfied: nvidia-cuda-runtime-cu12==12.4.127 in /usr/local/lib/python3.11/dist-packages (from torch<3,>=2.0->bitsandbytes) (12.4.127)\n",
            "Requirement already satisfied: nvidia-cuda-cupti-cu12==12.4.127 in /usr/local/lib/python3.11/dist-packages (from torch<3,>=2.0->bitsandbytes) (12.4.127)\n",
            "Requirement already satisfied: nvidia-cudnn-cu12==9.1.0.70 in /usr/local/lib/python3.11/dist-packages (from torch<3,>=2.0->bitsandbytes) (9.1.0.70)\n",
            "Requirement already satisfied: nvidia-cublas-cu12==12.4.5.8 in /usr/local/lib/python3.11/dist-packages (from torch<3,>=2.0->bitsandbytes) (12.4.5.8)\n",
            "Requirement already satisfied: nvidia-cufft-cu12==11.2.1.3 in /usr/local/lib/python3.11/dist-packages (from torch<3,>=2.0->bitsandbytes) (11.2.1.3)\n",
            "Requirement already satisfied: nvidia-curand-cu12==10.3.5.147 in /usr/local/lib/python3.11/dist-packages (from torch<3,>=2.0->bitsandbytes) (10.3.5.147)\n",
            "Requirement already satisfied: nvidia-cusolver-cu12==11.6.1.9 in /usr/local/lib/python3.11/dist-packages (from torch<3,>=2.0->bitsandbytes) (11.6.1.9)\n",
            "Requirement already satisfied: nvidia-cusparse-cu12==12.3.1.170 in /usr/local/lib/python3.11/dist-packages (from torch<3,>=2.0->bitsandbytes) (12.3.1.170)\n",
            "Requirement already satisfied: nvidia-cusparselt-cu12==0.6.2 in /usr/local/lib/python3.11/dist-packages (from torch<3,>=2.0->bitsandbytes) (0.6.2)\n",
            "Requirement already satisfied: nvidia-nccl-cu12==2.21.5 in /usr/local/lib/python3.11/dist-packages (from torch<3,>=2.0->bitsandbytes) (2.21.5)\n",
            "Requirement already satisfied: nvidia-nvtx-cu12==12.4.127 in /usr/local/lib/python3.11/dist-packages (from torch<3,>=2.0->bitsandbytes) (12.4.127)\n",
            "Requirement already satisfied: nvidia-nvjitlink-cu12==12.4.127 in /usr/local/lib/python3.11/dist-packages (from torch<3,>=2.0->bitsandbytes) (12.4.127)\n",
            "Requirement already satisfied: triton==3.2.0 in /usr/local/lib/python3.11/dist-packages (from torch<3,>=2.0->bitsandbytes) (3.2.0)\n",
            "Requirement already satisfied: sympy==1.13.1 in /usr/local/lib/python3.11/dist-packages (from torch<3,>=2.0->bitsandbytes) (1.13.1)\n",
            "Requirement already satisfied: mpmath<1.4,>=1.1.0 in /usr/local/lib/python3.11/dist-packages (from sympy==1.13.1->torch<3,>=2.0->bitsandbytes) (1.3.0)\n",
            "Requirement already satisfied: MarkupSafe>=2.0 in /usr/local/lib/python3.11/dist-packages (from jinja2->torch<3,>=2.0->bitsandbytes) (3.0.2)\n",
            "Downloading bitsandbytes-0.45.5-py3-none-manylinux_2_24_x86_64.whl (76.1 MB)\n",
            "\u001b[2K   \u001b[90m━━━━━━━━━━━━━━━━━━━━━━━━━━━━━━━━━━━━━━━━\u001b[0m \u001b[32m76.1/76.1 MB\u001b[0m \u001b[31m8.0 MB/s\u001b[0m eta \u001b[36m0:00:00\u001b[0m\n",
            "\u001b[?25hInstalling collected packages: bitsandbytes\n",
            "Successfully installed bitsandbytes-0.45.5\n",
            "Requirement already satisfied: kagglehub in /usr/local/lib/python3.11/dist-packages (0.3.12)\n",
            "Requirement already satisfied: packaging in /usr/local/lib/python3.11/dist-packages (from kagglehub) (24.2)\n",
            "Requirement already satisfied: pyyaml in /usr/local/lib/python3.11/dist-packages (from kagglehub) (6.0.2)\n",
            "Requirement already satisfied: requests in /usr/local/lib/python3.11/dist-packages (from kagglehub) (2.32.3)\n",
            "Requirement already satisfied: tqdm in /usr/local/lib/python3.11/dist-packages (from kagglehub) (4.67.1)\n",
            "Requirement already satisfied: charset-normalizer<4,>=2 in /usr/local/lib/python3.11/dist-packages (from requests->kagglehub) (3.4.1)\n",
            "Requirement already satisfied: idna<4,>=2.5 in /usr/local/lib/python3.11/dist-packages (from requests->kagglehub) (3.10)\n",
            "Requirement already satisfied: urllib3<3,>=1.21.1 in /usr/local/lib/python3.11/dist-packages (from requests->kagglehub) (2.4.0)\n",
            "Requirement already satisfied: certifi>=2017.4.17 in /usr/local/lib/python3.11/dist-packages (from requests->kagglehub) (2025.4.26)\n"
          ]
        }
      ],
      "source": [
        "!pip install -U bitsandbytes\n",
        "!pip install kagglehub"
      ]
    },
    {
      "cell_type": "code",
      "execution_count": null,
      "metadata": {
        "id": "V7JVbcMQQk4e"
      },
      "outputs": [],
      "source": [
        "!pip install faiss-gpu\n"
      ]
    },
    {
      "cell_type": "code",
      "execution_count": null,
      "metadata": {
        "id": "fzJVtA52NeF0"
      },
      "outputs": [],
      "source": [
        "# load all dependencies\n",
        "from transformers import CLIPModel, CLIPProcessor, pipeline, TextStreamer, BitsAndBytesConfig, LlavaNextForConditionalGeneration, AutoProcessor\n",
        "from sentence_transformers import SentenceTransformer, CrossEncoder\n",
        "# from datasets import load_dataset\n",
        "\n",
        "# faiss or chromaDB\n",
        "\n",
        "from PIL import Image\n",
        "from IPython.display import display, HTML\n",
        "\n",
        "import faiss\n",
        "import numpy as np\n",
        "import pandas as pd\n",
        "\n",
        "import torch\n",
        "\n",
        "import gradio\n",
        "\n",
        "import requests\n",
        "from pathlib import Path\n",
        "import os\n",
        "import sys\n",
        "import json\n",
        "import math\n",
        "import re\n",
        "\n",
        "import time\n",
        "from tqdm import tqdm\n",
        "from tqdm import notebook"
      ]
    },
    {
      "cell_type": "markdown",
      "metadata": {
        "id": "B4M1OqszDO7d"
      },
      "source": [
        "## Utility Function"
      ]
    },
    {
      "cell_type": "code",
      "execution_count": null,
      "metadata": {
        "id": "4_vltSQkXuWC"
      },
      "outputs": [],
      "source": [
        "# utility function\n",
        "# move to python file later\n",
        "def get_device() -> str:\n",
        "  if torch.cuda.is_available():\n",
        "    return \"cuda\"\n",
        "  elif torch.backends.mps.is_available():\n",
        "    return \"mps\"\n",
        "  else:\n",
        "    return \"cpu\""
      ]
    },
    {
      "cell_type": "code",
      "execution_count": null,
      "metadata": {
        "colab": {
          "background_save": true
        },
        "id": "ZfhbOsQ8Dzv4"
      },
      "outputs": [],
      "source": [
        "def load_embedded_data(file_name: str) -> np.ndarray:\n",
        "  return np.load(NLP_DATABASE / f\"{file_name}.npy\" )"
      ]
    },
    {
      "cell_type": "code",
      "execution_count": null,
      "metadata": {
        "id": "PfM3RiJuKOej"
      },
      "outputs": [],
      "source": [
        "def load_faiss_index(index_name: str):\n",
        "  return faiss.read_index(str(NLP_DATABASE / f\"{index_name}.index\"))"
      ]
    },
    {
      "cell_type": "markdown",
      "metadata": {
        "id": "xMTN3B5sjga4"
      },
      "source": [
        "## Global constants"
      ]
    },
    {
      "cell_type": "code",
      "execution_count": null,
      "metadata": {
        "id": "YEen2tOoDb27"
      },
      "outputs": [],
      "source": [
        "# Define constants\n",
        "FOOD_NAME = \"food name\"\n",
        "FOOD_IMAGE = \"food image\"\n",
        "FOOD_IMAGE_PATH = \"food image path\"\n",
        "FOOD_INGREDIENT = \"food ingredient\"\n",
        "FOOD_INSTRUCTION = \"food instruction\"\n",
        "\n",
        "# Dataset\n",
        "NAME = \"name\"\n",
        "COOK_TIME = \"cook_time\"\n",
        "PREP_TIME = \"prep_time\"\n",
        "DESCRIPTION = \"description\"\n",
        "RECIPE_CATEGORY = \"recipe_category\"\n",
        "INGREDIENT_QUANTITIES = \"ingredient_quantites\"\n",
        "INGREDIENT_PARTS = \"ingredient_parts\"\n",
        "RATING = \"rating\"\n",
        "CALORIES = \"calories\"\n",
        "FAT = \"fat\"\n",
        "SATURATED_FAT = \"saturated_fat\"\n",
        "CHOLESTEROL = \"cholesterol\"\n",
        "SODIUM = \"sodium\"\n",
        "CARBOHYDRATE = \"carbohydrate\"\n",
        "FIBER = \"fiber\"\n",
        "SUGAR = \"sugar\"\n",
        "PROTEIN = \"protein\"\n",
        "RECIPE_SERVING = \"recipe_serving\"\n",
        "RECIPE_YIELD = \"recipe_yield\"\n",
        "RECIPE_INSTRUCTION = \"recipe_instruction\"\n",
        "ALLERGY = \"allergy\"\n",
        "\n",
        "# Task\n",
        "CALORIES_CALCULATOR = \"nutrition\"\n",
        "COOK_HELPER = \"recipe provider\"\n",
        "ALLERGEN_FILTER = \"allergen avoidance\"\n",
        "FOOD_PREFERENCE = \"food tag\"\n",
        "MEAL_PLANNER = \"diet meal planner\"\n",
        "\n",
        "LEFTOVER_REMIXER = \"recipe from ingredient\"\n",
        "DIETARY_FILTER = \"dietary filter\"\n",
        "UNSPECIFIED = \"unspecified\"\n",
        "UNCLASSIFIED = \"unclassified\"\n",
        "\n",
        "TASK_LIST = [CALORIES_CALCULATOR, ALLERGEN_FILTER, FOOD_PREFERENCE, COOK_HELPER, MEAL_PLANNER]\n",
        "\n",
        "# Model\n",
        "TASK_CLASSIFIER_MODEL_NAME = \"facebook/bart-large-mnli\"\n",
        "#TASK_CLASSIFIER_THRESHOLD = 0.5\n",
        "TASK_CLASSIFIER_THRESHOLD = 0.65\n",
        "RAG_DISTANCE_THRESGHOLD = 0.65\n",
        "\n",
        "CLIPMODEL_NAME = \"openai/clip-vit-base-patch32\"\n",
        "\n",
        "SENTENCE_MINI_MODEL = \"all-MiniLM-L6-v2\"\n",
        "SENTENCE_BEST_MODEL = \"all-mpnet-base-v2\"\n",
        "\n",
        "\n",
        "\n",
        "# Path\n",
        "SAVE_IMAGE_PATH = Path(\"/content/images\")\n",
        "SAVE_EMBEDDED_DATA_PATH = Path(\"/content/embedding\")\n",
        "SAVE_INDEX_PATH = Path(\"/content/faiss_index\")\n",
        "FOOD_DATABASE_PATH = Path(\"/content/drive/MyDrive/nlp_database/food_database.json\")\n",
        "NLP_DATABASE = Path(\"/content/drive/MyDrive/nlp_database\")\n",
        "\n",
        "# Faiss\n",
        "K_ORDER = 5\n",
        "\n"
      ]
    },
    {
      "cell_type": "code",
      "execution_count": null,
      "metadata": {
        "colab": {
          "base_uri": "https://localhost:8080/"
        },
        "id": "LG6IDr62Ts2-",
        "outputId": "cb62d632-1803-4189-e8bd-d108d219695f"
      },
      "outputs": [
        {
          "name": "stdout",
          "output_type": "stream",
          "text": [
            "Mounted at /content/drive\n"
          ]
        }
      ],
      "source": [
        "from google.colab import drive\n",
        "drive.mount(\"/content/drive\")"
      ]
    },
    {
      "cell_type": "code",
      "execution_count": null,
      "metadata": {
        "id": "e9BoieozHRKg"
      },
      "outputs": [],
      "source": [
        "import json\n",
        "from pathlib import Path"
      ]
    },
    {
      "cell_type": "code",
      "execution_count": null,
      "metadata": {
        "id": "B3vgNB0zJsq4"
      },
      "outputs": [],
      "source": [
        "# load image dataset\n",
        "import kagglehub\n",
        "\n",
        "# Download latest version\n",
        "KAGGLE_PATH = kagglehub.dataset_download(\"kmader/food41\")\n",
        "\n",
        "# print(\"Path to dataset files:\", path)\n"
      ]
    },
    {
      "cell_type": "markdown",
      "metadata": {
        "id": "W4P0iWFfD0Xc"
      },
      "source": [
        "## Global Models"
      ]
    },
    {
      "cell_type": "code",
      "execution_count": null,
      "metadata": {
        "colab": {
          "base_uri": "https://localhost:8080/",
          "height": 382,
          "referenced_widgets": [
            "fb4b0fd2654b48a2a5e1e6d6554d9dc1",
            "c08716421ae54ed0bbd684aa9bb0dad0",
            "f889e5d546c84467adcbabd62cacd1b7",
            "c95df1911404443cbdf965ac18e538c6",
            "2ce3881f30a5497eab06969834e1bb7d",
            "30a1a80222564e62b5602694cfc41c36"
          ]
        },
        "id": "RPGy792cD8v7",
        "outputId": "f89acd3e-0273-485a-af24-baa1abcc2857"
      },
      "outputs": [
        {
          "name": "stderr",
          "output_type": "stream",
          "text": [
            "/usr/local/lib/python3.11/dist-packages/huggingface_hub/utils/_auth.py:94: UserWarning: \n",
            "The secret `HF_TOKEN` does not exist in your Colab secrets.\n",
            "To authenticate with the Hugging Face Hub, create a token in your settings tab (https://huggingface.co/settings/tokens), set it as secret in your Google Colab and restart your session.\n",
            "You will be able to reuse this secret in all of your notebooks.\n",
            "Please note that authentication is recommended but still optional to access public models or datasets.\n",
            "  warnings.warn(\n"
          ]
        },
        {
          "data": {
            "application/vnd.jupyter.widget-view+json": {
              "model_id": "fb4b0fd2654b48a2a5e1e6d6554d9dc1",
              "version_major": 2,
              "version_minor": 0
            },
            "text/plain": [
              "config.json:   0%|          | 0.00/1.15k [00:00<?, ?B/s]"
            ]
          },
          "metadata": {},
          "output_type": "display_data"
        },
        {
          "name": "stderr",
          "output_type": "stream",
          "text": [
            "Xet Storage is enabled for this repo, but the 'hf_xet' package is not installed. Falling back to regular HTTP download. For better performance, install the package with: `pip install huggingface_hub[hf_xet]` or `pip install hf_xet`\n",
            "WARNING:huggingface_hub.file_download:Xet Storage is enabled for this repo, but the 'hf_xet' package is not installed. Falling back to regular HTTP download. For better performance, install the package with: `pip install huggingface_hub[hf_xet]` or `pip install hf_xet`\n"
          ]
        },
        {
          "data": {
            "application/vnd.jupyter.widget-view+json": {
              "model_id": "c08716421ae54ed0bbd684aa9bb0dad0",
              "version_major": 2,
              "version_minor": 0
            },
            "text/plain": [
              "model.safetensors:   0%|          | 0.00/1.63G [00:00<?, ?B/s]"
            ]
          },
          "metadata": {},
          "output_type": "display_data"
        },
        {
          "data": {
            "application/vnd.jupyter.widget-view+json": {
              "model_id": "f889e5d546c84467adcbabd62cacd1b7",
              "version_major": 2,
              "version_minor": 0
            },
            "text/plain": [
              "tokenizer_config.json:   0%|          | 0.00/26.0 [00:00<?, ?B/s]"
            ]
          },
          "metadata": {},
          "output_type": "display_data"
        },
        {
          "data": {
            "application/vnd.jupyter.widget-view+json": {
              "model_id": "c95df1911404443cbdf965ac18e538c6",
              "version_major": 2,
              "version_minor": 0
            },
            "text/plain": [
              "vocab.json:   0%|          | 0.00/899k [00:00<?, ?B/s]"
            ]
          },
          "metadata": {},
          "output_type": "display_data"
        },
        {
          "data": {
            "application/vnd.jupyter.widget-view+json": {
              "model_id": "2ce3881f30a5497eab06969834e1bb7d",
              "version_major": 2,
              "version_minor": 0
            },
            "text/plain": [
              "merges.txt:   0%|          | 0.00/456k [00:00<?, ?B/s]"
            ]
          },
          "metadata": {},
          "output_type": "display_data"
        },
        {
          "data": {
            "application/vnd.jupyter.widget-view+json": {
              "model_id": "30a1a80222564e62b5602694cfc41c36",
              "version_major": 2,
              "version_minor": 0
            },
            "text/plain": [
              "tokenizer.json:   0%|          | 0.00/1.36M [00:00<?, ?B/s]"
            ]
          },
          "metadata": {},
          "output_type": "display_data"
        },
        {
          "name": "stderr",
          "output_type": "stream",
          "text": [
            "Device set to use cuda:0\n"
          ]
        }
      ],
      "source": [
        "task_classifier_pipeline = pipeline(\"zero-shot-classification\", model=TASK_CLASSIFIER_MODEL_NAME)"
      ]
    },
    {
      "cell_type": "code",
      "execution_count": null,
      "metadata": {
        "colab": {
          "base_uri": "https://localhost:8080/",
          "height": 342,
          "referenced_widgets": [
            "ef156a8b2d824e21a95e4479a1a29a8a",
            "d25c08b05233426182f4155748baeca3",
            "8f5887d1c66c42ab86e4ea385d8317cf",
            "01c8e37351e345c7b4dcf35d5cccdbcf",
            "175d7dd75a4b457c8b03a08478188848",
            "dcd7f14456cc4e2290c9cd063615f51e",
            "dac74df455cd4363bc80cb62d74ab66e",
            "23b98ae1704449f2a3fd71db40ed911d",
            "65ed77b83306471a851976c518c930bc"
          ]
        },
        "id": "sL_uyWcHrmAc",
        "outputId": "dfc8dc85-6334-46a6-fd8b-95ee46c8ced9"
      },
      "outputs": [
        {
          "data": {
            "application/vnd.jupyter.widget-view+json": {
              "model_id": "ef156a8b2d824e21a95e4479a1a29a8a",
              "version_major": 2,
              "version_minor": 0
            },
            "text/plain": [
              "config.json:   0%|          | 0.00/4.19k [00:00<?, ?B/s]"
            ]
          },
          "metadata": {},
          "output_type": "display_data"
        },
        {
          "data": {
            "application/vnd.jupyter.widget-view+json": {
              "model_id": "d25c08b05233426182f4155748baeca3",
              "version_major": 2,
              "version_minor": 0
            },
            "text/plain": [
              "pytorch_model.bin:   0%|          | 0.00/605M [00:00<?, ?B/s]"
            ]
          },
          "metadata": {},
          "output_type": "display_data"
        },
        {
          "data": {
            "application/vnd.jupyter.widget-view+json": {
              "model_id": "8f5887d1c66c42ab86e4ea385d8317cf",
              "version_major": 2,
              "version_minor": 0
            },
            "text/plain": [
              "model.safetensors:   0%|          | 0.00/605M [00:00<?, ?B/s]"
            ]
          },
          "metadata": {},
          "output_type": "display_data"
        },
        {
          "name": "stderr",
          "output_type": "stream",
          "text": [
            "Using a slow image processor as `use_fast` is unset and a slow processor was saved with this model. `use_fast=True` will be the default behavior in v4.52, even if the model was saved with a slow processor. This will result in minor differences in outputs. You'll still be able to use a slow processor with `use_fast=False`.\n"
          ]
        },
        {
          "data": {
            "application/vnd.jupyter.widget-view+json": {
              "model_id": "01c8e37351e345c7b4dcf35d5cccdbcf",
              "version_major": 2,
              "version_minor": 0
            },
            "text/plain": [
              "preprocessor_config.json:   0%|          | 0.00/316 [00:00<?, ?B/s]"
            ]
          },
          "metadata": {},
          "output_type": "display_data"
        },
        {
          "data": {
            "application/vnd.jupyter.widget-view+json": {
              "model_id": "175d7dd75a4b457c8b03a08478188848",
              "version_major": 2,
              "version_minor": 0
            },
            "text/plain": [
              "tokenizer_config.json:   0%|          | 0.00/592 [00:00<?, ?B/s]"
            ]
          },
          "metadata": {},
          "output_type": "display_data"
        },
        {
          "data": {
            "application/vnd.jupyter.widget-view+json": {
              "model_id": "dcd7f14456cc4e2290c9cd063615f51e",
              "version_major": 2,
              "version_minor": 0
            },
            "text/plain": [
              "vocab.json:   0%|          | 0.00/862k [00:00<?, ?B/s]"
            ]
          },
          "metadata": {},
          "output_type": "display_data"
        },
        {
          "data": {
            "application/vnd.jupyter.widget-view+json": {
              "model_id": "dac74df455cd4363bc80cb62d74ab66e",
              "version_major": 2,
              "version_minor": 0
            },
            "text/plain": [
              "merges.txt:   0%|          | 0.00/525k [00:00<?, ?B/s]"
            ]
          },
          "metadata": {},
          "output_type": "display_data"
        },
        {
          "data": {
            "application/vnd.jupyter.widget-view+json": {
              "model_id": "23b98ae1704449f2a3fd71db40ed911d",
              "version_major": 2,
              "version_minor": 0
            },
            "text/plain": [
              "tokenizer.json:   0%|          | 0.00/2.22M [00:00<?, ?B/s]"
            ]
          },
          "metadata": {},
          "output_type": "display_data"
        },
        {
          "data": {
            "application/vnd.jupyter.widget-view+json": {
              "model_id": "65ed77b83306471a851976c518c930bc",
              "version_major": 2,
              "version_minor": 0
            },
            "text/plain": [
              "special_tokens_map.json:   0%|          | 0.00/389 [00:00<?, ?B/s]"
            ]
          },
          "metadata": {},
          "output_type": "display_data"
        }
      ],
      "source": [
        "clip_model = CLIPModel.from_pretrained(CLIPMODEL_NAME).to(get_device())\n",
        "clip_processor = CLIPProcessor.from_pretrained(CLIPMODEL_NAME)"
      ]
    },
    {
      "cell_type": "code",
      "execution_count": null,
      "metadata": {
        "colab": {
          "base_uri": "https://localhost:8080/",
          "height": 423,
          "referenced_widgets": [
            "2bb4475a41c34cd4b809c374a4f99afb",
            "8eee6f66ce9c4d728acb93e5cb4b438e",
            "773a4cc3201344c4833e5fa362da845f",
            "5aba92f070864726a1aa1b8871c4ac56",
            "969a94923ff5414fa132674e25b354a0",
            "c63fa1c9740748e09dde6b739ef338ef",
            "e5501aea259b4c9c8da5541f8f63b1d9",
            "cc0d3903f02046d4b3f1d55ad8b87c4b",
            "f576e22839e04039b5ad6441b1ed4497",
            "d11558663d604d4ca7fad66de57efdfc",
            "3c3e4eb0190c43ada122cf65d4b53895"
          ]
        },
        "id": "OLc1Dngjrk6i",
        "outputId": "7d794c4e-48d6-4e2f-f3d4-4ec735c64617"
      },
      "outputs": [
        {
          "data": {
            "application/vnd.jupyter.widget-view+json": {
              "model_id": "2bb4475a41c34cd4b809c374a4f99afb",
              "version_major": 2,
              "version_minor": 0
            },
            "text/plain": [
              "modules.json:   0%|          | 0.00/349 [00:00<?, ?B/s]"
            ]
          },
          "metadata": {},
          "output_type": "display_data"
        },
        {
          "data": {
            "application/vnd.jupyter.widget-view+json": {
              "model_id": "8eee6f66ce9c4d728acb93e5cb4b438e",
              "version_major": 2,
              "version_minor": 0
            },
            "text/plain": [
              "config_sentence_transformers.json:   0%|          | 0.00/116 [00:00<?, ?B/s]"
            ]
          },
          "metadata": {},
          "output_type": "display_data"
        },
        {
          "data": {
            "application/vnd.jupyter.widget-view+json": {
              "model_id": "773a4cc3201344c4833e5fa362da845f",
              "version_major": 2,
              "version_minor": 0
            },
            "text/plain": [
              "README.md:   0%|          | 0.00/10.5k [00:00<?, ?B/s]"
            ]
          },
          "metadata": {},
          "output_type": "display_data"
        },
        {
          "data": {
            "application/vnd.jupyter.widget-view+json": {
              "model_id": "5aba92f070864726a1aa1b8871c4ac56",
              "version_major": 2,
              "version_minor": 0
            },
            "text/plain": [
              "sentence_bert_config.json:   0%|          | 0.00/53.0 [00:00<?, ?B/s]"
            ]
          },
          "metadata": {},
          "output_type": "display_data"
        },
        {
          "data": {
            "application/vnd.jupyter.widget-view+json": {
              "model_id": "969a94923ff5414fa132674e25b354a0",
              "version_major": 2,
              "version_minor": 0
            },
            "text/plain": [
              "config.json:   0%|          | 0.00/612 [00:00<?, ?B/s]"
            ]
          },
          "metadata": {},
          "output_type": "display_data"
        },
        {
          "name": "stderr",
          "output_type": "stream",
          "text": [
            "Xet Storage is enabled for this repo, but the 'hf_xet' package is not installed. Falling back to regular HTTP download. For better performance, install the package with: `pip install huggingface_hub[hf_xet]` or `pip install hf_xet`\n",
            "WARNING:huggingface_hub.file_download:Xet Storage is enabled for this repo, but the 'hf_xet' package is not installed. Falling back to regular HTTP download. For better performance, install the package with: `pip install huggingface_hub[hf_xet]` or `pip install hf_xet`\n"
          ]
        },
        {
          "data": {
            "application/vnd.jupyter.widget-view+json": {
              "model_id": "c63fa1c9740748e09dde6b739ef338ef",
              "version_major": 2,
              "version_minor": 0
            },
            "text/plain": [
              "model.safetensors:   0%|          | 0.00/90.9M [00:00<?, ?B/s]"
            ]
          },
          "metadata": {},
          "output_type": "display_data"
        },
        {
          "data": {
            "application/vnd.jupyter.widget-view+json": {
              "model_id": "e5501aea259b4c9c8da5541f8f63b1d9",
              "version_major": 2,
              "version_minor": 0
            },
            "text/plain": [
              "tokenizer_config.json:   0%|          | 0.00/350 [00:00<?, ?B/s]"
            ]
          },
          "metadata": {},
          "output_type": "display_data"
        },
        {
          "data": {
            "application/vnd.jupyter.widget-view+json": {
              "model_id": "cc0d3903f02046d4b3f1d55ad8b87c4b",
              "version_major": 2,
              "version_minor": 0
            },
            "text/plain": [
              "vocab.txt:   0%|          | 0.00/232k [00:00<?, ?B/s]"
            ]
          },
          "metadata": {},
          "output_type": "display_data"
        },
        {
          "data": {
            "application/vnd.jupyter.widget-view+json": {
              "model_id": "f576e22839e04039b5ad6441b1ed4497",
              "version_major": 2,
              "version_minor": 0
            },
            "text/plain": [
              "tokenizer.json:   0%|          | 0.00/466k [00:00<?, ?B/s]"
            ]
          },
          "metadata": {},
          "output_type": "display_data"
        },
        {
          "data": {
            "application/vnd.jupyter.widget-view+json": {
              "model_id": "d11558663d604d4ca7fad66de57efdfc",
              "version_major": 2,
              "version_minor": 0
            },
            "text/plain": [
              "special_tokens_map.json:   0%|          | 0.00/112 [00:00<?, ?B/s]"
            ]
          },
          "metadata": {},
          "output_type": "display_data"
        },
        {
          "data": {
            "application/vnd.jupyter.widget-view+json": {
              "model_id": "3c3e4eb0190c43ada122cf65d4b53895",
              "version_major": 2,
              "version_minor": 0
            },
            "text/plain": [
              "config.json:   0%|          | 0.00/190 [00:00<?, ?B/s]"
            ]
          },
          "metadata": {},
          "output_type": "display_data"
        }
      ],
      "source": [
        "sentences_model = SentenceTransformer(SENTENCE_MINI_MODEL).to(get_device())"
      ]
    },
    {
      "cell_type": "code",
      "execution_count": null,
      "metadata": {
        "id": "G3FCwOstIWb7"
      },
      "outputs": [],
      "source": [
        "\n",
        "\n",
        "reranking_model = CrossEncoder('cross-encoder/ms-marco-MiniLM-L-6-v2')\n"
      ]
    },
    {
      "cell_type": "code",
      "execution_count": null,
      "metadata": {
        "colab": {
          "base_uri": "https://localhost:8080/",
          "height": 710,
          "referenced_widgets": [
            "88f215262398472e83da0fcce190125b",
            "848fd1d0741b4d31890252a91f4cfa2a",
            "7eb5c8447604448f80fa97b43dfb0ad9",
            "2c25ad352ce3403c985384f5840bbb10",
            "88e4654b55f046b7a5ebf6ebbe0e0400",
            "c2d5ffb930094bfc8690ba710124ad68",
            "30355eeb7cf04d00aa0f4e7af8c88301",
            "adbd6411441845919b6e148c0fe7b574",
            "6f1d1fa56201455a98f150bc2d83740d",
            "7ba9fdda391547adb08a05bd5e8ad957",
            "250957d30f484016ac2db6e978baf47c",
            "4f40a047daf244c4a10b08b74209209f",
            "0ae98992c8854711a474a8c973f38d20",
            "19f047f088634ec085a7dee64f0b8246",
            "d17513911a2d44eb841a573f4139ebbf",
            "52ccc59c98704e69b020d47e7cb94fad",
            "2771ca0b95294d27ae12e592360da761"
          ]
        },
        "id": "VB9plTIpCvxs",
        "outputId": "5367f066-0869-4bed-a21c-78233f187af5"
      },
      "outputs": [
        {
          "data": {
            "application/vnd.jupyter.widget-view+json": {
              "model_id": "88f215262398472e83da0fcce190125b",
              "version_major": 2,
              "version_minor": 0
            },
            "text/plain": [
              "config.json:   0%|          | 0.00/1.28k [00:00<?, ?B/s]"
            ]
          },
          "metadata": {},
          "output_type": "display_data"
        },
        {
          "data": {
            "application/vnd.jupyter.widget-view+json": {
              "model_id": "848fd1d0741b4d31890252a91f4cfa2a",
              "version_major": 2,
              "version_minor": 0
            },
            "text/plain": [
              "model.safetensors.index.json:   0%|          | 0.00/70.2k [00:00<?, ?B/s]"
            ]
          },
          "metadata": {},
          "output_type": "display_data"
        },
        {
          "data": {
            "application/vnd.jupyter.widget-view+json": {
              "model_id": "7eb5c8447604448f80fa97b43dfb0ad9",
              "version_major": 2,
              "version_minor": 0
            },
            "text/plain": [
              "Fetching 4 files:   0%|          | 0/4 [00:00<?, ?it/s]"
            ]
          },
          "metadata": {},
          "output_type": "display_data"
        },
        {
          "data": {
            "application/vnd.jupyter.widget-view+json": {
              "model_id": "2c25ad352ce3403c985384f5840bbb10",
              "version_major": 2,
              "version_minor": 0
            },
            "text/plain": [
              "model-00001-of-00004.safetensors:   0%|          | 0.00/4.92G [00:00<?, ?B/s]"
            ]
          },
          "metadata": {},
          "output_type": "display_data"
        },
        {
          "data": {
            "application/vnd.jupyter.widget-view+json": {
              "model_id": "88e4654b55f046b7a5ebf6ebbe0e0400",
              "version_major": 2,
              "version_minor": 0
            },
            "text/plain": [
              "model-00003-of-00004.safetensors:   0%|          | 0.00/4.92G [00:00<?, ?B/s]"
            ]
          },
          "metadata": {},
          "output_type": "display_data"
        },
        {
          "data": {
            "application/vnd.jupyter.widget-view+json": {
              "model_id": "c2d5ffb930094bfc8690ba710124ad68",
              "version_major": 2,
              "version_minor": 0
            },
            "text/plain": [
              "model-00002-of-00004.safetensors:   0%|          | 0.00/4.92G [00:00<?, ?B/s]"
            ]
          },
          "metadata": {},
          "output_type": "display_data"
        },
        {
          "data": {
            "application/vnd.jupyter.widget-view+json": {
              "model_id": "30355eeb7cf04d00aa0f4e7af8c88301",
              "version_major": 2,
              "version_minor": 0
            },
            "text/plain": [
              "model-00004-of-00004.safetensors:   0%|          | 0.00/380M [00:00<?, ?B/s]"
            ]
          },
          "metadata": {},
          "output_type": "display_data"
        },
        {
          "data": {
            "application/vnd.jupyter.widget-view+json": {
              "model_id": "adbd6411441845919b6e148c0fe7b574",
              "version_major": 2,
              "version_minor": 0
            },
            "text/plain": [
              "Loading checkpoint shards:   0%|          | 0/4 [00:00<?, ?it/s]"
            ]
          },
          "metadata": {},
          "output_type": "display_data"
        },
        {
          "data": {
            "application/vnd.jupyter.widget-view+json": {
              "model_id": "6f1d1fa56201455a98f150bc2d83740d",
              "version_major": 2,
              "version_minor": 0
            },
            "text/plain": [
              "generation_config.json:   0%|          | 0.00/116 [00:00<?, ?B/s]"
            ]
          },
          "metadata": {},
          "output_type": "display_data"
        },
        {
          "data": {
            "application/vnd.jupyter.widget-view+json": {
              "model_id": "7ba9fdda391547adb08a05bd5e8ad957",
              "version_major": 2,
              "version_minor": 0
            },
            "text/plain": [
              "processor_config.json:   0%|          | 0.00/176 [00:00<?, ?B/s]"
            ]
          },
          "metadata": {},
          "output_type": "display_data"
        },
        {
          "data": {
            "application/vnd.jupyter.widget-view+json": {
              "model_id": "250957d30f484016ac2db6e978baf47c",
              "version_major": 2,
              "version_minor": 0
            },
            "text/plain": [
              "chat_template.json:   0%|          | 0.00/694 [00:00<?, ?B/s]"
            ]
          },
          "metadata": {},
          "output_type": "display_data"
        },
        {
          "data": {
            "application/vnd.jupyter.widget-view+json": {
              "model_id": "4f40a047daf244c4a10b08b74209209f",
              "version_major": 2,
              "version_minor": 0
            },
            "text/plain": [
              "preprocessor_config.json:   0%|          | 0.00/772 [00:00<?, ?B/s]"
            ]
          },
          "metadata": {},
          "output_type": "display_data"
        },
        {
          "name": "stderr",
          "output_type": "stream",
          "text": [
            "Using a slow image processor as `use_fast` is unset and a slow processor was saved with this model. `use_fast=True` will be the default behavior in v4.52, even if the model was saved with a slow processor. This will result in minor differences in outputs. You'll still be able to use a slow processor with `use_fast=False`.\n"
          ]
        },
        {
          "data": {
            "application/vnd.jupyter.widget-view+json": {
              "model_id": "0ae98992c8854711a474a8c973f38d20",
              "version_major": 2,
              "version_minor": 0
            },
            "text/plain": [
              "tokenizer_config.json:   0%|          | 0.00/2.07k [00:00<?, ?B/s]"
            ]
          },
          "metadata": {},
          "output_type": "display_data"
        },
        {
          "data": {
            "application/vnd.jupyter.widget-view+json": {
              "model_id": "19f047f088634ec085a7dee64f0b8246",
              "version_major": 2,
              "version_minor": 0
            },
            "text/plain": [
              "tokenizer.model:   0%|          | 0.00/493k [00:00<?, ?B/s]"
            ]
          },
          "metadata": {},
          "output_type": "display_data"
        },
        {
          "data": {
            "application/vnd.jupyter.widget-view+json": {
              "model_id": "d17513911a2d44eb841a573f4139ebbf",
              "version_major": 2,
              "version_minor": 0
            },
            "text/plain": [
              "tokenizer.json:   0%|          | 0.00/1.80M [00:00<?, ?B/s]"
            ]
          },
          "metadata": {},
          "output_type": "display_data"
        },
        {
          "data": {
            "application/vnd.jupyter.widget-view+json": {
              "model_id": "52ccc59c98704e69b020d47e7cb94fad",
              "version_major": 2,
              "version_minor": 0
            },
            "text/plain": [
              "added_tokens.json:   0%|          | 0.00/41.0 [00:00<?, ?B/s]"
            ]
          },
          "metadata": {},
          "output_type": "display_data"
        },
        {
          "data": {
            "application/vnd.jupyter.widget-view+json": {
              "model_id": "2771ca0b95294d27ae12e592360da761",
              "version_major": 2,
              "version_minor": 0
            },
            "text/plain": [
              "special_tokens_map.json:   0%|          | 0.00/552 [00:00<?, ?B/s]"
            ]
          },
          "metadata": {},
          "output_type": "display_data"
        }
      ],
      "source": [
        "# load llava 1.6\n",
        "bnb_config = BitsAndBytesConfig(\n",
        "    load_in_4bit=True,\n",
        "    bnb_4bit_quant_type=\"nf4\",\n",
        "    bnb_4bit_compute_dtype=torch.float16,\n",
        ")\n",
        "\n",
        "llm_model = LlavaNextForConditionalGeneration.from_pretrained(\n",
        "    \"llava-hf/llava-v1.6-mistral-7b-hf\",\n",
        "    quantization_config=bnb_config,\n",
        "    device_map=\"auto\"\n",
        ")\n",
        "llm_processor = AutoProcessor.from_pretrained(\"llava-hf/llava-v1.6-mistral-7b-hf\")"
      ]
    },
    {
      "cell_type": "markdown",
      "metadata": {
        "id": "A4EB0AY_Mpdv"
      },
      "source": [
        "## 1. Implement function classify task\n",
        "\n"
      ]
    },
    {
      "cell_type": "code",
      "execution_count": null,
      "metadata": {
        "cellView": "form",
        "id": "gu2VQe-nbIFN"
      },
      "outputs": [],
      "source": [
        "# @title\n",
        "# Load the CLIP model and processor\n",
        "\n",
        "\n",
        "\n",
        "service_labels = [\"Calories Calculator\", \"Cook Helper\", \"Dietary Filter\"]\n",
        "\n",
        "def get_calories():\n",
        "    return \"Calories Calculator Service!\"\n",
        "\n",
        "def get_recipe():\n",
        "    return \"Cook Helper Service: Finding a recipe...!\"\n",
        "\n",
        "def get_dietary_info():\n",
        "    return \"Dietary Filter Service: Checking allergens and dietary tags...!\"\n",
        "\n",
        "def classify_input(text_input, image_input):\n",
        "    \"\"\"\n",
        "    Classify input into Calories Calculator, Cook Helper, or Dietary Filter.\n",
        "    Requires both text and image input.\n",
        "    \"\"\"\n",
        "    if not text_input or not image_input:\n",
        "        raise ValueError(\"Both text and image are required for classification.\")\n",
        "\n",
        "    # Preprocessing input (text + image)\n",
        "    inputs = clip_processor(\n",
        "        text=[text_input] * len(service_labels),\n",
        "        images=image_input,\n",
        "        return_tensors=\"pt\",\n",
        "        padding=True\n",
        "    )\n",
        "\n",
        "    # Get image-text similarity logits outputs\n",
        "    outputs = clip_model(**inputs)\n",
        "\n",
        "    # Zero-shot classification probabilities\n",
        "    probs = outputs.logits_per_image.softmax(dim=1)\n",
        "\n",
        "    # Find the most probable service\n",
        "    predicted_idx = torch.argmax(probs, dim=1).item()\n",
        "    predicted_service = service_labels[predicted_idx]\n",
        "\n",
        "    return predicted_service\n",
        "\n",
        "def keyword_bias(text_input):\n",
        "    text = text_input.lower()\n",
        "\n",
        "    if any(word in text for word in [\"recipe\", \"ingredients\", \"cook\", \"steps\", \"how to make\"]):\n",
        "        return \"Cook Helper\"\n",
        "    elif any(word in text for word in [\"calories\", \"nutrition\", \"macros\", \"vitamins\"]):\n",
        "        return \"Calories Calculator\"\n",
        "    elif any(word in text for word in [\"allergen\", \"vegan\", \"keto\", \"substitute\"]):\n",
        "        return \"Dietary Filter\"\n",
        "    else:\n",
        "        return None\n",
        "\n",
        "def route_service(text_input, image_input):\n",
        "\n",
        "    # Check keywords first\n",
        "    keyword_prediction = keyword_bias(text_input)\n",
        "\n",
        "    if keyword_prediction:\n",
        "        predicted_service = keyword_prediction\n",
        "    else:\n",
        "        predicted_service = classify_input(text_input, image_input)\n",
        "\n",
        "    if predicted_service == \"Calories Calculator\":\n",
        "        return get_calories()\n",
        "    elif predicted_service == \"Cook Helper\":\n",
        "        return get_recipe()\n",
        "    elif predicted_service == \"Dietary Filter\":\n",
        "        return get_dietary_info()\n",
        "    else:\n",
        "        return \"Service not found.\"\n"
      ]
    },
    {
      "cell_type": "code",
      "execution_count": null,
      "metadata": {
        "id": "ICrqTkar6c4a"
      },
      "outputs": [],
      "source": [
        "# @title\n",
        "def classify_tasks(query_text: str, debug: bool = False) -> list[str]:\n",
        "  result = task_classifier_pipeline(query_text, TASK_LIST, multi_label=True)\n",
        "  if debug:\n",
        "    print(result)\n",
        "  tasks = []\n",
        "  for i, score in enumerate(result[\"scores\"]):\n",
        "    if score > TASK_CLASSIFIER_THRESHOLD:\n",
        "      tasks.append(result[\"labels\"][i])\n",
        "\n",
        "  # handle the unknown task\n",
        "  if not tasks or (COOK_HELPER not in tasks and CALORIES_CALCULATOR not in tasks and MEAL_PLANNER not in tasks):\n",
        "    tasks.append(UNCLASSIFIED)\n",
        "\n",
        "  return tasks\n"
      ]
    },
    {
      "cell_type": "markdown",
      "metadata": {
        "id": "LoHIsG6NUCNn"
      },
      "source": [
        "Improved version of classify task\n",
        "\n",
        "1.Preprocesses the query text (lowercase and strip whitespace)\n",
        "\n",
        "2.Uses keyword matching in addition to the NLI model\n",
        "\n",
        "3.Adds contextual rules to catch specific scenarios (like leftover ingredients)\n",
        "\n"
      ]
    },
    {
      "cell_type": "code",
      "execution_count": null,
      "metadata": {
        "cellView": "form",
        "id": "LHHOy3ZmK7fG"
      },
      "outputs": [],
      "source": [
        "# @title\n",
        "#test1\n",
        "def classify_tasks(query_text: str, debug: bool = False) -> list[str]:\n",
        "    # Preprocess the query text\n",
        "\n",
        "    query_text = query_text.lower().strip()\n",
        "    query_text = re.sub(r\"[^\\w\\s]\", \"\", query_text) #remove punctuation\n",
        "\n",
        "    # Create a set of keywords for each task\n",
        "    task_keywords = {\n",
        "        CALORIES_CALCULATOR: [\"calorie\", \"calories\", \"nutrition\", \"nutritional\", \"count\", \"calculate\", \"tracker\", \"how many\", \"macros\"],\n",
        "        ALLERGEN_FILTER: [\"allergy\", \"allergen\", \"allergic\", \"intolerance\", \"without\", \"free from\", \"avoid\", \"can't eat\"],\n",
        "        FOOD_PREFERENCE: [\"like\", \"prefer\", \"favorite\", \"vegan\", \"vegetarian\", \"pescatarian\", \"keto\", \"paleo\", \"gluten-free\", \"dairy-free\", \"diet\",\"creative uses\",\"idea\",\"ideas\"],\n",
        "        COOK_HELPER: [\"recipe\", \"cook\", \"make\", \"prepare\", \"how to\", \"instruction\", \"dish\", \"meal\", \"dinner\", \"lunch\", \"breakfast\"]\n",
        "    }\n",
        "\n",
        "    # Use the existing NLI model for classification\n",
        "    result = task_classifier_pipeline(query_text, TASK_LIST, multi_label=True)\n",
        "\n",
        "    if debug:\n",
        "        print(\"NLI Model Classification:\", result)\n",
        "\n",
        "    # Get tasks from NLI model\n",
        "    tasks = []\n",
        "    for i, score in enumerate(result[\"scores\"]):\n",
        "        if score > TASK_CLASSIFIER_THRESHOLD:\n",
        "            tasks.append(result[\"labels\"][i])\n",
        "\n",
        "    # Enhance with keyword matching\n",
        "    for task, keywords in task_keywords.items():\n",
        "        if task not in tasks:  # Only check if not already classified\n",
        "            for keyword in keywords:\n",
        "                if keyword in query_text:\n",
        "                    tasks.append(task)\n",
        "                    break\n",
        "\n",
        "    # Add contextual rules\n",
        "    if any(word in query_text for word in [\"leftover\", \"ingredients\", \"have\", \"fridge\", \"remaining\"]):\n",
        "        if LEFTOVER_REMIXER not in tasks:\n",
        "            tasks.append(LEFTOVER_REMIXER)\n",
        "\n",
        "    if any(phrase in query_text for phrase in [\"can't eat\", \"allergic to\", \"no dairy\", \"no nuts\", \"no gluten\",\"cannot eat\"]):\n",
        "        if ALLERGEN_FILTER not in tasks:\n",
        "            tasks.append(ALLERGEN_FILTER)\n",
        "\n",
        "    # Handle the unknown task\n",
        "    if not tasks:\n",
        "        tasks.append(UNCLASSIFIED)\n",
        "\n",
        "    #if debug:\n",
        "       # print(\"Final classification:\", tasks)\n",
        "\n",
        "    return tasks"
      ]
    },
    {
      "cell_type": "code",
      "execution_count": null,
      "metadata": {
        "cellView": "form",
        "colab": {
          "base_uri": "https://localhost:8080/",
          "height": 298,
          "referenced_widgets": [
            "abed113576bd42f69ba2fe466de23ea2",
            "539c3f97002c45f38a117838ef25a23a",
            "3b97ea1c1c8c4190b240d3a76beb08df",
            "fcb63d6cdd154358b6e79822a8568d7b",
            "5b916fd7d59f46c4958c11063c6310cc",
            "3f0f55d8ad1a4dd6b80153aab8e86a7a"
          ]
        },
        "collapsed": true,
        "id": "5QibCnSEnELg",
        "outputId": "6d7fe658-f861-4d52-8e34-3fcdd569232e"
      },
      "outputs": [
        {
          "data": {
            "application/vnd.jupyter.widget-view+json": {
              "model_id": "abed113576bd42f69ba2fe466de23ea2",
              "version_major": 2,
              "version_minor": 0
            },
            "text/plain": [
              "config.json:   0%|          | 0.00/1.21k [00:00<?, ?B/s]"
            ]
          },
          "metadata": {},
          "output_type": "display_data"
        },
        {
          "name": "stderr",
          "output_type": "stream",
          "text": [
            "Xet Storage is enabled for this repo, but the 'hf_xet' package is not installed. Falling back to regular HTTP download. For better performance, install the package with: `pip install huggingface_hub[hf_xet]` or `pip install hf_xet`\n",
            "WARNING:huggingface_hub.file_download:Xet Storage is enabled for this repo, but the 'hf_xet' package is not installed. Falling back to regular HTTP download. For better performance, install the package with: `pip install huggingface_hub[hf_xet]` or `pip install hf_xet`\n"
          ]
        },
        {
          "data": {
            "application/vnd.jupyter.widget-view+json": {
              "model_id": "539c3f97002c45f38a117838ef25a23a",
              "version_major": 2,
              "version_minor": 0
            },
            "text/plain": [
              "model.safetensors:   0%|          | 0.00/242M [00:00<?, ?B/s]"
            ]
          },
          "metadata": {},
          "output_type": "display_data"
        },
        {
          "data": {
            "application/vnd.jupyter.widget-view+json": {
              "model_id": "3b97ea1c1c8c4190b240d3a76beb08df",
              "version_major": 2,
              "version_minor": 0
            },
            "text/plain": [
              "generation_config.json:   0%|          | 0.00/147 [00:00<?, ?B/s]"
            ]
          },
          "metadata": {},
          "output_type": "display_data"
        },
        {
          "data": {
            "application/vnd.jupyter.widget-view+json": {
              "model_id": "fcb63d6cdd154358b6e79822a8568d7b",
              "version_major": 2,
              "version_minor": 0
            },
            "text/plain": [
              "tokenizer_config.json:   0%|          | 0.00/2.32k [00:00<?, ?B/s]"
            ]
          },
          "metadata": {},
          "output_type": "display_data"
        },
        {
          "data": {
            "application/vnd.jupyter.widget-view+json": {
              "model_id": "5b916fd7d59f46c4958c11063c6310cc",
              "version_major": 2,
              "version_minor": 0
            },
            "text/plain": [
              "spiece.model:   0%|          | 0.00/792k [00:00<?, ?B/s]"
            ]
          },
          "metadata": {},
          "output_type": "display_data"
        },
        {
          "data": {
            "application/vnd.jupyter.widget-view+json": {
              "model_id": "3f0f55d8ad1a4dd6b80153aab8e86a7a",
              "version_major": 2,
              "version_minor": 0
            },
            "text/plain": [
              "tokenizer.json:   0%|          | 0.00/1.39M [00:00<?, ?B/s]"
            ]
          },
          "metadata": {},
          "output_type": "display_data"
        },
        {
          "name": "stderr",
          "output_type": "stream",
          "text": [
            "You are using the default legacy behaviour of the <class 'transformers.models.t5.tokenization_t5.T5Tokenizer'>. This is expected, and simply means that the `legacy` (previous) behavior will be used so nothing changes for you. If you want to use the new behaviour, set `legacy=False`. This should only be set if you understand what it means, and thoroughly read the reason why this was added as explained in https://github.com/huggingface/transformers/pull/24565\n"
          ]
        },
        {
          "name": "stdout",
          "output_type": "stream",
          "text": [
            "Generate a hamburger recipe without tomatoes:\n"
          ]
        }
      ],
      "source": [
        "# @title\n",
        "from transformers import T5ForConditionalGeneration, T5Tokenizer\n",
        "\n",
        "model = T5ForConditionalGeneration.from_pretrained(\"t5-small\")\n",
        "tokenizer = T5Tokenizer.from_pretrained(\"t5-small\")\n",
        "\n",
        "input_text = \"Generate a hamburger recipe without tomatoes: \"\n",
        "inputs = tokenizer(input_text, return_tensors=\"pt\")\n",
        "outputs = model.generate(**inputs)\n",
        "print(tokenizer.decode(outputs[0], skip_special_tokens=True))"
      ]
    },
    {
      "cell_type": "markdown",
      "metadata": {
        "id": "u3rYVy3sH3XO"
      },
      "source": [
        "### Test classify tasks function"
      ]
    },
    {
      "cell_type": "code",
      "execution_count": null,
      "metadata": {
        "colab": {
          "base_uri": "https://localhost:8080/"
        },
        "id": "lTuq8Ns3ZgFf",
        "outputId": "03175cf9-8a8e-4bce-fb2c-742fcbdb39c3"
      },
      "outputs": [
        {
          "name": "stdout",
          "output_type": "stream",
          "text": [
            "{'sequence': 'Give me a diet plan', 'labels': ['diet meal planner', 'food tag', 'nutrition calculator', 'allergen avoidance', 'recipe provider'], 'scores': [0.8111365437507629, 0.14289841055870056, 0.10950033366680145, 0.048765432089567184, 0.009072900749742985]}\n"
          ]
        },
        {
          "data": {
            "text/plain": [
              "['diet meal planner']"
            ]
          },
          "execution_count": 13,
          "metadata": {},
          "output_type": "execute_result"
        }
      ],
      "source": [
        "classify_tasks(\"Give me a diet plan\", True)"
      ]
    },
    {
      "cell_type": "code",
      "execution_count": null,
      "metadata": {
        "cellView": "form",
        "colab": {
          "base_uri": "https://localhost:8080/",
          "height": 350
        },
        "collapsed": true,
        "id": "8fSRPZeVHNZf",
        "outputId": "bc91dfe1-f55c-4ec9-b0d5-b1bc6cc0713f"
      },
      "outputs": [
        {
          "ename": "KeyboardInterrupt",
          "evalue": "Interrupted by user",
          "output_type": "error",
          "traceback": [
            "\u001b[0;31m---------------------------------------------------------------------------\u001b[0m",
            "\u001b[0;31mKeyboardInterrupt\u001b[0m                         Traceback (most recent call last)",
            "\u001b[0;32m<ipython-input-20-a23a907de355>\u001b[0m in \u001b[0;36m<cell line: 0>\u001b[0;34m()\u001b[0m\n\u001b[1;32m      8\u001b[0m \u001b[0;32mif\u001b[0m \u001b[0m__name__\u001b[0m \u001b[0;34m==\u001b[0m \u001b[0;34m\"__main__\"\u001b[0m\u001b[0;34m:\u001b[0m\u001b[0;34m\u001b[0m\u001b[0;34m\u001b[0m\u001b[0m\n\u001b[1;32m      9\u001b[0m     \u001b[0;31m# Ask user to input text + image\u001b[0m\u001b[0;34m\u001b[0m\u001b[0;34m\u001b[0m\u001b[0m\n\u001b[0;32m---> 10\u001b[0;31m     \u001b[0mtext\u001b[0m \u001b[0;34m=\u001b[0m \u001b[0minput\u001b[0m\u001b[0;34m(\u001b[0m\u001b[0;34m\"Enter your question about the food: \"\u001b[0m\u001b[0;34m)\u001b[0m\u001b[0;34m\u001b[0m\u001b[0;34m\u001b[0m\u001b[0m\n\u001b[0m\u001b[1;32m     11\u001b[0m     \u001b[0muser_data\u001b[0m\u001b[0;34m[\u001b[0m\u001b[0;34m\"text\"\u001b[0m\u001b[0;34m]\u001b[0m \u001b[0;34m=\u001b[0m \u001b[0mtext\u001b[0m\u001b[0;34m\u001b[0m\u001b[0;34m\u001b[0m\u001b[0m\n\u001b[1;32m     12\u001b[0m \u001b[0;34m\u001b[0m\u001b[0m\n",
            "\u001b[0;32m/usr/local/lib/python3.11/dist-packages/ipykernel/kernelbase.py\u001b[0m in \u001b[0;36mraw_input\u001b[0;34m(self, prompt)\u001b[0m\n\u001b[1;32m   1175\u001b[0m                 \u001b[0;34m\"raw_input was called, but this frontend does not support input requests.\"\u001b[0m\u001b[0;34m\u001b[0m\u001b[0;34m\u001b[0m\u001b[0m\n\u001b[1;32m   1176\u001b[0m             )\n\u001b[0;32m-> 1177\u001b[0;31m         return self._input_request(\n\u001b[0m\u001b[1;32m   1178\u001b[0m             \u001b[0mstr\u001b[0m\u001b[0;34m(\u001b[0m\u001b[0mprompt\u001b[0m\u001b[0;34m)\u001b[0m\u001b[0;34m,\u001b[0m\u001b[0;34m\u001b[0m\u001b[0;34m\u001b[0m\u001b[0m\n\u001b[1;32m   1179\u001b[0m             \u001b[0mself\u001b[0m\u001b[0;34m.\u001b[0m\u001b[0m_parent_ident\u001b[0m\u001b[0;34m[\u001b[0m\u001b[0;34m\"shell\"\u001b[0m\u001b[0;34m]\u001b[0m\u001b[0;34m,\u001b[0m\u001b[0;34m\u001b[0m\u001b[0;34m\u001b[0m\u001b[0m\n",
            "\u001b[0;32m/usr/local/lib/python3.11/dist-packages/ipykernel/kernelbase.py\u001b[0m in \u001b[0;36m_input_request\u001b[0;34m(self, prompt, ident, parent, password)\u001b[0m\n\u001b[1;32m   1217\u001b[0m             \u001b[0;32mexcept\u001b[0m \u001b[0mKeyboardInterrupt\u001b[0m\u001b[0;34m:\u001b[0m\u001b[0;34m\u001b[0m\u001b[0;34m\u001b[0m\u001b[0m\n\u001b[1;32m   1218\u001b[0m                 \u001b[0;31m# re-raise KeyboardInterrupt, to truncate traceback\u001b[0m\u001b[0;34m\u001b[0m\u001b[0;34m\u001b[0m\u001b[0m\n\u001b[0;32m-> 1219\u001b[0;31m                 \u001b[0;32mraise\u001b[0m \u001b[0mKeyboardInterrupt\u001b[0m\u001b[0;34m(\u001b[0m\u001b[0;34m\"Interrupted by user\"\u001b[0m\u001b[0;34m)\u001b[0m \u001b[0;32mfrom\u001b[0m \u001b[0;32mNone\u001b[0m\u001b[0;34m\u001b[0m\u001b[0;34m\u001b[0m\u001b[0m\n\u001b[0m\u001b[1;32m   1220\u001b[0m             \u001b[0;32mexcept\u001b[0m \u001b[0mException\u001b[0m\u001b[0;34m:\u001b[0m\u001b[0;34m\u001b[0m\u001b[0;34m\u001b[0m\u001b[0m\n\u001b[1;32m   1221\u001b[0m                 \u001b[0mself\u001b[0m\u001b[0;34m.\u001b[0m\u001b[0mlog\u001b[0m\u001b[0;34m.\u001b[0m\u001b[0mwarning\u001b[0m\u001b[0;34m(\u001b[0m\u001b[0;34m\"Invalid Message:\"\u001b[0m\u001b[0;34m,\u001b[0m \u001b[0mexc_info\u001b[0m\u001b[0;34m=\u001b[0m\u001b[0;32mTrue\u001b[0m\u001b[0;34m)\u001b[0m\u001b[0;34m\u001b[0m\u001b[0;34m\u001b[0m\u001b[0m\n",
            "\u001b[0;31mKeyboardInterrupt\u001b[0m: Interrupted by user"
          ]
        }
      ],
      "source": [
        "# @title\n",
        "\n",
        "user_data = {\n",
        "    \"text\": None,\n",
        "    \"image\": None\n",
        "}\n",
        "\n",
        "if __name__ == \"__main__\":\n",
        "    # Ask user to input text + image\n",
        "    text = input(\"Enter your question about the food: \")\n",
        "    user_data[\"text\"] = text\n",
        "\n",
        "    image = input(\"Upload your food image: \")     # use image path\n",
        "    user_data[\"image\"] = Image.open(image)\n",
        "\n",
        "    # Get service classification\n",
        "    output = route_service(text, image)\n",
        "    print(output)\n",
        "    # print(f\"\\nText: {user_data['text']}\")\n"
      ]
    },
    {
      "cell_type": "code",
      "execution_count": null,
      "metadata": {
        "cellView": "form",
        "id": "flSyTfaQIE9l"
      },
      "outputs": [],
      "source": [
        "# @title\n",
        "# Test\n",
        "\n",
        "query_text_list = [\"Can you give me a meal from these leftover ingredients: fish, tomato, pasta consider that I am allergic to dairy product\",\n",
        "                   \"I need a quick dinner recipe using chicken and broccoli, no gluten please\",\n",
        "                   \"Breakfast ideas with eggs that are keto-friendly\",\n",
        "                   \"What can I cook with rice and beans that is vegan?\",\n",
        "                   \"Dessert recipe without sugar as I have diabetes\",\n",
        "                   \"What is the calories for this food?\",\n",
        "                   \"Can I eat this food?\",\n",
        "                   \"Give me the any recipe that contains meat but no vegetable\",\n",
        "                   \"Give me the any recipe that contains meat but I am allergic to diary product\",\n",
        "                   \"I want to know the calories and recipe of pizza\",\n",
        "                   \"Breakfast idea with eggs but I am allergic to milk\",\n",
        "                   \"Breakfast idea with eggs\",\n",
        "                   \"UWU\"]\n",
        "if __name__ == \"__main__\":\n",
        "    # Ask user to input text + image\n",
        "    # text = input(\"Enter your question: \")\n",
        "    # Get service classification\n",
        "    for query_text in query_text_list:\n",
        "      tasks = classify_tasks(query_text, True)\n",
        "      print(query_text)\n",
        "      print(tasks)\n",
        "      print('-------------')"
      ]
    },
    {
      "cell_type": "code",
      "execution_count": null,
      "metadata": {
        "cellView": "form",
        "id": "wk0q3NvsVR_j"
      },
      "outputs": [],
      "source": [
        "# @title\n",
        "#test2\n",
        "\n",
        "query_text_list = [\n",
        "    # LEFTOVER_REMIXER examples\n",
        "    \"What can I make with chicken, bell peppers, and onions in my fridge?\",\n",
        "    \"I have leftover rice, beans, and corn. What can I cook?\",\n",
        "    \"Help me use up these ingredients: pasta, tuna, and olives\",\n",
        "    \"Recipe ideas for remaining thanksgiving turkey\",\n",
        "    \"Creative uses for stale bread\",\n",
        "\n",
        "    # COOK_HELPER examples\n",
        "    \"How do I make chicken parmesan?\",\n",
        "    \"Simple pasta recipe for beginners\",\n",
        "    \"Best way to cook salmon\",\n",
        "    \"Teach me how to bake chocolate chip cookies\",\n",
        "    \"Quick dinner ideas for a family of four\",\n",
        "\n",
        "    # CALORIES_CALCULATOR examples\n",
        "    \"How many calories in a banana?\",\n",
        "    \"Nutritional value of avocado toast\",\n",
        "    \"Count calories in homemade lasagna\",\n",
        "    \"What's the fat content in a croissant?\",\n",
        "    \"Protein in a 6oz steak\",\n",
        "\n",
        "    # ALLERGEN_FILTER examples\n",
        "    \"Desserts without dairy\",\n",
        "    \"Gluten-free bread recipes\",\n",
        "    \"What can I eat if I'm allergic to shellfish?\",\n",
        "    \"Nut-free snack ideas for kids\",\n",
        "    \"Recipes suitable for someone with egg allergy\",\n",
        "\n",
        "    # FOOD_PREFERENCE examples\n",
        "    \"Vegan dinner ideas\",\n",
        "    \"Keto-friendly breakfast options\",\n",
        "    \"Mediterranean diet lunch recipes\",\n",
        "    \"Low-carb meals for the week\",\n",
        "    \"High protein vegetarian dinners\",\n",
        "\n",
        "    # Multi-task examples\n",
        "    \"Calculate calories in a pasta dish without gluten\",\n",
        "    \"Vegan recipes using only ingredients I have: tofu, broccoli, and rice\",\n",
        "    \"How to make a low-calorie cheesecake for someone with nut allergies\",\n",
        "    \"Keto breakfast ideas using eggs and avocado I have in my fridge\",\n",
        "    \"What's the nutritional breakdown of a dairy-free vegetable soup?\",\n",
        "\n",
        "    # Edge cases\n",
        "    \"Is this food safe to eat after 3 days?\",\n",
        "    \"Can dogs eat chocolate?\",\n",
        "    \"Where can I order pizza near me?\",\n",
        "    \"Food photography tips\",\n",
        "    \"History of Italian cuisine\",\n",
        "\n",
        "    # Ambiguous queries\n",
        "    \"Food ideas\",\n",
        "    \"Help with dinner\",\n",
        "    \"I'm hungry\",\n",
        "    \"What should I eat?\",\n",
        "    \"Best meals\",\n",
        "\n",
        "    # Nonsensical queries\n",
        "    \"XYZ123\",\n",
        "    \"Hello world\",\n",
        "    \"The sky is blue\",\n",
        "    \"Dancing elephant\",\n",
        "    \"UwU\"\n",
        "]\n",
        "\n",
        "if __name__ == \"__main__\":\n",
        "    # Test each query\n",
        "    for query_text in query_text_list:\n",
        "        tasks = classify_tasks(query_text, True)\n",
        "        print(f\"Query: {query_text}\")\n",
        "        print(f\"Classification: {tasks}\")\n",
        "        print('-------------')"
      ]
    },
    {
      "cell_type": "markdown",
      "metadata": {
        "id": "Psj-5vVccPza"
      },
      "source": [
        "## 2. Implement function to separate intent and constraint\n"
      ]
    },
    {
      "cell_type": "code",
      "execution_count": null,
      "metadata": {
        "id": "fm3CRxOSZUpK"
      },
      "outputs": [],
      "source": [
        "# improve the filter pattern later\n",
        "def separate_intent_and_constraint(user_text: str) -> tuple[str, list[str]]:\n",
        "    \"\"\"\n",
        "    Function to separate constriant of the query from the intention query.\n",
        "    This function should be used to only the query that contains Dietary Filter Task\n",
        "    \"\"\"\n",
        "\n",
        "    constraint_keywords = [\"but\", \"without\", \"avoid\", \"except\", \"no\", \"must be\", \"should be\"]\n",
        "\n",
        "    lower_text = user_text.lower()\n",
        "\n",
        "    for keyword in constraint_keywords:\n",
        "        if keyword in lower_text:\n",
        "            parts = re.split(rf\"\\b{keyword}\\b\", user_text, maxsplit=1, flags=re.IGNORECASE)\n",
        "            intent_query = parts[0].strip()\n",
        "            constraint = parts[1].strip() if len(parts) > 1 else \"\"\n",
        "\n",
        "            intent_query = intent_query.rstrip(\",.?!\").rstrip()\n",
        "            intent_query = re.sub(r'\\b(with|without|but|except|avoid|no|must be|should be)\\b$', '', intent_query, flags=re.IGNORECASE).strip()\n",
        "\n",
        "            constraint = constraint.strip('.,?')\n",
        "            return intent_query, [constraint]\n",
        "\n",
        "    return user_text.strip(), \"\"\n"
      ]
    },
    {
      "cell_type": "code",
      "execution_count": null,
      "metadata": {
        "cellView": "form",
        "colab": {
          "base_uri": "https://localhost:8080/",
          "height": 316,
          "referenced_widgets": [
            "6e357cb8048942c29acfd5d33f521fc8",
            "e10915a061c141dc82c17154b1b455b2",
            "2cc751e648774b788a498c5aaf461828",
            "99f350cd48ab462f83983e6019795673",
            "0dfa4e616b16434e8c2ad7440d531540",
            "ac9f31550e4443f0b26d16386034cb73"
          ]
        },
        "collapsed": true,
        "id": "JD5rbyaEsvIo",
        "outputId": "3451e57d-ce6c-4565-8f70-c66301263372"
      },
      "outputs": [
        {
          "data": {
            "application/vnd.jupyter.widget-view+json": {
              "model_id": "6e357cb8048942c29acfd5d33f521fc8",
              "version_major": 2,
              "version_minor": 0
            },
            "text/plain": [
              "config.json:   0%|          | 0.00/829 [00:00<?, ?B/s]"
            ]
          },
          "metadata": {},
          "output_type": "display_data"
        },
        {
          "data": {
            "application/vnd.jupyter.widget-view+json": {
              "model_id": "e10915a061c141dc82c17154b1b455b2",
              "version_major": 2,
              "version_minor": 0
            },
            "text/plain": [
              "model.safetensors:   0%|          | 0.00/433M [00:00<?, ?B/s]"
            ]
          },
          "metadata": {},
          "output_type": "display_data"
        },
        {
          "name": "stderr",
          "output_type": "stream",
          "text": [
            "Some weights of the model checkpoint at dslim/bert-base-NER were not used when initializing BertForTokenClassification: ['bert.pooler.dense.bias', 'bert.pooler.dense.weight']\n",
            "- This IS expected if you are initializing BertForTokenClassification from the checkpoint of a model trained on another task or with another architecture (e.g. initializing a BertForSequenceClassification model from a BertForPreTraining model).\n",
            "- This IS NOT expected if you are initializing BertForTokenClassification from the checkpoint of a model that you expect to be exactly identical (initializing a BertForSequenceClassification model from a BertForSequenceClassification model).\n"
          ]
        },
        {
          "data": {
            "application/vnd.jupyter.widget-view+json": {
              "model_id": "2cc751e648774b788a498c5aaf461828",
              "version_major": 2,
              "version_minor": 0
            },
            "text/plain": [
              "tokenizer_config.json:   0%|          | 0.00/59.0 [00:00<?, ?B/s]"
            ]
          },
          "metadata": {},
          "output_type": "display_data"
        },
        {
          "data": {
            "application/vnd.jupyter.widget-view+json": {
              "model_id": "99f350cd48ab462f83983e6019795673",
              "version_major": 2,
              "version_minor": 0
            },
            "text/plain": [
              "vocab.txt:   0%|          | 0.00/213k [00:00<?, ?B/s]"
            ]
          },
          "metadata": {},
          "output_type": "display_data"
        },
        {
          "data": {
            "application/vnd.jupyter.widget-view+json": {
              "model_id": "0dfa4e616b16434e8c2ad7440d531540",
              "version_major": 2,
              "version_minor": 0
            },
            "text/plain": [
              "added_tokens.json:   0%|          | 0.00/2.00 [00:00<?, ?B/s]"
            ]
          },
          "metadata": {},
          "output_type": "display_data"
        },
        {
          "data": {
            "application/vnd.jupyter.widget-view+json": {
              "model_id": "ac9f31550e4443f0b26d16386034cb73",
              "version_major": 2,
              "version_minor": 0
            },
            "text/plain": [
              "special_tokens_map.json:   0%|          | 0.00/112 [00:00<?, ?B/s]"
            ]
          },
          "metadata": {},
          "output_type": "display_data"
        },
        {
          "name": "stderr",
          "output_type": "stream",
          "text": [
            "Device set to use cuda:0\n"
          ]
        },
        {
          "name": "stdout",
          "output_type": "stream",
          "text": [
            "Constraints: []\n"
          ]
        }
      ],
      "source": [
        "# @title\n",
        "from transformers import pipeline\n",
        "\n",
        "ner = pipeline(\"ner\", model=\"dslim/bert-base-NER\")\n",
        "query = \"I want a hamburger recipe without tomatoes\"\n",
        "\n",
        "constraint_entities = [entity[\"word\"] for entity in ner(query) if entity[\"entity\"] == \"B-MISC\"]\n",
        "print(\"Constraints:\", constraint_entities)  # ['tomatoes']"
      ]
    },
    {
      "cell_type": "markdown",
      "metadata": {
        "id": "ACY8kVaMMZzN"
      },
      "source": [
        "### Test separate intent and constraint function"
      ]
    },
    {
      "cell_type": "code",
      "execution_count": null,
      "metadata": {
        "cellView": "form",
        "colab": {
          "base_uri": "https://localhost:8080/"
        },
        "collapsed": true,
        "id": "TzqF2TYuZhjd",
        "outputId": "9c240c23-33c2-4b83-e524-37028e8cf6a2"
      },
      "outputs": [
        {
          "name": "stdout",
          "output_type": "stream",
          "text": [
            "\n",
            "Intent Query: Give me the recipes of this burger\n",
            "Constraint: chesses\n"
          ]
        }
      ],
      "source": [
        "# @title\n",
        "if __name__ == \"__main__\":\n",
        "    user_input = user_data[\"text\"]\n",
        "    intent, constraint = separate_intent_and_constraint(user_input)\n",
        "\n",
        "    print(f\"\\nIntent Query: {intent}\")\n",
        "    print(f\"Constraint: {constraint}\")"
      ]
    },
    {
      "cell_type": "markdown",
      "metadata": {
        "id": "ixg9vFk7cOQA"
      },
      "source": [
        "## 3. Preprocess the datasets"
      ]
    },
    {
      "cell_type": "markdown",
      "metadata": {
        "id": "o-Dw8-r6ZUjz"
      },
      "source": [
        "### Merging data\n",
        "Currently, we merge datasets in a sqlite database by joining them on a food_name column. Then export to a json file."
      ]
    },
    {
      "cell_type": "code",
      "execution_count": null,
      "metadata": {
        "id": "0kg700iRcYax"
      },
      "outputs": [],
      "source": [
        "# create metadata and rich text from merged datasets\n",
        "\n",
        "def get_metadata_dict_list(json_database_path: Path) -> list[dict[str, list[str] | str]]:\n",
        "  if not os.path.exists(json_database_path):\n",
        "    raise FileNotFoundError(f\"File not found: {json_database_path}\")\n",
        "\n",
        "  with open(json_database_path, \"r\", encoding=\"utf-8\") as f:\n",
        "    metadata_dict_list = json.load(f)\n",
        "\n",
        "  def process_column(metadata_dict: dict[str,str]):\n",
        "    for key, value in metadata_dict.items():\n",
        "      if value is None:\n",
        "        metadata_dict[key] = \"missing\" # TODO: Come up with a better text to let llm know that they have to search if it encounters this text\n",
        "      elif key == ALLERGY:\n",
        "        metadata_dict[key] = value.split(\", \")\n",
        "      elif key == INGREDIENT_QUANTITIES:\n",
        "        try:\n",
        "          metadata_dict[key] = eval(value.replace(\"NA\", '\"missing\"'))\n",
        "        except:\n",
        "          metadata_dict[key] = \"missing\"\n",
        "      elif key in [INGREDIENT_PARTS, RECIPE_INSTRUCTION]:\n",
        "        try:\n",
        "          metadata_dict[key] = eval(value)\n",
        "        except:\n",
        "          metadata_dict[key] = \"missing\"\n",
        "    return metadata_dict\n",
        "\n",
        "  # to process the str list to list and fill the missing value for llm to search\n",
        "  metadata_dict_list = list(map(process_column, metadata_dict_list))\n",
        "\n",
        "  return metadata_dict_list\n",
        "\n",
        "def create_rich_text(metadata_dict_list: dict[str, list[str] | str]) -> list[str]:\n",
        "  rich_text_list = []\n",
        "\n",
        "  # construct rich text to store in the vector database\n",
        "  for metadata_dict in tqdm(metadata_dict_list):\n",
        "    if metadata_dict is None:\n",
        "      continue\n",
        "    rich_text_list.append(\n",
        "        f\"Recipe: {metadata_dict[NAME]}. Dish type: {metadata_dict[RECIPE_CATEGORY]}. Main ingredients: {', '.join(metadata_dict[INGREDIENT_PARTS])}, Serving: {metadata_dict[RECIPE_SERVING]} people. Review rating: {metadata_dict[RATING]}. Cook time: {metadata_dict[COOK_TIME]}. Preparation time: {metadata_dict[PREP_TIME]}. Nutrition - Calories: {metadata_dict[CALORIES]}, Fat: {metadata_dict[FAT]}, Sodium: {metadata_dict[SODIUM]}, Cholesterol: {metadata_dict[CHOLESTEROL]}, Sugar: {metadata_dict[SUGAR]}, Protein: {metadata_dict[PROTEIN]}.\"\n",
        "        )\n",
        "\n",
        "  return rich_text_list\n"
      ]
    },
    {
      "cell_type": "code",
      "execution_count": null,
      "metadata": {
        "id": "YWO0VHcPAcJO"
      },
      "outputs": [],
      "source": [
        "# save image and create image metadata\n",
        "def create_food_image_metadata_dict_list(path) -> list[str]:\n",
        "  food_image_metadata_dict_list = []\n",
        "  path_test = path + \"/meta/meta/test.txt\"\n",
        "  if os.path.exists(path_test):\n",
        "    with open(path_test, 'r') as file:\n",
        "        content = file.read()\n",
        "  # construct rich image to store in the vector database\n",
        "  for sub in tqdm(content.split('\\n')):\n",
        "    if sub is None:\n",
        "      continue\n",
        "    elif sub == \"\":\n",
        "      continue\n",
        "    path_image = path + '/images/' + sub + '.jpg'\n",
        "    if os.path.exists(path_image):\n",
        "      food_image_metadata_dict_list.append({\n",
        "          NAME: sub.split('/')[0],\n",
        "          FOOD_IMAGE_PATH: path_image\n",
        "      })\n",
        "    else:\n",
        "      print(sub)\n",
        "\n",
        "  return food_image_metadata_dict_list"
      ]
    },
    {
      "cell_type": "code",
      "execution_count": null,
      "metadata": {
        "cellView": "form",
        "colab": {
          "background_save": true
        },
        "id": "D1SYKCBbJ1oY"
      },
      "outputs": [],
      "source": [
        "# @title\n",
        "\n",
        "image_dataset_path = Path(\"/kaggle/input/food41/images\")\n",
        "\n",
        "def generate_metadata(image_dir: Path) -> list[dict]:\n",
        "    return [\n",
        "        {\n",
        "            \"image_path\": str(img),\n",
        "            \"dish_name\": label.name.replace('_', ' ').title(),\n",
        "            \"category\": label.name,\n",
        "            \"ingredients\": [],\n",
        "            \"recipe\": \"Recipe description...\",\n",
        "            \"cooking_time\": \"30 mins\",\n",
        "            \"nutrition\": {\"calories\": 250, \"fat\": 10, \"protein\": 8, \"sodium\": 300}\n",
        "        }\n",
        "        for label in sorted(image_dir.iterdir()) if label.is_dir()\n",
        "        for img in label.glob(\"*.jpg\")\n",
        "    ]\n",
        "\n",
        "def create_rich_image_list(metadata: list[dict]) -> list[dict]:\n",
        "    return [\n",
        "        {\n",
        "            \"image_path\": item[\"image_path\"],\n",
        "            \"rich_text\": (\n",
        "                f\"Dish Name: {item['dish_name']}. \"\n",
        "                f\"Ingredients: {', '.join(item['ingredients']) if item['ingredients'] else 'N/A'}. \"\n",
        "                f\"Cooking time: {item['cooking_time']}. \"\n",
        "                f\"Category: {item['category']}. \"\n",
        "                f\"Nutrition: Calories: {item['nutrition']['calories']} kcal, \"\n",
        "                f\"Fat: {item['nutrition']['fat']}g, \"\n",
        "                f\"Protein: {item['nutrition']['protein']}g, \"\n",
        "                f\"Sodium: {item['nutrition']['sodium']}mg.\"\n",
        "            )\n",
        "        }\n",
        "        for item in tqdm(metadata)\n",
        "    ]\n",
        "\n",
        "metadata_list = generate_metadata(image_dataset_path)\n",
        "rich_image_list = create_rich_image_list(metadata_list)\n",
        "\n",
        "for item in rich_image_list:\n",
        "    print(item)\n"
      ]
    },
    {
      "cell_type": "markdown",
      "metadata": {
        "id": "ywowfJq6Nmez"
      },
      "source": [
        "### Test create rich text and metadata"
      ]
    },
    {
      "cell_type": "code",
      "execution_count": null,
      "metadata": {
        "id": "hSVzWOzXNp-e"
      },
      "outputs": [],
      "source": [
        "main_metadata_dict_list = get_metadata_dict_list(FOOD_DATABASE_PATH)"
      ]
    },
    {
      "cell_type": "code",
      "execution_count": null,
      "metadata": {
        "colab": {
          "base_uri": "https://localhost:8080/"
        },
        "id": "hQEJUFh7G5Ui",
        "outputId": "4b511cc0-4a51-4fdd-c365-f8a3bb45dc53"
      },
      "outputs": [
        {
          "data": {
            "text/plain": [
              "[{'allergy': 'Nut Allergy', 'group': 'Oil seed', 'id': 185, 'name': 'Almond'},\n",
              " {'allergy': 'Oral Allergy Syndrome',\n",
              "  'group': 'Pome fruit',\n",
              "  'id': 186,\n",
              "  'name': 'Apple'},\n",
              " {'allergy': 'Stone Fruit Allergy',\n",
              "  'group': 'Stone fruit',\n",
              "  'id': 187,\n",
              "  'name': 'Apricot'},\n",
              " {'allergy': 'Insulin Allergy',\n",
              "  'group': 'Composite vegetable',\n",
              "  'id': 188,\n",
              "  'name': 'Artichoke'},\n",
              " {'allergy': 'Allium Allergy',\n",
              "  'group': 'Liliaceous vegetable',\n",
              "  'id': 189,\n",
              "  'name': 'Asparagus'},\n",
              " {'allergy': 'Oral Allergy Syndrome',\n",
              "  'group': 'Tropical fruit',\n",
              "  'id': 190,\n",
              "  'name': 'Avocado'},\n",
              " {'allergy': 'Histamine Allergy',\n",
              "  'group': 'Miscellaneous vegetable',\n",
              "  'id': 191,\n",
              "  'name': 'Bamboo shoot'},\n",
              " {'allergy': 'Banana Allergy',\n",
              "  'group': 'Tropical fruit',\n",
              "  'id': 192,\n",
              "  'name': 'Banana'},\n",
              " {'allergy': 'Gluten Allergy',\n",
              "  'group': 'Cereal grain',\n",
              "  'id': 193,\n",
              "  'name': 'Barley'},\n",
              " {'allergy': 'Legume Allergy', 'group': 'Pulse', 'id': 194, 'name': 'Bean'},\n",
              " {'allergy': 'Salicylate Allergy',\n",
              "  'group': 'Berry',\n",
              "  'id': 195,\n",
              "  'name': 'Blackberry'},\n",
              " {'allergy': 'Legume Allergy',\n",
              "  'group': 'Pulse',\n",
              "  'id': 196,\n",
              "  'name': 'Black-eyed bean'},\n",
              " {'allergy': 'Salicylate Allergy',\n",
              "  'group': 'Berry',\n",
              "  'id': 197,\n",
              "  'name': 'Blueberry'},\n",
              " {'allergy': 'Histamine Allergy',\n",
              "  'group': 'Fish',\n",
              "  'id': 198,\n",
              "  'name': 'Bonito'},\n",
              " {'allergy': 'Legume Allergy',\n",
              "  'group': 'Pulse',\n",
              "  'id': 199,\n",
              "  'name': 'Broad bean'},\n",
              " {'allergy': 'Broccoli allergy',\n",
              "  'group': 'Cruciferous vegetable',\n",
              "  'id': 200,\n",
              "  'name': 'Broccoli'},\n",
              " {'allergy': 'Cruciferous Allergy',\n",
              "  'group': 'Cruciferous vegetable',\n",
              "  'id': 201,\n",
              "  'name': 'Brussels sprouts'},\n",
              " {'allergy': 'Gluten Allergy',\n",
              "  'group': 'Cereal grain',\n",
              "  'id': 202,\n",
              "  'name': 'Buckwheat'},\n",
              " {'allergy': 'Ragweed Allergy',\n",
              "  'group': 'Composite vegetable',\n",
              "  'id': 203,\n",
              "  'name': 'Burdock'},\n",
              " {'allergy': 'Milk allergy / Lactose intolerance',\n",
              "  'group': 'Dairy',\n",
              "  'id': 204,\n",
              "  'name': 'Butter'},\n",
              " {'allergy': 'Legume Allergy',\n",
              "  'group': 'Pulse',\n",
              "  'id': 205,\n",
              "  'name': 'Butter bean'},\n",
              " {'allergy': 'Milk allergy / Lactose intolerance',\n",
              "  'group': 'Dairy',\n",
              "  'id': 206,\n",
              "  'name': 'Buttermilk'},\n",
              " {'allergy': 'Mushroom Allergy',\n",
              "  'group': 'Mushroom',\n",
              "  'id': 207,\n",
              "  'name': 'Button mushroom'},\n",
              " {'allergy': 'Cruciferous Allergy',\n",
              "  'group': 'Cruciferous vegetable',\n",
              "  'id': 208,\n",
              "  'name': 'Cabbage'},\n",
              " {'allergy': 'Cacao bean',\n",
              "  'group': 'Beverage seed',\n",
              "  'id': 209,\n",
              "  'name': 'Cacao bean'},\n",
              " {'allergy': 'Canola oil', 'group': 'Oil', 'id': 210, 'name': 'Canola oil'},\n",
              " {'allergy': 'Hypersensitivity',\n",
              "  'group': 'Umbelliferous vegetable',\n",
              "  'id': 211,\n",
              "  'name': 'Carrot'},\n",
              " {'allergy': 'Milk allergy / Lactose intolerance',\n",
              "  'group': 'Dairy',\n",
              "  'id': 212,\n",
              "  'name': 'Casein'},\n",
              " {'allergy': 'Alpha-gal Syndrome',\n",
              "  'group': 'Offal',\n",
              "  'id': 213,\n",
              "  'name': 'Cattle'},\n",
              " {'allergy': 'Cruciferous Allergy',\n",
              "  'group': 'Cruciferous vegetable',\n",
              "  'id': 214,\n",
              "  'name': 'Cauliflower'},\n",
              " {'allergy': 'Hypersensitivity',\n",
              "  'group': 'Umbelliferous vegetable',\n",
              "  'id': 215,\n",
              "  'name': 'Celery'},\n",
              " {'allergy': 'Milk allergy / Lactose intolerance',\n",
              "  'group': 'Dairy',\n",
              "  'id': 216,\n",
              "  'name': 'Cheese'},\n",
              " {'allergy': 'Stone Fruit Allergy',\n",
              "  'group': 'Stone fruit',\n",
              "  'id': 217,\n",
              "  'name': 'Cherry'},\n",
              " {'allergy': 'Nut Allergy',\n",
              "  'group': 'Oil seed',\n",
              "  'id': 218,\n",
              "  'name': 'Chestnut'},\n",
              " {'allergy': 'Poultry Allergy',\n",
              "  'group': 'Offal',\n",
              "  'id': 219,\n",
              "  'name': 'Chicken'},\n",
              " {'allergy': 'Insulin Allergy',\n",
              "  'group': 'Composite vegetable',\n",
              "  'id': 220,\n",
              "  'name': 'Chicory'},\n",
              " {'allergy': 'Cruciferous Allergy',\n",
              "  'group': 'Cruciferous vegetable',\n",
              "  'id': 221,\n",
              "  'name': 'Chinese cabbage'},\n",
              " {'allergy': 'Coconut oil', 'group': 'Oil', 'id': 222, 'name': 'Coconut oil'},\n",
              " {'allergy': 'Ochratoxin Allergy',\n",
              "  'group': 'Beverage seed',\n",
              "  'id': 223,\n",
              "  'name': 'Coffee bean'},\n",
              " {'allergy': 'Corn Allergy',\n",
              "  'group': 'Cereal grain',\n",
              "  'id': 224,\n",
              "  'name': 'Corn'},\n",
              " {'allergy': 'Corn oil', 'group': 'Oil', 'id': 225, 'name': 'Corn oil'},\n",
              " {'allergy': 'Seed Allergy',\n",
              "  'group': 'Oil seed',\n",
              "  'id': 226,\n",
              "  'name': 'Cotton seed'},\n",
              " {'allergy': 'Salicylate Allergy',\n",
              "  'group': 'Berry',\n",
              "  'id': 227,\n",
              "  'name': 'Cranberry'},\n",
              " {'allergy': 'Milk allergy / Lactose intolerance',\n",
              "  'group': 'Dairy',\n",
              "  'id': 228,\n",
              "  'name': 'Cream'},\n",
              " {'allergy': 'Shellfish Allergy',\n",
              "  'group': 'Shellfish',\n",
              "  'id': 229,\n",
              "  'name': 'Crustaceans'},\n",
              " {'allergy': 'Cucumber ',\n",
              "  'group': 'Cucurbitaceous vegetable',\n",
              "  'id': 230,\n",
              "  'name': 'Cucumber '},\n",
              " {'allergy': 'Milk allergy / Lactose intolerance',\n",
              "  'group': 'Dairy',\n",
              "  'id': 231,\n",
              "  'name': 'Custard'},\n",
              " {'allergy': 'Oral Allergy Syndrome',\n",
              "  'group': 'Tropical fruit',\n",
              "  'id': 232,\n",
              "  'name': 'Date'},\n",
              " {'allergy': 'Alpha-gal Syndrome',\n",
              "  'group': 'Offal',\n",
              "  'id': 233,\n",
              "  'name': 'Deer'},\n",
              " {'allergy': 'Poultry Allergy', 'group': 'Offal', 'id': 234, 'name': 'Duck'},\n",
              " {'allergy': 'Fish Allergy', 'group': 'Fish', 'id': 235, 'name': 'Eel'},\n",
              " {'allergy': 'Nightshade Allergy',\n",
              "  'group': 'Solanceous vegetable',\n",
              "  'id': 236,\n",
              "  'name': 'Egg plant'},\n",
              " {'allergy': 'Poultry Allergy', 'group': 'Egg', 'id': 237, 'name': 'Eggs'},\n",
              " {'allergy': 'Insulin Allergy',\n",
              "  'group': 'Composite vegetable',\n",
              "  'id': 238,\n",
              "  'name': 'Endive'},\n",
              " {'allergy': 'Sugar Allergy / Intolerance',\n",
              "  'group': 'Sugar source',\n",
              "  'id': 239,\n",
              "  'name': 'Fructose'},\n",
              " {'allergy': 'Allium Allergy',\n",
              "  'group': 'Liliaceous vegetable',\n",
              "  'id': 240,\n",
              "  'name': 'Garlic'},\n",
              " {'allergy': 'Ghrkin',\n",
              "  'group': 'Cucurbitaceous vegetable',\n",
              "  'id': 241,\n",
              "  'name': 'Ghrkin'},\n",
              " {'allergy': 'Histamine Allergy',\n",
              "  'group': 'Miscellaneous vegetable',\n",
              "  'id': 242,\n",
              "  'name': 'Ginger'},\n",
              " {'allergy': 'Nut Allergy',\n",
              "  'group': 'Oil seed',\n",
              "  'id': 243,\n",
              "  'name': 'Ginkgo nut'},\n",
              " {'allergy': 'Fish Allergy', 'group': 'Fish', 'id': 244, 'name': 'Globfish'},\n",
              " {'allergy': 'Sugar Allergy / Intolerance',\n",
              "  'group': 'Sugar source',\n",
              "  'id': 245,\n",
              "  'name': 'Glucose'},\n",
              " {'allergy': 'Alpha-gal Syndrome',\n",
              "  'group': 'Offal',\n",
              "  'id': 246,\n",
              "  'name': 'Goat'},\n",
              " {'allergy': 'LTP Allergy', 'group': 'Grape', 'id': 247, 'name': 'Grape'},\n",
              " {'allergy': 'Citrus Allergy',\n",
              "  'group': 'Citrus fruit / citric acid',\n",
              "  'id': 248,\n",
              "  'name': 'Grapefruit'},\n",
              " {'allergy': 'Grapeseed oil',\n",
              "  'group': 'Oil',\n",
              "  'id': 249,\n",
              "  'name': 'Grapeseed oil'},\n",
              " {'allergy': 'Legume Allergy',\n",
              "  'group': 'Legumes vegetable',\n",
              "  'id': 250,\n",
              "  'name': 'Green soybean'},\n",
              " {'allergy': 'Groundnut oil',\n",
              "  'group': 'Oil',\n",
              "  'id': 251,\n",
              "  'name': 'Groundnut oil'},\n",
              " {'allergy': 'Oral Allergy Syndrome',\n",
              "  'group': 'Tropical fruit',\n",
              "  'id': 252,\n",
              "  'name': 'Guava'},\n",
              " {'allergy': 'Honey Allergy',\n",
              "  'group': 'Bee product',\n",
              "  'id': 253,\n",
              "  'name': 'Honey'},\n",
              " {'allergy': 'Beer Allergy', 'group': 'Hop', 'id': 254, 'name': 'Hop'},\n",
              " {'allergy': 'Alpha-gal Syndrome',\n",
              "  'group': 'Offal',\n",
              "  'id': 255,\n",
              "  'name': 'Horse'},\n",
              " {'allergy': 'Fish Allergy',\n",
              "  'group': 'Fish',\n",
              "  'id': 256,\n",
              "  'name': 'Horse Mackerel'},\n",
              " {'allergy': 'Cruciferous Allergy',\n",
              "  'group': 'Cruciferous vegetable',\n",
              "  'id': 257,\n",
              "  'name': 'Horseradish'},\n",
              " {'allergy': 'Salicylate Allergy',\n",
              "  'group': 'Berry',\n",
              "  'id': 258,\n",
              "  'name': 'Huckleberry'},\n",
              " {'allergy': 'Milk allergy / Lactose intolerance',\n",
              "  'group': 'Dairy',\n",
              "  'id': 259,\n",
              "  'name': 'Ice cream'},\n",
              " {'allergy': 'Oral Allergy Syndrome',\n",
              "  'group': 'Pome fruit',\n",
              "  'id': 260,\n",
              "  'name': 'Japanese pear'},\n",
              " {'allergy': 'Japanese persimmon',\n",
              "  'group': 'Tropical fruit',\n",
              "  'id': 261,\n",
              "  'name': 'Japanese persimmon'},\n",
              " {'allergy': 'Stone Fruit Allergy',\n",
              "  'group': 'Stone fruit',\n",
              "  'id': 262,\n",
              "  'name': 'Japanese plum'},\n",
              " {'allergy': 'Cruciferous Allergy',\n",
              "  'group': 'Cruciferous vegetable',\n",
              "  'id': 263,\n",
              "  'name': 'Kale'},\n",
              " {'allergy': 'Legume Allergy',\n",
              "  'group': 'Legumes vegetable',\n",
              "  'id': 264,\n",
              "  'name': 'Kidney bean'},\n",
              " {'allergy': 'Oral Allergy Syndrome',\n",
              "  'group': 'Tropical fruit',\n",
              "  'id': 265,\n",
              "  'name': 'Kiwi'},\n",
              " {'allergy': 'Potato Allergy', 'group': 'Potato', 'id': 266, 'name': 'Konjac'},\n",
              " {'allergy': 'Cruciferous Allergy',\n",
              "  'group': 'Cruciferous vegetable',\n",
              "  'id': 267,\n",
              "  'name': 'Kyona'},\n",
              " {'allergy': 'Lactose Intolerance',\n",
              "  'group': 'Sugar source',\n",
              "  'id': 268,\n",
              "  'name': 'Lactose'},\n",
              " {'allergy': 'Allium Allergy',\n",
              "  'group': 'Liliaceous vegetable',\n",
              "  'id': 269,\n",
              "  'name': 'Leek'},\n",
              " {'allergy': 'Citrus Allergy',\n",
              "  'group': 'Citrus fruit / citric acid',\n",
              "  'id': 270,\n",
              "  'name': 'Lemon'},\n",
              " {'allergy': 'Legume Allergy', 'group': 'Pulse', 'id': 271, 'name': 'Lentil'},\n",
              " {'allergy': 'LTP Allergy',\n",
              "  'group': 'Composite vegetable',\n",
              "  'id': 272,\n",
              "  'name': 'Lettuce '},\n",
              " {'allergy': 'Legume Allergy',\n",
              "  'group': 'Pulse',\n",
              "  'id': 273,\n",
              "  'name': 'Lima bean'},\n",
              " {'allergy': 'Citrus Allergy',\n",
              "  'group': 'Citrus fruit / citric acid',\n",
              "  'id': 274,\n",
              "  'name': 'Lime'},\n",
              " {'allergy': 'Oral Allergy Syndrome',\n",
              "  'group': 'Pome fruit',\n",
              "  'id': 275,\n",
              "  'name': 'Loquat'},\n",
              " {'allergy': 'Fish Allergy', 'group': 'Fish', 'id': 276, 'name': 'Mackerel'},\n",
              " {'allergy': 'Makuwauri  melon',\n",
              "  'group': 'Cucurbitaceous vegetable',\n",
              "  'id': 277,\n",
              "  'name': 'Makuwauri  melon'},\n",
              " {'allergy': 'Oral Allergy Syndrome',\n",
              "  'group': 'Tropical fruit',\n",
              "  'id': 278,\n",
              "  'name': 'Mango'},\n",
              " {'allergy': 'Melons',\n",
              "  'group': 'Cucurbitaceous vegetable',\n",
              "  'id': 279,\n",
              "  'name': 'Melons'},\n",
              " {'allergy': 'Milk allergy / Lactose intolerance',\n",
              "  'group': 'Dairy',\n",
              "  'id': 280,\n",
              "  'name': 'Milk'},\n",
              " {'allergy': 'Aquagenic Urticaria',\n",
              "  'group': 'Mineral water',\n",
              "  'id': 281,\n",
              "  'name': 'Mineral water'},\n",
              " {'allergy': 'Hypersensitivity',\n",
              "  'group': 'Umbelliferous vegetable',\n",
              "  'id': 282,\n",
              "  'name': 'Mitsuba'},\n",
              " {'allergy': 'Stone Fruit Allergy',\n",
              "  'group': 'Stone fruit',\n",
              "  'id': 283,\n",
              "  'name': 'Mume plum'},\n",
              " {'allergy': 'Mustard oil', 'group': 'Oil', 'id': 284, 'name': 'Mustard oil'},\n",
              " {'allergy': 'Cruciferous Allergy',\n",
              "  'group': 'Cruciferous vegetable',\n",
              "  'id': 285,\n",
              "  'name': 'Mustard Spinach'},\n",
              " {'allergy': 'Stone Fruit Allergy',\n",
              "  'group': 'Stone fruit',\n",
              "  'id': 286,\n",
              "  'name': 'Nectarine'},\n",
              " {'allergy': 'Allium Allergy',\n",
              "  'group': 'Liliaceous vegetable',\n",
              "  'id': 287,\n",
              "  'name': 'Nira'},\n",
              " {'allergy': 'Histamine Allergy',\n",
              "  'group': 'Miscellaneous vegetable',\n",
              "  'id': 288,\n",
              "  'name': 'Okra'},\n",
              " {'allergy': 'Olive oil', 'group': 'Oil', 'id': 289, 'name': 'Olive oil'},\n",
              " {'allergy': 'Allium Allergy',\n",
              "  'group': 'Liliaceous vegetable',\n",
              "  'id': 290,\n",
              "  'name': 'Onion'},\n",
              " {'allergy': 'Citrus Allergy',\n",
              "  'group': 'Citrus fruit / citric acid',\n",
              "  'id': 291,\n",
              "  'name': 'Orange'},\n",
              " {'allergy': 'Citrus Allergy',\n",
              "  'group': 'Citrus fruit / citric acid',\n",
              "  'id': 292,\n",
              "  'name': 'Orange pulp'},\n",
              " {'allergy': 'Oral Allergy Syndrome',\n",
              "  'group': 'Tropical fruit',\n",
              "  'id': 293,\n",
              "  'name': 'Papaya'},\n",
              " {'allergy': 'Hypersensitivity',\n",
              "  'group': 'Umbelliferous vegetable',\n",
              "  'id': 294,\n",
              "  'name': 'Parsley'},\n",
              " {'allergy': 'Hypersensitivity',\n",
              "  'group': 'Umbelliferous vegetable',\n",
              "  'id': 295,\n",
              "  'name': 'Parsnip'},\n",
              " {'allergy': 'Oral Allergy Syndrome',\n",
              "  'group': 'Tropical fruit',\n",
              "  'id': 296,\n",
              "  'name': 'Passion fruit'},\n",
              " {'allergy': 'Stone Fruit Allergy',\n",
              "  'group': 'Stone fruit',\n",
              "  'id': 297,\n",
              "  'name': 'Peach'},\n",
              " {'allergy': 'Peanut Allergy', 'group': 'Pulse', 'id': 298, 'name': 'Peanut'},\n",
              " {'allergy': 'Oral Allergy Syndrome',\n",
              "  'group': 'Pome fruit',\n",
              "  'id': 299,\n",
              "  'name': 'Pear'},\n",
              " {'allergy': 'Legume Allergy',\n",
              "  'group': 'Legumes vegetable',\n",
              "  'id': 300,\n",
              "  'name': 'Peas'},\n",
              " {'allergy': 'Legume Allergy', 'group': 'Pulse', 'id': 301, 'name': 'Peas'},\n",
              " {'allergy': 'Nut Allergy', 'group': 'Oil seed', 'id': 302, 'name': 'Pecan'},\n",
              " {'allergy': 'Legume Allergy', 'group': 'Pulse', 'id': 303, 'name': 'Pegia'},\n",
              " {'allergy': 'Mint Allergy', 'group': 'Herb', 'id': 304, 'name': 'Peppermint'},\n",
              " {'allergy': 'Fish Allergy', 'group': 'Fish', 'id': 305, 'name': 'Percifomes'},\n",
              " {'allergy': 'Alpha-gal Syndrome', 'group': 'Offal', 'id': 306, 'name': 'Pig'},\n",
              " {'allergy': 'Oral Allergy Syndrome',\n",
              "  'group': 'Tropical fruit',\n",
              "  'id': 307,\n",
              "  'name': 'Pineapple'},\n",
              " {'allergy': 'Corn Allergy',\n",
              "  'group': 'Cereal grain',\n",
              "  'id': 308,\n",
              "  'name': 'Popcorn'},\n",
              " {'allergy': 'Potato Allergy', 'group': 'Potato', 'id': 309, 'name': 'Potato'},\n",
              " {'allergy': 'Stone Fruit Allergy',\n",
              "  'group': 'Stone fruit',\n",
              "  'id': 310,\n",
              "  'name': 'Prune'},\n",
              " {'allergy': 'Pumpkin',\n",
              "  'group': 'Cucurbitaceous vegetable',\n",
              "  'id': 311,\n",
              "  'name': 'Pumpkin'},\n",
              " {'allergy': 'Cruciferous Allergy',\n",
              "  'group': 'Cruciferous vegetable',\n",
              "  'id': 312,\n",
              "  'name': 'Qing-geng-cai'},\n",
              " {'allergy': 'Oral Allergy Syndrome',\n",
              "  'group': 'Pome fruit',\n",
              "  'id': 313,\n",
              "  'name': 'Quince'},\n",
              " {'allergy': 'Radish leaf',\n",
              "  'group': 'Cruciferous vegetable',\n",
              "  'id': 314,\n",
              "  'name': 'Radish leaf'},\n",
              " {'allergy': 'Hypersensitivity',\n",
              "  'group': 'Cruciferous vegetable',\n",
              "  'id': 315,\n",
              "  'name': 'Radish root'},\n",
              " {'allergy': 'Seed Allergy',\n",
              "  'group': 'Oil seed',\n",
              "  'id': 316,\n",
              "  'name': 'Rapeseed'},\n",
              " {'allergy': 'Salicylate Allergy',\n",
              "  'group': 'Berry',\n",
              "  'id': 317,\n",
              "  'name': 'Raspberry'},\n",
              " {'allergy': 'Rice Allergy',\n",
              "  'group': 'Cereal grain',\n",
              "  'id': 318,\n",
              "  'name': 'Rice'},\n",
              " {'allergy': 'Ricebran oil',\n",
              "  'group': 'Oil',\n",
              "  'id': 319,\n",
              "  'name': 'Ricebran oil'},\n",
              " {'allergy': 'Honey Allergy',\n",
              "  'group': 'Bee product',\n",
              "  'id': 320,\n",
              "  'name': 'Royal Jelly'},\n",
              " {'allergy': 'Gluten Allergy',\n",
              "  'group': 'Cereal grain',\n",
              "  'id': 321,\n",
              "  'name': 'Rye'},\n",
              " {'allergy': 'Seed Allergy',\n",
              "  'group': 'Oil seed',\n",
              "  'id': 322,\n",
              "  'name': 'Safflower seed'},\n",
              " {'allergy': 'Fish Allergy', 'group': 'Fish', 'id': 323, 'name': 'Salmon'},\n",
              " {'allergy': 'Insulin Allergy',\n",
              "  'group': 'Composite vegetable',\n",
              "  'id': 324,\n",
              "  'name': 'Salsify'},\n",
              " {'allergy': 'Pepper Allergy', 'group': 'Spice', 'id': 325, 'name': 'Sansho'},\n",
              " {'allergy': 'Fish Allergy', 'group': 'Fish', 'id': 326, 'name': 'Sea Bass'},\n",
              " {'allergy': 'Fish Allergy', 'group': 'Fish', 'id': 327, 'name': 'Sea Bream'},\n",
              " {'allergy': 'Seed Allergy',\n",
              "  'group': 'Oil seed',\n",
              "  'id': 328,\n",
              "  'name': 'Sesame seed'},\n",
              " {'allergy': 'Allium Allergy',\n",
              "  'group': 'Liliaceous vegetable',\n",
              "  'id': 329,\n",
              "  'name': 'Shallot'},\n",
              " {'allergy': 'Alpha-gal Syndrome',\n",
              "  'group': 'Offal',\n",
              "  'id': 330,\n",
              "  'name': 'Sheep'},\n",
              " {'allergy': 'Fish Allergy',\n",
              "  'group': 'Shellfish',\n",
              "  'id': 331,\n",
              "  'name': 'Shelled mollusc'},\n",
              " {'allergy': 'Mushroom Allergy',\n",
              "  'group': 'Mushroom',\n",
              "  'id': 332,\n",
              "  'name': 'Shiitake  mushroom'},\n",
              " {'allergy': 'Insulin Allergy',\n",
              "  'group': 'Composite vegetable',\n",
              "  'id': 333,\n",
              "  'name': 'Shungiku'},\n",
              " {'allergy': 'Milk allergy / Lactose intolerance',\n",
              "  'group': 'Dairy',\n",
              "  'id': 334,\n",
              "  'name': 'Sour cream'},\n",
              " {'allergy': 'Soy Allergy', 'group': 'Pulse', 'id': 335, 'name': 'Soybean'},\n",
              " {'allergy': 'Mint Allergy', 'group': 'Herb', 'id': 336, 'name': 'Spearmint'},\n",
              " {'allergy': 'Histamine Allergy',\n",
              "  'group': 'Miscellaneous vegetable',\n",
              "  'id': 337,\n",
              "  'name': 'Spinach'},\n",
              " {'allergy': 'Squash',\n",
              "  'group': 'Cucurbitaceous vegetable',\n",
              "  'id': 338,\n",
              "  'name': 'Squash'},\n",
              " {'allergy': 'Salicylate Allergy',\n",
              "  'group': 'Berry',\n",
              "  'id': 339,\n",
              "  'name': 'Strawberry'},\n",
              " {'allergy': 'Sugar Allergy / Intolerance',\n",
              "  'group': 'Sugar source',\n",
              "  'id': 340,\n",
              "  'name': 'Sugar'},\n",
              " {'allergy': 'Sugar Allergy / Intolerance',\n",
              "  'group': 'Sugar source',\n",
              "  'id': 341,\n",
              "  'name': 'Sugar beet'},\n",
              " {'allergy': 'Sugar Allergy / Intolerance',\n",
              "  'group': 'Sugar source',\n",
              "  'id': 342,\n",
              "  'name': 'Sugarcane'},\n",
              " {'allergy': 'Legume Allergy', 'group': 'Pulse', 'id': 343, 'name': 'Sultani'},\n",
              " {'allergy': 'Legume Allergy',\n",
              "  'group': 'Pulse',\n",
              "  'id': 344,\n",
              "  'name': 'Sultapya'},\n",
              " {'allergy': 'Sunflower oil',\n",
              "  'group': 'Oil',\n",
              "  'id': 345,\n",
              "  'name': 'Sunflower oil'},\n",
              " {'allergy': 'Seed Allergy',\n",
              "  'group': 'Oil seed',\n",
              "  'id': 346,\n",
              "  'name': 'Sunflower seed'},\n",
              " {'allergy': 'Corn Allergy',\n",
              "  'group': 'Cereal grain',\n",
              "  'id': 347,\n",
              "  'name': 'Sweet corn'},\n",
              " {'allergy': 'Nightshade Allergy',\n",
              "  'group': 'Solanceous vegetable',\n",
              "  'id': 348,\n",
              "  'name': 'Sweet Pepper'},\n",
              " {'allergy': 'Potato Allergy',\n",
              "  'group': 'Potato',\n",
              "  'id': 349,\n",
              "  'name': 'Sweet potato'},\n",
              " {'allergy': 'Potato Allergy', 'group': 'Potato', 'id': 350, 'name': 'Taro'},\n",
              " {'allergy': 'Tannin Allergy', 'group': 'Tea', 'id': 351, 'name': 'Tea'},\n",
              " {'allergy': 'Fish Allergy',\n",
              "  'group': 'Fish',\n",
              "  'id': 352,\n",
              "  'name': 'Tetraodontiformes'},\n",
              " {'allergy': 'Nightshade Allergy',\n",
              "  'group': 'Solanceous vegetable',\n",
              "  'id': 353,\n",
              "  'name': 'Tomato'},\n",
              " {'allergy': 'Fish Allergy', 'group': 'Fish', 'id': 354, 'name': 'Trout'},\n",
              " {'allergy': 'Fish Allergy', 'group': 'Fish', 'id': 355, 'name': 'Tuna'},\n",
              " {'allergy': 'Poultry Allergy', 'group': 'Offal', 'id': 356, 'name': 'Turkey'},\n",
              " {'allergy': 'Turnip leaf',\n",
              "  'group': 'Cruciferous vegetable',\n",
              "  'id': 357,\n",
              "  'name': 'Turnip leaf'},\n",
              " {'allergy': 'Thyroid',\n",
              "  'group': 'Cruciferous vegetable',\n",
              "  'id': 358,\n",
              "  'name': 'Turnip root'},\n",
              " {'allergy': 'Vegetable oil',\n",
              "  'group': 'Oil',\n",
              "  'id': 359,\n",
              "  'name': 'Vegetable oil'},\n",
              " {'allergy': 'Nut Allergy', 'group': 'Oil seed', 'id': 360, 'name': 'Walnut'},\n",
              " {'allergy': 'Water melon',\n",
              "  'group': 'Cucurbitaceous vegetable',\n",
              "  'id': 361,\n",
              "  'name': 'Water melon'},\n",
              " {'allergy': 'Watercress',\n",
              "  'group': 'Cruciferous vegetable',\n",
              "  'id': 362,\n",
              "  'name': 'Watercress'},\n",
              " {'allergy': 'Allium Allergy',\n",
              "  'group': 'Liliaceous vegetable',\n",
              "  'id': 363,\n",
              "  'name': 'Welsh'},\n",
              " {'allergy': 'Gluten Allergy',\n",
              "  'group': 'Cereal grain',\n",
              "  'id': 364,\n",
              "  'name': 'Wheat'},\n",
              " {'allergy': 'Milk allergy / Lactose intolerance',\n",
              "  'group': 'Dairy',\n",
              "  'id': 365,\n",
              "  'name': 'Whey'},\n",
              " {'allergy': 'Legume Allergy',\n",
              "  'group': 'Pulse',\n",
              "  'id': 366,\n",
              "  'name': 'White bean'},\n",
              " {'allergy': 'Potato Allergy', 'group': 'Potato', 'id': 367, 'name': 'Yam'},\n",
              " {'allergy': 'Milk allergy / Lactose intolerance',\n",
              "  'group': 'Dairy',\n",
              "  'id': 368,\n",
              "  'name': 'Yogurt '}]"
            ]
          },
          "execution_count": 6,
          "metadata": {},
          "output_type": "execute_result"
        }
      ],
      "source": [
        "with open(NLP_DATABASE / \"food_allergens.json\", \"r\", encoding=\"utf-8\") as f:\n",
        "    food_allergen_table = json.load(f)\n",
        "\n",
        "food_allergen_table"
      ]
    },
    {
      "cell_type": "code",
      "execution_count": null,
      "metadata": {
        "colab": {
          "base_uri": "https://localhost:8080/"
        },
        "id": "8waRcHtLQVL6",
        "outputId": "5ea1c93f-b291-420f-cff1-e612c79c584e"
      },
      "outputs": [
        {
          "data": {
            "text/plain": [
              "['Nut Allergy',\n",
              " 'Oral Allergy Syndrome',\n",
              " 'Stone Fruit Allergy',\n",
              " 'Insulin Allergy',\n",
              " 'Allium Allergy',\n",
              " 'Oral Allergy Syndrome',\n",
              " 'Histamine Allergy',\n",
              " 'Banana Allergy',\n",
              " 'Gluten Allergy',\n",
              " 'Legume Allergy',\n",
              " 'Salicylate Allergy',\n",
              " 'Legume Allergy',\n",
              " 'Salicylate Allergy',\n",
              " 'Histamine Allergy',\n",
              " 'Legume Allergy',\n",
              " 'Broccoli allergy',\n",
              " 'Cruciferous Allergy',\n",
              " 'Gluten Allergy',\n",
              " 'Ragweed Allergy',\n",
              " 'Milk allergy / Lactose intolerance',\n",
              " 'Legume Allergy',\n",
              " 'Milk allergy / Lactose intolerance',\n",
              " 'Mushroom Allergy',\n",
              " 'Cruciferous Allergy',\n",
              " 'Cacao bean',\n",
              " 'Canola oil',\n",
              " 'Hypersensitivity',\n",
              " 'Milk allergy / Lactose intolerance',\n",
              " 'Alpha-gal Syndrome',\n",
              " 'Cruciferous Allergy',\n",
              " 'Hypersensitivity',\n",
              " 'Milk allergy / Lactose intolerance',\n",
              " 'Stone Fruit Allergy',\n",
              " 'Nut Allergy',\n",
              " 'Poultry Allergy',\n",
              " 'Insulin Allergy',\n",
              " 'Cruciferous Allergy',\n",
              " 'Coconut oil',\n",
              " 'Ochratoxin Allergy',\n",
              " 'Corn Allergy',\n",
              " 'Corn oil',\n",
              " 'Seed Allergy',\n",
              " 'Salicylate Allergy',\n",
              " 'Milk allergy / Lactose intolerance',\n",
              " 'Shellfish Allergy',\n",
              " 'Cucumber',\n",
              " 'Milk allergy / Lactose intolerance',\n",
              " 'Oral Allergy Syndrome',\n",
              " 'Alpha-gal Syndrome',\n",
              " 'Poultry Allergy',\n",
              " 'Fish Allergy',\n",
              " 'Nightshade Allergy',\n",
              " 'Poultry Allergy',\n",
              " 'Insulin Allergy',\n",
              " 'Sugar Allergy / Intolerance',\n",
              " 'Allium Allergy',\n",
              " 'Ghrkin',\n",
              " 'Histamine Allergy',\n",
              " 'Nut Allergy',\n",
              " 'Fish Allergy',\n",
              " 'Sugar Allergy / Intolerance',\n",
              " 'Alpha-gal Syndrome',\n",
              " 'LTP Allergy',\n",
              " 'Citrus Allergy',\n",
              " 'Grapeseed oil',\n",
              " 'Legume Allergy',\n",
              " 'Groundnut oil',\n",
              " 'Oral Allergy Syndrome',\n",
              " 'Honey Allergy',\n",
              " 'Beer Allergy',\n",
              " 'Alpha-gal Syndrome',\n",
              " 'Fish Allergy',\n",
              " 'Cruciferous Allergy',\n",
              " 'Salicylate Allergy',\n",
              " 'Milk allergy / Lactose intolerance',\n",
              " 'Oral Allergy Syndrome',\n",
              " 'Japanese persimmon',\n",
              " 'Stone Fruit Allergy',\n",
              " 'Cruciferous Allergy',\n",
              " 'Legume Allergy',\n",
              " 'Oral Allergy Syndrome',\n",
              " 'Potato Allergy',\n",
              " 'Cruciferous Allergy',\n",
              " 'Lactose Intolerance',\n",
              " 'Allium Allergy',\n",
              " 'Citrus Allergy',\n",
              " 'Legume Allergy',\n",
              " 'LTP Allergy',\n",
              " 'Legume Allergy',\n",
              " 'Citrus Allergy',\n",
              " 'Oral Allergy Syndrome',\n",
              " 'Fish Allergy',\n",
              " 'Makuwauri  melon',\n",
              " 'Oral Allergy Syndrome',\n",
              " 'Melons',\n",
              " 'Milk allergy / Lactose intolerance',\n",
              " 'Aquagenic Urticaria',\n",
              " 'Hypersensitivity',\n",
              " 'Stone Fruit Allergy',\n",
              " 'Mustard oil',\n",
              " 'Cruciferous Allergy',\n",
              " 'Stone Fruit Allergy',\n",
              " 'Allium Allergy',\n",
              " 'Histamine Allergy',\n",
              " 'Olive oil',\n",
              " 'Allium Allergy',\n",
              " 'Citrus Allergy',\n",
              " 'Citrus Allergy',\n",
              " 'Oral Allergy Syndrome',\n",
              " 'Hypersensitivity',\n",
              " 'Hypersensitivity',\n",
              " 'Oral Allergy Syndrome',\n",
              " 'Stone Fruit Allergy',\n",
              " 'Peanut Allergy',\n",
              " 'Oral Allergy Syndrome',\n",
              " 'Legume Allergy',\n",
              " 'Legume Allergy',\n",
              " 'Nut Allergy',\n",
              " 'Legume Allergy',\n",
              " 'Mint Allergy',\n",
              " 'Fish Allergy',\n",
              " 'Alpha-gal Syndrome',\n",
              " 'Oral Allergy Syndrome',\n",
              " 'Corn Allergy',\n",
              " 'Potato Allergy',\n",
              " 'Stone Fruit Allergy',\n",
              " 'Pumpkin',\n",
              " 'Cruciferous Allergy',\n",
              " 'Oral Allergy Syndrome',\n",
              " 'Radish leaf',\n",
              " 'Hypersensitivity',\n",
              " 'Seed Allergy',\n",
              " 'Salicylate Allergy',\n",
              " 'Rice Allergy',\n",
              " 'Ricebran oil',\n",
              " 'Honey Allergy',\n",
              " 'Gluten Allergy',\n",
              " 'Seed Allergy',\n",
              " 'Fish Allergy',\n",
              " 'Insulin Allergy',\n",
              " 'Pepper Allergy',\n",
              " 'Fish Allergy',\n",
              " 'Fish Allergy',\n",
              " 'Seed Allergy',\n",
              " 'Allium Allergy',\n",
              " 'Alpha-gal Syndrome',\n",
              " 'Fish Allergy',\n",
              " 'Mushroom Allergy',\n",
              " 'Insulin Allergy',\n",
              " 'Milk allergy / Lactose intolerance',\n",
              " 'Soy Allergy',\n",
              " 'Mint Allergy',\n",
              " 'Histamine Allergy',\n",
              " 'Squash',\n",
              " 'Salicylate Allergy',\n",
              " 'Sugar Allergy / Intolerance',\n",
              " 'Sugar Allergy / Intolerance',\n",
              " 'Sugar Allergy / Intolerance',\n",
              " 'Legume Allergy',\n",
              " 'Legume Allergy',\n",
              " 'Sunflower oil',\n",
              " 'Seed Allergy',\n",
              " 'Corn Allergy',\n",
              " 'Nightshade Allergy',\n",
              " 'Potato Allergy',\n",
              " 'Potato Allergy',\n",
              " 'Tannin Allergy',\n",
              " 'Fish Allergy',\n",
              " 'Nightshade Allergy',\n",
              " 'Fish Allergy',\n",
              " 'Fish Allergy',\n",
              " 'Poultry Allergy',\n",
              " 'Turnip leaf',\n",
              " 'Thyroid',\n",
              " 'Vegetable oil',\n",
              " 'Nut Allergy',\n",
              " 'Water melon',\n",
              " 'Watercress',\n",
              " 'Allium Allergy',\n",
              " 'Gluten Allergy',\n",
              " 'Milk allergy / Lactose intolerance',\n",
              " 'Legume Allergy',\n",
              " 'Potato Allergy',\n",
              " 'Milk allergy / Lactose intolerance',\n",
              " 'Almond',\n",
              " 'Apple',\n",
              " 'Apricot',\n",
              " 'Artichoke',\n",
              " 'Asparagus',\n",
              " 'Avocado',\n",
              " 'Bamboo shoot',\n",
              " 'Banana',\n",
              " 'Barley',\n",
              " 'Bean',\n",
              " 'Blackberry',\n",
              " 'Black-eyed bean',\n",
              " 'Blueberry',\n",
              " 'Bonito',\n",
              " 'Broad bean',\n",
              " 'Broccoli',\n",
              " 'Brussels sprouts',\n",
              " 'Buckwheat',\n",
              " 'Burdock',\n",
              " 'Butter',\n",
              " 'Butter bean',\n",
              " 'Buttermilk',\n",
              " 'Button mushroom',\n",
              " 'Cabbage',\n",
              " 'Cacao bean',\n",
              " 'Canola oil',\n",
              " 'Carrot',\n",
              " 'Casein',\n",
              " 'Cattle',\n",
              " 'Cauliflower',\n",
              " 'Celery',\n",
              " 'Cheese',\n",
              " 'Cherry',\n",
              " 'Chestnut',\n",
              " 'Chicken',\n",
              " 'Chicory',\n",
              " 'Chinese cabbage',\n",
              " 'Coconut oil',\n",
              " 'Coffee bean',\n",
              " 'Corn',\n",
              " 'Corn oil',\n",
              " 'Cotton seed',\n",
              " 'Cranberry',\n",
              " 'Cream',\n",
              " 'Crustaceans',\n",
              " 'Cucumber',\n",
              " 'Custard',\n",
              " 'Date',\n",
              " 'Deer',\n",
              " 'Duck',\n",
              " 'Eel',\n",
              " 'Egg plant',\n",
              " 'Eggs',\n",
              " 'Endive',\n",
              " 'Fructose',\n",
              " 'Garlic',\n",
              " 'Ghrkin',\n",
              " 'Ginger',\n",
              " 'Ginkgo nut',\n",
              " 'Globfish',\n",
              " 'Glucose',\n",
              " 'Goat',\n",
              " 'Grape',\n",
              " 'Grapefruit',\n",
              " 'Grapeseed oil',\n",
              " 'Green soybean',\n",
              " 'Groundnut oil',\n",
              " 'Guava',\n",
              " 'Honey',\n",
              " 'Hop',\n",
              " 'Horse',\n",
              " 'Horse Mackerel',\n",
              " 'Horseradish',\n",
              " 'Huckleberry',\n",
              " 'Ice cream',\n",
              " 'Japanese pear',\n",
              " 'Japanese persimmon',\n",
              " 'Japanese plum',\n",
              " 'Kale',\n",
              " 'Kidney bean',\n",
              " 'Kiwi',\n",
              " 'Konjac',\n",
              " 'Kyona',\n",
              " 'Lactose',\n",
              " 'Leek',\n",
              " 'Lemon',\n",
              " 'Lentil',\n",
              " 'Lettuce',\n",
              " 'Lima bean',\n",
              " 'Lime',\n",
              " 'Loquat',\n",
              " 'Mackerel',\n",
              " 'Makuwauri  melon',\n",
              " 'Mango',\n",
              " 'Melons',\n",
              " 'Milk',\n",
              " 'Mineral water',\n",
              " 'Mitsuba',\n",
              " 'Mume plum',\n",
              " 'Mustard oil',\n",
              " 'Mustard Spinach',\n",
              " 'Nectarine',\n",
              " 'Nira',\n",
              " 'Okra',\n",
              " 'Olive oil',\n",
              " 'Onion',\n",
              " 'Orange',\n",
              " 'Orange pulp',\n",
              " 'Papaya',\n",
              " 'Parsley',\n",
              " 'Parsnip',\n",
              " 'Passion fruit',\n",
              " 'Peach',\n",
              " 'Peanut',\n",
              " 'Pear',\n",
              " 'Peas',\n",
              " 'Peas',\n",
              " 'Pecan',\n",
              " 'Pegia',\n",
              " 'Peppermint',\n",
              " 'Percifomes',\n",
              " 'Pig',\n",
              " 'Pineapple',\n",
              " 'Popcorn',\n",
              " 'Potato',\n",
              " 'Prune',\n",
              " 'Pumpkin',\n",
              " 'Qing-geng-cai',\n",
              " 'Quince',\n",
              " 'Radish leaf',\n",
              " 'Radish root',\n",
              " 'Rapeseed',\n",
              " 'Raspberry',\n",
              " 'Rice',\n",
              " 'Ricebran oil',\n",
              " 'Royal Jelly',\n",
              " 'Rye',\n",
              " 'Safflower seed',\n",
              " 'Salmon',\n",
              " 'Salsify',\n",
              " 'Sansho',\n",
              " 'Sea Bass',\n",
              " 'Sea Bream',\n",
              " 'Sesame seed',\n",
              " 'Shallot',\n",
              " 'Sheep',\n",
              " 'Shelled mollusc',\n",
              " 'Shiitake  mushroom',\n",
              " 'Shungiku',\n",
              " 'Sour cream',\n",
              " 'Soybean',\n",
              " 'Spearmint',\n",
              " 'Spinach',\n",
              " 'Squash',\n",
              " 'Strawberry',\n",
              " 'Sugar',\n",
              " 'Sugar beet',\n",
              " 'Sugarcane',\n",
              " 'Sultani',\n",
              " 'Sultapya',\n",
              " 'Sunflower oil',\n",
              " 'Sunflower seed',\n",
              " 'Sweet corn',\n",
              " 'Sweet Pepper',\n",
              " 'Sweet potato',\n",
              " 'Taro',\n",
              " 'Tea',\n",
              " 'Tetraodontiformes',\n",
              " 'Tomato',\n",
              " 'Trout',\n",
              " 'Tuna',\n",
              " 'Turkey',\n",
              " 'Turnip leaf',\n",
              " 'Turnip root',\n",
              " 'Vegetable oil',\n",
              " 'Walnut',\n",
              " 'Water melon',\n",
              " 'Watercress',\n",
              " 'Welsh',\n",
              " 'Wheat',\n",
              " 'Whey',\n",
              " 'White bean',\n",
              " 'Yam',\n",
              " 'Yogurt']"
            ]
          },
          "execution_count": 10,
          "metadata": {},
          "output_type": "execute_result"
        }
      ],
      "source": [
        "food_allergy_list = [metadata[\"allergy\"].strip() for metadata in food_allergen_table] + [metadata[\"name\"].strip() for metadata in food_allergen_table]\n",
        "food_allergy_list"
      ]
    },
    {
      "cell_type": "code",
      "execution_count": null,
      "metadata": {
        "colab": {
          "base_uri": "https://localhost:8080/"
        },
        "id": "rD3acJioQ6l5",
        "outputId": "a21be598-4631-4910-bbc4-99fd4e1aa526"
      },
      "outputs": [
        {
          "name": "stdout",
          "output_type": "stream",
          "text": [
            "222\n"
          ]
        },
        {
          "data": {
            "text/plain": [
              "['Sugar beet',\n",
              " 'Welsh',\n",
              " 'Kyona',\n",
              " 'Percifomes',\n",
              " 'Thyroid',\n",
              " 'Burdock',\n",
              " 'Canola oil',\n",
              " 'Makuwauri  melon',\n",
              " 'Mineral water',\n",
              " 'Watercress',\n",
              " 'Grapefruit',\n",
              " 'Rice',\n",
              " 'Lemon',\n",
              " 'Chinese cabbage',\n",
              " 'Eel',\n",
              " 'Grape',\n",
              " 'Sweet potato',\n",
              " 'Hypersensitivity',\n",
              " 'Deer',\n",
              " 'Mango',\n",
              " 'Bonito',\n",
              " 'Cabbage',\n",
              " 'Legume Allergy',\n",
              " 'Mitsuba',\n",
              " 'Endive',\n",
              " 'Soy Allergy',\n",
              " 'Peanut Allergy',\n",
              " 'Cacao bean',\n",
              " 'Bamboo shoot',\n",
              " 'Buttermilk',\n",
              " 'Glucose',\n",
              " 'Sour cream',\n",
              " 'Yam',\n",
              " 'Peppermint',\n",
              " 'Ice cream',\n",
              " 'Apricot',\n",
              " 'Pear',\n",
              " 'Kidney bean',\n",
              " 'Insulin Allergy',\n",
              " 'Sheep',\n",
              " 'Goat',\n",
              " 'Butter',\n",
              " 'Horse Mackerel',\n",
              " 'Walnut',\n",
              " 'Soybean',\n",
              " 'Tea',\n",
              " 'Spearmint',\n",
              " 'Cream',\n",
              " 'Horseradish',\n",
              " 'Chestnut',\n",
              " 'Blackberry',\n",
              " 'Sea Bream',\n",
              " 'Asparagus',\n",
              " 'Duck',\n",
              " 'Salsify',\n",
              " 'Radish root',\n",
              " 'Bean',\n",
              " 'Pecan',\n",
              " 'Orange',\n",
              " 'Hop',\n",
              " 'Japanese plum',\n",
              " 'Allium Allergy',\n",
              " 'Lentil',\n",
              " 'Nira',\n",
              " 'Gluten Allergy',\n",
              " 'Garlic',\n",
              " 'Peas',\n",
              " 'Passion fruit',\n",
              " 'Sweet Pepper',\n",
              " 'Strawberry',\n",
              " 'Histamine Allergy',\n",
              " 'Apple',\n",
              " 'Pumpkin',\n",
              " 'White bean',\n",
              " 'Date',\n",
              " 'Coffee bean',\n",
              " 'Sugarcane',\n",
              " 'Melons',\n",
              " 'Shellfish Allergy',\n",
              " 'Crustaceans',\n",
              " 'Spinach',\n",
              " 'Cotton seed',\n",
              " 'Whey',\n",
              " 'Celery',\n",
              " 'Green soybean',\n",
              " 'Ragweed Allergy',\n",
              " 'Radish leaf',\n",
              " 'Broccoli',\n",
              " 'Lactose',\n",
              " 'Lime',\n",
              " 'Lactose Intolerance',\n",
              " 'Banana',\n",
              " 'Orange pulp',\n",
              " 'Corn oil',\n",
              " 'Citrus Allergy',\n",
              " 'Lima bean',\n",
              " 'Prune',\n",
              " 'Sea Bass',\n",
              " 'Sweet corn',\n",
              " 'Parsley',\n",
              " 'Avocado',\n",
              " 'Kale',\n",
              " 'Potato Allergy',\n",
              " 'Tannin Allergy',\n",
              " 'Nectarine',\n",
              " 'Tuna',\n",
              " 'Nightshade Allergy',\n",
              " 'Fructose',\n",
              " 'Oral Allergy Syndrome',\n",
              " 'Nut Allergy',\n",
              " 'Beer Allergy',\n",
              " 'Sesame seed',\n",
              " 'Cheese',\n",
              " 'Shungiku',\n",
              " 'Trout',\n",
              " 'Wheat',\n",
              " 'Mustard oil',\n",
              " 'Shiitake  mushroom',\n",
              " 'Banana Allergy',\n",
              " 'Broccoli allergy',\n",
              " 'Honey Allergy',\n",
              " 'Potato',\n",
              " 'Brussels sprouts',\n",
              " 'Cauliflower',\n",
              " 'Royal Jelly',\n",
              " 'Pegia',\n",
              " 'Salmon',\n",
              " 'Blueberry',\n",
              " 'Loquat',\n",
              " 'Pig',\n",
              " 'Barley',\n",
              " 'Guava',\n",
              " 'Sunflower oil',\n",
              " 'Button mushroom',\n",
              " 'Cherry',\n",
              " 'Milk',\n",
              " 'Alpha-gal Syndrome',\n",
              " 'Fish Allergy',\n",
              " 'Casein',\n",
              " 'Squash',\n",
              " 'Custard',\n",
              " 'Cattle',\n",
              " 'Taro',\n",
              " 'Buckwheat',\n",
              " 'Egg plant',\n",
              " 'Qing-geng-cai',\n",
              " 'Broad bean',\n",
              " 'Rye',\n",
              " 'Eggs',\n",
              " 'Sugar Allergy / Intolerance',\n",
              " 'Chicory',\n",
              " 'Chicken',\n",
              " 'Mume plum',\n",
              " 'Papaya',\n",
              " 'Ghrkin',\n",
              " 'Sultani',\n",
              " 'Groundnut oil',\n",
              " 'Sultapya',\n",
              " 'Salicylate Allergy',\n",
              " 'Sugar',\n",
              " 'Cucumber',\n",
              " 'Carrot',\n",
              " 'Parsnip',\n",
              " 'Corn Allergy',\n",
              " 'Turnip leaf',\n",
              " 'Mint Allergy',\n",
              " 'LTP Allergy',\n",
              " 'Okra',\n",
              " 'Vegetable oil',\n",
              " 'Ginkgo nut',\n",
              " 'Peach',\n",
              " 'Japanese persimmon',\n",
              " 'Seed Allergy',\n",
              " 'Japanese pear',\n",
              " 'Poultry Allergy',\n",
              " 'Konjac',\n",
              " 'Shelled mollusc',\n",
              " 'Ochratoxin Allergy',\n",
              " 'Rice Allergy',\n",
              " 'Onion',\n",
              " 'Corn',\n",
              " 'Sansho',\n",
              " 'Almond',\n",
              " 'Globfish',\n",
              " 'Mustard Spinach',\n",
              " 'Sunflower seed',\n",
              " 'Mushroom Allergy',\n",
              " 'Turkey',\n",
              " 'Milk allergy / Lactose intolerance',\n",
              " 'Olive oil',\n",
              " 'Pepper Allergy',\n",
              " 'Butter bean',\n",
              " 'Popcorn',\n",
              " 'Water melon',\n",
              " 'Leek',\n",
              " 'Lettuce',\n",
              " 'Mackerel',\n",
              " 'Shallot',\n",
              " 'Horse',\n",
              " 'Kiwi',\n",
              " 'Safflower seed',\n",
              " 'Peanut',\n",
              " 'Cruciferous Allergy',\n",
              " 'Rapeseed',\n",
              " 'Raspberry',\n",
              " 'Turnip root',\n",
              " 'Black-eyed bean',\n",
              " 'Cranberry',\n",
              " 'Coconut oil',\n",
              " 'Quince',\n",
              " 'Tetraodontiformes',\n",
              " 'Ginger',\n",
              " 'Tomato',\n",
              " 'Yogurt',\n",
              " 'Stone Fruit Allergy',\n",
              " 'Pineapple',\n",
              " 'Aquagenic Urticaria',\n",
              " 'Artichoke',\n",
              " 'Ricebran oil',\n",
              " 'Huckleberry',\n",
              " 'Grapeseed oil',\n",
              " 'Honey']"
            ]
          },
          "execution_count": 11,
          "metadata": {},
          "output_type": "execute_result"
        }
      ],
      "source": [
        "food_allergy_list = list(set(food_allergy_list))\n",
        "print(len(food_allergy_list))\n",
        "food_allergy_list"
      ]
    },
    {
      "cell_type": "code",
      "execution_count": null,
      "metadata": {
        "id": "m0O7Qb8wQncr"
      },
      "outputs": [],
      "source": [
        "food_allergy_list += [metadata[\"\"]]"
      ]
    },
    {
      "cell_type": "markdown",
      "metadata": {
        "id": "Ew0Jf0YuKFSq"
      },
      "source": [
        "### Test create rich image and image label metadata"
      ]
    },
    {
      "cell_type": "code",
      "execution_count": null,
      "metadata": {
        "colab": {
          "base_uri": "https://localhost:8080/"
        },
        "id": "2VdG0dCKja18",
        "outputId": "277d2571-3ab5-4d46-de65-e8346eecfffb"
      },
      "outputs": [
        {
          "name": "stderr",
          "output_type": "stream",
          "text": [
            "100%|██████████| 25251/25251 [00:00<00:00, 216219.95it/s]\n"
          ]
        }
      ],
      "source": [
        "# save image and create image metadata\n",
        "food_image_metadata_dict_list = create_food_image_metadata_dict_list(KAGGLE_PATH)"
      ]
    },
    {
      "cell_type": "code",
      "execution_count": null,
      "metadata": {
        "cellView": "form",
        "id": "2DJR_Q-kNfm0"
      },
      "outputs": [],
      "source": [
        "# @title\n",
        "rich_image_label_for_sentences = [food_image_metadata_dict[NAME] for food_image_metadata_dict in food_image_metadata_dict_list]"
      ]
    },
    {
      "cell_type": "code",
      "execution_count": null,
      "metadata": {
        "cellView": "form",
        "colab": {
          "base_uri": "https://localhost:8080/"
        },
        "id": "Lw6TLGZ5UmT8",
        "outputId": "c5c9851f-94bf-4d72-e4a4-0aac4770c968"
      },
      "outputs": [
        {
          "name": "stderr",
          "output_type": "stream",
          "text": [
            "100%|██████████| 522517/522517 [00:02<00:00, 197599.53it/s]\n"
          ]
        }
      ],
      "source": [
        "# @title\n",
        "rich_text_list = create_rich_text(metadata_dict_list)"
      ]
    },
    {
      "cell_type": "markdown",
      "metadata": {
        "id": "XMpSHbKFM5J_"
      },
      "source": [
        "## 4. Implement RAG vector database system wint fine-tuned multimodal embedding + faiss"
      ]
    },
    {
      "cell_type": "code",
      "execution_count": null,
      "metadata": {
        "id": "J2iS-aJrXU0i"
      },
      "outputs": [],
      "source": [
        "# embedding rich text and image\n",
        "\n",
        "batch_size = 16\n",
        "batch_save = 250\n",
        "\n",
        "def get_embedded_data(data_list: list[str | Image.Image] | str | Image.Image, embedding_model: str, resume_index: int = 0, save: bool = False) -> torch.Tensor:\n",
        "  embedded_data_list = []\n",
        "\n",
        "  if not isinstance(data_list, list):\n",
        "    data_list = [data_list]\n",
        "\n",
        "  Path(\"/content/save_embed/\").mkdir( parents=True, exist_ok=True)\n",
        "\n",
        "  data_type = \"image\" if isinstance(data_list[0], Image.Image) else \"text\"se\n",
        "  print(data_type)\n",
        "  if not os.path.exists(SAVE_EMBEDDED_DATA_PATH ):\n",
        "    SAVE_EMBEDDED_DATA_PATH.mkdir( parents=True, exist_ok=True)\n",
        "  try:\n",
        "\n",
        "    for i in tqdm(range(resume_index, math.ceil(len(data_list) / batch_size))):\n",
        "      spliced_data_list = data_list[i * batch_size : min(len(data_list), (i + 1) * batch_size)]\n",
        "      if embedding_model == \"clip\":\n",
        "        if data_type == \"image\":\n",
        "          processed_data_inputs = clip_processor(images=spliced_data_list, return_tensors=\"pt\", padding=True, truncation=True)\n",
        "\n",
        "          processed_data_inputs = {k : v.to(get_device()) for k,v in processed_data_inputs.items()}\n",
        "\n",
        "          embedded_data_list.extend(clip_model.get_image_features(**processed_data_inputs).detach().cpu().numpy())\n",
        "        elif data_type == \"text\":\n",
        "          processed_data_inputs = clip_processor(spliced_data_list, return_tensors=\"pt\", padding=True, truncation=True)\n",
        "\n",
        "          processed_data_inputs = {k : v.to(get_device()) for k,v in processed_data_inputs.items()}\n",
        "          embedded_data_list.extend(clip_model.get_text_features(**processed_data_inputs).detach().cpu().numpy())\n",
        "\n",
        "      elif embedding_model == \"sentence\":\n",
        "        embedded_data_list.extend(sentences_model.encode(spliced_data_list))\n",
        "\n",
        "      if save and i % batch_save == 0 and i != 0:\n",
        "        np.save(Path(\"/content/save_embed\") / f\"{data_type}_{embedding_model}_{time.time()}_{i}.npy\", np.array(embedded_data_list))\n",
        "        with open(\"save_log.txt\", \"a\") as f:\n",
        "          f.write(f\"save: type: {data_type}. start embedding from index: {resume_index}, end index: {i}, time: {time.time()}\\n\")\n",
        "\n",
        "\n",
        "    embedded_data_array = np.array(embedded_data_list)\n",
        "\n",
        "    # save embedded text\n",
        "    if save:\n",
        "      np.save(SAVE_EMBEDDED_DATA_PATH / f\"{data_type}_{embedding_model}.npy\", embedded_data_array)\n",
        "\n",
        "  except KeyboardInterrupt:\n",
        "    print(\"keyboard interupt\")\n",
        "  except Exception as e:\n",
        "    print(e)\n",
        "    embedded_data_array = np.array(embedded_data_list)\n",
        "\n",
        "    Path(\"/content/interupt_save\").mkdir( parents=True, exist_ok=True)\n",
        "\n",
        "    np.save(Path(\"/content/interupt_save\") / f\"{data_type}_{embedding_model}_interupt_{time.time()}.npy\", embedded_data_array)\n",
        "\n",
        "    with open(\"error_log.txt\", \"a\") as f:\n",
        "      f.write(f\"error: type: {data_type}. start embedding from index: {resume_index}, end index: {i}, time: {time.time()}\\n\")\n",
        "\n",
        "  return embedded_data_array\n",
        "\n",
        "\n"
      ]
    },
    {
      "cell_type": "code",
      "execution_count": null,
      "metadata": {
        "colab": {
          "base_uri": "https://localhost:8080/"
        },
        "id": "M5-cW_mslJBc",
        "outputId": "30627f9e-a36f-4cef-fb63-faac4c0b7367"
      },
      "outputs": [
        {
          "name": "stdout",
          "output_type": "stream",
          "text": [
            "image\n"
          ]
        },
        {
          "name": "stderr",
          "output_type": "stream",
          "text": [
            "100%|██████████| 1/1 [00:00<00:00,  1.09it/s]\n"
          ]
        }
      ],
      "source": [
        "test = get_embedded_data(Image.open(\"/content/carbonara.jpg\"), 'clip')"
      ]
    },
    {
      "cell_type": "code",
      "execution_count": null,
      "metadata": {
        "id": "s8tj0-d_C8w6"
      },
      "outputs": [],
      "source": [
        "# Create index using faiss\n",
        "def get_faiss_index(embedded_data: np.ndarray, method: str = \"flat\", save: bool = False, name: str = \"\") -> faiss.IndexFlatL2:\n",
        "  index = faiss.IndexFlatL2(embedded_data.shape[1]) # change to HNWS\n",
        "  index.add(embedded_data)\n",
        "\n",
        "  if save:\n",
        "    Path(\"/content/faiss_index\").mkdir( parents=True, exist_ok=True)\n",
        "    faiss.write_index(index, str(Path(\"/content/faiss_index\") / f\"{name}_index_{time.time()}.index\"))\n",
        "\n",
        "  return index"
      ]
    },
    {
      "cell_type": "code",
      "execution_count": null,
      "metadata": {
        "id": "vTeRwaeyHl9e"
      },
      "outputs": [],
      "source": [
        "# Faiss similarity search\n",
        "def faiss_search(index: faiss.IndexFlatL2, embbeded_query: np.ndarray, k: int = K_ORDER) -> tuple[np.ndarray, np.ndarray]:\n",
        "  distance_array, indice_array = index.search(embbeded_query, k)\n",
        "  return distance_array[0], indice_array[0]"
      ]
    },
    {
      "cell_type": "markdown",
      "metadata": {
        "id": "W6anP1Ic3fcM"
      },
      "source": [
        "### Test full RAG\n"
      ]
    },
    {
      "cell_type": "markdown",
      "metadata": {
        "id": "AF1vgz55EYB4"
      },
      "source": [
        "#### Create / Load main_index"
      ]
    },
    {
      "cell_type": "code",
      "execution_count": null,
      "metadata": {
        "cellView": "form",
        "id": "SLtXGw_hWkKe"
      },
      "outputs": [],
      "source": [
        "# @title\n",
        "response = requests.get(\"https://upload.wikimedia.org/wikipedia/commons/thumb/0/0b/RedDot_Burger.jpg/500px-RedDot_Burger.jpg\")\n",
        "img = Image.open(BytesIO(response.content))\n",
        "display(img)"
      ]
    },
    {
      "cell_type": "code",
      "execution_count": null,
      "metadata": {
        "cellView": "form",
        "id": "0mLnyfmu3lnf"
      },
      "outputs": [],
      "source": [
        "# @title\n",
        "from io import BytesIO\n",
        "# define query\n",
        "query_text = \"apple pie\"\n",
        "\n",
        "url = \"https://www.primaverakitchen.com/wp-content/uploads/2024/08/Hamburger-Recipe-7.jpg\"\n",
        "query_image = img\n",
        "\n",
        "# encode\n",
        "# process query\n",
        "processed_query_inputs = clip_processor(text=query_text, images=query_image, return_tensors=\"pt\", padding=True)\n",
        "\n",
        "# encode processed querry\n",
        "query_output = clip_model(**processed_query_inputs)\n",
        "\n",
        "query_text_embedding = query_output.text_embeds.detach().cpu().numpy()\n",
        "query_image_embedding = query_output.image_embeds.detach().cpu().numpy()"
      ]
    },
    {
      "cell_type": "code",
      "execution_count": null,
      "metadata": {
        "id": "cNwsz7BTEH59"
      },
      "outputs": [],
      "source": [
        "# embed rich text"
      ]
    },
    {
      "cell_type": "code",
      "execution_count": null,
      "metadata": {
        "cellView": "form",
        "id": "T3dF0xPVQFEU"
      },
      "outputs": [],
      "source": [
        "# @title\n",
        "# embedding rich text\n",
        "text_embbedding = get_embedded_data(rich_text_list, \"sentence\", 0, True)"
      ]
    },
    {
      "cell_type": "code",
      "execution_count": null,
      "metadata": {
        "cellView": "form",
        "id": "QnbJoRqHxK3H"
      },
      "outputs": [],
      "source": [
        "# @title\n",
        "# alternative load data\n",
        "text_embbedding = load_embedded_data(\"text\")"
      ]
    },
    {
      "cell_type": "code",
      "execution_count": null,
      "metadata": {
        "cellView": "form",
        "id": "uaMUBrqpa-Zm"
      },
      "outputs": [],
      "source": [
        "# @title\n",
        "# get faiss index\n",
        "text_index = get_faiss_index(text_embbedding, \"flat\", True, \"main\")"
      ]
    },
    {
      "cell_type": "code",
      "execution_count": null,
      "metadata": {
        "id": "uIwLaDbsawXf"
      },
      "outputs": [],
      "source": [
        "# alterbnavtie load index\n",
        "main_index = load_faiss_index(\"main_index_1745901394.7850068\")"
      ]
    },
    {
      "cell_type": "code",
      "execution_count": null,
      "metadata": {
        "colab": {
          "base_uri": "https://localhost:8080/"
        },
        "id": "2_BF-WQhbjK0",
        "outputId": "2a5f2c28-f8cc-4644-c239-85bbe82fffa1"
      },
      "outputs": [
        {
          "name": "stdout",
          "output_type": "stream",
          "text": [
            "text\n"
          ]
        },
        {
          "name": "stderr",
          "output_type": "stream",
          "text": [
            "100%|██████████| 1/1 [00:00<00:00,  1.43it/s]\n"
          ]
        }
      ],
      "source": [
        "# get embedded querry\n",
        "embedded_query_text = get_embedded_data(\"I want any sandwich recipe\", \"sentence\")"
      ]
    },
    {
      "cell_type": "code",
      "execution_count": null,
      "metadata": {
        "id": "Nev398Del5My"
      },
      "outputs": [],
      "source": [
        "distance_array, indice_array = faiss_search(main_index, embedded_query_text)"
      ]
    },
    {
      "cell_type": "code",
      "execution_count": null,
      "metadata": {
        "colab": {
          "base_uri": "https://localhost:8080/"
        },
        "collapsed": true,
        "id": "AQpRol0imEgk",
        "outputId": "953945e0-1431-4be0-8a3c-19e921424696"
      },
      "outputs": [
        {
          "name": "stdout",
          "output_type": "stream",
          "text": [
            "distance: 0.44974276423454285\n",
            "metadata:\n",
            "Recipe: Sandwich for 12. Dish type: Lunch/Snacks. Main ingredients: old fashioned oats, boiling water, butter, margarine, eggs, egg, sesame seeds, mayonnaise, prepared mustard, lettuce leaf, cooked ham, green pepper, onion, swiss cheese, tomatoes, Serving: 12.0 people. Review rating: missing. Cook time: 0:30:00. Preparation time: 1:00:00. Nutrition - Calories: 378.1, Fat: 18.3, Sodium: 520.3, Cholesterol: 97.6, Sugar: 6.6, Protein: 20.5.\n",
            "---------------------------------\n",
            "distance: 0.45544010400772095\n",
            "metadata:\n",
            "Recipe: Best Breakfast Sandwich. Dish type: One Dish Meal. Main ingredients: butter, mayonnaise, eggs, water, milk, salt, pepper, deli ham, American cheese, swiss cheese, onion, tomatoes, Serving: 1.0 people. Review rating: missing. Cook time: 0:10:00. Preparation time: 0:05:00. Nutrition - Calories: 428.1, Fat: 27.8, Sodium: 1131.8, Cholesterol: 494.3, Sugar: 2.8, Protein: 34.1.\n",
            "---------------------------------\n",
            "distance: 0.5250035524368286\n",
            "metadata:\n",
            "Recipe: Ridiculously Easy, Utterly Delicious Egg Sandwich. Dish type: Breakfast. Main ingredients: eggs, butter, fresh ground pepper, herb-seasoned salt, American cheese, butter, mayonnaise, bacon, pickle, Serving: 1.0 people. Review rating: 5.0. Cook time: 0:03:00. Preparation time: 0:03:00. Nutrition - Calories: 371.7, Fat: 19.2, Sodium: 628.4, Cholesterol: 393.2, Sugar: 2.5, Protein: 20.6.\n",
            "---------------------------------\n",
            "distance: 0.5317518711090088\n",
            "metadata:\n",
            "Recipe: Best Breakfast Sandwich. Dish type: Breakfast. Main ingredients: sausage, Kraft processed cheese slices, English muffin, egg, Serving: 1.0 people. Review rating: 5.0. Cook time: missing. Preparation time: 0:05:00. Nutrition - Calories: 376.4, Fat: 21.2, Sodium: 796.4, Cholesterol: 220.5, Sugar: 2.2, Protein: 18.8.\n",
            "---------------------------------\n",
            "distance: 0.5398645401000977\n",
            "metadata:\n",
            "Recipe: Best Breakfast Sandwich. Dish type: Breakfast. Main ingredients: egg, bacon, Serving: 1.0 people. Review rating: missing. Cook time: 0:05:00. Preparation time: 0:00:00. Nutrition - Calories: 462.4, Fat: 26.6, Sodium: 608.1, Cholesterol: 242.3, Sugar: 21.6, Protein: 14.4.\n",
            "---------------------------------\n",
            "distance: 0.5449488759040833\n",
            "metadata:\n",
            "Recipe: Meal in a Sandwich. Dish type: One Dish Meal. Main ingredients: bacon, tomatoes, red onions, sweet onion, avocado, cheddar cheese, lettuce, mayonnaise, salt, fresh ground black pepper, Serving: 1.0 people. Review rating: missing. Cook time: 0:15:00. Preparation time: 0:30:00. Nutrition - Calories: 0.0, Fat: 0.0, Sodium: 0.0, Cholesterol: 0.0, Sugar: 0.0, Protein: 0.0.\n",
            "---------------------------------\n",
            "distance: 0.545693039894104\n",
            "metadata:\n",
            "Recipe: Unique Sandwich. Dish type: Lunch/Snacks. Main ingredients: bacon, onion, butter, Miracle Whip, tomatoes, Serving: 1.0 people. Review rating: missing. Cook time: 0:05:00. Preparation time: 0:05:00. Nutrition - Calories: 602.6, Fat: 45.9, Sodium: 1139.1, Cholesterol: 99.4, Sugar: 9.3, Protein: 14.2.\n",
            "---------------------------------\n"
          ]
        }
      ],
      "source": [
        "for indice, distance in zip(indice_array, distance_array):\n",
        "  print(f\"distance: {distance}\")\n",
        "  print(\"metadata:\")\n",
        "  print(rich_text_list[indice])\n",
        "  print(\"---------------------------------\")"
      ]
    },
    {
      "cell_type": "markdown",
      "metadata": {
        "id": "k1GXHUrjEesp"
      },
      "source": [
        "#### Create / Load  food_image_index"
      ]
    },
    {
      "cell_type": "code",
      "execution_count": null,
      "metadata": {
        "cellView": "form",
        "colab": {
          "base_uri": "https://localhost:8080/"
        },
        "id": "cvvJkvLYjiy_",
        "outputId": "8bfe0e80-eb6c-4682-df75-d85d904c1988"
      },
      "outputs": [
        {
          "name": "stdout",
          "output_type": "stream",
          "text": [
            "text\n"
          ]
        },
        {
          "name": "stderr",
          "output_type": "stream",
          "text": [
            "100%|██████████| 1579/1579 [00:28<00:00, 54.60it/s]\n"
          ]
        }
      ],
      "source": [
        "# @title\n",
        "embedded_food_label_clip = get_embedded_data(rich_image_label_for_sentences, \"clip\", 0, True)"
      ]
    },
    {
      "cell_type": "code",
      "execution_count": null,
      "metadata": {
        "id": "eh3Crp28MyxE"
      },
      "outputs": [],
      "source": [
        "embedded_food_image_clip = load_embedded_data(\"image_clip\")"
      ]
    },
    {
      "cell_type": "code",
      "execution_count": null,
      "metadata": {
        "id": "9FfGp0D_jsQl"
      },
      "outputs": [],
      "source": [
        "food_image_index = get_faiss_index(embedded_food_image_clip, \"flat\", True, \"food_image_clip\")"
      ]
    },
    {
      "cell_type": "code",
      "execution_count": null,
      "metadata": {
        "id": "JxUbcyQKjvek"
      },
      "outputs": [],
      "source": [
        "embedded_query_text = get_embedded_data(\"Pizza\", \"clip\")"
      ]
    },
    {
      "cell_type": "code",
      "execution_count": null,
      "metadata": {
        "id": "owRnfNe9jxDL"
      },
      "outputs": [],
      "source": [
        "distance_array, indice_array = faiss_search(food_image_index, embedded_query_text)"
      ]
    },
    {
      "cell_type": "code",
      "execution_count": null,
      "metadata": {
        "id": "FbNbJ-OXjyrl"
      },
      "outputs": [],
      "source": [
        "for indice, distance in zip(indice_array, distance_array):\n",
        "  print(f\"distance: {distance}\")\n",
        "  print(\"metadata:\")\n",
        "  print(food_image_metadata_dict_list[indice])\n",
        "  print(\"---------------------------------\")"
      ]
    },
    {
      "cell_type": "markdown",
      "metadata": {
        "id": "-KlUropmEtSd"
      },
      "source": [
        "#### Create / Load food_label_index"
      ]
    },
    {
      "cell_type": "code",
      "execution_count": null,
      "metadata": {
        "id": "gWs1XJ61NRWi"
      },
      "outputs": [],
      "source": [
        "food_label_index = load_faiss_index(\"food_label_clip_index_1745943408.8384023\")"
      ]
    },
    {
      "cell_type": "code",
      "execution_count": null,
      "metadata": {
        "id": "REsge2UQU3HF"
      },
      "outputs": [],
      "source": [
        "food_label_metadata_dict_list = food_image_metadata_dict_list"
      ]
    },
    {
      "cell_type": "markdown",
      "metadata": {
        "id": "TNiWfN6KO6Ow"
      },
      "source": [
        "#### Create / Load food_label_sentence_index"
      ]
    },
    {
      "cell_type": "code",
      "execution_count": null,
      "metadata": {
        "colab": {
          "base_uri": "https://localhost:8080/"
        },
        "id": "kufuUCzDPCv1",
        "outputId": "cf9ac1c3-0422-4265-d012-40a2a1df2855"
      },
      "outputs": [
        {
          "name": "stdout",
          "output_type": "stream",
          "text": [
            "text\n"
          ]
        },
        {
          "name": "stderr",
          "output_type": "stream",
          "text": [
            "100%|██████████| 1579/1579 [00:19<00:00, 79.90it/s]\n"
          ]
        }
      ],
      "source": [
        "embedded_food_label_sentence = get_embedded_data(rich_image_label_for_sentences, \"sentence\", 0, True)"
      ]
    },
    {
      "cell_type": "code",
      "execution_count": null,
      "metadata": {
        "id": "Jlp04oL6PCv1"
      },
      "outputs": [],
      "source": [
        "food_label_sentence_index = get_faiss_index(embedded_food_label_sentence, \"flat\", True, \"food_label_sentence\")"
      ]
    },
    {
      "cell_type": "code",
      "execution_count": null,
      "metadata": {
        "id": "y3iyftflMp8d"
      },
      "outputs": [],
      "source": [
        "food_label_sentence_index = load_faiss_index(\"food_label_sentence_index_1745943412.1561074\")"
      ]
    },
    {
      "cell_type": "code",
      "execution_count": null,
      "metadata": {
        "id": "W9SYoGLIPCv2"
      },
      "outputs": [],
      "source": [
        "embedded_query_text = get_embedded_data(\"Pizza\", \"sentence\", 0, False)"
      ]
    },
    {
      "cell_type": "code",
      "execution_count": null,
      "metadata": {
        "id": "_qwyNinCPCv3"
      },
      "outputs": [],
      "source": [
        "distance_array, indice_array = faiss_search(food_label_sentence_index, embedded_query_text)"
      ]
    },
    {
      "cell_type": "code",
      "execution_count": null,
      "metadata": {
        "id": "MUQem_HePCv3"
      },
      "outputs": [],
      "source": [
        "for indice, distance in zip(indice_array, distance_array):\n",
        "  print(f\"distance: {distance}\")\n",
        "  print(\"metadata:\")\n",
        "  print(food_image_metadata_dict_list[indice])\n",
        "  print(\"---------------------------------\")"
      ]
    },
    {
      "cell_type": "markdown",
      "metadata": {
        "id": "byor7xOo4FIY"
      },
      "source": [
        "## 5. Construct prompt for the llm"
      ]
    },
    {
      "cell_type": "code",
      "execution_count": null,
      "metadata": {
        "id": "WtLQ7gV0Dp2P"
      },
      "outputs": [],
      "source": [
        "def process_retrieved_text(\n",
        "                           indice_array: np.ndarray, distance_array: np.ndarray,\n",
        "                           tasks: list[str],\n",
        "                           constraint_list:list[str]) -> tuple[list[str], bool]: # implement the constraint to be accepted as list\n",
        "\n",
        "  text_content_list = []\n",
        "  should_end = False\n",
        "  is_filtering_allergy = ALLERGEN_FILTER in tasks or FOOD_PREFERENCE in tasks\n",
        "\n",
        "  for i, indice in enumerate(indice_array):\n",
        "      main_metadata_dict = main_metadata_dict_list[indice]\n",
        "\n",
        "      if distance_array[i] > RAG_DISTANCE_THRESGHOLD:\n",
        "        should_end = True\n",
        "        break\n",
        "\n",
        "      if is_filtering_allergy and constraint:\n",
        "        allergy = False\n",
        "        for constraint in constraint_list:\n",
        "          if (\n",
        "              str(main_metadata_dict[INGREDIENT_PARTS]).lower().find(constraint.lower()) != -1 or\n",
        "              str(main_metadata_dict[ALLERGY]).lower().find(constraint.lower()) != -1\n",
        "              ):\n",
        "            allergy = True\n",
        "            break\n",
        "\n",
        "        if allergy:\n",
        "            continue\n",
        "\n",
        "\n",
        "      text_content.append(f\"\"\"[**Food Name**: {main_metadata_dict[NAME]}\n",
        "**User Rating**: {main_metadata_dict[RATING]} stars\n",
        "**Food Category**: {main_metadata_dict[RECIPE_CATEGORY]}\n",
        "**Cook Time**: {main_metadata_dict[COOK_TIME]}\n",
        "**Preparation Time**: {main_metadata_dict[PREP_TIME]}\n",
        "**Ingredient Parts**: {\", \".join(main_metadata_dict[INGREDIENT_PARTS])}\n",
        "**Ingredient Quantities**: {\", \".join(main_metadata_dict[INGREDIENT_QUANTITIES])}\n",
        "**Nutrition**:\n",
        "- Calories: {main_metadata_dict[CALORIES]} cals\n",
        "- Carbohydrate: {main_metadata_dict[CARBOHYDRATE]} g\n",
        "- Protein: {main_metadata_dict[PROTEIN]} g\n",
        "- Fat: {main_metadata_dict[FAT]} g\n",
        "- Saturated Fat: {main_metadata_dict[SATURATED_FAT]} g\n",
        "- Fiber: {main_metadata_dict[FIBER]} g\n",
        "- Cholesterol: {main_metadata_dict[CHOLESTEROL]} mg\n",
        "- Sodium: {main_metadata_dict[SODIUM]} mg\n",
        "- Sugar: {main_metadata_dict[SUGAR]} g\n",
        "**Serving**: {main_metadata_dict[RECIPE_SERVING]} people\n",
        "**Recipe Instruction**: {\", \".join(main_metadata_dict[RECIPE_INSTRUCTION])}\n",
        "**Not Suitable for People Who has Allergy**: {\", \".join(main_metadata_dict[ALLERGY])}]\n",
        "\\n\\n\"\"\")\n",
        "\n",
        "\n",
        "  return text_content, should_end"
      ]
    },
    {
      "cell_type": "code",
      "execution_count": null,
      "metadata": {
        "id": "fZD2ntnJhx-D"
      },
      "outputs": [],
      "source": [
        "def reiterate_discarded(embedded_query_text: str,\n",
        "                        tasks: list[str],\n",
        "                        constraint_list:list[str],\n",
        "                        debug: bool = False) -> str:\n",
        "\n",
        "  should_end = False\n",
        "  current_discarded_count = 0\n",
        "  current_non_discarded_count = 0\n",
        "\n",
        "  while True:\n",
        "    distance_array, indice_array = faiss_search(main_index, embedded_query_text, k= K_ORDER + current_discarded_count)\n",
        "\n",
        "    text_content, should_end = process_retrieved_text(indice_array, distance_array, tasks, constraint)\n",
        "\n",
        "    current_non_discarded_count = len(text_content)\n",
        "    current_discarded_count = K_ORDER - len(text_content)\n",
        "\n",
        "    if not (current_non_discarded_count < K_ORDER and not should_end):\n",
        "      break\n",
        "\n",
        "    if debug:\n",
        "      print(f\"current non discarded count: {current_non_discarded_count}\")\n",
        "\n",
        "  if not text_content:\n",
        "    text_content = \"There is no context. Please use your knowledge.\"\n",
        "\n",
        "  return text_content"
      ]
    },
    {
      "cell_type": "code",
      "execution_count": null,
      "metadata": {
        "id": "yvBQbDtMRRMh"
      },
      "outputs": [],
      "source": [
        "\n",
        "def rerank_text_content(text_content, query_text):\n",
        "\n",
        "    scores = model.predict([(query_text, text) for text in text_content])\n",
        "\n",
        "    # Sort by score in descending order\n",
        "    ranked_results = sorted(zip(text_content, scores), key=lambda x: x[1], reverse=True)\n",
        "\n",
        "    sorted_text_content = [text for text_content, score in ranked_results]\n",
        "\n",
        "    return sorted_text_content\n"
      ]
    },
    {
      "cell_type": "code",
      "execution_count": null,
      "metadata": {
        "cellView": "form",
        "id": "6g-b8AGUqJlw"
      },
      "outputs": [],
      "source": [
        "# @title\n",
        "# construct prompt based on the task that user input\n",
        "def get_prompt_based_on_task(query: str, image: Image.Image, text_context: str, tasks: list[str]) -> list[dict]:\n",
        "  conversation = [\n",
        "    {\n",
        "      \"role\": \"system\",\n",
        "      \"content\": [\n",
        "        {\"type\": \"text\", \"text\": \"You are a home cook chef and nutritionist assistant. Your primary function is to provide users with diet plans and meal preparation instructions, taking into account of the potential allergies the user may have.\"}\n",
        "        ]\n",
        "      }\n",
        "    ]\n",
        "  for task in tasks:\n",
        "    if task in [CALORIES_CALCULATOR, COOK_HELPER, UNSPECIFIED, UNCLASSIFIED]:\n",
        "      task_name = task\n",
        "      break\n",
        "\n",
        "  prompt_context = f\"\"\"Given the query: '{query}' and the following relevant snippets:\n",
        "\n",
        "  {text_context}\n",
        "\n",
        "  \"\"\"\n",
        "\n",
        "  if set([COOK_HELPER, CALORIES_CALCULATOR]).issubset(set(tasks)):\n",
        "    prompt_context += f\"\"\"Recommend a recipe based on a given query and image using the provided data in the snippets. If there is not enough data in the snippets, you can use your knowledge. If the data is missing, you have to fill it in using your knowledge. The response must include rating, cooking time, ingredients, nutrition, and instructions. You also have to give a suggestion or opinion as a home cook chef for this food.\"\"\"\n",
        "\n",
        "  elif task_name == CALORIES_CALCULATOR:\n",
        "    prompt_context += f\"\"\"Write the summary of the nutrition of this food based on the given query and image. If there is not enough data in the snippets, you can use your knowledge. If the data is missing, you have to fill it in using your knowledge. The response should includes ingredients, calories, fat, saturated fat, protein, cholesterol, sodium, fiber, sugar, protein. You also have to give a suggestion or opinion as a nutritionist for this food.\"\"\"\n",
        "\n",
        "  elif task_name == COOK_HELPER:\n",
        "    prompt_context += f\"\"\"Recommend a recipe based on a given query and image using the provided data in the snippets. You have to be detailed with the ingredients and the instruction. If there is not enough data in the snippets, you can use your knowledge. If the data is missing, you have to fill it in using your knowledge. The response must include rating, cooking time, ingredients, and instructions. You also have to give a suggestion or opinion as a home cook chef for this food.\"\"\"\n",
        "\n",
        "  # TODO: test whether adding dietary filter prompt will improve the generation\n",
        "\n",
        "  elif task_name == UNSPECIFIED:\n",
        "    prompt_context += f\"\"\"Use the provided data in snippets and the image to summary and conclude. You also have to give an opinion as a nutritionist and home cook chef for the image and data in the snippets\"\"\"\n",
        "\n",
        "  elif task_name == UNCLASSIFIED:\n",
        "    prompt_context += f\"\"\"Answer the question from the given query. You can use the data in the snippets as references. If there is not enough data in the snippets, you can use your knowledge. If the data is missing, you have to fill it in using your knowledge. You also have to give an opinion as a nutritionist and home cook chef to the query and image\"\"\"\n",
        "\n",
        "\n",
        "  conversation.append(\n",
        "        {\n",
        "          \"role\": \"user\",\n",
        "          \"content\": [\n",
        "              {\"type\": \"image\", \"image\": image},\n",
        "              {\"type\": \"text\", \"text\": prompt_context}\n",
        "          ]\n",
        "        }\n",
        "        )\n",
        "\n",
        "  return conversation"
      ]
    },
    {
      "cell_type": "code",
      "execution_count": null,
      "metadata": {
        "id": "RD08nfL813Kg"
      },
      "outputs": [],
      "source": [
        "# construct prompt based on the task that user input\n",
        "# TODO: handle more task later\n",
        "  conversation = [\n",
        "    {\n",
        "      \"role\": \"system\",\n",
        "      \"content\": [\n",
        "        {\"type\": \"text\", \"text\": \"You are a home cook chef and nutritionist assistant. Your primary function is to provide users with diet plans, nutrition, recipe, and meal preparation instructions.\"}\n",
        "        ]\n",
        "      }\n",
        "    ]\n",
        "def get_prompt_based_on_task_mistral(conversation: list[dict], query: str, image: Image, text_content: str, tasks: list[str]) -> list[dict]:\n",
        "    #, taking into account of the potential allergies the user may have.\n",
        "  for task in tasks:\n",
        "    if task in [CALORIES_CALCULATOR, COOK_HELPER, MEAL_PLANNER, UNSPECIFIED, UNCLASSIFIED]:\n",
        "      task_name = task\n",
        "      break\n",
        "\n",
        "  prompt_context = f\"\"\"Given the query: '{query}' and the following relevant snippets:\n",
        "\n",
        "  {text_content}\n",
        "\n",
        "  \"\"\"\n",
        "\n",
        "  # if set([COOK_HELPER, CALORIES_CALCULATOR]).issubset(set(tasks)):\n",
        "  #   prompt_context += f\"\"\"Recommend a recipe based on a given query and image using the provided data in the snippets. If there is not enough data in the snippets, you can use your knowledge. If the data is missing, you have to fill it in using your knowledge. The response must include rating, cooking time, ingredients, nutrition, and instructions. You also have to give a suggestion or opinion as a home cook chef for this food.\"\"\"\n",
        "  if task_name == MEAL_PLANNER:\n",
        "    prompt_context += \"\"\"Answer the given query. You can use both your knowledge and data in the snippet. The response should be in a readable format for a meal planner. Then ask user what else do you want to know.\"\"\"\n",
        "\n",
        "  elif task_name == CALORIES_CALCULATOR:\n",
        "    prompt_context += \"\"\"Answer the given query. You can use both your knowledge and data in the snippet. The response should be in a readable format for nutrition summary. Then ask user what else do you want to know.\"\"\"\n",
        "    # \"\"\"Write the summary of the nutrition of this food based on the given query and image. If there is not enough data in the snippets, you can use your knowledge. If the data is missing, you have to fill it in using your knowledge. The response should includes ingredients, calories, fat, saturated fat, protein, cholesterol, sodium, fiber, sugar, protein. You also have to give a suggestion or opinion as a nutritionist for this food.\"\"\"\n",
        "\n",
        "  elif task_name == COOK_HELPER:\n",
        "    prompt_context += \"\"\"Answer the given query. You can use both your knowledge and data in the snippets. The response should be in a readable format for recipe and home cook. Then ask user what else do you want to know.\"\"\"\n",
        "    # \"\"\"Recommend a recipe based on a given query and image using the provided data in the snippets. You have to be detailed with the ingredients and the instruction. If there is not enough data in the snippets, you can use your knowledge. If the data is missing, you have to fill it in using your knowledge. The response must include rating, cooking time, ingredients, and instructions. You also have to give a suggestion or opinion as a home cook chef for this food.\"\"\"\n",
        "\n",
        "  # TODO: test whether adding dietary filter prompt will improve the generation\n",
        "\n",
        "  elif task_name == UNSPECIFIED:\n",
        "    prompt_context += f\"\"\"Use the provided data in snippets and the image to summary and conclude. You also have to give an opinion as a nutritionist and home cook chef for the image and data in the snippets. Then ask user what else do you want to know.\"\"\"\n",
        "\n",
        "  elif task_name == UNCLASSIFIED:\n",
        "    prompt_context += f\"\"\"Answer the given query using your own knowledge or provided data in the snippets. The response should be in a readable format. Then ask user what else do you want to know.\"\"\"\n",
        "    #  You can use the data in the snippets as references. If there is not enough data in the snippets, you can use your knowledge. If the data is missing, you have to fill it in using your knowledge. You also have to give an opinion as a nutritionist and home cook chef to the query and image\"\"\"\n",
        "\n",
        "  if image is not None:\n",
        "    conversation.append(\n",
        "          {\n",
        "            \"role\": \"user\",\n",
        "            \"content\": [\n",
        "                {\"type\": \"image\"},\n",
        "                {\"type\": \"text\", \"text\": prompt_context}\n",
        "            ]\n",
        "          }\n",
        "          )\n",
        "  else:\n",
        "    conversation.append(\n",
        "          {\n",
        "            \"role\": \"user\",\n",
        "            \"content\": [\n",
        "                {\"type\": \"text\", \"text\": prompt_context}\n",
        "            ]\n",
        "          }\n",
        "          )\n",
        "\n",
        "  return conversation"
      ]
    },
    {
      "cell_type": "code",
      "execution_count": null,
      "metadata": {
        "cellView": "form",
        "id": "yP025Ik0fGFp"
      },
      "outputs": [],
      "source": [
        "# @title\n",
        "# construct prompt based on the task that user input\n",
        "def get_prompt_based_on_task(query: str, image: Image.Image, text_context: str, tasks: list[str]) -> list[dict]:\n",
        "  conversation = [\n",
        "    {\n",
        "      \"role\": \"system\",\n",
        "      \"content\": [\n",
        "        {\"type\": \"text\", \"text\": \"You are a home cook chef and nutritionist assistant. Your primary function is to provide users with diet plans and meal preparation instructions, taking into account of the potential allergies the user may have.\"}\n",
        "        ]\n",
        "      }\n",
        "    ]\n",
        "  for task in tasks:\n",
        "    if task in [CALORIES_CALCULATOR, COOK_HELPER, UNSPECIFIED, UNCLASSIFIED]:\n",
        "      task_name = task\n",
        "      break\n",
        "# intent query, constraint | query = intent query + constraint\n",
        "  if task_name == CALORIES_CALCULATOR:\n",
        "    conversation.append(\n",
        "      {\n",
        "        \"role\": \"user\",\n",
        "        \"content\": [\n",
        "            {\"type\": \"image\", \"image\": Image.open(image_meta_data[IMAGE_SAVE_PATH])},\n",
        "            {\"type\": \"text\", \"text\": f\"\"\"\n",
        "              Given the query \"{query}\" and the following relevant snippets:\n",
        "\n",
        "              {text_context}\n",
        "\n",
        "              Calculate the total calories and macros for the food based on snippets above.\n",
        "              Breakdown per ingredient and include totals.\n",
        "              Use USDA-standard nutritional values.\n",
        "            \"\"\"}\n",
        "        ]\n",
        "      }\n",
        "    )\n",
        "  elif task_name == COOK_HELPER:\n",
        "    conversation.append(\n",
        "      {\n",
        "        \"role\": \"user\",\n",
        "        \"content\": [\n",
        "            {\"type\": \"image\", \"image\": Image.open(image_meta_data[IMAGE_SAVE_PATH])},\n",
        "            {\"type\": \"text\", \"text\": f\"\"\"\n",
        "              Given the query \"{query}\" and the following relevant snippets:\n",
        "\n",
        "              {text_context}\n",
        "\n",
        "              Recommend a recipe using provided data in the snippets following the food category and avoids allergen ingredients from the query.\n",
        "              Include cooking time, difficulty, and steps.\n",
        "            \"\"\"}\n",
        "        ]\n",
        "      }\n",
        "    )\n",
        "  else:\n",
        "    conversation.append(\n",
        "          {\n",
        "            \"role\": \"user\",\n",
        "            \"content\": [\n",
        "                {\"type\": \"image\", \"image\": Image.open(image_meta_data[IMAGE_SAVE_PATH])},\n",
        "                {\"type\": \"text\", \"text\": f\"\"\"\n",
        "                  Given the query \"{query}\" and the following relevant snippets:\n",
        "\n",
        "                  {text_context}\n",
        "\n",
        "                  Please provide a concise and accurate answer to the query, incorporating relevant information from the provided snippets where available.\n",
        "                \"\"\"}\n",
        "            ]\n",
        "          }\n",
        "          )\n",
        "\n",
        "  return conversation"
      ]
    },
    {
      "cell_type": "code",
      "execution_count": null,
      "metadata": {
        "cellView": "form",
        "id": "UH6Z6G86th2K"
      },
      "outputs": [],
      "source": [
        "# @title\n",
        "\n",
        "# construct prompt based on the task that user input\n",
        "def test_get_prompt_based_on_task(query: str, text_context: str, tasks: list[str]) -> list[dict]:\n",
        "  conversation = [\n",
        "    {\n",
        "      \"role\": \"system\",\n",
        "      \"content\": [\n",
        "        {\"type\": \"text\", \"text\": \"You are a home cook chef and nutritionist assistant. Your primary function is to provide users with diet plans and meal preparation instructions, taking into account of the potential allergies the user may have.\"}\n",
        "        ]\n",
        "      }\n",
        "    ]\n",
        "  for task in tasks:\n",
        "    if task in [CALORIES_CALCULATOR, COOK_HELPER, UNSPECIFIED, UNCLASSIFIED]:\n",
        "      task_name = task\n",
        "      break\n",
        "\n",
        "  prompt_context = f\"\"\"Given the query: '{query}' and the following relevant snippets:\n",
        "\n",
        "  {text_context}\n",
        "\n",
        "  \"\"\"\n",
        "\n",
        "  if set([COOK_HELPER, CALORIES_CALCULATOR]).issubset(set(tasks)):\n",
        "    prompt_context += f\"\"\"Recommend a recipe based on a given query and image using the provided data in the snippets. If there is not enough data in the snippets, you can use your knowledge. If the data is missing, you have to fill it in using your knowledge. The response must include rating, cooking time, ingredients, nutrition, and instructions. You also have to give a suggestion or opinion as a home cook chef for this food.\"\"\"\n",
        "\n",
        "  elif task_name == CALORIES_CALCULATOR:\n",
        "    prompt_context += f\"\"\"Write the summary of the nutrition of this food based on the given query and image. If there is not enough data in the snippets, you can use your knowledge. If the data is missing, you have to fill it in using your knowledge. The response should includes ingredients, calories, fat, saturated fat, protein, cholesterol, sodium, fiber, sugar, protein. You also have to give a suggestion or opinion as a nutritionist for this food.\"\"\"\n",
        "\n",
        "  elif task_name == COOK_HELPER:\n",
        "    prompt_context += f\"\"\"Recommend a recipe based on a given query and image using the provided data in the snippets. You have to be detailed with the ingredients and the instruction. If there is not enough data in the snippets, you can use your knowledge. If the data is missing, you have to fill it in using your knowledge. The response must include rating, cooking time, ingredients, and instructions. You also have to give a suggestion or opinion as a home cook chef for this food.\"\"\"\n",
        "\n",
        "  # TODO: test whether adding dietary filter prompt will improve the generation\n",
        "\n",
        "  elif task_name == UNSPECIFIED:\n",
        "    prompt_context += f\"\"\"Use the provided data in snippets and the image to discribe and conclude. You also have to give an opinion as a nutritionist and home cook chef for the image and data in the snippets\"\"\"\n",
        "\n",
        "  elif task_name == UNCLASSIFIED:\n",
        "    prompt_context += f\"\"\"Answer the question from the given query. You can use the data in the snippets as references. If there is not enough data in the snippets, you can use your knowledge. If the data is missing, you have to fill it in using your knowledge. You also have to give an opinion as a nutritionist and home cook chef to the query and image\"\"\"\n",
        "\n",
        "\n",
        "  conversation.append(\n",
        "        {\n",
        "          \"role\": \"user\",\n",
        "          \"content\": [\n",
        "              {\"type\": \"image\"},\n",
        "              {\"type\": \"text\", \"text\": prompt_context}\n",
        "          ]\n",
        "        }\n",
        "        )\n",
        "\n",
        "  return conversation"
      ]
    },
    {
      "cell_type": "code",
      "execution_count": null,
      "metadata": {
        "cellView": "form",
        "id": "P-IHNXdKDHN7"
      },
      "outputs": [],
      "source": [
        "# @title\n",
        "def get_prompt(query: str, text_context: str, image_meta_data: dict[str, ...] ) -> list[dict]:\n",
        "  conversation = [\n",
        "    {\n",
        "      \"role\": \"system\",\n",
        "      \"content\": [\n",
        "        {\"type\": \"text\", \"text\": \"You are a home cook chef and nutritionist assistant. Your primary function is to provide users with diet plans and meal preparation instructions, taking into account potential allergies the user may have.\"}\n",
        "        ]\n",
        "    },\n",
        "    {\n",
        "        \"role\": \"user\",\n",
        "        \"content\": [\n",
        "            {\"type\": \"image\", \"image\": Image.open(image_meta_data[IMAGE_SAVE_PATH])},\n",
        "            {\"type\": \"text\", \"text\": f\"\"\"\n",
        "              Given the query \"{query}\" and the following relevant snippets:\n",
        "\n",
        "              {text_context}\n",
        "              and the image.\n",
        "\n",
        "              Please provide a concise and accurate answer to the query, incorporating relevant information from the provided snippets where possible. If the data is missing or seem irrelevant fill the data with your own knowledge.\n",
        "            \"\"\"}\n",
        "        ]\n",
        "      }\n",
        "    ]\n",
        "  return conversation"
      ]
    },
    {
      "cell_type": "code",
      "execution_count": null,
      "metadata": {
        "cellView": "form",
        "id": "eoVw24ADtnYr"
      },
      "outputs": [],
      "source": [
        "# @title\n",
        "def test_get_prompt(query: str, text_context: str ) -> list[dict]:\n",
        "  conversation = [\n",
        "    # {\n",
        "    #   \"role\": \"system\",\n",
        "    #   \"content\": [\n",
        "    #     {\"type\": \"text\", \"text\": \"You are a home cook chef and nutritionist assistant. Your primary function is to provide users with diet plans and meal preparation instructions, taking into account potential allergies the user may have.\"}\n",
        "    #     ]\n",
        "    # },\n",
        "    {\n",
        "        \"role\": \"user\",\n",
        "        \"content\": [\n",
        "            {\"type\": \"image\", \"image\": Image.open(\"/content/Sandwich_2023.jpg\")},\n",
        "            {\"type\": \"text\", \"text\": f\"\"\"Given the query: '{query}' and the following relevant snippets:\n",
        "\n",
        "              {text_context}\n",
        "\n",
        "              Please provide a concise and accurate answer to the query, incorporating relevant information from the provided snippets where possible. If the data is missing or seem irrelevant fill the data with your own knowledge.\"\"\"}\n",
        "        ]\n",
        "      }\n",
        "    ]\n",
        "\n",
        "  return conversation"
      ]
    },
    {
      "cell_type": "markdown",
      "metadata": {
        "id": "lWuHazA3s4k4"
      },
      "source": [
        "### Test construct prompt"
      ]
    },
    {
      "cell_type": "code",
      "execution_count": null,
      "metadata": {
        "id": "jss5fHufs86U"
      },
      "outputs": [],
      "source": [
        "text_content = peepo_process_retrieved_text(main_metadata_dict_list, indice_array, distance_array, [COOK_HELPER], '')"
      ]
    },
    {
      "cell_type": "code",
      "execution_count": null,
      "metadata": {
        "id": "1LQ-CyP3uLNS"
      },
      "outputs": [],
      "source": [
        "task_prompt = test_get_prompt_based_on_task(\"Give me any sandwich recipe without milk\", text_content, [\"cook\"])"
      ]
    },
    {
      "cell_type": "code",
      "execution_count": null,
      "metadata": {
        "cellView": "form",
        "id": "pUz2WxHguGtI"
      },
      "outputs": [],
      "source": [
        "# @title\n",
        "base_prompt = test_get_prompt(\"Give me any sandwich recipe without milk\", text_content)"
      ]
    },
    {
      "cell_type": "markdown",
      "metadata": {
        "id": "48sLeP6hMN--"
      },
      "source": [
        "## 6. Pass the prompy through the LLM and get responses"
      ]
    },
    {
      "cell_type": "code",
      "execution_count": null,
      "metadata": {
        "cellView": "form",
        "id": "GnZ_83hXTS9Z"
      },
      "outputs": [],
      "source": [
        "# @title\n",
        "# OLD VERSION\n",
        "import torch\n",
        "from transformers import LlavaNextForConditionalGeneration, LlavaForConditionalGeneration, AutoProcessor, AutoModelForImageTextToText\n",
        "from PIL import Image\n",
        "from transformers import BitsAndBytesConfig\n",
        "import numpy as np\n",
        "\n",
        "# MODEL_NAME = \"llava-hf/llava-v1.6-mistral-7b-hf\"\n",
        "\n",
        "\n",
        "\n",
        "# Configure 8-bit quantization\n",
        "bnb_config = BitsAndBytesConfig(\n",
        "    load_in_4bit=True,\n",
        "    bnb_4bit_quant_type=\"nf4\",\n",
        "    bnb_4bit_compute_dtype=torch.float16,\n",
        ")\n",
        "\n",
        "# Load the model with 8-bit quantization\n",
        "processor = AutoProcessor.from_pretrained(\"llava-hf/llava-1.5-7b-hf\")\n",
        "\n",
        "model = LlavaForConditionalGeneration.from_pretrained(\n",
        "    \"llava-hf/llava-1.5-7b-hf\",\n",
        "    # torch_dtype=torch.float16,\n",
        "    # low_cpu_mem_usage=True,\n",
        "    quantization_config=bnb_config,\n",
        "    device_map=\"auto\"\n",
        "\n",
        ")\n",
        "\n",
        "# model = AutoModelForImageTextToText.from_pretrained(\"llava-hf/llava-v1.6-mistral-7b-hf\", quantization_config=bnb_config, device_map=\"auto\")\n",
        "\n",
        "\n",
        "# model = LlavaNextForConditionalGeneration.from_pretrained(\n",
        "#     MODEL_NAME,\n",
        "#     torch_dtype=torch.float16,\n",
        "#     low_cpu_mem_usage=True,\n",
        "#     load_in_4bit=True\n",
        "# )\n",
        "\n",
        "# model = LlavaNextForConditionalGeneration.from_pretrained(\n",
        "#     MODEL_NAME,\n",
        "#     torch_dtype=torch.float16,\n",
        "#     low_cpu_mem_usage=True,\n",
        "#     use_flash_attention_2=True\n",
        "# )\n",
        "\n",
        "\n",
        "\n"
      ]
    },
    {
      "cell_type": "code",
      "execution_count": null,
      "metadata": {
        "cellView": "form",
        "colab": {
          "base_uri": "https://localhost:8080/"
        },
        "collapsed": true,
        "id": "Ml8RiBBnaCF5",
        "outputId": "c7fb23ac-8028-4476-963c-82c9ef5696ec"
      },
      "outputs": [
        {
          "name": "stdout",
          "output_type": "stream",
          "text": [
            "Based on the provided data, I recommend the following recipe:\n",
            "\n",
            "**Recipe:**\n"
          ]
        }
      ],
      "source": [
        "# @title\n",
        "from transformers import TextStreamer\n",
        "conversation = [\n",
        "    {\n",
        "        \"role\": \"user\",\n",
        "        \"content\": [\n",
        "            {\"type\": \"image\", \"image\": Image.open(\"/content/Sandwich_2023.jpg\")},\n",
        "            {\"type\": \"text\", \"text\": \"Can I eat this food, if I am allergic to milk?\"},\n",
        "        ],\n",
        "    },\n",
        "]\n",
        "\n",
        "inputs = processor.apply_chat_template(\n",
        "    task_prompt,\n",
        "    add_generation_prompt=True,\n",
        "    tokenize=True,\n",
        "    return_dict=True,\n",
        "    return_tensors=\"pt\"\n",
        ")\n",
        "inputs = {k: v.to(\"cuda\") for k,v in inputs.items()}\n",
        "\n",
        "text_streamer = TextStreamer(processor, skip_prompt=True, skip_special_tokens=True)\n",
        "\n",
        "# Generate\n",
        "# print(text_streamer)\n",
        "# streamer = model.generate(**inputs, max_new_tokens=4028, streamer=text_streamer)\n",
        "streamer = model.generate(**inputs, streamer=text_streamer)\n",
        "# output = model(**inputs, max_new_tokens=50)\n",
        "# processor.batch_decode(output, skip_special_tokens=True)[0]\n"
      ]
    },
    {
      "cell_type": "code",
      "execution_count": null,
      "metadata": {
        "id": "WBSnlnzYzQXr"
      },
      "outputs": [],
      "source": [
        "def generate_response_mistral(conversation: list[dict], image: Image.Image):\n",
        "  prompt = llm_processor.apply_chat_template(conversation, add_generation_prompt=True)\n",
        "  if image is None:\n",
        "    inputs = llm_processor(prompt, return_tensors=\"pt\").to(get_device())\n",
        "\n",
        "  else:\n",
        "    inputs = llm_processor(image, prompt, return_tensors=\"pt\").to(get_device())\n",
        "  text_streamer = TextStreamer(llm_processor, skip_prompt=True)\n",
        "  # autoregressively complete prompt\n",
        "  return llm_model.generate(**inputs, max_new_tokens=2880, streamer=text_streamer)"
      ]
    },
    {
      "cell_type": "markdown",
      "metadata": {
        "id": "q-xnhX0ONp6B"
      },
      "source": [
        "### Test llm model"
      ]
    },
    {
      "cell_type": "code",
      "execution_count": null,
      "metadata": {
        "colab": {
          "base_uri": "https://localhost:8080/"
        },
        "id": "vcpYglMAON-y",
        "outputId": "6366fa5e-3036-404e-fe75-45099e934b6b"
      },
      "outputs": [
        {
          "name": "stderr",
          "output_type": "stream",
          "text": [
            "Setting `pad_token_id` to `eos_token_id`:2 for open-end generation.\n"
          ]
        },
        {
          "name": "stdout",
          "output_type": "stream",
          "text": [
            "I'm sorry, but I am unable to provide a recipe for the food in the image as it is not clear what the food is. Can you please provide more information or a clearer image of the food? </s>\n"
          ]
        },
        {
          "data": {
            "text/plain": [
              "tensor([[    1,   733, 16289, 28793, 28705, 32000, 28705,    13, 28777,   495,\n",
              "           528,   272, 13405,   302,   272,  2887,   297,   272,  3469, 28723,\n",
              "           733, 28748, 16289, 28793,   315, 28742, 28719,  7371, 28725,   562,\n",
              "           315,   837,  9638,   298,  3084,   264, 13405,   354,   272,  2887,\n",
              "           297,   272,  3469,   390,   378,   349,   459,  3081,   767,   272,\n",
              "          2887,   349, 28723,  2418,   368,  4665,  3084,   680,  1871,   442,\n",
              "           264,  3081,   263,  3469,   302,   272,  2887, 28804, 28705,     2]],\n",
              "       device='cuda:0')"
            ]
          },
          "execution_count": 65,
          "metadata": {},
          "output_type": "execute_result"
        }
      ],
      "source": [
        "conversation = [\n",
        "    {\n",
        "        \"role\": \"user\",\n",
        "        \"content\": [\n",
        "            {\"type\": \"image\", \"image\": Image.open(\"/content/carbonara.jpg\")},\n",
        "\n",
        "            {\"type\": \"text\", \"text\": \"Give me the recipe of the food in the image.\"},\n",
        "        ],\n",
        "    },\n",
        "]\n",
        "generate_response_mistral(conversation, None)"
      ]
    },
    {
      "cell_type": "markdown",
      "metadata": {
        "id": "ws4lj74G8zIH"
      },
      "source": [
        "# Test Full Flow"
      ]
    },
    {
      "cell_type": "markdown",
      "metadata": {
        "id": "bM09Q4bg211H"
      },
      "source": [
        "## User inputs text + image"
      ]
    },
    {
      "cell_type": "code",
      "execution_count": null,
      "metadata": {
        "cellView": "form",
        "id": "a6F-dF3183Mi"
      },
      "outputs": [],
      "source": [
        "# @title\n",
        "# get user input\n",
        "user_text_input = \"Give me the recipe of the sandwich without fish\"\n",
        "user_image_input = Image.open(\"/content/Sandwich_2023.jpg\")\n"
      ]
    },
    {
      "cell_type": "code",
      "execution_count": null,
      "metadata": {
        "cellView": "form",
        "id": "0x2CpV-S9B2h"
      },
      "outputs": [],
      "source": [
        "# @title\n",
        "# classify tasks\n",
        "tasks = classify_tasks(user_text_input)"
      ]
    },
    {
      "cell_type": "code",
      "execution_count": null,
      "metadata": {
        "cellView": "form",
        "id": "k-nFKpTU9Lyg"
      },
      "outputs": [],
      "source": [
        "# @title\n",
        "# handle tasks\n",
        "# check if tasks has allergen filter or food preference\n",
        "\n",
        "# intention_query = user_text_input\n",
        "# constraint = \"\"\n",
        "# if ALLERGEN_FILTER in tasks or FOOD_PREFERENCE in tasks:\n",
        "intention_query, constraint = separate_intent_and_constraint(user_text_input)"
      ]
    },
    {
      "cell_type": "code",
      "execution_count": null,
      "metadata": {
        "cellView": "form",
        "id": "dMdbz1cRhT8F"
      },
      "outputs": [],
      "source": [
        "# @title\n",
        "# get embedded image\n",
        "embedded_query_image = get_embedded_data(user_image_input, 'clip', 0 ,False)"
      ]
    },
    {
      "cell_type": "code",
      "execution_count": null,
      "metadata": {
        "cellView": "form",
        "id": "kPFEST-WjK87"
      },
      "outputs": [],
      "source": [
        "# @title\n",
        "# retrieve food name from image\n",
        "food_label_distance_array, food_name_indice_array = faiss_search(food_label_index, embedded_query_image, 1)"
      ]
    },
    {
      "cell_type": "code",
      "execution_count": null,
      "metadata": {
        "cellView": "form",
        "id": "KlvLzTlAjxLG"
      },
      "outputs": [],
      "source": [
        "# @title\n",
        "# get food name\n",
        "food_label_metadata = food_label_metadata_dict_list[food_name_indice_array[0]]"
      ]
    },
    {
      "cell_type": "code",
      "execution_count": null,
      "metadata": {
        "cellView": "form",
        "id": "kVwuI8A-kzxZ"
      },
      "outputs": [],
      "source": [
        "# @title\n",
        "intention_query += f\" The food image label is {food_label_metadata[FOOD_LABEL]}.\""
      ]
    },
    {
      "cell_type": "code",
      "execution_count": null,
      "metadata": {
        "cellView": "form",
        "id": "5jn6snaF3iNU"
      },
      "outputs": [],
      "source": [
        "# @title\n",
        "# get embedded query\n",
        "embedded_query_text = get_embedded_data(intention_query, \"sentence\")"
      ]
    },
    {
      "cell_type": "code",
      "execution_count": null,
      "metadata": {
        "cellView": "form",
        "id": "SRfldQ3h4DtK"
      },
      "outputs": [],
      "source": [
        "# @title\n",
        "# retrieve from RAG\n",
        "distance_array, indice_array = faiss_search(text_index, embbed_query_text)"
      ]
    },
    {
      "cell_type": "code",
      "execution_count": null,
      "metadata": {
        "cellView": "form",
        "id": "ctdymaw44hnG"
      },
      "outputs": [],
      "source": [
        "# @title\n",
        "# get text context\n",
        "text_context = process_retrieved_text( metadata_dict_list, indice_array, distance_array, tasks, constraint)"
      ]
    },
    {
      "cell_type": "code",
      "execution_count": null,
      "metadata": {
        "cellView": "form",
        "id": "Gb_aVAi04h4z"
      },
      "outputs": [],
      "source": [
        "# @title\n",
        "# construct conversation\n",
        "conversation = get_prompt_based_on_task_mistral(intention_query, text_context , tasks)"
      ]
    },
    {
      "cell_type": "code",
      "execution_count": null,
      "metadata": {
        "cellView": "form",
        "id": "Sy0sv4dS6TYl"
      },
      "outputs": [],
      "source": [
        "# @title\n",
        "# generate response\n",
        "generate_response_mistral(conversation, user_image_input)"
      ]
    },
    {
      "cell_type": "markdown",
      "metadata": {
        "id": "JB3wzN1iy_a1"
      },
      "source": [
        "## User inputs only text"
      ]
    },
    {
      "cell_type": "markdown",
      "metadata": {
        "id": "XjnnVBqgzESF"
      },
      "source": [
        "## User inputs only image"
      ]
    },
    {
      "cell_type": "markdown",
      "metadata": {
        "id": "z7GtoncD7mHj"
      },
      "source": [
        "## main function"
      ]
    },
    {
      "cell_type": "code",
      "execution_count": null,
      "metadata": {
        "cellView": "form",
        "id": "sduF0J3c7pQ5"
      },
      "outputs": [],
      "source": [
        "# @title\n",
        "def talk_to_llm(query_text, query_image, debug: bool = False):\n",
        "  if query_text is None and query_image is None:\n",
        "    return \"Please input either text or image\"\n",
        "\n",
        "  if query_text is not None:\n",
        "    tasks = classify_tasks(query_text, True)\n",
        "\n",
        "    print(f\"{tasks=}\")\n",
        "\n",
        "    if UNCLASSIFIED not in tasks:\n",
        "      intention_query, constraint = separate_intent_and_constraint(query_text)\n",
        "      print(f\"{intention_query=}\")\n",
        "      print(f\"{constraint=}\")\n",
        "\n",
        "      if query_image is None:\n",
        "\n",
        "        # clip_embedded_query_text = get_embedded_data(query_text, 'clip', 0, False)\n",
        "\n",
        "        # distance_array, indice_array = faiss_search(food_image_index, clip_embedded_query_text)\n",
        "\n",
        "        sentence_embedded_query_text = get_embedded_data(query_text, 'sentence', 0, False)\n",
        "\n",
        "        distance_array, indice_array = faiss_search(food_label_sentence_index, sentence_embedded_query_text)\n",
        "\n",
        "        if debug:\n",
        "          print(\"text: yes, image: no = search image\")\n",
        "          print(food_image_metadata_dict_list[indice_array[0]])\n",
        "        query_image = Image.open(food_image_metadata_dict_list[indice_array[0]][FOOD_IMAGE_PATH])\n",
        "\n",
        "      else:\n",
        "        clip_embedded_query_image = get_embedded_data(query_image, 'clip', 0, False)\n",
        "\n",
        "        distance_array, indice_array = faiss_search(food_label_index, clip_embedded_query_image)\n",
        "\n",
        "\n",
        "        food_label = food_label_metadata_dict_list[indice_array[0]][NAME]\n",
        "\n",
        "        intention_query += f\" The food image label is {food_label.replace('_', ' ')}.\"\n",
        "        if debug:\n",
        "          print(\"text: yes, image: yes = intent += food label\")\n",
        "          print(food_label_metadata_dict_list[indice_array[0]])\n",
        "          print(intention_query)\n",
        "\n",
        "\n",
        "  # image must not be None\n",
        "  else:\n",
        "    query_text = \"Describe this food in the image.\"\n",
        "    tasks = [UNSPECIFIED]\n",
        "    constraint = \"\"\n",
        "\n",
        "    clip_embedded_query_image = get_embedded_data(food_label_index, 'clip', 0 ,False)\n",
        "    food_label_distance_array, food_label_indice_array = faiss_search(food_label_index, embedded_query_image, 1)\n",
        "    if debug:\n",
        "      print(\"text: no, image: yes = search food label\")\n",
        "      print(food_label_metadata_dict_list[indice_array[0]])\n",
        "    food_label = food_label_metadata_dict_list[food_label_indice_array[0]][NAME]\n",
        "    intention_query = f\"food name: {food_label}.\"\n",
        "\n",
        "  if UNCLASSIFIED not in tasks:\n",
        "    sentence_embedded_query_image = get_embedded_data(intention_query, 'sentence', 0, False)\n",
        "\n",
        "    distance_array, indice_array = faiss_search(main_index, sentence_embedded_query_image)\n",
        "\n",
        "    text_content = process_retrieved_text(main_metadata_dict_list, indice_array, distance_array, tasks, constraint)\n",
        "  else:\n",
        "    text_content = \"\"\n",
        "\n",
        "  if debug:\n",
        "    print(\"text_content\")\n",
        "    print(text_content)\n",
        "\n",
        "  conversation = get_prompt_based_on_task_mistral(query_text, text_content, tasks)\n",
        "\n",
        "  return generate_response_mistral(conversation, original_image)\n",
        "\n",
        "\n",
        "\n",
        "\n",
        "\n"
      ]
    },
    {
      "cell_type": "code",
      "execution_count": null,
      "metadata": {
        "id": "aBUyp66_EG_6"
      },
      "outputs": [],
      "source": [
        "def talk_to_llm(query_text, query_image, conversation: list[dict], debug: bool = False):\n",
        "  if query_text is None and query_image is None:\n",
        "    return \"Please input either text or image\"\n",
        "\n",
        "  if query_text is not None:\n",
        "    tasks = classify_tasks(query_text, debug)\n",
        "\n",
        "    intention_query, constraint = separate_intent_and_constraint(query_text)\n",
        "\n",
        "    if debug:\n",
        "      print(f\"{intention_query=}\")\n",
        "      print(f\"{constraint=}\")\n",
        "\n",
        "    if query_image is None:\n",
        "\n",
        "      clip_embedded_query_image = get_embedded_data(query_image, 'clip', 0, False)\n",
        "\n",
        "      distance_array, indice_array = faiss_search(food_label_index, clip_embedded_query_image)\n",
        "\n",
        "\n",
        "      food_label = food_label_metadata_dict_list[indice_array[0]][NAME]\n",
        "\n",
        "      intention_query += f\" The food is {food_label.replace('_', ' ')}.\"\n",
        "      if debug:\n",
        "        print(\"text: yes, image: yes = intent += food label\")\n",
        "        print(food_label_metadata_dict_list[indice_array[0]])\n",
        "        print(intention_query)\n",
        "\n",
        "\n",
        "  # image must not be None\n",
        "  else:\n",
        "    query_text = \"Describe this food in the image.\"\n",
        "    tasks = [UNSPECIFIED]\n",
        "    constraint = \"\"\n",
        "\n",
        "    clip_embedded_query_image = get_embedded_data(food_label_index, 'clip', 0 ,False)\n",
        "    food_label_distance_array, food_label_indice_array = faiss_search(food_label_index, embedded_query_image, 1)\n",
        "\n",
        "    food_label = food_label_metadata_dict_list[food_label_indice_array[0]][NAME]\n",
        "    intention_query = f\" The food is {food_label}.\"\n",
        "\n",
        "    if debug:\n",
        "      print(\"text: no, image: yes = search food label\")\n",
        "      print(food_label_metadata_dict_list[indice_array[0]])\n",
        "      print(intention_query)\n",
        "\n",
        "  sentence_embedded_query_text = get_embedded_data(intention_query, 'sentence', 0, False)\n",
        "\n",
        "  text_content = reiterate_discarded(sentence_embedded_query_text, tasks, constraint)\n",
        "\n",
        "  if debug:\n",
        "    print(\"text_content\")\n",
        "    print(text_content)\n",
        "\n",
        "  conversation = get_prompt_based_on_task_mistral(conversation, query_text, query_image, text_content, tasks)\n",
        "\n",
        "  return generate_response_mistral(conversation, query_image)"
      ]
    },
    {
      "cell_type": "code",
      "execution_count": null,
      "metadata": {
        "cellView": "form",
        "id": "FVfhIweKcA7T"
      },
      "outputs": [],
      "source": [
        "# @title\n",
        "def talk_to_llm_copy(query_text, query_image, debug: bool = False):\n",
        "  if query_text is None and query_image is None:\n",
        "    return \"Please input either text or image\"\n",
        "\n",
        "  if query_text is not None:\n",
        "    tasks = classify_tasks(query_text, debug)\n",
        "\n",
        "    intention_query, constraint = separate_intent_and_constraint(query_text)\n",
        "\n",
        "    if debug:\n",
        "      print(f\"{intention_query=}\")\n",
        "      print(f\"{constraint=}\")\n",
        "\n",
        "    if query_image is None:\n",
        "\n",
        "      # clip_embedded_query_text = get_embedded_data(query_text, 'clip', 0, False)\n",
        "\n",
        "      # distance_array, indice_array = faiss_search(food_image_index, clip_embedded_query_text)\n",
        "\n",
        "      # sentence_embedded_query_text = get_embedded_data(query_text, 'sentence', 0, False)\n",
        "\n",
        "      # distance_array, indice_array = faiss_search(food_label_sentence_index, sentence_embedded_query_text)\n",
        "\n",
        "      # if debug:\n",
        "      #   print(\"text: yes, image: no = search image\")\n",
        "      #   print(food_image_metadata_dict_list[indice_array[0]])\n",
        "      # query_image = Image.open(food_image_metadata_dict_list[indice_array[0]][FOOD_IMAGE_PATH])\n",
        "      pass\n",
        "\n",
        "    else:\n",
        "      clip_embedded_query_image = get_embedded_data(query_image, 'clip', 0, False)\n",
        "\n",
        "      distance_array, indice_array = faiss_search(food_label_index, clip_embedded_query_image)\n",
        "\n",
        "\n",
        "      food_label = food_label_metadata_dict_list[indice_array[0]][NAME]\n",
        "\n",
        "      intention_query += f\" The food is {food_label.replace('_', ' ')}.\"\n",
        "      if debug:\n",
        "        print(\"text: yes, image: yes = intent += food label\")\n",
        "        print(food_label_metadata_dict_list[indice_array[0]])\n",
        "        print(intention_query)\n",
        "\n",
        "\n",
        "  # image must not be None\n",
        "  else:\n",
        "    query_text = \"Describe this food in the image.\"\n",
        "    tasks = [UNSPECIFIED]\n",
        "    constraint = \"\"\n",
        "\n",
        "    clip_embedded_query_image = get_embedded_data(food_label_index, 'clip', 0 ,False)\n",
        "    food_label_distance_array, food_label_indice_array = faiss_search(food_label_index, embedded_query_image, 1)\n",
        "\n",
        "    food_label = food_label_metadata_dict_list[food_label_indice_array[0]][NAME]\n",
        "    intention_query = f\" The food is {food_label}.\"\n",
        "\n",
        "    if debug:\n",
        "      print(\"text: no, image: yes = search food label\")\n",
        "      print(food_label_metadata_dict_list[indice_array[0]])\n",
        "      print(intention_query)\n",
        "\n",
        "  sentence_embedded_query_image = get_embedded_data(intention_query, 'sentence', 0, False)\n",
        "\n",
        "  distance_array, indice_array = faiss_search(main_index, sentence_embedded_query_image)\n",
        "\n",
        "  text_content = process_retrieved_text(main_metadata_dict_list, indice_array, distance_array, tasks, constraint)\n",
        "\n",
        "  if debug:\n",
        "    print(\"text_content\")\n",
        "    print(text_content)\n",
        "\n",
        "  conversation = get_prompt_based_on_task_mistral(query_text, text_content, tasks)\n",
        "\n",
        "  return generate_response_mistral(conversation, query_image)\n",
        "\n",
        "\n",
        "\n",
        "\n",
        "\n"
      ]
    },
    {
      "cell_type": "code",
      "execution_count": null,
      "metadata": {
        "colab": {
          "base_uri": "https://localhost:8080/"
        },
        "id": "-R0a_QBYCgyA",
        "outputId": "bf708112-b43d-451a-ed69-80d6453daff5"
      },
      "outputs": [
        {
          "name": "stdout",
          "output_type": "stream",
          "text": [
            "image\n"
          ]
        },
        {
          "name": "stderr",
          "output_type": "stream",
          "text": [
            "100%|██████████| 1/1 [00:00<00:00, 21.65it/s]\n"
          ]
        },
        {
          "name": "stdout",
          "output_type": "stream",
          "text": [
            "text\n"
          ]
        },
        {
          "name": "stderr",
          "output_type": "stream",
          "text": [
            "100%|██████████| 1/1 [00:00<00:00, 73.26it/s]\n",
            "Setting `pad_token_id` to `eos_token_id`:2 for open-end generation.\n"
          ]
        },
        {
          "name": "stdout",
          "output_type": "stream",
          "text": [
            "current non discarded count: 5\n",
            "Spaghetti Alla Carbonara Recipe\n",
            "\n",
            "Ingredients:\n",
            "\n",
            "* 1 pound spaghetti\n",
            "* 1/2 cup extra virgin olive oil\n",
            "* 4 ounces pancetta, diced\n",
            "* 4 ounces thick slab bacon, diced\n",
            "* 4 garlic cloves, minced\n",
            "* 4 large eggs\n",
            "* 1 cup grated Parmesan cheese\n",
            "* Freshly ground black pepper, to taste\n",
            "* Fresh flat-leaf parsley, chopped\n",
            "\n",
            "Instructions:\n",
            "\n",
            "1. Bring a large pot of salted water to a boil. Add the spaghetti and cook for 8 to 10 minutes or until tender yet firm. Drain the pasta well, reserving 1/2 cup of the starchy cooking water to use in the sauce if you wish.\n",
            "\n",
            "2. Meanwhile, heat the olive oil in a deep skillet over medium flame. Add the pancetta and sauté for about 3 minutes, until the bacon is crisp and the fat is rendered. Toss the garlic into the fat and sauté for less than 1 minute to soften.\n",
            "\n",
            "3. Add the hot, drained spaghetti to the pan and toss for 2 minutes to coat the strands in the bacon fat.\n",
            "\n",
            "4. Beat the eggs and Parmesan together in a mixing bowl, stirring well to prevent lumps. Remove the pan from the heat and pour the egg/cheese mixture into the pasta, whisking quickly until the eggs thicken, but do not scramble. Thin out the sauce with a bit of the reserved pasta water, until it reaches desired consistency.\n",
            "\n",
            "5. Season the carbonara with several turns of freshly ground black pepper and taste for salt.\n",
            "\n",
            "6. Mound the spaghetti carbonara into warm serving bowls and garnish with chopped parsley. Pass more cheese around the table.\n",
            "\n",
            "Notes:\n",
            "\n",
            "* This recipe is not suitable for people with milk allergy / lactose intolerance, poultry allergy, allium allergy, or olive oil allergy.\n",
            "* The nutrition information provided is for the Spaghetti Alla Carbonara recipe from Tyler Florence.\n",
            "* The cooking time for the pasta is 8 to 10 minutes.\n",
            "* The preparation time for the sauce is less than 1 minute.\n",
            "* The recipe serves 2 people. </s>\n"
          ]
        }
      ],
      "source": [
        "# test\n",
        "\n",
        "response = talk_to_llm(\"Give me the recipe of the food in the image.\", Image.open('/content/carbonara.jpg'), False)"
      ]
    },
    {
      "cell_type": "code",
      "execution_count": null,
      "metadata": {
        "id": "TN39RLtfdyf1"
      },
      "outputs": [],
      "source": [
        "def talk_to_llm2(a,b):\n",
        "  if a is not None and b is not None:\n",
        "    yield \"both \"\n",
        "    for word in _LOREM_IPSUM.split(\" \"):\n",
        "      yield word + \" \"\n",
        "      time.sleep(0.02)\n",
        "  else:\n",
        "    yield \"some \"\n",
        "    for word in _LOREM_IPSUM.split(\" \"):\n",
        "        yield word + \" \"\n",
        "        time.sleep(0.02)\n"
      ]
    },
    {
      "cell_type": "markdown",
      "metadata": {
        "id": "0QZC4qShUNsu"
      },
      "source": [
        "# Create app and run"
      ]
    },
    {
      "cell_type": "code",
      "execution_count": null,
      "metadata": {
        "colab": {
          "base_uri": "https://localhost:8080/"
        },
        "id": "Qn_zJY7vsgWc",
        "outputId": "86900202-afd4-48a9-a26a-ac13bdeef672"
      },
      "outputs": [
        {
          "name": "stdout",
          "output_type": "stream",
          "text": [
            "Collecting streamlit-tags\n",
            "  Downloading streamlit_tags-1.2.8-py3-none-any.whl.metadata (5.7 kB)\n",
            "Requirement already satisfied: streamlit>=0.63 in /usr/local/lib/python3.11/dist-packages (from streamlit-tags) (1.45.0)\n",
            "Requirement already satisfied: altair<6,>=4.0 in /usr/local/lib/python3.11/dist-packages (from streamlit>=0.63->streamlit-tags) (5.5.0)\n",
            "Requirement already satisfied: blinker<2,>=1.5.0 in /usr/local/lib/python3.11/dist-packages (from streamlit>=0.63->streamlit-tags) (1.9.0)\n",
            "Requirement already satisfied: cachetools<6,>=4.0 in /usr/local/lib/python3.11/dist-packages (from streamlit>=0.63->streamlit-tags) (5.5.2)\n",
            "Requirement already satisfied: click<9,>=7.0 in /usr/local/lib/python3.11/dist-packages (from streamlit>=0.63->streamlit-tags) (8.1.8)\n",
            "Requirement already satisfied: numpy<3,>=1.23 in /usr/local/lib/python3.11/dist-packages (from streamlit>=0.63->streamlit-tags) (2.0.2)\n",
            "Requirement already satisfied: packaging<25,>=20 in /usr/local/lib/python3.11/dist-packages (from streamlit>=0.63->streamlit-tags) (24.2)\n",
            "Requirement already satisfied: pandas<3,>=1.4.0 in /usr/local/lib/python3.11/dist-packages (from streamlit>=0.63->streamlit-tags) (2.2.2)\n",
            "Requirement already satisfied: pillow<12,>=7.1.0 in /usr/local/lib/python3.11/dist-packages (from streamlit>=0.63->streamlit-tags) (11.2.1)\n",
            "Requirement already satisfied: protobuf<7,>=3.20 in /usr/local/lib/python3.11/dist-packages (from streamlit>=0.63->streamlit-tags) (5.29.4)\n",
            "Requirement already satisfied: pyarrow>=7.0 in /usr/local/lib/python3.11/dist-packages (from streamlit>=0.63->streamlit-tags) (18.1.0)\n",
            "Requirement already satisfied: requests<3,>=2.27 in /usr/local/lib/python3.11/dist-packages (from streamlit>=0.63->streamlit-tags) (2.32.3)\n",
            "Requirement already satisfied: tenacity<10,>=8.1.0 in /usr/local/lib/python3.11/dist-packages (from streamlit>=0.63->streamlit-tags) (9.1.2)\n",
            "Requirement already satisfied: toml<2,>=0.10.1 in /usr/local/lib/python3.11/dist-packages (from streamlit>=0.63->streamlit-tags) (0.10.2)\n",
            "Requirement already satisfied: typing-extensions<5,>=4.4.0 in /usr/local/lib/python3.11/dist-packages (from streamlit>=0.63->streamlit-tags) (4.13.2)\n",
            "Requirement already satisfied: watchdog<7,>=2.1.5 in /usr/local/lib/python3.11/dist-packages (from streamlit>=0.63->streamlit-tags) (6.0.0)\n",
            "Requirement already satisfied: gitpython!=3.1.19,<4,>=3.0.7 in /usr/local/lib/python3.11/dist-packages (from streamlit>=0.63->streamlit-tags) (3.1.44)\n",
            "Requirement already satisfied: pydeck<1,>=0.8.0b4 in /usr/local/lib/python3.11/dist-packages (from streamlit>=0.63->streamlit-tags) (0.9.1)\n",
            "Requirement already satisfied: tornado<7,>=6.0.3 in /usr/local/lib/python3.11/dist-packages (from streamlit>=0.63->streamlit-tags) (6.4.2)\n",
            "Requirement already satisfied: jinja2 in /usr/local/lib/python3.11/dist-packages (from altair<6,>=4.0->streamlit>=0.63->streamlit-tags) (3.1.6)\n",
            "Requirement already satisfied: jsonschema>=3.0 in /usr/local/lib/python3.11/dist-packages (from altair<6,>=4.0->streamlit>=0.63->streamlit-tags) (4.23.0)\n",
            "Requirement already satisfied: narwhals>=1.14.2 in /usr/local/lib/python3.11/dist-packages (from altair<6,>=4.0->streamlit>=0.63->streamlit-tags) (1.37.1)\n",
            "Requirement already satisfied: gitdb<5,>=4.0.1 in /usr/local/lib/python3.11/dist-packages (from gitpython!=3.1.19,<4,>=3.0.7->streamlit>=0.63->streamlit-tags) (4.0.12)\n",
            "Requirement already satisfied: python-dateutil>=2.8.2 in /usr/local/lib/python3.11/dist-packages (from pandas<3,>=1.4.0->streamlit>=0.63->streamlit-tags) (2.9.0.post0)\n",
            "Requirement already satisfied: pytz>=2020.1 in /usr/local/lib/python3.11/dist-packages (from pandas<3,>=1.4.0->streamlit>=0.63->streamlit-tags) (2025.2)\n",
            "Requirement already satisfied: tzdata>=2022.7 in /usr/local/lib/python3.11/dist-packages (from pandas<3,>=1.4.0->streamlit>=0.63->streamlit-tags) (2025.2)\n",
            "Requirement already satisfied: charset-normalizer<4,>=2 in /usr/local/lib/python3.11/dist-packages (from requests<3,>=2.27->streamlit>=0.63->streamlit-tags) (3.4.1)\n",
            "Requirement already satisfied: idna<4,>=2.5 in /usr/local/lib/python3.11/dist-packages (from requests<3,>=2.27->streamlit>=0.63->streamlit-tags) (3.10)\n",
            "Requirement already satisfied: urllib3<3,>=1.21.1 in /usr/local/lib/python3.11/dist-packages (from requests<3,>=2.27->streamlit>=0.63->streamlit-tags) (2.4.0)\n",
            "Requirement already satisfied: certifi>=2017.4.17 in /usr/local/lib/python3.11/dist-packages (from requests<3,>=2.27->streamlit>=0.63->streamlit-tags) (2025.4.26)\n",
            "Requirement already satisfied: smmap<6,>=3.0.1 in /usr/local/lib/python3.11/dist-packages (from gitdb<5,>=4.0.1->gitpython!=3.1.19,<4,>=3.0.7->streamlit>=0.63->streamlit-tags) (5.0.2)\n",
            "Requirement already satisfied: MarkupSafe>=2.0 in /usr/local/lib/python3.11/dist-packages (from jinja2->altair<6,>=4.0->streamlit>=0.63->streamlit-tags) (3.0.2)\n",
            "Requirement already satisfied: attrs>=22.2.0 in /usr/local/lib/python3.11/dist-packages (from jsonschema>=3.0->altair<6,>=4.0->streamlit>=0.63->streamlit-tags) (25.3.0)\n",
            "Requirement already satisfied: jsonschema-specifications>=2023.03.6 in /usr/local/lib/python3.11/dist-packages (from jsonschema>=3.0->altair<6,>=4.0->streamlit>=0.63->streamlit-tags) (2025.4.1)\n",
            "Requirement already satisfied: referencing>=0.28.4 in /usr/local/lib/python3.11/dist-packages (from jsonschema>=3.0->altair<6,>=4.0->streamlit>=0.63->streamlit-tags) (0.36.2)\n",
            "Requirement already satisfied: rpds-py>=0.7.1 in /usr/local/lib/python3.11/dist-packages (from jsonschema>=3.0->altair<6,>=4.0->streamlit>=0.63->streamlit-tags) (0.24.0)\n",
            "Requirement already satisfied: six>=1.5 in /usr/local/lib/python3.11/dist-packages (from python-dateutil>=2.8.2->pandas<3,>=1.4.0->streamlit>=0.63->streamlit-tags) (1.17.0)\n",
            "Downloading streamlit_tags-1.2.8-py3-none-any.whl (2.7 MB)\n",
            "\u001b[2K   \u001b[90m━━━━━━━━━━━━━━━━━━━━━━━━━━━━━━━━━━━━━━━━\u001b[0m \u001b[32m2.7/2.7 MB\u001b[0m \u001b[31m36.9 MB/s\u001b[0m eta \u001b[36m0:00:00\u001b[0m\n",
            "\u001b[?25hInstalling collected packages: streamlit-tags\n",
            "Successfully installed streamlit-tags-1.2.8\n"
          ]
        }
      ],
      "source": []
    },
    {
      "cell_type": "code",
      "execution_count": null,
      "metadata": {
        "colab": {
          "base_uri": "https://localhost:8080/"
        },
        "id": "8ilkXZqjUQzP",
        "outputId": "d5f11fc0-364f-4a96-baf9-399628f85dae"
      },
      "outputs": [
        {
          "output_type": "stream",
          "name": "stdout",
          "text": [
            "Mounted at /content/drive\n"
          ]
        }
      ],
      "source": [
        "# mount drive and kaggle hub\n",
        "from google.colab import drive\n",
        "import kagglehub\n",
        "drive.mount(\"/content/drive\")\n",
        "KAGGLE_PATH = kagglehub.dataset_download(\"kmader/food41\")"
      ]
    },
    {
      "cell_type": "code",
      "execution_count": null,
      "metadata": {
        "colab": {
          "base_uri": "https://localhost:8080/"
        },
        "id": "07ROpW8Ig1fU",
        "outputId": "223ab638-3a86-4d90-d0d2-2c8f86498fbc"
      },
      "outputs": [
        {
          "output_type": "stream",
          "name": "stdout",
          "text": [
            "Overwriting app.py\n"
          ]
        }
      ],
      "source": [
        "\n",
        "%%writefile app.py\n",
        "# load all dependencies\n",
        "from threading import Thread\n",
        "from streamlit_tags import st_tags, st_tags_sidebar\n",
        "import streamlit as st\n",
        "from transformers import CLIPModel, CLIPProcessor, pipeline, TextIteratorStreamer, BitsAndBytesConfig, LlavaNextForConditionalGeneration, AutoProcessor\n",
        "from sentence_transformers import SentenceTransformer, CrossEncoder\n",
        "\n",
        "from PIL import Image\n",
        "from IPython.display import display, HTML\n",
        "\n",
        "import faiss\n",
        "import numpy as np\n",
        "import pandas as pd\n",
        "\n",
        "import torch\n",
        "\n",
        "import requests\n",
        "from pathlib import Path\n",
        "import os\n",
        "import sys\n",
        "import json\n",
        "import math\n",
        "import re\n",
        "\n",
        "import time\n",
        "from tqdm import tqdm\n",
        "from tqdm import notebook\n",
        "from copy import deepcopy\n",
        "\n",
        "print(\"done import\")\n",
        "\n",
        "# Define constants\n",
        "FOOD_NAME = \"food name\"\n",
        "FOOD_IMAGE = \"food image\"\n",
        "FOOD_IMAGE_PATH = \"food image path\"\n",
        "FOOD_INGREDIENT = \"food ingredient\"\n",
        "FOOD_INSTRUCTION = \"food instruction\"\n",
        "\n",
        "# Dataset\n",
        "NAME = \"name\"\n",
        "COOK_TIME = \"cook_time\"\n",
        "PREP_TIME = \"prep_time\"\n",
        "DESCRIPTION = \"description\"\n",
        "RECIPE_CATEGORY = \"recipe_category\"\n",
        "INGREDIENT_QUANTITIES = \"ingredient_quantites\"\n",
        "INGREDIENT_PARTS = \"ingredient_parts\"\n",
        "RATING = \"rating\"\n",
        "CALORIES = \"calories\"\n",
        "FAT = \"fat\"\n",
        "SATURATED_FAT = \"saturated_fat\"\n",
        "CHOLESTEROL = \"cholesterol\"\n",
        "SODIUM = \"sodium\"\n",
        "CARBOHYDRATE = \"carbohydrate\"\n",
        "FIBER = \"fiber\"\n",
        "SUGAR = \"sugar\"\n",
        "PROTEIN = \"protein\"\n",
        "RECIPE_SERVING = \"recipe_serving\"\n",
        "RECIPE_YIELD = \"recipe_yield\"\n",
        "RECIPE_INSTRUCTION = \"recipe_instruction\"\n",
        "ALLERGY = \"allergy\"\n",
        "\n",
        "# Task\n",
        "CALORIES_CALCULATOR = \"nutrition\"\n",
        "COOK_HELPER = \"recipe provider\"\n",
        "ALLERGEN_FILTER = \"allergen avoidance\"\n",
        "FOOD_PREFERENCE = \"food tag\"\n",
        "MEAL_PLANNER = \"diet meal planner\"\n",
        "\n",
        "LEFTOVER_REMIXER = \"recipe from ingredient\"\n",
        "DIETARY_FILTER = \"dietary filter\"\n",
        "UNSPECIFIED = \"unspecified\"\n",
        "UNCLASSIFIED = \"unclassified\"\n",
        "\n",
        "TASK_LIST = [CALORIES_CALCULATOR, ALLERGEN_FILTER, FOOD_PREFERENCE, COOK_HELPER, MEAL_PLANNER]\n",
        "\n",
        "# Model\n",
        "TASK_CLASSIFIER_MODEL_NAME = \"facebook/bart-large-mnli\"\n",
        "TASK_CLASSIFIER_THRESHOLD = 0.65\n",
        "RAG_DISTANCE_THRESGHOLD = 0.65\n",
        "\n",
        "CLIPMODEL_NAME = \"openai/clip-vit-base-patch32\"\n",
        "\n",
        "SENTENCE_MINI_MODEL = \"all-MiniLM-L6-v2\"\n",
        "SENTENCE_BEST_MODEL = \"all-mpnet-base-v2\"\n",
        "\n",
        "\n",
        "\n",
        "# Path\n",
        "SAVE_IMAGE_PATH = Path(\"/content/images\")\n",
        "SAVE_EMBEDDED_DATA_PATH = Path(\"/content/embedding\")\n",
        "SAVE_INDEX_PATH = Path(\"/content/faiss_index\")\n",
        "FOOD_DATABASE_PATH = Path(\"/content/drive/MyDrive/nlp_database/food_database.json\")\n",
        "NLP_DATABASE = Path(\"/content/drive/MyDrive/nlp_database\")\n",
        "KAGGLE_PATH = Path(\"/kaggle/input/food41\")\n",
        "\n",
        "# Faiss\n",
        "K_ORDER = 5\n",
        "start = time.time()\n",
        "def get_device() -> str:\n",
        "  if torch.cuda.is_available():\n",
        "    return \"cuda\"\n",
        "  elif torch.backends.mps.is_available():\n",
        "    return \"mps\"\n",
        "  else:\n",
        "    return \"cpu\"\n",
        "\n",
        "def load_embedded_data(file_name: str) -> np.ndarray:\n",
        "  return np.load(NLP_DATABASE / f\"{file_name}.npy\" )\n",
        "\n",
        "def load_faiss_index(index_name: str):\n",
        "  return faiss.read_index(str(NLP_DATABASE / f\"{index_name}.index\"))\n",
        "\n",
        "\n",
        "\n",
        "# classify task\n",
        "def classify_tasks(query_text: str, debug: bool = False) -> list[str]:\n",
        "  result = task_classifier_pipeline(query_text, TASK_LIST, multi_label=True)\n",
        "  if debug:\n",
        "    print(result)\n",
        "  tasks = []\n",
        "  for i, score in enumerate(result[\"scores\"]):\n",
        "    if score > TASK_CLASSIFIER_THRESHOLD:\n",
        "      tasks.append(result[\"labels\"][i])\n",
        "\n",
        "  # handle the unknown task\n",
        "  if not tasks or (COOK_HELPER not in tasks and CALORIES_CALCULATOR not in tasks and MEAL_PLANNER not in tasks):\n",
        "    tasks.append(UNCLASSIFIED)\n",
        "\n",
        "  return tasks\n",
        "\n",
        "# separate intention and constraint\n",
        "def separate_intent_and_constraint(user_text: str) -> tuple[str, list[str]]:\n",
        "    \"\"\"\n",
        "    Function to separate constriant of the query from the intention query.\n",
        "    This function should be used to only the query that contains Dietary Filter Task\n",
        "    \"\"\"\n",
        "\n",
        "    constraint_keywords = [\"but\", \"without\", \"avoid\", \"except\", \"no\", \"must be\", \"should be\"]\n",
        "\n",
        "    lower_text = user_text.lower()\n",
        "\n",
        "    for keyword in constraint_keywords:\n",
        "        if keyword in lower_text:\n",
        "            parts = re.split(rf\"\\b{keyword}\\b\", user_text, maxsplit=1, flags=re.IGNORECASE)\n",
        "            intent_query = parts[0].strip()\n",
        "            constraint = parts[1].strip() if len(parts) > 1 else \"\"\n",
        "\n",
        "            intent_query = intent_query.rstrip(\",.?!\").rstrip()\n",
        "            intent_query = re.sub(r'\\b(with|without|but|except|avoid|no|must be|should be)\\b$', '', intent_query, flags=re.IGNORECASE).strip()\n",
        "\n",
        "            constraint = constraint.strip('.,?')\n",
        "            return intent_query, [constraint]\n",
        "\n",
        "    return user_text.strip(), []\n",
        "\n",
        "# create metadata and rich text from merged datasets\n",
        "def get_metadata_dict_list(json_database_path: Path) -> list[dict[str, list[str] | str]]:\n",
        "  if not os.path.exists(json_database_path):\n",
        "    raise FileNotFoundError(f\"File not found: {json_database_path}\")\n",
        "\n",
        "  with open(json_database_path, \"r\", encoding=\"utf-8\") as f:\n",
        "    metadata_dict_list = json.load(f)\n",
        "\n",
        "  def process_column(metadata_dict: dict[str,str]):\n",
        "    for key, value in metadata_dict.items():\n",
        "      if value is None:\n",
        "        metadata_dict[key] = \"missing\" # TODO: Come up with a better text to let llm know that they have to search if it encounters this text\n",
        "      elif key == ALLERGY:\n",
        "        metadata_dict[key] = value.split(\", \")\n",
        "      elif key == INGREDIENT_QUANTITIES:\n",
        "        try:\n",
        "          metadata_dict[key] = eval(value.replace(\"NA\", '\"missing\"'))\n",
        "        except:\n",
        "          metadata_dict[key] = \"missing\"\n",
        "      elif key in [INGREDIENT_PARTS, RECIPE_INSTRUCTION]:\n",
        "        try:\n",
        "          metadata_dict[key] = eval(value)\n",
        "        except:\n",
        "          metadata_dict[key] = \"missing\"\n",
        "    return metadata_dict\n",
        "\n",
        "  # to process the str list to list and fill the missing value for llm to search\n",
        "  metadata_dict_list = list(map(process_column, metadata_dict_list))\n",
        "\n",
        "  return metadata_dict_list\n",
        "\n",
        "# create rich text\n",
        "def create_rich_text(metadata_dict_list: dict[str, list[str] | str]) -> list[str]:\n",
        "  rich_text_list = []\n",
        "\n",
        "  # construct rich text to store in the vector database\n",
        "  for metadata_dict in tqdm(metadata_dict_list):\n",
        "    if metadata_dict is None:\n",
        "      continue\n",
        "    rich_text_list.append(\n",
        "        f\"Recipe: {metadata_dict[NAME]}. Dish type: {metadata_dict[RECIPE_CATEGORY]}. Main ingredients: {', '.join(metadata_dict[INGREDIENT_PARTS])}, Serving: {metadata_dict[RECIPE_SERVING]} people. Review rating: {metadata_dict[RATING]}. Cook time: {metadata_dict[COOK_TIME]}. Preparation time: {metadata_dict[PREP_TIME]}. Nutrition - Calories: {metadata_dict[CALORIES]}, Fat: {metadata_dict[FAT]}, Sodium: {metadata_dict[SODIUM]}, Cholesterol: {metadata_dict[CHOLESTEROL]}, Sugar: {metadata_dict[SUGAR]}, Protein: {metadata_dict[PROTEIN]}.\"\n",
        "        )\n",
        "\n",
        "  return rich_text_list\n",
        "\n",
        "# save image and create image metadata\n",
        "def create_food_image_metadata_dict_list(path) -> list[str]:\n",
        "  food_image_metadata_dict_list = []\n",
        "  path_test = KAGGLE_PATH / \"meta/meta/test.txt\"\n",
        "  if os.path.exists(path_test):\n",
        "    with open(path_test, 'r') as file:\n",
        "        content = file.read()\n",
        "  # construct rich image to store in the vector database\n",
        "  for sub in tqdm(content.split('\\n')):\n",
        "    if sub is None:\n",
        "      continue\n",
        "    elif sub == \"\":\n",
        "      continue\n",
        "    path_image = KAGGLE_PATH / f\"images/{sub}.jpg\"\n",
        "    if os.path.exists(path_image):\n",
        "      food_image_metadata_dict_list.append({\n",
        "          NAME: sub.split('/')[0],\n",
        "          FOOD_IMAGE_PATH: path_image\n",
        "      })\n",
        "    else:\n",
        "      print(sub)\n",
        "\n",
        "  return food_image_metadata_dict_list\n",
        "\n",
        "\n",
        "\n",
        "# embedding rich text and image\n",
        "\n",
        "batch_size = 16\n",
        "batch_save = 250\n",
        "\n",
        "def get_embedded_data(data_list: list[str | Image.Image] | str | Image.Image, embedding_model: str, resume_index: int = 0, save: bool = True) -> torch.Tensor:\n",
        "  embedded_data_list = []\n",
        "\n",
        "  if not isinstance(data_list, list):\n",
        "    data_list = [data_list]\n",
        "\n",
        "  data_type = \"image\" if isinstance(data_list[0], Image.Image) else \"text\"\n",
        "  print(data_type)\n",
        "\n",
        "  for i in tqdm(range(resume_index, math.ceil(len(data_list) / batch_size))):\n",
        "    spliced_data_list = data_list[i * batch_size : min(len(data_list), (i + 1) * batch_size)]\n",
        "    if embedding_model == \"clip\":\n",
        "      if data_type == \"image\":\n",
        "        processed_data_inputs = clip_processor(images=spliced_data_list, return_tensors=\"pt\", padding=True, truncation=True)\n",
        "\n",
        "        processed_data_inputs = {k : v.to(get_device()) for k,v in processed_data_inputs.items()}\n",
        "\n",
        "        embedded_data_list.extend(clip_model.get_image_features(**processed_data_inputs).detach().cpu().numpy())\n",
        "      elif data_type == \"text\":\n",
        "        processed_data_inputs = clip_processor(spliced_data_list, return_tensors=\"pt\", padding=True, truncation=True)\n",
        "\n",
        "        processed_data_inputs = {k : v.to(get_device()) for k,v in processed_data_inputs.items()}\n",
        "        embedded_data_list.extend(clip_model.get_text_features(**processed_data_inputs).detach().cpu().numpy())\n",
        "\n",
        "    elif embedding_model == \"sentence\":\n",
        "      embedded_data_list.extend(sentences_model.encode(spliced_data_list))\n",
        "\n",
        "\n",
        "  embedded_data_array = np.array(embedded_data_list)\n",
        "\n",
        "  return embedded_data_array\n",
        "\n",
        "# Create index using faiss\n",
        "def get_faiss_index(embedded_data: np.ndarray, method: str = \"flat\", save: bool = False, name: str = \"\") -> faiss.IndexFlatL2:\n",
        "  index = faiss.IndexFlatL2(embedded_data.shape[1]) # change to HNWS\n",
        "  index.add(embedded_data)\n",
        "\n",
        "  return index\n",
        "\n",
        "# Faiss similarity search\n",
        "def faiss_search(index: faiss.IndexFlatL2, embbeded_query: np.ndarray, k: int = K_ORDER) -> tuple[np.ndarray, np.ndarray]:\n",
        "  distance_array, indice_array = index.search(embbeded_query, k)\n",
        "  return distance_array[0], indice_array[0]\n",
        "\n",
        "\n",
        "\n",
        "# process retrieved text after retrieving from rag\n",
        "def process_retrieved_text(\n",
        "                           indice_array: np.ndarray, distance_array: np.ndarray,\n",
        "                           tasks: list[str],\n",
        "                           constraint_list:list[str]) -> tuple[list[str], bool]: # implement the constraint to be accepted as list\n",
        "\n",
        "  text_content_list = []\n",
        "  should_end = False\n",
        "  is_filtering_allergy = ALLERGEN_FILTER in tasks or FOOD_PREFERENCE in tasks\n",
        "\n",
        "  for i, indice in enumerate(indice_array):\n",
        "      main_metadata_dict = main_metadata_dict_list[indice]\n",
        "\n",
        "      if distance_array[i] > RAG_DISTANCE_THRESGHOLD:\n",
        "        should_end = True\n",
        "        break\n",
        "\n",
        "      if is_filtering_allergy or constraint_list:\n",
        "        allergy = False\n",
        "        for constraint in constraint_list:\n",
        "          if (\n",
        "              str(main_metadata_dict[INGREDIENT_PARTS]).lower().find(constraint.lower()) != -1 or\n",
        "              str(main_metadata_dict[ALLERGY]).lower().find(constraint.lower()) != -1 or\n",
        "              str(main_metadata_dict[RECIPE_INSTRUCTION]).lower().find(constraint.lower()) != -1\n",
        "              ):\n",
        "            allergy = True\n",
        "            break\n",
        "\n",
        "        if allergy:\n",
        "            continue\n",
        "\n",
        "\n",
        "      text_content_list.append(f\"\"\"[**Food Name**: {main_metadata_dict[NAME]}\n",
        "**User Rating**: {main_metadata_dict[RATING]} stars\n",
        "**Food Category**: {main_metadata_dict[RECIPE_CATEGORY]}\n",
        "**Cook Time**: {main_metadata_dict[COOK_TIME]}\n",
        "**Preparation Time**: {main_metadata_dict[PREP_TIME]}\n",
        "**Ingredient Parts**: {\", \".join(main_metadata_dict[INGREDIENT_PARTS])}\n",
        "**Ingredient Quantities**: {\", \".join(main_metadata_dict[INGREDIENT_QUANTITIES])}\n",
        "**Nutrition**:\n",
        "- Calories: {main_metadata_dict[CALORIES]} cals\n",
        "- Carbohydrate: {main_metadata_dict[CARBOHYDRATE]} g\n",
        "- Protein: {main_metadata_dict[PROTEIN]} g\n",
        "- Fat: {main_metadata_dict[FAT]} g\n",
        "- Saturated Fat: {main_metadata_dict[SATURATED_FAT]} g\n",
        "- Fiber: {main_metadata_dict[FIBER]} g\n",
        "- Cholesterol: {main_metadata_dict[CHOLESTEROL]} mg\n",
        "- Sodium: {main_metadata_dict[SODIUM]} mg\n",
        "- Sugar: {main_metadata_dict[SUGAR]} g\n",
        "**Serving**: {main_metadata_dict[RECIPE_SERVING]} people\n",
        "**Recipe Instruction**: {\", \".join(main_metadata_dict[RECIPE_INSTRUCTION])}\n",
        "**Not Suitable for People Who has Allergy**: {\", \".join(main_metadata_dict[ALLERGY])}]\n",
        "\\n\"\"\")\n",
        "\n",
        "\n",
        "  return text_content_list, should_end\n",
        "\n",
        "# reiterate to filter out the constraints\n",
        "def reiterate_discarded(embedded_query_text: str,\n",
        "                        tasks: list[str],\n",
        "                        constraint_list:list[str],\n",
        "                        debug: bool = False) -> str:\n",
        "\n",
        "  should_end = False\n",
        "  current_discarded_count = 0\n",
        "  current_non_discarded_count = 0\n",
        "\n",
        "  while True:\n",
        "    distance_array, indice_array = faiss_search(main_index, embedded_query_text, k= K_ORDER + current_discarded_count)\n",
        "\n",
        "    text_content, should_end = process_retrieved_text(indice_array, distance_array, tasks, constraint_list)\n",
        "\n",
        "    current_non_discarded_count = len(text_content)\n",
        "    current_discarded_count += K_ORDER - len(text_content)\n",
        "\n",
        "    if not (current_non_discarded_count < K_ORDER and not should_end):\n",
        "      break\n",
        "\n",
        "    if debug:\n",
        "      print(f\"current non discarded count: {current_non_discarded_count}\")\n",
        "      print(f\"current discarded count: {current_discarded_count}\")\n",
        "\n",
        "  if not text_content:\n",
        "    text_content = [\"There is no context. Please use your knowledge.\"]\n",
        "  if debug:\n",
        "    print(f\"text content: {text_content}\")\n",
        "\n",
        "  return text_content\n",
        "\n",
        "def rerank_text_content(text_content, query_text):\n",
        "\n",
        "    scores = reranking_model.predict([(query_text, text) for text in text_content])\n",
        "\n",
        "    # Sort by score in descending order\n",
        "    ranked_results = sorted(zip(text_content, scores), key=lambda x: x[1], reverse=True)\n",
        "\n",
        "    sorted_text_content = [text_content for text_content, score in ranked_results]\n",
        "\n",
        "    return sorted_text_content\n",
        "\n",
        "def get_prompt_based_on_task_mistral(conversation: list[dict], query: str, image: Image, text_content: str, tasks: list[str]) -> list[dict]:\n",
        "    #, taking into account of the potential allergies the user may have.\n",
        "  for task in tasks:\n",
        "    if task in [CALORIES_CALCULATOR, COOK_HELPER, MEAL_PLANNER, UNSPECIFIED, UNCLASSIFIED]:\n",
        "      task_name = task\n",
        "      break\n",
        "\n",
        "  prompt_context = f\"\"\"Given the query: '{query}' and the following relevant snippets:\n",
        "\n",
        "  {text_content}\n",
        "\n",
        "  \"\"\"\n",
        "\n",
        "  # if set([COOK_HELPER, CALORIES_CALCULATOR]).issubset(set(tasks)):\n",
        "  #   prompt_context += f\"\"\"Recommend a recipe based on a given query and image using the provided data in the snippets. If there is not enough data in the snippets, you can use your knowledge. If the data is missing, you have to fill it in using your knowledge. The response must include rating, cooking time, ingredients, nutrition, and instructions. You also have to give a suggestion or opinion as a home cook chef for this food.\"\"\"\n",
        "  if task_name == MEAL_PLANNER:\n",
        "    prompt_context += \"\"\"Answer the given query. You can use both your knowledge and data in the snippet. If the some information is 'missing' you can use your knowledge to fill in that question or leave out those information. The response should be in a readable format for a meal planner. Then ask user what else do you want to know.\"\"\"\n",
        "\n",
        "  elif task_name == CALORIES_CALCULATOR:\n",
        "    prompt_context += \"\"\"Answer the given query. You can use both your knowledge and data in the snippet. If the some information is 'missing' you can use your knowledge to fill in that question or leave out those information. The response should be in a readable format for nutrition summary. Then ask user what else do you want to know.\"\"\"\n",
        "    # \"\"\"Write the summary of the nutrition of this food based on the given query and image. If there is not enough data in the snippets, you can use your knowledge. If the data is missing, you have to fill it in using your knowledge. The response should includes ingredients, calories, fat, saturated fat, protein, cholesterol, sodium, fiber, sugar, protein. You also have to give a suggestion or opinion as a nutritionist for this food.\"\"\"\n",
        "\n",
        "  elif task_name == COOK_HELPER:\n",
        "    prompt_context += \"\"\"Answer the given query. You can use both your knowledge and data in the snippets. If the some information is 'missing' you can use your knowledge to fill in that question or leave out those information. The response should be in a readable format for recipe and home cook. Then ask user what else do you want to know.\"\"\"\n",
        "    # \"\"\"Recommend a recipe based on a given query and image using the provided data in the snippets. You have to be detailed with the ingredients and the instruction. If there is not enough data in the snippets, you can use your knowledge. If the data is missing, you have to fill it in using your knowledge. The response must include rating, cooking time, ingredients, and instructions. You also have to give a suggestion or opinion as a home cook chef for this food.\"\"\"\n",
        "\n",
        "  # TODO: test whether adding dietary filter prompt will improve the generation\n",
        "\n",
        "  elif task_name == UNSPECIFIED:\n",
        "    prompt_context += f\"\"\"Use the provided data in snippets and the image to summary and conclude. You also have to give an opinion as a nutritionist and home cook chef for the image and data in the snippets. Then ask user what else do you want to know.\"\"\"\n",
        "\n",
        "  elif task_name == UNCLASSIFIED:\n",
        "    prompt_context += f\"\"\"Answer the given query using your own knowledge or provided data in the snippets. The response should be in a readable format. Then ask user what else do you want to know.\"\"\"\n",
        "    #  You can use the data in the snippets as references. If there is not enough data in the snippets, you can use your knowledge. If the data is missing, you have to fill it in using your knowledge. You also have to give an opinion as a nutritionist and home cook chef to the query and image\"\"\"\n",
        "\n",
        "  if image is not None:\n",
        "    conversation.append(\n",
        "          {\n",
        "            \"role\": \"user\",\n",
        "            \"content\": [\n",
        "                {\"type\": \"image\"},\n",
        "                {\"type\": \"text\", \"text\": prompt_context}\n",
        "            ]\n",
        "          }\n",
        "          )\n",
        "  else:\n",
        "    conversation.append(\n",
        "          {\n",
        "            \"role\": \"user\",\n",
        "            \"content\": [\n",
        "                {\"type\": \"text\", \"text\": prompt_context}\n",
        "            ]\n",
        "          }\n",
        "          )\n",
        "\n",
        "  return conversation\n",
        "\n",
        "def generate_response_mistral(conversation: list[dict], image: list[Image.Image]):\n",
        "  prompt = llm_processor.apply_chat_template(conversation, add_generation_prompt=True)\n",
        "  if not image:\n",
        "    inputs = llm_processor(prompt, return_tensors=\"pt\").to(get_device())\n",
        "\n",
        "  else:\n",
        "    inputs = llm_processor(image, prompt, return_tensors=\"pt\").to(get_device())\n",
        "\n",
        "  text_streamer = TextIteratorStreamer(llm_processor, skip_prompt=True)\n",
        "\n",
        "  # Run the generation in a separate thread, so that we can fetch the generated text in a non-blocking way.\n",
        "\n",
        "  generation_kwargs = dict(inputs, streamer=text_streamer, max_new_tokens=2880)\n",
        "\n",
        "  thread = Thread(target=llm_model.generate, kwargs=generation_kwargs)\n",
        "\n",
        "  thread.start()\n",
        "\n",
        "  return text_streamer\n",
        "\n",
        "\n",
        "def talk_to_llm(query_text, query_image, conversation: list[dict], image_list: list[Image.Image], constraint_list: list[str], debug: bool = False):\n",
        "  constraint_list = [] if constraint_list is None else constraint_list\n",
        "  if query_text == \"\" and query_image is None:\n",
        "    return \"Please input either text or image\"\n",
        "\n",
        "  if query_text != \"\":\n",
        "    tasks = classify_tasks(query_text, debug)\n",
        "\n",
        "    intention_query, constraint = separate_intent_and_constraint(query_text)\n",
        "\n",
        "    if constraint_list:\n",
        "      query_text += f\" Avoid / without {', '.join(constraint_list)}.\"\n",
        "    constraint_list += constraint\n",
        "    if debug:\n",
        "      print(f\"{intention_query=}\")\n",
        "      print(f\"{constraint_list=}\")\n",
        "\n",
        "    if query_image is not None:\n",
        "      image_list.append(query_image)\n",
        "      st.session_state.image_list = image_list\n",
        "\n",
        "      clip_embedded_query_image = get_embedded_data(query_image, 'clip', 0, False)\n",
        "\n",
        "      distance_array, indice_array = faiss_search(food_label_index, clip_embedded_query_image)\n",
        "\n",
        "\n",
        "      food_label = food_label_metadata_dict_list[indice_array[0]][NAME]\n",
        "\n",
        "      if intention_query[-1] not in [\"!\", \".\", \"?\"]:\n",
        "        intention_query += \".\"\n",
        "      intention_query += f\" The food is {food_label.replace('_', ' ')}.\"\n",
        "      if debug:\n",
        "        print(\"text: yes, image: yes = intent += food label\")\n",
        "        print(food_label_metadata_dict_list[indice_array[0]])\n",
        "        print(intention_query)\n",
        "\n",
        "\n",
        "  # image must not be None\n",
        "  else:\n",
        "    query_text = \"Describe this food in the image.\"\n",
        "    tasks = [UNSPECIFIED]\n",
        "    constraint = []\n",
        "\n",
        "    clip_embedded_query_image = get_embedded_data(query_image, 'clip', 0 ,False)\n",
        "    food_label_distance_array, food_label_indice_array = faiss_search(food_label_index, clip_embedded_query_image, 1)\n",
        "\n",
        "    food_label = food_label_metadata_dict_list[food_label_indice_array[0]][NAME]\n",
        "    intention_query = f\" The food is {food_label}.\"\n",
        "\n",
        "    if debug:\n",
        "      print(\"text: no, image: yes = search food label\")\n",
        "      print(food_label_metadata_dict_list[indice_array[0]])\n",
        "      print(intention_query)\n",
        "\n",
        "  sentence_embedded_query_text = get_embedded_data(intention_query, 'sentence', 0, False)\n",
        "  text_content = reiterate_discarded(sentence_embedded_query_text, tasks, constraint_list, debug)\n",
        "  if debug:\n",
        "    print(f\"len text_content: {len(text_content)}\")\n",
        "\n",
        "  sorted_text_content = rerank_text_content(text_content, query_text)\n",
        "\n",
        "  if debug:\n",
        "    print(\"before\")\n",
        "    print(text_content)\n",
        "    print(\"after\")\n",
        "    print(sorted_text_content)\n",
        "\n",
        "  joined_text_content = \"\".join(sorted_text_content)\n",
        "\n",
        "  conversation = get_prompt_based_on_task_mistral(conversation, query_text, query_image, joined_text_content, tasks)\n",
        "  st.session_state.conversation = conversation\n",
        "  if debug:\n",
        "\n",
        "    print(\"conversation\")\n",
        "    print(conversation)\n",
        "    print(\"image_list\")\n",
        "    print(image_list)\n",
        "\n",
        "  return generate_response_mistral(conversation, image_list)\n",
        "\n",
        "\n",
        "def init_page() -> None:\n",
        "  st.set_page_config(\n",
        "    page_title=\"Food Assistance Chatbot\"\n",
        "  )\n",
        "  st.header(\"Food Assistance Chatbot\")\n",
        "  st.sidebar.title(\"Options\")\n",
        "\n",
        "def init_messages() -> None:\n",
        "  clear_button = st.sidebar.button(\"Clear Conversation\", key=\"clear\")\n",
        "  if 'processing' not in st.session_state:\n",
        "    st.session_state.processing = False\n",
        "\n",
        "  if clear_button or \"messages\" not in st.session_state:\n",
        "    st.session_state.messages = []\n",
        "    st.session_state.conversation = [\n",
        "    {\n",
        "      \"role\": \"system\",\n",
        "      \"content\": [\n",
        "        {\"type\": \"text\", \"text\": \"You are a home cook chef and nutritionist assistant. Your primary function is to provide users with diet plans, nutrition, recipe, and meal preparation instructions.\"}\n",
        "        ]\n",
        "      }]\n",
        "    st.session_state.image_list = []\n",
        "\n",
        "\n",
        "@st.cache_resource\n",
        "def load_all_model():\n",
        "  task_classifier_pipeline = pipeline(\"zero-shot-classification\", model=TASK_CLASSIFIER_MODEL_NAME)\n",
        "\n",
        "  clip_model = CLIPModel.from_pretrained(CLIPMODEL_NAME).to(get_device())\n",
        "  clip_processor = CLIPProcessor.from_pretrained(CLIPMODEL_NAME)\n",
        "\n",
        "  sentences_model = SentenceTransformer(SENTENCE_MINI_MODEL).to(get_device())\n",
        "\n",
        "  reranking_model = CrossEncoder('cross-encoder/ms-marco-MiniLM-L-6-v2')\n",
        "\n",
        "  bnb_config = BitsAndBytesConfig(\n",
        "      load_in_4bit=True,\n",
        "      bnb_4bit_quant_type=\"nf4\",\n",
        "      bnb_4bit_compute_dtype=torch.float16,\n",
        "  )\n",
        "\n",
        "  llm_model = LlavaNextForConditionalGeneration.from_pretrained(\n",
        "      \"llava-hf/llava-v1.6-mistral-7b-hf\",\n",
        "      quantization_config=bnb_config,\n",
        "      device_map=\"auto\"\n",
        "  )\n",
        "  llm_processor = AutoProcessor.from_pretrained(\"llava-hf/llava-v1.6-mistral-7b-hf\")\n",
        "\n",
        "  main_metadata_dict_list = get_metadata_dict_list(FOOD_DATABASE_PATH)\n",
        "  food_image_metadata_dict_list = create_food_image_metadata_dict_list(KAGGLE_PATH)\n",
        "  food_label_metadata_dict_list = food_image_metadata_dict_list\n",
        "\n",
        "  main_index = load_faiss_index(\"main_index_1745901394.7850068\")\n",
        "  food_label_index = load_faiss_index(\"food_label_clip_index_1745943408.8384023\")\n",
        "  with open(NLP_DATABASE / \"food_allergens.json\", \"r\", encoding=\"utf-8\") as f:\n",
        "      food_allergen_table = json.load(f)\n",
        "\n",
        "  food_allergy_list = list(set([metadata[\"allergy\"].strip() for metadata in food_allergen_table] + [metadata[\"name\"].strip() for metadata in food_allergen_table]))\n",
        "  return task_classifier_pipeline, clip_model, clip_processor, sentences_model, reranking_model, llm_model, llm_processor, main_metadata_dict_list, food_image_metadata_dict_list, food_label_metadata_dict_list, main_index, food_label_index, food_allergy_list\n",
        "\n",
        "init_page()\n",
        "\n",
        "start = time.time()\n",
        "task_classifier_pipeline, clip_model, clip_processor, sentences_model, reranking_model, llm_model, llm_processor,main_metadata_dict_list, food_image_metadata_dict_list, food_label_metadata_dict_list, main_index, food_label_index, food_allergy_list = load_all_model()\n",
        "print(f\"finished load {time.time() - start}\")\n",
        "\n",
        "def create_message():\n",
        "  messages = st.session_state.get(\"messages\", [])\n",
        "  for message in messages:\n",
        "    with st.chat_message(message[\"role\"]):\n",
        "      if isinstance(message[\"content\"], Image.Image):\n",
        "        st.image(message[\"content\"])\n",
        "      else:\n",
        "        st.markdown(message[\"content\"])\n",
        "\n",
        "def get_conversation_and_image():\n",
        "  conversation = st.session_state.get(\"conversation\", [\n",
        "    {\n",
        "      \"role\": \"system\",\n",
        "      \"content\": [\n",
        "        {\"type\": \"text\", \"text\": \"You are a home cook chef and nutritionist assistant. Your primary function is to provide users with diet plans, nutrition, recipe, and meal preparation instructions.\"}\n",
        "        ]\n",
        "      }])\n",
        "  image_list = st.session_state.get(\"image_list\", [])\n",
        "\n",
        "  return conversation, image_list\n",
        "\n",
        "\n",
        "\n",
        "# Function to set processing state to true\n",
        "def start_processing():\n",
        "    st.session_state.processing = True\n",
        "\n",
        "# Function to set processing state to false\n",
        "def end_processing():\n",
        "    st.session_state.processing = False\n",
        "\n",
        "def main():\n",
        "    init_messages()\n",
        "    create_message()\n",
        "\n",
        "    user_input = st.text_area(\"Input your question!\", height=68, disabled=st.session_state.processing)\n",
        "    image_input = st.file_uploader(\"Upload an image (optional)\", type=[\"jpg\", \"jpeg\", \"png\"], disabled=st.session_state.processing)\n",
        "    constraint_list = st_tags(label = \"Enter your allergy or food you want to avoid\",\n",
        "                  suggestions = food_allergy_list,\n",
        "                   text=\"Please enter to add more\",\n",
        "                   maxtags = 4)\n",
        "\n",
        "    if st.button(\"Submit\", disabled=st.session_state.processing):\n",
        "\n",
        "      start_processing()\n",
        "\n",
        "      if user_input == \"\" and image_input is None:\n",
        "        st.error(\"Please input either text or image\",icon=\"🚨\")\n",
        "      else:\n",
        "        image = Image.open(image_input) if image_input is not None else image_input\n",
        "        if image is not None:\n",
        "          st.session_state.messages.append({\"role\": \"user\", \"content\": image})\n",
        "        if user_input != \"\":\n",
        "          st.session_state.messages.append({\"role\": \"user\", \"content\": user_input})\n",
        "        with st.chat_message(\"assistant\"):\n",
        "          conversation, image_list = get_conversation_and_image()\n",
        "          streamer = talk_to_llm(user_input, image, conversation, image_list, constraint_list, True)\n",
        "          placeholder = st.empty()\n",
        "          full_response = \"\"\n",
        "          for chunk in streamer:\n",
        "            full_response += chunk\n",
        "            placeholder.markdown(full_response)\n",
        "          placeholder = st.empty()\n",
        "          conversation.append({\n",
        "          \"role\": \"assistant\",\n",
        "          \"content\": [\n",
        "              {\"type\": \"text\", \"text\": full_response}\n",
        "              ]\n",
        "            })\n",
        "          st.session_state.conversation = conversation\n",
        "        st.session_state.messages.append({\"role\": \"assistant\", \"content\": full_response})\n",
        "\n",
        "      end_processing()\n",
        "\n",
        "\n",
        "if __name__ == \"__main__\":\n",
        "    main()\n",
        "\n"
      ]
    },
    {
      "cell_type": "code",
      "execution_count": null,
      "metadata": {
        "colab": {
          "base_uri": "https://localhost:8080/"
        },
        "id": "WWb_BT2jVvbd",
        "outputId": "fc7d594d-1088-4d9c-a16a-543e1695767a"
      },
      "outputs": [
        {
          "name": "stdout",
          "output_type": "stream",
          "text": [
            "Overwriting app.py\n"
          ]
        }
      ],
      "source": [
        "\n"
      ]
    },
    {
      "cell_type": "code",
      "execution_count": null,
      "metadata": {
        "id": "OdNbg_wZa3PT"
      },
      "outputs": [],
      "source": [
        "import torch\n",
        "torch.cuda.empty_cache()\n"
      ]
    },
    {
      "cell_type": "code",
      "execution_count": null,
      "metadata": {
        "colab": {
          "base_uri": "https://localhost:8080/"
        },
        "id": "0z2ajf7ddiTy",
        "outputId": "7ef73eac-fea9-4b98-8cf2-a07623d22a0a"
      },
      "outputs": [
        {
          "output_type": "stream",
          "name": "stdout",
          "text": [
            "34.125.142.190"
          ]
        }
      ],
      "source": [
        "!curl https://loca.lt/mytunnelpassword"
      ]
    },
    {
      "cell_type": "code",
      "execution_count": null,
      "metadata": {
        "colab": {
          "base_uri": "https://localhost:8080/"
        },
        "id": "zbEG3bOpcjcb",
        "outputId": "419f5102-c06a-4ab6-93f5-446181bdb09c"
      },
      "outputs": [
        {
          "output_type": "stream",
          "name": "stdout",
          "text": [
            "\n",
            "Collecting usage statistics. To deactivate, set browser.gatherUsageStats to false.\n",
            "\u001b[0m\n",
            "\u001b[1G\u001b[0K⠙\u001b[1G\u001b[0K⠹\u001b[1G\u001b[0K⠸\u001b[1G\u001b[0K⠼\u001b[1G\u001b[0K⠴\u001b[0m\n",
            "\u001b[34m\u001b[1m  You can now view your Streamlit app in your browser.\u001b[0m\n",
            "\u001b[0m\n",
            "\u001b[34m  Local URL: \u001b[0m\u001b[1mhttp://localhost:8501\u001b[0m\n",
            "\u001b[34m  Network URL: \u001b[0m\u001b[1mhttp://172.28.0.12:8501\u001b[0m\n",
            "\u001b[34m  External URL: \u001b[0m\u001b[1mhttp://34.125.142.190:8501\u001b[0m\n",
            "\u001b[0m\n",
            "\u001b[1G\u001b[0K⠦\u001b[1G\u001b[0Kyour url is: https://icy-baths-cheer.loca.lt\n",
            "2025-05-03 17:47:37.084635: E external/local_xla/xla/stream_executor/cuda/cuda_fft.cc:477] Unable to register cuFFT factory: Attempting to register factory for plugin cuFFT when one has already been registered\n",
            "WARNING: All log messages before absl::InitializeLog() is called are written to STDERR\n",
            "E0000 00:00:1746294457.117240   17135 cuda_dnn.cc:8310] Unable to register cuDNN factory: Attempting to register factory for plugin cuDNN when one has already been registered\n",
            "E0000 00:00:1746294457.127135   17135 cuda_blas.cc:1418] Unable to register cuBLAS factory: Attempting to register factory for plugin cuBLAS when one has already been registered\n",
            "2025-05-03 17:47:37.166543: I tensorflow/core/platform/cpu_feature_guard.cc:210] This TensorFlow binary is optimized to use available CPU instructions in performance-critical operations.\n",
            "To enable the following instructions: AVX2 AVX512F FMA, in other operations, rebuild TensorFlow with the appropriate compiler flags.\n",
            "done import\n",
            "Device set to use cuda:0\n",
            "Using a slow image processor as `use_fast` is unset and a slow processor was saved with this model. `use_fast=True` will be the default behavior in v4.52, even if the model was saved with a slow processor. This will result in minor differences in outputs. You'll still be able to use a slow processor with `use_fast=False`.\n",
            "Loading checkpoint shards: 100% 4/4 [01:14<00:00, 18.53s/it]\n",
            "Using a slow image processor as `use_fast` is unset and a slow processor was saved with this model. `use_fast=True` will be the default behavior in v4.52, even if the model was saved with a slow processor. This will result in minor differences in outputs. You'll still be able to use a slow processor with `use_fast=False`.\n",
            "100% 25251/25251 [00:09<00:00, 2717.70it/s]\n",
            "finished load 155.46100687980652\n",
            "2025-05-03 17:50:21.221 Examining the path of torch.classes raised:\n",
            "Traceback (most recent call last):\n",
            "  File \"/usr/local/lib/python3.11/dist-packages/streamlit/web/bootstrap.py\", line 347, in run\n",
            "    if asyncio.get_running_loop().is_running():\n",
            "       ^^^^^^^^^^^^^^^^^^^^^^^^^^\n",
            "RuntimeError: no running event loop\n",
            "\n",
            "During handling of the above exception, another exception occurred:\n",
            "\n",
            "Traceback (most recent call last):\n",
            "  File \"/usr/local/lib/python3.11/dist-packages/streamlit/watcher/local_sources_watcher.py\", line 217, in get_module_paths\n",
            "    potential_paths = extract_paths(module)\n",
            "                      ^^^^^^^^^^^^^^^^^^^^^\n",
            "  File \"/usr/local/lib/python3.11/dist-packages/streamlit/watcher/local_sources_watcher.py\", line 210, in <lambda>\n",
            "    lambda m: list(m.__path__._path),\n",
            "                   ^^^^^^^^^^^^^^^^\n",
            "  File \"/usr/local/lib/python3.11/dist-packages/torch/_classes.py\", line 13, in __getattr__\n",
            "    proxy = torch._C._get_custom_class_python_wrapper(self.name, attr)\n",
            "            ^^^^^^^^^^^^^^^^^^^^^^^^^^^^^^^^^^^^^^^^^^^^^^^^^^^^^^^^^^\n",
            "RuntimeError: Tried to instantiate class '__path__._path', but it does not exist! Ensure that it is registered via torch::class_\n",
            "done import\n",
            "finished load 8.177757263183594e-05\n",
            "done import\n",
            "finished load 9.655952453613281e-05\n",
            "done import\n",
            "finished load 6.794929504394531e-05\n",
            "done import\n",
            "finished load 6.818771362304688e-05\n",
            "done import\n",
            "finished load 8.130073547363281e-05\n",
            "{'sequence': 'I have egg, bread, and tomato. Give me a recipe using these ingredients.', 'labels': ['recipe provider', 'nutrition', 'food tag', 'diet meal planner', 'allergen avoidance'], 'scores': [0.9254130125045776, 0.8699186444282532, 0.6172446012496948, 0.20968425273895264, 0.02216261252760887]}\n",
            "intention_query='I have egg, bread, and tomato. Give me a recipe using these ingredients.'\n",
            "constraint_list=['cheese']\n",
            "text\n",
            "100% 1/1 [00:00<00:00,  8.44it/s]\n",
            "current non discarded count: 3\n",
            "current discarded count: 2\n",
            "current non discarded count: 3\n",
            "current discarded count: 4\n",
            "current non discarded count: 3\n",
            "current discarded count: 6\n",
            "current non discarded count: 3\n",
            "current discarded count: 8\n",
            "current non discarded count: 4\n",
            "current discarded count: 9\n",
            "text content: ['[**Food Name**: Eggy Bread With Crisp Bacon and Spiked Tomatoes\\n**User Rating**: missing stars\\n**Food Category**: Breakfast\\n**Cook Time**: 0:15:00\\n**Preparation Time**: 0:15:00\\n**Ingredient Parts**: eggs, smoked streaky bacon, butter, olive oil, tomatoes, sugar, basil leaves\\n**Ingredient Quantities**: 4, missing, 4, 12, 2, 2, 4, 2, 2, 2\\n**Nutrition**:\\n- Calories: 422.0 cals\\n- Carbohydrate: 22.7 g\\n- Protein: 18.8 g\\n- Fat: 28.7 g\\n- Saturated Fat: 9.7 g\\n- Fiber: 2.9 g\\n- Cholesterol: 253.2 mg\\n- Sodium: 844.9 mg\\n- Sugar: 8.4 g\\n**Serving**: 4.0 people\\n**Recipe Instruction**: Preheat the broiler., Beat the eggs in a large bowl and season well., Pour into a large shallow dish, dip the slices of bread in the egg mixture and leave for a few minutes to soak., Meanwhile broil the bacon for 1-2 minutes on each side until crisp. Keep warm in a low oven., In a large frying pan, melt the butter with 1 tablespoon of the olive oil., Add half of the soaked bread and fry for 2 minutes on each side or until crisp and golden., Meanwhile heat the remaining olive oil in a separate frying pan., Add the tomato slices and sprinkle over the sugar., Fry for 1-2 minutes on each side or until the tomato slices have caramelized and softened, but still retaining their shape. Shake over the chilli oil and remove from the heat., To serve, place two pieces of eggy bread, slightly overlapping on the centre of each plate and top each with 3 slices of bacon., Place a spoonful of the tomatoes to the side of the bread and tear over the basil., Serve immediately.\\n**Not Suitable for People Who has Allergy**: Milk allergy / Lactose intolerance, Poultry Allergy, Olive oil, Sugar Allergy / Intolerance, Nightshade Allergy]\\n\\n', '[**Food Name**: Sun-Dried Tomato and Onion Bread\\n**User Rating**: 5.0 stars\\n**Food Category**: Yeast Breads\\n**Cook Time**: 1 day, 12:00:00\\n**Preparation Time**: 0:30:00\\n**Ingredient Parts**: bread flour, salt, active dry yeast, sugar, warm water, extra virgin olive oil, onion, garlic clove, sun-dried tomatoes packed in oil, basil leaves, fresh ground pepper, milk, coarse sea salt, basil leaves\\n**Ingredient Quantities**: 4, 1, 1, 1, 1, 4, 1, 1, 4, 9, missing, missing, 1, missing\\n**Nutrition**:\\n- Calories: 2632.8 cals\\n- Carbohydrate: 428.0 g\\n- Protein: 61.9 g\\n- Fat: 75.4 g\\n- Saturated Fat: 10.5 g\\n- Fiber: 24.1 g\\n- Cholesterol: 0.0 mg\\n- Sodium: 2806.2 mg\\n- Sugar: 10.3 g\\n**Serving**: missing people\\n**Recipe Instruction**: Sift flour and salt into a large bowl., In a small bowl, dissolve yeast and sugar in warm water., Let stand 5-10 minutes until frothy., Stir 3 tbsp olive oil into yeast mixture., Using a wooden spoon, gradually stir yeast mixture into flour to give a soft, but not sticky, dough., Knead on a lightly flour surfgace 5 minutes until smooth and elastic., Put dough into an oiled medium-size bowl., Cover and let rise in a warm place 35-40 minutes until doubled in size., Oil a baking sheet., Heat remaining 1 tbsp olive oil in a skillet, add onion and garlic., Cook 3 minutes until softened., Remove skillet from heat and set aside., turn out dough onto a lightly floured surface and cut in half., Roll out to give 2 rectangles each about 12 x 9., Transfer 1 piece to the baking sheet and prick surface with fork., Spread cooked onion mixture over pricked dough, leaving a 1/2 inch boarder around the edge., Arrange sun-dried tomatoes and basil leaves over onion and season with the ground pepper., Moisten edges of the dough with a little cold water and cover with second sheet of dough., Crimp edges to seal., Using a sharp knife make a lattice pattern on surface of dough., Brush with a little milk to glaze and sprinkle with coarse sea salt., Let rise 20 minutes., Preheat oven to 450., Bake loaf in preheated oven about 25 minutes until golden-brown and underside is firm and lightly colored., Serve warm or cold., Cut into pieces and garnish with basil.\\n**Not Suitable for People Who has Allergy**: Allium Allergy, Milk allergy / Lactose intolerance, Olive oil, Allium Allergy, Sugar Allergy / Intolerance, Nightshade Allergy]\\n\\n', '[**Food Name**: What-to-Do-with-All-the Egg-Yolks Bread\\n**User Rating**: 5.0 stars\\n**Food Category**: Breads\\n**Cook Time**: missing\\n**Preparation Time**: 0:00:00\\n**Ingredient Parts**: active dry yeast, sugar, water, skim milk, butter, canola oil, orange zest, salt, all-purpose flour, sun-dried cranberries, pecans\\n**Ingredient Quantities**: 2 1/2, 1/4, 1/4, 3/4, 1/4, 1/2, 1, 1, 4, 3 1/2 - 4, 3/4, 1\\n**Nutrition**:\\n- Calories: 531.9 cals\\n- Carbohydrate: 53.3 g\\n- Protein: 9.6 g\\n- Fat: 31.9 g\\n- Saturated Fat: 6.4 g\\n- Fiber: 3.6 g\\n- Cholesterol: 98.7 mg\\n- Sodium: 360.8 mg\\n- Sugar: 7.3 g\\n**Serving**: 8.0 people\\n**Recipe Instruction**: Butter a 10\" tube pan and set aside.  In a large mixing bowl, combine the yeast, 1 tsp., of the sugar and the warm  water., Set aside for 10 minutes., Combine the milk, butter, oil, zest,  remainider of the sugar and salt. Stir into the yeast mixture. Add the egg  yolks, stirring well., Add the flour, 1/2 cup at a time, stirring well after  each addition to incorporate the flour thoroughly., Knead 5-10 minutes, until  the dough is smooth, elastic and satiny., Knead in the cran  berries and  pecans., Put the dough back in the bowl, cover the bowl and let the dough  rise at room temperature until it is doubled in bulk., Using a wooden spoon,  beat down the risen dough for about a minute.  Place the dough into the buttered tube pan and allow it to rise at room  temperature until it is doubled in bulk., Preheat the oven to 375 ., Bake the bread for 45-50 minutes or until it is  dark golden brown and sounds hollow when tapped., Place on a rack to cool or  serve warm., Once cooled, the bread is also excellent sliced and toasted., Recipe By : Diane Mott Davidson, Killer Pancakes\\n**Not Suitable for People Who has Allergy**: Milk allergy / Lactose intolerance, Canola oil, Milk allergy / Lactose intolerance, Citrus Allergy, Nut Allergy, Sugar Allergy / Intolerance]\\n\\n', '[**Food Name**: Olive and Sun-Dried Tomato Bread\\n**User Rating**: 5.0 stars\\n**Food Category**: Quick Breads\\n**Cook Time**: 0:45:00\\n**Preparation Time**: 0:15:00\\n**Ingredient Parts**: self-raising flour, black olives, tomatoes, low-fat margarine, olive oil, eggs, low-fat milk\\n**Ingredient Quantities**: 2, 1/4, 2, 1/4, 2, 2/3\\n**Nutrition**:\\n- Calories: 1143.0 cals\\n- Carbohydrate: 197.4 g\\n- Protein: 43.3 g\\n- Fat: 17.6 g\\n- Saturated Fat: 5.0 g\\n- Fiber: 8.1 g\\n- Cholesterol: 431.1 mg\\n- Sodium: 3680.7 mg\\n- Sugar: 10.4 g\\n**Serving**: missing people\\n**Recipe Instruction**: Preheat oven to 190 Degrees C and line 23 x 13 cm loaf tin with baking paper., Mix together all ingredients and pour into tin., Bake for 45 minutes., Cool in tin then serve sliced.\\n**Not Suitable for People Who has Allergy**: Poultry Allergy, Milk allergy / Lactose intolerance, Olive oil, Nightshade Allergy]\\n\\n', '[**Food Name**: Eggs With Tomatoes -- Avgha Me Tomatoes\\n**User Rating**: 4.0 stars\\n**Food Category**: Lunch/Snacks\\n**Cook Time**: 0:05:00\\n**Preparation Time**: 0:10:00\\n**Ingredient Parts**: olive oil, onion, tomatoes, sugar, eggs, salt, fresh ground black pepper\\n**Ingredient Quantities**: 1/2, 1, 1 1/2, 1, 6, missing, missing\\n**Nutrition**:\\n- Calories: 526.9 cals\\n- Carbohydrate: 14.8 g\\n- Protein: 14.9 g\\n- Fat: 46.4 g\\n- Saturated Fat: 8.2 g\\n- Fiber: 3.2 g\\n- Cholesterol: 423.0 mg\\n- Sodium: 153.2 mg\\n- Sugar: 9.7 g\\n**Serving**: missing people\\n**Recipe Instruction**: Heat oil in a large frying pan. Add the onion and cook until soft., Add tomatoes, salt, pepper and sugar. Simmer for 30 minutes or until tomatoes are soft., Add the eggs to tomato mixture one at a time, trying not to crack the yolk.  Cover and cook for about 3 to 4 minutes.\\n**Not Suitable for People Who has Allergy**: Poultry Allergy, Olive oil, Allium Allergy, Sugar Allergy / Intolerance, Nightshade Allergy]\\n\\n']\n",
            "len text_content: 5\n",
            "before\n",
            "['[**Food Name**: Eggy Bread With Crisp Bacon and Spiked Tomatoes\\n**User Rating**: missing stars\\n**Food Category**: Breakfast\\n**Cook Time**: 0:15:00\\n**Preparation Time**: 0:15:00\\n**Ingredient Parts**: eggs, smoked streaky bacon, butter, olive oil, tomatoes, sugar, basil leaves\\n**Ingredient Quantities**: 4, missing, 4, 12, 2, 2, 4, 2, 2, 2\\n**Nutrition**:\\n- Calories: 422.0 cals\\n- Carbohydrate: 22.7 g\\n- Protein: 18.8 g\\n- Fat: 28.7 g\\n- Saturated Fat: 9.7 g\\n- Fiber: 2.9 g\\n- Cholesterol: 253.2 mg\\n- Sodium: 844.9 mg\\n- Sugar: 8.4 g\\n**Serving**: 4.0 people\\n**Recipe Instruction**: Preheat the broiler., Beat the eggs in a large bowl and season well., Pour into a large shallow dish, dip the slices of bread in the egg mixture and leave for a few minutes to soak., Meanwhile broil the bacon for 1-2 minutes on each side until crisp. Keep warm in a low oven., In a large frying pan, melt the butter with 1 tablespoon of the olive oil., Add half of the soaked bread and fry for 2 minutes on each side or until crisp and golden., Meanwhile heat the remaining olive oil in a separate frying pan., Add the tomato slices and sprinkle over the sugar., Fry for 1-2 minutes on each side or until the tomato slices have caramelized and softened, but still retaining their shape. Shake over the chilli oil and remove from the heat., To serve, place two pieces of eggy bread, slightly overlapping on the centre of each plate and top each with 3 slices of bacon., Place a spoonful of the tomatoes to the side of the bread and tear over the basil., Serve immediately.\\n**Not Suitable for People Who has Allergy**: Milk allergy / Lactose intolerance, Poultry Allergy, Olive oil, Sugar Allergy / Intolerance, Nightshade Allergy]\\n\\n', '[**Food Name**: Sun-Dried Tomato and Onion Bread\\n**User Rating**: 5.0 stars\\n**Food Category**: Yeast Breads\\n**Cook Time**: 1 day, 12:00:00\\n**Preparation Time**: 0:30:00\\n**Ingredient Parts**: bread flour, salt, active dry yeast, sugar, warm water, extra virgin olive oil, onion, garlic clove, sun-dried tomatoes packed in oil, basil leaves, fresh ground pepper, milk, coarse sea salt, basil leaves\\n**Ingredient Quantities**: 4, 1, 1, 1, 1, 4, 1, 1, 4, 9, missing, missing, 1, missing\\n**Nutrition**:\\n- Calories: 2632.8 cals\\n- Carbohydrate: 428.0 g\\n- Protein: 61.9 g\\n- Fat: 75.4 g\\n- Saturated Fat: 10.5 g\\n- Fiber: 24.1 g\\n- Cholesterol: 0.0 mg\\n- Sodium: 2806.2 mg\\n- Sugar: 10.3 g\\n**Serving**: missing people\\n**Recipe Instruction**: Sift flour and salt into a large bowl., In a small bowl, dissolve yeast and sugar in warm water., Let stand 5-10 minutes until frothy., Stir 3 tbsp olive oil into yeast mixture., Using a wooden spoon, gradually stir yeast mixture into flour to give a soft, but not sticky, dough., Knead on a lightly flour surfgace 5 minutes until smooth and elastic., Put dough into an oiled medium-size bowl., Cover and let rise in a warm place 35-40 minutes until doubled in size., Oil a baking sheet., Heat remaining 1 tbsp olive oil in a skillet, add onion and garlic., Cook 3 minutes until softened., Remove skillet from heat and set aside., turn out dough onto a lightly floured surface and cut in half., Roll out to give 2 rectangles each about 12 x 9., Transfer 1 piece to the baking sheet and prick surface with fork., Spread cooked onion mixture over pricked dough, leaving a 1/2 inch boarder around the edge., Arrange sun-dried tomatoes and basil leaves over onion and season with the ground pepper., Moisten edges of the dough with a little cold water and cover with second sheet of dough., Crimp edges to seal., Using a sharp knife make a lattice pattern on surface of dough., Brush with a little milk to glaze and sprinkle with coarse sea salt., Let rise 20 minutes., Preheat oven to 450., Bake loaf in preheated oven about 25 minutes until golden-brown and underside is firm and lightly colored., Serve warm or cold., Cut into pieces and garnish with basil.\\n**Not Suitable for People Who has Allergy**: Allium Allergy, Milk allergy / Lactose intolerance, Olive oil, Allium Allergy, Sugar Allergy / Intolerance, Nightshade Allergy]\\n\\n', '[**Food Name**: What-to-Do-with-All-the Egg-Yolks Bread\\n**User Rating**: 5.0 stars\\n**Food Category**: Breads\\n**Cook Time**: missing\\n**Preparation Time**: 0:00:00\\n**Ingredient Parts**: active dry yeast, sugar, water, skim milk, butter, canola oil, orange zest, salt, all-purpose flour, sun-dried cranberries, pecans\\n**Ingredient Quantities**: 2 1/2, 1/4, 1/4, 3/4, 1/4, 1/2, 1, 1, 4, 3 1/2 - 4, 3/4, 1\\n**Nutrition**:\\n- Calories: 531.9 cals\\n- Carbohydrate: 53.3 g\\n- Protein: 9.6 g\\n- Fat: 31.9 g\\n- Saturated Fat: 6.4 g\\n- Fiber: 3.6 g\\n- Cholesterol: 98.7 mg\\n- Sodium: 360.8 mg\\n- Sugar: 7.3 g\\n**Serving**: 8.0 people\\n**Recipe Instruction**: Butter a 10\" tube pan and set aside.  In a large mixing bowl, combine the yeast, 1 tsp., of the sugar and the warm  water., Set aside for 10 minutes., Combine the milk, butter, oil, zest,  remainider of the sugar and salt. Stir into the yeast mixture. Add the egg  yolks, stirring well., Add the flour, 1/2 cup at a time, stirring well after  each addition to incorporate the flour thoroughly., Knead 5-10 minutes, until  the dough is smooth, elastic and satiny., Knead in the cran  berries and  pecans., Put the dough back in the bowl, cover the bowl and let the dough  rise at room temperature until it is doubled in bulk., Using a wooden spoon,  beat down the risen dough for about a minute.  Place the dough into the buttered tube pan and allow it to rise at room  temperature until it is doubled in bulk., Preheat the oven to 375 ., Bake the bread for 45-50 minutes or until it is  dark golden brown and sounds hollow when tapped., Place on a rack to cool or  serve warm., Once cooled, the bread is also excellent sliced and toasted., Recipe By : Diane Mott Davidson, Killer Pancakes\\n**Not Suitable for People Who has Allergy**: Milk allergy / Lactose intolerance, Canola oil, Milk allergy / Lactose intolerance, Citrus Allergy, Nut Allergy, Sugar Allergy / Intolerance]\\n\\n', '[**Food Name**: Olive and Sun-Dried Tomato Bread\\n**User Rating**: 5.0 stars\\n**Food Category**: Quick Breads\\n**Cook Time**: 0:45:00\\n**Preparation Time**: 0:15:00\\n**Ingredient Parts**: self-raising flour, black olives, tomatoes, low-fat margarine, olive oil, eggs, low-fat milk\\n**Ingredient Quantities**: 2, 1/4, 2, 1/4, 2, 2/3\\n**Nutrition**:\\n- Calories: 1143.0 cals\\n- Carbohydrate: 197.4 g\\n- Protein: 43.3 g\\n- Fat: 17.6 g\\n- Saturated Fat: 5.0 g\\n- Fiber: 8.1 g\\n- Cholesterol: 431.1 mg\\n- Sodium: 3680.7 mg\\n- Sugar: 10.4 g\\n**Serving**: missing people\\n**Recipe Instruction**: Preheat oven to 190 Degrees C and line 23 x 13 cm loaf tin with baking paper., Mix together all ingredients and pour into tin., Bake for 45 minutes., Cool in tin then serve sliced.\\n**Not Suitable for People Who has Allergy**: Poultry Allergy, Milk allergy / Lactose intolerance, Olive oil, Nightshade Allergy]\\n\\n', '[**Food Name**: Eggs With Tomatoes -- Avgha Me Tomatoes\\n**User Rating**: 4.0 stars\\n**Food Category**: Lunch/Snacks\\n**Cook Time**: 0:05:00\\n**Preparation Time**: 0:10:00\\n**Ingredient Parts**: olive oil, onion, tomatoes, sugar, eggs, salt, fresh ground black pepper\\n**Ingredient Quantities**: 1/2, 1, 1 1/2, 1, 6, missing, missing\\n**Nutrition**:\\n- Calories: 526.9 cals\\n- Carbohydrate: 14.8 g\\n- Protein: 14.9 g\\n- Fat: 46.4 g\\n- Saturated Fat: 8.2 g\\n- Fiber: 3.2 g\\n- Cholesterol: 423.0 mg\\n- Sodium: 153.2 mg\\n- Sugar: 9.7 g\\n**Serving**: missing people\\n**Recipe Instruction**: Heat oil in a large frying pan. Add the onion and cook until soft., Add tomatoes, salt, pepper and sugar. Simmer for 30 minutes or until tomatoes are soft., Add the eggs to tomato mixture one at a time, trying not to crack the yolk.  Cover and cook for about 3 to 4 minutes.\\n**Not Suitable for People Who has Allergy**: Poultry Allergy, Olive oil, Allium Allergy, Sugar Allergy / Intolerance, Nightshade Allergy]\\n\\n']\n",
            "after\n",
            "['[**Food Name**: Eggy Bread With Crisp Bacon and Spiked Tomatoes\\n**User Rating**: missing stars\\n**Food Category**: Breakfast\\n**Cook Time**: 0:15:00\\n**Preparation Time**: 0:15:00\\n**Ingredient Parts**: eggs, smoked streaky bacon, butter, olive oil, tomatoes, sugar, basil leaves\\n**Ingredient Quantities**: 4, missing, 4, 12, 2, 2, 4, 2, 2, 2\\n**Nutrition**:\\n- Calories: 422.0 cals\\n- Carbohydrate: 22.7 g\\n- Protein: 18.8 g\\n- Fat: 28.7 g\\n- Saturated Fat: 9.7 g\\n- Fiber: 2.9 g\\n- Cholesterol: 253.2 mg\\n- Sodium: 844.9 mg\\n- Sugar: 8.4 g\\n**Serving**: 4.0 people\\n**Recipe Instruction**: Preheat the broiler., Beat the eggs in a large bowl and season well., Pour into a large shallow dish, dip the slices of bread in the egg mixture and leave for a few minutes to soak., Meanwhile broil the bacon for 1-2 minutes on each side until crisp. Keep warm in a low oven., In a large frying pan, melt the butter with 1 tablespoon of the olive oil., Add half of the soaked bread and fry for 2 minutes on each side or until crisp and golden., Meanwhile heat the remaining olive oil in a separate frying pan., Add the tomato slices and sprinkle over the sugar., Fry for 1-2 minutes on each side or until the tomato slices have caramelized and softened, but still retaining their shape. Shake over the chilli oil and remove from the heat., To serve, place two pieces of eggy bread, slightly overlapping on the centre of each plate and top each with 3 slices of bacon., Place a spoonful of the tomatoes to the side of the bread and tear over the basil., Serve immediately.\\n**Not Suitable for People Who has Allergy**: Milk allergy / Lactose intolerance, Poultry Allergy, Olive oil, Sugar Allergy / Intolerance, Nightshade Allergy]\\n\\n', '[**Food Name**: Olive and Sun-Dried Tomato Bread\\n**User Rating**: 5.0 stars\\n**Food Category**: Quick Breads\\n**Cook Time**: 0:45:00\\n**Preparation Time**: 0:15:00\\n**Ingredient Parts**: self-raising flour, black olives, tomatoes, low-fat margarine, olive oil, eggs, low-fat milk\\n**Ingredient Quantities**: 2, 1/4, 2, 1/4, 2, 2/3\\n**Nutrition**:\\n- Calories: 1143.0 cals\\n- Carbohydrate: 197.4 g\\n- Protein: 43.3 g\\n- Fat: 17.6 g\\n- Saturated Fat: 5.0 g\\n- Fiber: 8.1 g\\n- Cholesterol: 431.1 mg\\n- Sodium: 3680.7 mg\\n- Sugar: 10.4 g\\n**Serving**: missing people\\n**Recipe Instruction**: Preheat oven to 190 Degrees C and line 23 x 13 cm loaf tin with baking paper., Mix together all ingredients and pour into tin., Bake for 45 minutes., Cool in tin then serve sliced.\\n**Not Suitable for People Who has Allergy**: Poultry Allergy, Milk allergy / Lactose intolerance, Olive oil, Nightshade Allergy]\\n\\n', '[**Food Name**: Eggs With Tomatoes -- Avgha Me Tomatoes\\n**User Rating**: 4.0 stars\\n**Food Category**: Lunch/Snacks\\n**Cook Time**: 0:05:00\\n**Preparation Time**: 0:10:00\\n**Ingredient Parts**: olive oil, onion, tomatoes, sugar, eggs, salt, fresh ground black pepper\\n**Ingredient Quantities**: 1/2, 1, 1 1/2, 1, 6, missing, missing\\n**Nutrition**:\\n- Calories: 526.9 cals\\n- Carbohydrate: 14.8 g\\n- Protein: 14.9 g\\n- Fat: 46.4 g\\n- Saturated Fat: 8.2 g\\n- Fiber: 3.2 g\\n- Cholesterol: 423.0 mg\\n- Sodium: 153.2 mg\\n- Sugar: 9.7 g\\n**Serving**: missing people\\n**Recipe Instruction**: Heat oil in a large frying pan. Add the onion and cook until soft., Add tomatoes, salt, pepper and sugar. Simmer for 30 minutes or until tomatoes are soft., Add the eggs to tomato mixture one at a time, trying not to crack the yolk.  Cover and cook for about 3 to 4 minutes.\\n**Not Suitable for People Who has Allergy**: Poultry Allergy, Olive oil, Allium Allergy, Sugar Allergy / Intolerance, Nightshade Allergy]\\n\\n', '[**Food Name**: Sun-Dried Tomato and Onion Bread\\n**User Rating**: 5.0 stars\\n**Food Category**: Yeast Breads\\n**Cook Time**: 1 day, 12:00:00\\n**Preparation Time**: 0:30:00\\n**Ingredient Parts**: bread flour, salt, active dry yeast, sugar, warm water, extra virgin olive oil, onion, garlic clove, sun-dried tomatoes packed in oil, basil leaves, fresh ground pepper, milk, coarse sea salt, basil leaves\\n**Ingredient Quantities**: 4, 1, 1, 1, 1, 4, 1, 1, 4, 9, missing, missing, 1, missing\\n**Nutrition**:\\n- Calories: 2632.8 cals\\n- Carbohydrate: 428.0 g\\n- Protein: 61.9 g\\n- Fat: 75.4 g\\n- Saturated Fat: 10.5 g\\n- Fiber: 24.1 g\\n- Cholesterol: 0.0 mg\\n- Sodium: 2806.2 mg\\n- Sugar: 10.3 g\\n**Serving**: missing people\\n**Recipe Instruction**: Sift flour and salt into a large bowl., In a small bowl, dissolve yeast and sugar in warm water., Let stand 5-10 minutes until frothy., Stir 3 tbsp olive oil into yeast mixture., Using a wooden spoon, gradually stir yeast mixture into flour to give a soft, but not sticky, dough., Knead on a lightly flour surfgace 5 minutes until smooth and elastic., Put dough into an oiled medium-size bowl., Cover and let rise in a warm place 35-40 minutes until doubled in size., Oil a baking sheet., Heat remaining 1 tbsp olive oil in a skillet, add onion and garlic., Cook 3 minutes until softened., Remove skillet from heat and set aside., turn out dough onto a lightly floured surface and cut in half., Roll out to give 2 rectangles each about 12 x 9., Transfer 1 piece to the baking sheet and prick surface with fork., Spread cooked onion mixture over pricked dough, leaving a 1/2 inch boarder around the edge., Arrange sun-dried tomatoes and basil leaves over onion and season with the ground pepper., Moisten edges of the dough with a little cold water and cover with second sheet of dough., Crimp edges to seal., Using a sharp knife make a lattice pattern on surface of dough., Brush with a little milk to glaze and sprinkle with coarse sea salt., Let rise 20 minutes., Preheat oven to 450., Bake loaf in preheated oven about 25 minutes until golden-brown and underside is firm and lightly colored., Serve warm or cold., Cut into pieces and garnish with basil.\\n**Not Suitable for People Who has Allergy**: Allium Allergy, Milk allergy / Lactose intolerance, Olive oil, Allium Allergy, Sugar Allergy / Intolerance, Nightshade Allergy]\\n\\n', '[**Food Name**: What-to-Do-with-All-the Egg-Yolks Bread\\n**User Rating**: 5.0 stars\\n**Food Category**: Breads\\n**Cook Time**: missing\\n**Preparation Time**: 0:00:00\\n**Ingredient Parts**: active dry yeast, sugar, water, skim milk, butter, canola oil, orange zest, salt, all-purpose flour, sun-dried cranberries, pecans\\n**Ingredient Quantities**: 2 1/2, 1/4, 1/4, 3/4, 1/4, 1/2, 1, 1, 4, 3 1/2 - 4, 3/4, 1\\n**Nutrition**:\\n- Calories: 531.9 cals\\n- Carbohydrate: 53.3 g\\n- Protein: 9.6 g\\n- Fat: 31.9 g\\n- Saturated Fat: 6.4 g\\n- Fiber: 3.6 g\\n- Cholesterol: 98.7 mg\\n- Sodium: 360.8 mg\\n- Sugar: 7.3 g\\n**Serving**: 8.0 people\\n**Recipe Instruction**: Butter a 10\" tube pan and set aside.  In a large mixing bowl, combine the yeast, 1 tsp., of the sugar and the warm  water., Set aside for 10 minutes., Combine the milk, butter, oil, zest,  remainider of the sugar and salt. Stir into the yeast mixture. Add the egg  yolks, stirring well., Add the flour, 1/2 cup at a time, stirring well after  each addition to incorporate the flour thoroughly., Knead 5-10 minutes, until  the dough is smooth, elastic and satiny., Knead in the cran  berries and  pecans., Put the dough back in the bowl, cover the bowl and let the dough  rise at room temperature until it is doubled in bulk., Using a wooden spoon,  beat down the risen dough for about a minute.  Place the dough into the buttered tube pan and allow it to rise at room  temperature until it is doubled in bulk., Preheat the oven to 375 ., Bake the bread for 45-50 minutes or until it is  dark golden brown and sounds hollow when tapped., Place on a rack to cool or  serve warm., Once cooled, the bread is also excellent sliced and toasted., Recipe By : Diane Mott Davidson, Killer Pancakes\\n**Not Suitable for People Who has Allergy**: Milk allergy / Lactose intolerance, Canola oil, Milk allergy / Lactose intolerance, Citrus Allergy, Nut Allergy, Sugar Allergy / Intolerance]\\n\\n']\n",
            "conversation\n",
            "[{'role': 'system', 'content': [{'type': 'text', 'text': 'You are a home cook chef and nutritionist assistant. Your primary function is to provide users with diet plans, nutrition, recipe, and meal preparation instructions.'}]}, {'role': 'user', 'content': [{'type': 'text', 'text': 'Given the query: \\'I have egg, bread, and tomato. Give me a recipe using these ingredients. Avoid / without cheese.\\' and the following relevant snippets:\\n\\n  [**Food Name**: Eggy Bread With Crisp Bacon and Spiked Tomatoes\\n**User Rating**: missing stars\\n**Food Category**: Breakfast\\n**Cook Time**: 0:15:00\\n**Preparation Time**: 0:15:00\\n**Ingredient Parts**: eggs, smoked streaky bacon, butter, olive oil, tomatoes, sugar, basil leaves\\n**Ingredient Quantities**: 4, missing, 4, 12, 2, 2, 4, 2, 2, 2\\n**Nutrition**:\\n- Calories: 422.0 cals\\n- Carbohydrate: 22.7 g\\n- Protein: 18.8 g\\n- Fat: 28.7 g\\n- Saturated Fat: 9.7 g\\n- Fiber: 2.9 g\\n- Cholesterol: 253.2 mg\\n- Sodium: 844.9 mg\\n- Sugar: 8.4 g\\n**Serving**: 4.0 people\\n**Recipe Instruction**: Preheat the broiler., Beat the eggs in a large bowl and season well., Pour into a large shallow dish, dip the slices of bread in the egg mixture and leave for a few minutes to soak., Meanwhile broil the bacon for 1-2 minutes on each side until crisp. Keep warm in a low oven., In a large frying pan, melt the butter with 1 tablespoon of the olive oil., Add half of the soaked bread and fry for 2 minutes on each side or until crisp and golden., Meanwhile heat the remaining olive oil in a separate frying pan., Add the tomato slices and sprinkle over the sugar., Fry for 1-2 minutes on each side or until the tomato slices have caramelized and softened, but still retaining their shape. Shake over the chilli oil and remove from the heat., To serve, place two pieces of eggy bread, slightly overlapping on the centre of each plate and top each with 3 slices of bacon., Place a spoonful of the tomatoes to the side of the bread and tear over the basil., Serve immediately.\\n**Not Suitable for People Who has Allergy**: Milk allergy / Lactose intolerance, Poultry Allergy, Olive oil, Sugar Allergy / Intolerance, Nightshade Allergy]\\n\\n[**Food Name**: Olive and Sun-Dried Tomato Bread\\n**User Rating**: 5.0 stars\\n**Food Category**: Quick Breads\\n**Cook Time**: 0:45:00\\n**Preparation Time**: 0:15:00\\n**Ingredient Parts**: self-raising flour, black olives, tomatoes, low-fat margarine, olive oil, eggs, low-fat milk\\n**Ingredient Quantities**: 2, 1/4, 2, 1/4, 2, 2/3\\n**Nutrition**:\\n- Calories: 1143.0 cals\\n- Carbohydrate: 197.4 g\\n- Protein: 43.3 g\\n- Fat: 17.6 g\\n- Saturated Fat: 5.0 g\\n- Fiber: 8.1 g\\n- Cholesterol: 431.1 mg\\n- Sodium: 3680.7 mg\\n- Sugar: 10.4 g\\n**Serving**: missing people\\n**Recipe Instruction**: Preheat oven to 190 Degrees C and line 23 x 13 cm loaf tin with baking paper., Mix together all ingredients and pour into tin., Bake for 45 minutes., Cool in tin then serve sliced.\\n**Not Suitable for People Who has Allergy**: Poultry Allergy, Milk allergy / Lactose intolerance, Olive oil, Nightshade Allergy]\\n\\n[**Food Name**: Eggs With Tomatoes -- Avgha Me Tomatoes\\n**User Rating**: 4.0 stars\\n**Food Category**: Lunch/Snacks\\n**Cook Time**: 0:05:00\\n**Preparation Time**: 0:10:00\\n**Ingredient Parts**: olive oil, onion, tomatoes, sugar, eggs, salt, fresh ground black pepper\\n**Ingredient Quantities**: 1/2, 1, 1 1/2, 1, 6, missing, missing\\n**Nutrition**:\\n- Calories: 526.9 cals\\n- Carbohydrate: 14.8 g\\n- Protein: 14.9 g\\n- Fat: 46.4 g\\n- Saturated Fat: 8.2 g\\n- Fiber: 3.2 g\\n- Cholesterol: 423.0 mg\\n- Sodium: 153.2 mg\\n- Sugar: 9.7 g\\n**Serving**: missing people\\n**Recipe Instruction**: Heat oil in a large frying pan. Add the onion and cook until soft., Add tomatoes, salt, pepper and sugar. Simmer for 30 minutes or until tomatoes are soft., Add the eggs to tomato mixture one at a time, trying not to crack the yolk.  Cover and cook for about 3 to 4 minutes.\\n**Not Suitable for People Who has Allergy**: Poultry Allergy, Olive oil, Allium Allergy, Sugar Allergy / Intolerance, Nightshade Allergy]\\n\\n[**Food Name**: Sun-Dried Tomato and Onion Bread\\n**User Rating**: 5.0 stars\\n**Food Category**: Yeast Breads\\n**Cook Time**: 1 day, 12:00:00\\n**Preparation Time**: 0:30:00\\n**Ingredient Parts**: bread flour, salt, active dry yeast, sugar, warm water, extra virgin olive oil, onion, garlic clove, sun-dried tomatoes packed in oil, basil leaves, fresh ground pepper, milk, coarse sea salt, basil leaves\\n**Ingredient Quantities**: 4, 1, 1, 1, 1, 4, 1, 1, 4, 9, missing, missing, 1, missing\\n**Nutrition**:\\n- Calories: 2632.8 cals\\n- Carbohydrate: 428.0 g\\n- Protein: 61.9 g\\n- Fat: 75.4 g\\n- Saturated Fat: 10.5 g\\n- Fiber: 24.1 g\\n- Cholesterol: 0.0 mg\\n- Sodium: 2806.2 mg\\n- Sugar: 10.3 g\\n**Serving**: missing people\\n**Recipe Instruction**: Sift flour and salt into a large bowl., In a small bowl, dissolve yeast and sugar in warm water., Let stand 5-10 minutes until frothy., Stir 3 tbsp olive oil into yeast mixture., Using a wooden spoon, gradually stir yeast mixture into flour to give a soft, but not sticky, dough., Knead on a lightly flour surfgace 5 minutes until smooth and elastic., Put dough into an oiled medium-size bowl., Cover and let rise in a warm place 35-40 minutes until doubled in size., Oil a baking sheet., Heat remaining 1 tbsp olive oil in a skillet, add onion and garlic., Cook 3 minutes until softened., Remove skillet from heat and set aside., turn out dough onto a lightly floured surface and cut in half., Roll out to give 2 rectangles each about 12 x 9., Transfer 1 piece to the baking sheet and prick surface with fork., Spread cooked onion mixture over pricked dough, leaving a 1/2 inch boarder around the edge., Arrange sun-dried tomatoes and basil leaves over onion and season with the ground pepper., Moisten edges of the dough with a little cold water and cover with second sheet of dough., Crimp edges to seal., Using a sharp knife make a lattice pattern on surface of dough., Brush with a little milk to glaze and sprinkle with coarse sea salt., Let rise 20 minutes., Preheat oven to 450., Bake loaf in preheated oven about 25 minutes until golden-brown and underside is firm and lightly colored., Serve warm or cold., Cut into pieces and garnish with basil.\\n**Not Suitable for People Who has Allergy**: Allium Allergy, Milk allergy / Lactose intolerance, Olive oil, Allium Allergy, Sugar Allergy / Intolerance, Nightshade Allergy]\\n\\n[**Food Name**: What-to-Do-with-All-the Egg-Yolks Bread\\n**User Rating**: 5.0 stars\\n**Food Category**: Breads\\n**Cook Time**: missing\\n**Preparation Time**: 0:00:00\\n**Ingredient Parts**: active dry yeast, sugar, water, skim milk, butter, canola oil, orange zest, salt, all-purpose flour, sun-dried cranberries, pecans\\n**Ingredient Quantities**: 2 1/2, 1/4, 1/4, 3/4, 1/4, 1/2, 1, 1, 4, 3 1/2 - 4, 3/4, 1\\n**Nutrition**:\\n- Calories: 531.9 cals\\n- Carbohydrate: 53.3 g\\n- Protein: 9.6 g\\n- Fat: 31.9 g\\n- Saturated Fat: 6.4 g\\n- Fiber: 3.6 g\\n- Cholesterol: 98.7 mg\\n- Sodium: 360.8 mg\\n- Sugar: 7.3 g\\n**Serving**: 8.0 people\\n**Recipe Instruction**: Butter a 10\" tube pan and set aside.  In a large mixing bowl, combine the yeast, 1 tsp., of the sugar and the warm  water., Set aside for 10 minutes., Combine the milk, butter, oil, zest,  remainider of the sugar and salt. Stir into the yeast mixture. Add the egg  yolks, stirring well., Add the flour, 1/2 cup at a time, stirring well after  each addition to incorporate the flour thoroughly., Knead 5-10 minutes, until  the dough is smooth, elastic and satiny., Knead in the cran  berries and  pecans., Put the dough back in the bowl, cover the bowl and let the dough  rise at room temperature until it is doubled in bulk., Using a wooden spoon,  beat down the risen dough for about a minute.  Place the dough into the buttered tube pan and allow it to rise at room  temperature until it is doubled in bulk., Preheat the oven to 375 ., Bake the bread for 45-50 minutes or until it is  dark golden brown and sounds hollow when tapped., Place on a rack to cool or  serve warm., Once cooled, the bread is also excellent sliced and toasted., Recipe By : Diane Mott Davidson, Killer Pancakes\\n**Not Suitable for People Who has Allergy**: Milk allergy / Lactose intolerance, Canola oil, Milk allergy / Lactose intolerance, Citrus Allergy, Nut Allergy, Sugar Allergy / Intolerance]\\n\\n\\n\\n  Answer the given query. You can use both your knowledge and data in the snippets. If the some information is \\'missing\\' you can use your knowledge to fill in that question or leave out those information. The response should be in a readable format for recipe and home cook. Then ask user what else do you want to know.'}]}]\n",
            "image_list\n",
            "[]\n",
            "You may have used the wrong order for inputs. `images` should be passed before `text`. The `images` and `text` inputs will be swapped. This behavior will be deprecated in transformers v4.47.\n",
            "Setting `pad_token_id` to `eos_token_id`:2 for open-end generation.\n",
            "done import\n",
            "finished load 7.724761962890625e-05\n",
            "done import\n",
            "finished load 0.0001049041748046875\n",
            "done import\n",
            "finished load 6.985664367675781e-05\n",
            "done import\n",
            "finished load 5.936622619628906e-05\n",
            "done import\n",
            "finished load 5.459785461425781e-05\n",
            "{'sequence': 'Can you give me the nutrition summary of the meal that you recommended.', 'labels': ['nutrition', 'recipe provider', 'diet meal planner', 'food tag', 'allergen avoidance'], 'scores': [0.9894185066223145, 0.8504917621612549, 0.7052868008613586, 0.6338399052619934, 0.02985265851020813]}\n",
            "intention_query='Can you give me the nutrition summary of the meal that you recommended.'\n",
            "constraint_list=[]\n",
            "text\n",
            "100% 1/1 [00:00<00:00, 33.13it/s]\n",
            "text content: ['There is no context. Please use your knowledge.']\n",
            "len text_content: 1\n",
            "before\n",
            "['There is no context. Please use your knowledge.']\n",
            "after\n",
            "['There is no context. Please use your knowledge.']\n",
            "conversation\n",
            "[{'role': 'system', 'content': [{'type': 'text', 'text': 'You are a home cook chef and nutritionist assistant. Your primary function is to provide users with diet plans, nutrition, recipe, and meal preparation instructions.'}]}, {'role': 'user', 'content': [{'type': 'text', 'text': 'Given the query: \\'I have egg, bread, and tomato. Give me a recipe using these ingredients. Avoid / without cheese.\\' and the following relevant snippets:\\n\\n  [**Food Name**: Eggy Bread With Crisp Bacon and Spiked Tomatoes\\n**User Rating**: missing stars\\n**Food Category**: Breakfast\\n**Cook Time**: 0:15:00\\n**Preparation Time**: 0:15:00\\n**Ingredient Parts**: eggs, smoked streaky bacon, butter, olive oil, tomatoes, sugar, basil leaves\\n**Ingredient Quantities**: 4, missing, 4, 12, 2, 2, 4, 2, 2, 2\\n**Nutrition**:\\n- Calories: 422.0 cals\\n- Carbohydrate: 22.7 g\\n- Protein: 18.8 g\\n- Fat: 28.7 g\\n- Saturated Fat: 9.7 g\\n- Fiber: 2.9 g\\n- Cholesterol: 253.2 mg\\n- Sodium: 844.9 mg\\n- Sugar: 8.4 g\\n**Serving**: 4.0 people\\n**Recipe Instruction**: Preheat the broiler., Beat the eggs in a large bowl and season well., Pour into a large shallow dish, dip the slices of bread in the egg mixture and leave for a few minutes to soak., Meanwhile broil the bacon for 1-2 minutes on each side until crisp. Keep warm in a low oven., In a large frying pan, melt the butter with 1 tablespoon of the olive oil., Add half of the soaked bread and fry for 2 minutes on each side or until crisp and golden., Meanwhile heat the remaining olive oil in a separate frying pan., Add the tomato slices and sprinkle over the sugar., Fry for 1-2 minutes on each side or until the tomato slices have caramelized and softened, but still retaining their shape. Shake over the chilli oil and remove from the heat., To serve, place two pieces of eggy bread, slightly overlapping on the centre of each plate and top each with 3 slices of bacon., Place a spoonful of the tomatoes to the side of the bread and tear over the basil., Serve immediately.\\n**Not Suitable for People Who has Allergy**: Milk allergy / Lactose intolerance, Poultry Allergy, Olive oil, Sugar Allergy / Intolerance, Nightshade Allergy]\\n\\n[**Food Name**: Olive and Sun-Dried Tomato Bread\\n**User Rating**: 5.0 stars\\n**Food Category**: Quick Breads\\n**Cook Time**: 0:45:00\\n**Preparation Time**: 0:15:00\\n**Ingredient Parts**: self-raising flour, black olives, tomatoes, low-fat margarine, olive oil, eggs, low-fat milk\\n**Ingredient Quantities**: 2, 1/4, 2, 1/4, 2, 2/3\\n**Nutrition**:\\n- Calories: 1143.0 cals\\n- Carbohydrate: 197.4 g\\n- Protein: 43.3 g\\n- Fat: 17.6 g\\n- Saturated Fat: 5.0 g\\n- Fiber: 8.1 g\\n- Cholesterol: 431.1 mg\\n- Sodium: 3680.7 mg\\n- Sugar: 10.4 g\\n**Serving**: missing people\\n**Recipe Instruction**: Preheat oven to 190 Degrees C and line 23 x 13 cm loaf tin with baking paper., Mix together all ingredients and pour into tin., Bake for 45 minutes., Cool in tin then serve sliced.\\n**Not Suitable for People Who has Allergy**: Poultry Allergy, Milk allergy / Lactose intolerance, Olive oil, Nightshade Allergy]\\n\\n[**Food Name**: Eggs With Tomatoes -- Avgha Me Tomatoes\\n**User Rating**: 4.0 stars\\n**Food Category**: Lunch/Snacks\\n**Cook Time**: 0:05:00\\n**Preparation Time**: 0:10:00\\n**Ingredient Parts**: olive oil, onion, tomatoes, sugar, eggs, salt, fresh ground black pepper\\n**Ingredient Quantities**: 1/2, 1, 1 1/2, 1, 6, missing, missing\\n**Nutrition**:\\n- Calories: 526.9 cals\\n- Carbohydrate: 14.8 g\\n- Protein: 14.9 g\\n- Fat: 46.4 g\\n- Saturated Fat: 8.2 g\\n- Fiber: 3.2 g\\n- Cholesterol: 423.0 mg\\n- Sodium: 153.2 mg\\n- Sugar: 9.7 g\\n**Serving**: missing people\\n**Recipe Instruction**: Heat oil in a large frying pan. Add the onion and cook until soft., Add tomatoes, salt, pepper and sugar. Simmer for 30 minutes or until tomatoes are soft., Add the eggs to tomato mixture one at a time, trying not to crack the yolk.  Cover and cook for about 3 to 4 minutes.\\n**Not Suitable for People Who has Allergy**: Poultry Allergy, Olive oil, Allium Allergy, Sugar Allergy / Intolerance, Nightshade Allergy]\\n\\n[**Food Name**: Sun-Dried Tomato and Onion Bread\\n**User Rating**: 5.0 stars\\n**Food Category**: Yeast Breads\\n**Cook Time**: 1 day, 12:00:00\\n**Preparation Time**: 0:30:00\\n**Ingredient Parts**: bread flour, salt, active dry yeast, sugar, warm water, extra virgin olive oil, onion, garlic clove, sun-dried tomatoes packed in oil, basil leaves, fresh ground pepper, milk, coarse sea salt, basil leaves\\n**Ingredient Quantities**: 4, 1, 1, 1, 1, 4, 1, 1, 4, 9, missing, missing, 1, missing\\n**Nutrition**:\\n- Calories: 2632.8 cals\\n- Carbohydrate: 428.0 g\\n- Protein: 61.9 g\\n- Fat: 75.4 g\\n- Saturated Fat: 10.5 g\\n- Fiber: 24.1 g\\n- Cholesterol: 0.0 mg\\n- Sodium: 2806.2 mg\\n- Sugar: 10.3 g\\n**Serving**: missing people\\n**Recipe Instruction**: Sift flour and salt into a large bowl., In a small bowl, dissolve yeast and sugar in warm water., Let stand 5-10 minutes until frothy., Stir 3 tbsp olive oil into yeast mixture., Using a wooden spoon, gradually stir yeast mixture into flour to give a soft, but not sticky, dough., Knead on a lightly flour surfgace 5 minutes until smooth and elastic., Put dough into an oiled medium-size bowl., Cover and let rise in a warm place 35-40 minutes until doubled in size., Oil a baking sheet., Heat remaining 1 tbsp olive oil in a skillet, add onion and garlic., Cook 3 minutes until softened., Remove skillet from heat and set aside., turn out dough onto a lightly floured surface and cut in half., Roll out to give 2 rectangles each about 12 x 9., Transfer 1 piece to the baking sheet and prick surface with fork., Spread cooked onion mixture over pricked dough, leaving a 1/2 inch boarder around the edge., Arrange sun-dried tomatoes and basil leaves over onion and season with the ground pepper., Moisten edges of the dough with a little cold water and cover with second sheet of dough., Crimp edges to seal., Using a sharp knife make a lattice pattern on surface of dough., Brush with a little milk to glaze and sprinkle with coarse sea salt., Let rise 20 minutes., Preheat oven to 450., Bake loaf in preheated oven about 25 minutes until golden-brown and underside is firm and lightly colored., Serve warm or cold., Cut into pieces and garnish with basil.\\n**Not Suitable for People Who has Allergy**: Allium Allergy, Milk allergy / Lactose intolerance, Olive oil, Allium Allergy, Sugar Allergy / Intolerance, Nightshade Allergy]\\n\\n[**Food Name**: What-to-Do-with-All-the Egg-Yolks Bread\\n**User Rating**: 5.0 stars\\n**Food Category**: Breads\\n**Cook Time**: missing\\n**Preparation Time**: 0:00:00\\n**Ingredient Parts**: active dry yeast, sugar, water, skim milk, butter, canola oil, orange zest, salt, all-purpose flour, sun-dried cranberries, pecans\\n**Ingredient Quantities**: 2 1/2, 1/4, 1/4, 3/4, 1/4, 1/2, 1, 1, 4, 3 1/2 - 4, 3/4, 1\\n**Nutrition**:\\n- Calories: 531.9 cals\\n- Carbohydrate: 53.3 g\\n- Protein: 9.6 g\\n- Fat: 31.9 g\\n- Saturated Fat: 6.4 g\\n- Fiber: 3.6 g\\n- Cholesterol: 98.7 mg\\n- Sodium: 360.8 mg\\n- Sugar: 7.3 g\\n**Serving**: 8.0 people\\n**Recipe Instruction**: Butter a 10\" tube pan and set aside.  In a large mixing bowl, combine the yeast, 1 tsp., of the sugar and the warm  water., Set aside for 10 minutes., Combine the milk, butter, oil, zest,  remainider of the sugar and salt. Stir into the yeast mixture. Add the egg  yolks, stirring well., Add the flour, 1/2 cup at a time, stirring well after  each addition to incorporate the flour thoroughly., Knead 5-10 minutes, until  the dough is smooth, elastic and satiny., Knead in the cran  berries and  pecans., Put the dough back in the bowl, cover the bowl and let the dough  rise at room temperature until it is doubled in bulk., Using a wooden spoon,  beat down the risen dough for about a minute.  Place the dough into the buttered tube pan and allow it to rise at room  temperature until it is doubled in bulk., Preheat the oven to 375 ., Bake the bread for 45-50 minutes or until it is  dark golden brown and sounds hollow when tapped., Place on a rack to cool or  serve warm., Once cooled, the bread is also excellent sliced and toasted., Recipe By : Diane Mott Davidson, Killer Pancakes\\n**Not Suitable for People Who has Allergy**: Milk allergy / Lactose intolerance, Canola oil, Milk allergy / Lactose intolerance, Citrus Allergy, Nut Allergy, Sugar Allergy / Intolerance]\\n\\n\\n\\n  Answer the given query. You can use both your knowledge and data in the snippets. If the some information is \\'missing\\' you can use your knowledge to fill in that question or leave out those information. The response should be in a readable format for recipe and home cook. Then ask user what else do you want to know.'}]}, {'role': 'assistant', 'content': [{'type': 'text', 'text': \"Here's a recipe using egg, bread, and tomato:\\n\\n**Egg and Tomato Bread**\\n\\n**Ingredients:**\\n\\n* 4 eggs\\n* 4 slices of bread\\n* 1/2 cup of olive oil\\n* 1/2 cup of sun-dried tomatoes, chopped\\n* 1/2 cup of fresh basil, chopped\\n* Salt and pepper to taste\\n\\n**Instructions:**\\n\\n1. Preheat the oven to 375°F (190°C).\\n2. In a large mixing bowl, beat the eggs until well combined.\\n3. Add the chopped sun-dried tomatoes, chopped fresh basil, salt, and pepper to the egg mixture. Mix well.\\n4. Dip each slice of bread into the egg mixture, making sure to coat both sides evenly.\\n5. Heat 1/4 cup of olive oil in a large skillet over medium heat.\\n6. Add the bread slices to the skillet and cook for 2-3 minutes on each side or until golden brown and crispy.\\n7. Transfer the cooked bread slices to a baking sheet and bake in the preheated oven for an additional 5-10 minutes or until the bread is crispy and the egg is fully cooked.\\n8. Serve immediately with a sprinkle of fresh basil on top.\\n\\n**Notes:**\\n\\n* This recipe is suitable for people with egg, bread, and tomato allergies.\\n* You can use your favorite type of bread for this recipe.\\n* Feel free to add your favorite seasonings or spices to the egg mixture for added flavor.\\n\\nWhat else would you like to know? </s>\"}]}, {'role': 'user', 'content': [{'type': 'text', 'text': \"Given the query: 'Can you give me the nutrition summary of the meal that you recommended.' and the following relevant snippets:\\n\\n  There is no context. Please use your knowledge.\\n\\n  Answer the given query. You can use both your knowledge and data in the snippet. If the some information is 'missing' you can use your knowledge to fill in that question or leave out those information. The response should be in a readable format for nutrition summary. Then ask user what else do you want to know.\"}]}]\n",
            "image_list\n",
            "[]\n",
            "Setting `pad_token_id` to `eos_token_id`:2 for open-end generation.\n",
            "done import\n",
            "finished load 6.556510925292969e-05\n",
            "done import\n",
            "finished load 6.842613220214844e-05\n",
            "done import\n",
            "finished load 7.748603820800781e-05\n",
            "done import\n",
            "finished load 6.246566772460938e-05\n",
            "{'sequence': 'Give me any soup recipe without chicken.', 'labels': ['recipe provider', 'nutrition', 'food tag', 'allergen avoidance', 'diet meal planner'], 'scores': [0.7618375420570374, 0.7345634698867798, 0.10410534590482712, 0.07457946985960007, 0.019220435991883278]}\n",
            "intention_query='Give me any soup recipe'\n",
            "constraint_list=['chicken']\n",
            "text\n",
            "100% 1/1 [00:00<00:00, 104.68it/s]\n",
            "current non discarded count: 0\n",
            "current discarded count: 5\n",
            "current non discarded count: 0\n",
            "current discarded count: 10\n",
            "current non discarded count: 2\n",
            "current discarded count: 13\n",
            "text content: ['[**Food Name**: Natural Vegetable Soup\\n**User Rating**: missing stars\\n**Food Category**: Clear Soup\\n**Cook Time**: 1:00:00\\n**Preparation Time**: 0:45:00\\n**Ingredient Parts**: olive oil, garlic cloves, onions, water, celery, zucchini, broccoli, bell peppers, green beans, salt, butter, pepper, fresh ginger\\n**Ingredient Quantities**: 3, 5, 3, 2 1/2, 3, 3, 4, 2, 3, 3, 1, 1, 1, 1/2, 1, 3\\n**Nutrition**:\\n- Calories: 329.9 cals\\n- Carbohydrate: 31.2 g\\n- Protein: 6.0 g\\n- Fat: 22.8 g\\n- Saturated Fat: 10.8 g\\n- Fiber: 8.4 g\\n- Cholesterol: 40.7 mg\\n- Sodium: 1357.5 mg\\n- Sugar: 9.8 g\\n**Serving**: missing people\\n**Recipe Instruction**: To create your vegetable broth:, Mince garlic and saute in olive oil until golden. Slice onions in to thin strips and simmer in 3 cups of water. Add pepper and sliced ginger root. Add the rest of the water then leave until onion liquifies. 45 minutes., After you create your vegetable broth, add the stick of butter and the rest of the ingredients. Give it 15 minutes for the rest of the vegetables to steam.\\n**Not Suitable for People Who has Allergy**: Legume Allergy, Broccoli allergy, Milk allergy / Lactose intolerance, Hypersensitivity, Allium Allergy, Histamine Allergy, Olive oil, Allium Allergy]\\n\\n', '[**Food Name**: Soup\\n**User Rating**: missing stars\\n**Food Category**: Vegetable\\n**Cook Time**: 0:20:00\\n**Preparation Time**: 0:05:00\\n**Ingredient Parts**: garlic cloves, half-and-half, heavy cream, mushroom stems and pieces, olive oil, scallion\\n**Ingredient Quantities**: 1, 2, 1, 1, missing, missing\\n**Nutrition**:\\n- Calories: 357.9 cals\\n- Carbohydrate: 24.2 g\\n- Protein: 9.5 g\\n- Fat: 26.3 g\\n- Saturated Fat: 12.8 g\\n- Fiber: 3.3 g\\n- Cholesterol: 55.1 mg\\n- Sodium: 1673.9 mg\\n- Sugar: 5.6 g\\n**Serving**: 2.0 people\\n**Recipe Instruction**: In a sauce pan combine the cream of mushrooms soup, mushroom pieces and stems, minced garlic, salt, pepper, and half and half or cream., Let simmer for 20 minutes., Ladle into bowls and drizzle with olive oil or truffle oil., Garnish with parsley, scallions or other herbs.\\n**Not Suitable for People Who has Allergy**: Milk allergy / Lactose intolerance, Allium Allergy, Olive oil]\\n\\n', \"[**Food Name**: 7 - Day - Soup Diet Recipe\\n**User Rating**: 4.5 stars\\n**Food Category**: Vegetable\\n**Cook Time**: 1:30:00\\n**Preparation Time**: 0:30:00\\n**Ingredient Parts**: tomato paste, green onions, beef broth, celery & tops, fresh green beans, green bell peppers, carrots, chili powder, coarse salt, paprika, cayenne pepper, prepared mustard, ground black pepper\\n**Ingredient Quantities**: 3, 2 1/2, 1/2, 6, 2, 1, 2, 2, 2, 2, 1, 2, 1/8, 2, 1\\n**Nutrition**:\\n- Calories: 125.2 cals\\n- Carbohydrate: 23.9 g\\n- Protein: 4.0 g\\n- Fat: 2.4 g\\n- Saturated Fat: 0.6 g\\n- Fiber: 6.4 g\\n- Cholesterol: 1.3 mg\\n- Sodium: 864.6 mg\\n- Sugar: 13.1 g\\n**Serving**: missing people\\n**Recipe Instruction**: In a very large stock pot, combine tomatoes, pasta sauce, tomato paste and beef broth., Over med/high heat, bring mixture to a boil., Reduce heat and simmer covered for 15 minutes., Wash and rough chop carrots, celery (including tops), and green peppers into 1 inch cubes., Wash, trim and cut green beans into 1 inch lengths., Chop green onion into 1/4 inch lengths., Add all vegetables to simmering pot., Stir to combine., Add chili powder, cayenne, mustard, salt, black pepper and paprika to soup mixture., Stir and simmer on low for 60 - 90 minutes., -------------------------------------------., Soup Diet - Day #1., Eat as much of any fruit you want EXCEPT BANANAS., Eat only soup and fruit today but eat all you want., ------------------------------------------., Day #2., All Veggies., Fill up on fresh vegetables (salads etc)., Eat all the soup you want and have a large baked potato with butter at dinner time., But NO FRUIT TODAY., -------------------------------------------., Day #3., Eat all the soup, fruit and veggies you want, but NO POTATOES., If you haven't cheated you will have lost., 5-7 lbs by tomorrow morning., -------------------------------------------., Day #4., Bananas and skim milk., Eat at least 3 bananas and all the milk you want today., Remember, you can have soup anytime you want., --------------------------------------------., Day #5., Beef and Tomatoes., You can have up to 20 ounces of beef and 6 tomatoes in any style you like., Remember to eat soup too., -------------------------------------------., Day #6., Beef and Vegetables., Eat all the beef and veggies you want today., You can have 2-3 steaks if you want, with green leafy vegetables., But NO POTATOES., Don't forget to have soup., --------------------------------------------., Day #7., Brown rice, unsweetened fruit juice, and veggies today., Eat all you want whenever you want and have soup as often as you can., The soup is the key --, --------------------------------------------., If you haven't cheated, you should have lost 10 - 17 lbs., Prescription medications will not be affected by this diet, but check with you doctor before you begin the diet just to be sure., Remember; The more soup you eat, the more weight you will lose.\\n**Not Suitable for People Who has Allergy**: Legume Allergy, Hypersensitivity, Hypersensitivity, Allium Allergy, Nightshade Allergy]\\n\\n\", '[**Food Name**: Dump Soup\\n**User Rating**: 5.0 stars\\n**Food Category**: < 15 Mins\\n**Cook Time**: 0:05:00\\n**Preparation Time**: 0:05:00\\n**Ingredient Parts**: white corn, black beans, diced tomatoes, diced tomatoes with green chilies\\n**Ingredient Quantities**: 1, 1, 1, 1, 1, 1\\n**Nutrition**:\\n- Calories: 123.4 cals\\n- Carbohydrate: 22.5 g\\n- Protein: 6.3 g\\n- Fat: 1.8 g\\n- Saturated Fat: 0.4 g\\n- Fiber: 4.5 g\\n- Cholesterol: 0.6 mg\\n- Sodium: 685.0 mg\\n- Sugar: 3.4 g\\n**Serving**: 10.0 people\\n**Recipe Instruction**: Open cans and pour together into pot., Heat over stove.\\n**Not Suitable for People Who has Allergy**: Legume Allergy, Corn Allergy, Nightshade Allergy]\\n\\n', '[**Food Name**: Simply Hot &amp; Sour Soup\\n**User Rating**: missing stars\\n**Food Category**: Clear Soup\\n**Cook Time**: 0:15:00\\n**Preparation Time**: 0:10:00\\n**Ingredient Parts**: water, soy sauce, rice vinegar, white pepper, corn, peas, extra firm tofu, mushroom, red bell pepper, tomato sauce, garlic powder\\n**Ingredient Quantities**: 4, 2, 2, 1/2 - 1, 1/2, 1/2, 1/2, 1/2, 1/4, 1, 1/2\\n**Nutrition**:\\n- Calories: 280.1 cals\\n- Carbohydrate: 38.4 g\\n- Protein: 23.0 g\\n- Fat: 6.9 g\\n- Saturated Fat: 1.3 g\\n- Fiber: 9.4 g\\n- Cholesterol: 0.0 mg\\n- Sodium: 2140.6 mg\\n- Sugar: 12.4 g\\n**Serving**: missing people\\n**Recipe Instruction**: Add all ingredients to the pot and bring to a boil., Lower the heat and simmer for about 10 minutes., Let the soup cool slightly, then serve!\\n**Not Suitable for People Who has Allergy**: Corn Allergy, Allium Allergy, Legume Allergy, Legume Allergy, Rice Allergy, Nightshade Allergy]\\n\\n']\n",
            "len text_content: 5\n",
            "before\n",
            "['[**Food Name**: Natural Vegetable Soup\\n**User Rating**: missing stars\\n**Food Category**: Clear Soup\\n**Cook Time**: 1:00:00\\n**Preparation Time**: 0:45:00\\n**Ingredient Parts**: olive oil, garlic cloves, onions, water, celery, zucchini, broccoli, bell peppers, green beans, salt, butter, pepper, fresh ginger\\n**Ingredient Quantities**: 3, 5, 3, 2 1/2, 3, 3, 4, 2, 3, 3, 1, 1, 1, 1/2, 1, 3\\n**Nutrition**:\\n- Calories: 329.9 cals\\n- Carbohydrate: 31.2 g\\n- Protein: 6.0 g\\n- Fat: 22.8 g\\n- Saturated Fat: 10.8 g\\n- Fiber: 8.4 g\\n- Cholesterol: 40.7 mg\\n- Sodium: 1357.5 mg\\n- Sugar: 9.8 g\\n**Serving**: missing people\\n**Recipe Instruction**: To create your vegetable broth:, Mince garlic and saute in olive oil until golden. Slice onions in to thin strips and simmer in 3 cups of water. Add pepper and sliced ginger root. Add the rest of the water then leave until onion liquifies. 45 minutes., After you create your vegetable broth, add the stick of butter and the rest of the ingredients. Give it 15 minutes for the rest of the vegetables to steam.\\n**Not Suitable for People Who has Allergy**: Legume Allergy, Broccoli allergy, Milk allergy / Lactose intolerance, Hypersensitivity, Allium Allergy, Histamine Allergy, Olive oil, Allium Allergy]\\n\\n', '[**Food Name**: Soup\\n**User Rating**: missing stars\\n**Food Category**: Vegetable\\n**Cook Time**: 0:20:00\\n**Preparation Time**: 0:05:00\\n**Ingredient Parts**: garlic cloves, half-and-half, heavy cream, mushroom stems and pieces, olive oil, scallion\\n**Ingredient Quantities**: 1, 2, 1, 1, missing, missing\\n**Nutrition**:\\n- Calories: 357.9 cals\\n- Carbohydrate: 24.2 g\\n- Protein: 9.5 g\\n- Fat: 26.3 g\\n- Saturated Fat: 12.8 g\\n- Fiber: 3.3 g\\n- Cholesterol: 55.1 mg\\n- Sodium: 1673.9 mg\\n- Sugar: 5.6 g\\n**Serving**: 2.0 people\\n**Recipe Instruction**: In a sauce pan combine the cream of mushrooms soup, mushroom pieces and stems, minced garlic, salt, pepper, and half and half or cream., Let simmer for 20 minutes., Ladle into bowls and drizzle with olive oil or truffle oil., Garnish with parsley, scallions or other herbs.\\n**Not Suitable for People Who has Allergy**: Milk allergy / Lactose intolerance, Allium Allergy, Olive oil]\\n\\n', \"[**Food Name**: 7 - Day - Soup Diet Recipe\\n**User Rating**: 4.5 stars\\n**Food Category**: Vegetable\\n**Cook Time**: 1:30:00\\n**Preparation Time**: 0:30:00\\n**Ingredient Parts**: tomato paste, green onions, beef broth, celery & tops, fresh green beans, green bell peppers, carrots, chili powder, coarse salt, paprika, cayenne pepper, prepared mustard, ground black pepper\\n**Ingredient Quantities**: 3, 2 1/2, 1/2, 6, 2, 1, 2, 2, 2, 2, 1, 2, 1/8, 2, 1\\n**Nutrition**:\\n- Calories: 125.2 cals\\n- Carbohydrate: 23.9 g\\n- Protein: 4.0 g\\n- Fat: 2.4 g\\n- Saturated Fat: 0.6 g\\n- Fiber: 6.4 g\\n- Cholesterol: 1.3 mg\\n- Sodium: 864.6 mg\\n- Sugar: 13.1 g\\n**Serving**: missing people\\n**Recipe Instruction**: In a very large stock pot, combine tomatoes, pasta sauce, tomato paste and beef broth., Over med/high heat, bring mixture to a boil., Reduce heat and simmer covered for 15 minutes., Wash and rough chop carrots, celery (including tops), and green peppers into 1 inch cubes., Wash, trim and cut green beans into 1 inch lengths., Chop green onion into 1/4 inch lengths., Add all vegetables to simmering pot., Stir to combine., Add chili powder, cayenne, mustard, salt, black pepper and paprika to soup mixture., Stir and simmer on low for 60 - 90 minutes., -------------------------------------------., Soup Diet - Day #1., Eat as much of any fruit you want EXCEPT BANANAS., Eat only soup and fruit today but eat all you want., ------------------------------------------., Day #2., All Veggies., Fill up on fresh vegetables (salads etc)., Eat all the soup you want and have a large baked potato with butter at dinner time., But NO FRUIT TODAY., -------------------------------------------., Day #3., Eat all the soup, fruit and veggies you want, but NO POTATOES., If you haven't cheated you will have lost., 5-7 lbs by tomorrow morning., -------------------------------------------., Day #4., Bananas and skim milk., Eat at least 3 bananas and all the milk you want today., Remember, you can have soup anytime you want., --------------------------------------------., Day #5., Beef and Tomatoes., You can have up to 20 ounces of beef and 6 tomatoes in any style you like., Remember to eat soup too., -------------------------------------------., Day #6., Beef and Vegetables., Eat all the beef and veggies you want today., You can have 2-3 steaks if you want, with green leafy vegetables., But NO POTATOES., Don't forget to have soup., --------------------------------------------., Day #7., Brown rice, unsweetened fruit juice, and veggies today., Eat all you want whenever you want and have soup as often as you can., The soup is the key --, --------------------------------------------., If you haven't cheated, you should have lost 10 - 17 lbs., Prescription medications will not be affected by this diet, but check with you doctor before you begin the diet just to be sure., Remember; The more soup you eat, the more weight you will lose.\\n**Not Suitable for People Who has Allergy**: Legume Allergy, Hypersensitivity, Hypersensitivity, Allium Allergy, Nightshade Allergy]\\n\\n\", '[**Food Name**: Dump Soup\\n**User Rating**: 5.0 stars\\n**Food Category**: < 15 Mins\\n**Cook Time**: 0:05:00\\n**Preparation Time**: 0:05:00\\n**Ingredient Parts**: white corn, black beans, diced tomatoes, diced tomatoes with green chilies\\n**Ingredient Quantities**: 1, 1, 1, 1, 1, 1\\n**Nutrition**:\\n- Calories: 123.4 cals\\n- Carbohydrate: 22.5 g\\n- Protein: 6.3 g\\n- Fat: 1.8 g\\n- Saturated Fat: 0.4 g\\n- Fiber: 4.5 g\\n- Cholesterol: 0.6 mg\\n- Sodium: 685.0 mg\\n- Sugar: 3.4 g\\n**Serving**: 10.0 people\\n**Recipe Instruction**: Open cans and pour together into pot., Heat over stove.\\n**Not Suitable for People Who has Allergy**: Legume Allergy, Corn Allergy, Nightshade Allergy]\\n\\n', '[**Food Name**: Simply Hot &amp; Sour Soup\\n**User Rating**: missing stars\\n**Food Category**: Clear Soup\\n**Cook Time**: 0:15:00\\n**Preparation Time**: 0:10:00\\n**Ingredient Parts**: water, soy sauce, rice vinegar, white pepper, corn, peas, extra firm tofu, mushroom, red bell pepper, tomato sauce, garlic powder\\n**Ingredient Quantities**: 4, 2, 2, 1/2 - 1, 1/2, 1/2, 1/2, 1/2, 1/4, 1, 1/2\\n**Nutrition**:\\n- Calories: 280.1 cals\\n- Carbohydrate: 38.4 g\\n- Protein: 23.0 g\\n- Fat: 6.9 g\\n- Saturated Fat: 1.3 g\\n- Fiber: 9.4 g\\n- Cholesterol: 0.0 mg\\n- Sodium: 2140.6 mg\\n- Sugar: 12.4 g\\n**Serving**: missing people\\n**Recipe Instruction**: Add all ingredients to the pot and bring to a boil., Lower the heat and simmer for about 10 minutes., Let the soup cool slightly, then serve!\\n**Not Suitable for People Who has Allergy**: Corn Allergy, Allium Allergy, Legume Allergy, Legume Allergy, Rice Allergy, Nightshade Allergy]\\n\\n']\n",
            "after\n",
            "[\"[**Food Name**: 7 - Day - Soup Diet Recipe\\n**User Rating**: 4.5 stars\\n**Food Category**: Vegetable\\n**Cook Time**: 1:30:00\\n**Preparation Time**: 0:30:00\\n**Ingredient Parts**: tomato paste, green onions, beef broth, celery & tops, fresh green beans, green bell peppers, carrots, chili powder, coarse salt, paprika, cayenne pepper, prepared mustard, ground black pepper\\n**Ingredient Quantities**: 3, 2 1/2, 1/2, 6, 2, 1, 2, 2, 2, 2, 1, 2, 1/8, 2, 1\\n**Nutrition**:\\n- Calories: 125.2 cals\\n- Carbohydrate: 23.9 g\\n- Protein: 4.0 g\\n- Fat: 2.4 g\\n- Saturated Fat: 0.6 g\\n- Fiber: 6.4 g\\n- Cholesterol: 1.3 mg\\n- Sodium: 864.6 mg\\n- Sugar: 13.1 g\\n**Serving**: missing people\\n**Recipe Instruction**: In a very large stock pot, combine tomatoes, pasta sauce, tomato paste and beef broth., Over med/high heat, bring mixture to a boil., Reduce heat and simmer covered for 15 minutes., Wash and rough chop carrots, celery (including tops), and green peppers into 1 inch cubes., Wash, trim and cut green beans into 1 inch lengths., Chop green onion into 1/4 inch lengths., Add all vegetables to simmering pot., Stir to combine., Add chili powder, cayenne, mustard, salt, black pepper and paprika to soup mixture., Stir and simmer on low for 60 - 90 minutes., -------------------------------------------., Soup Diet - Day #1., Eat as much of any fruit you want EXCEPT BANANAS., Eat only soup and fruit today but eat all you want., ------------------------------------------., Day #2., All Veggies., Fill up on fresh vegetables (salads etc)., Eat all the soup you want and have a large baked potato with butter at dinner time., But NO FRUIT TODAY., -------------------------------------------., Day #3., Eat all the soup, fruit and veggies you want, but NO POTATOES., If you haven't cheated you will have lost., 5-7 lbs by tomorrow morning., -------------------------------------------., Day #4., Bananas and skim milk., Eat at least 3 bananas and all the milk you want today., Remember, you can have soup anytime you want., --------------------------------------------., Day #5., Beef and Tomatoes., You can have up to 20 ounces of beef and 6 tomatoes in any style you like., Remember to eat soup too., -------------------------------------------., Day #6., Beef and Vegetables., Eat all the beef and veggies you want today., You can have 2-3 steaks if you want, with green leafy vegetables., But NO POTATOES., Don't forget to have soup., --------------------------------------------., Day #7., Brown rice, unsweetened fruit juice, and veggies today., Eat all you want whenever you want and have soup as often as you can., The soup is the key --, --------------------------------------------., If you haven't cheated, you should have lost 10 - 17 lbs., Prescription medications will not be affected by this diet, but check with you doctor before you begin the diet just to be sure., Remember; The more soup you eat, the more weight you will lose.\\n**Not Suitable for People Who has Allergy**: Legume Allergy, Hypersensitivity, Hypersensitivity, Allium Allergy, Nightshade Allergy]\\n\\n\", '[**Food Name**: Natural Vegetable Soup\\n**User Rating**: missing stars\\n**Food Category**: Clear Soup\\n**Cook Time**: 1:00:00\\n**Preparation Time**: 0:45:00\\n**Ingredient Parts**: olive oil, garlic cloves, onions, water, celery, zucchini, broccoli, bell peppers, green beans, salt, butter, pepper, fresh ginger\\n**Ingredient Quantities**: 3, 5, 3, 2 1/2, 3, 3, 4, 2, 3, 3, 1, 1, 1, 1/2, 1, 3\\n**Nutrition**:\\n- Calories: 329.9 cals\\n- Carbohydrate: 31.2 g\\n- Protein: 6.0 g\\n- Fat: 22.8 g\\n- Saturated Fat: 10.8 g\\n- Fiber: 8.4 g\\n- Cholesterol: 40.7 mg\\n- Sodium: 1357.5 mg\\n- Sugar: 9.8 g\\n**Serving**: missing people\\n**Recipe Instruction**: To create your vegetable broth:, Mince garlic and saute in olive oil until golden. Slice onions in to thin strips and simmer in 3 cups of water. Add pepper and sliced ginger root. Add the rest of the water then leave until onion liquifies. 45 minutes., After you create your vegetable broth, add the stick of butter and the rest of the ingredients. Give it 15 minutes for the rest of the vegetables to steam.\\n**Not Suitable for People Who has Allergy**: Legume Allergy, Broccoli allergy, Milk allergy / Lactose intolerance, Hypersensitivity, Allium Allergy, Histamine Allergy, Olive oil, Allium Allergy]\\n\\n', '[**Food Name**: Soup\\n**User Rating**: missing stars\\n**Food Category**: Vegetable\\n**Cook Time**: 0:20:00\\n**Preparation Time**: 0:05:00\\n**Ingredient Parts**: garlic cloves, half-and-half, heavy cream, mushroom stems and pieces, olive oil, scallion\\n**Ingredient Quantities**: 1, 2, 1, 1, missing, missing\\n**Nutrition**:\\n- Calories: 357.9 cals\\n- Carbohydrate: 24.2 g\\n- Protein: 9.5 g\\n- Fat: 26.3 g\\n- Saturated Fat: 12.8 g\\n- Fiber: 3.3 g\\n- Cholesterol: 55.1 mg\\n- Sodium: 1673.9 mg\\n- Sugar: 5.6 g\\n**Serving**: 2.0 people\\n**Recipe Instruction**: In a sauce pan combine the cream of mushrooms soup, mushroom pieces and stems, minced garlic, salt, pepper, and half and half or cream., Let simmer for 20 minutes., Ladle into bowls and drizzle with olive oil or truffle oil., Garnish with parsley, scallions or other herbs.\\n**Not Suitable for People Who has Allergy**: Milk allergy / Lactose intolerance, Allium Allergy, Olive oil]\\n\\n', '[**Food Name**: Simply Hot &amp; Sour Soup\\n**User Rating**: missing stars\\n**Food Category**: Clear Soup\\n**Cook Time**: 0:15:00\\n**Preparation Time**: 0:10:00\\n**Ingredient Parts**: water, soy sauce, rice vinegar, white pepper, corn, peas, extra firm tofu, mushroom, red bell pepper, tomato sauce, garlic powder\\n**Ingredient Quantities**: 4, 2, 2, 1/2 - 1, 1/2, 1/2, 1/2, 1/2, 1/4, 1, 1/2\\n**Nutrition**:\\n- Calories: 280.1 cals\\n- Carbohydrate: 38.4 g\\n- Protein: 23.0 g\\n- Fat: 6.9 g\\n- Saturated Fat: 1.3 g\\n- Fiber: 9.4 g\\n- Cholesterol: 0.0 mg\\n- Sodium: 2140.6 mg\\n- Sugar: 12.4 g\\n**Serving**: missing people\\n**Recipe Instruction**: Add all ingredients to the pot and bring to a boil., Lower the heat and simmer for about 10 minutes., Let the soup cool slightly, then serve!\\n**Not Suitable for People Who has Allergy**: Corn Allergy, Allium Allergy, Legume Allergy, Legume Allergy, Rice Allergy, Nightshade Allergy]\\n\\n', '[**Food Name**: Dump Soup\\n**User Rating**: 5.0 stars\\n**Food Category**: < 15 Mins\\n**Cook Time**: 0:05:00\\n**Preparation Time**: 0:05:00\\n**Ingredient Parts**: white corn, black beans, diced tomatoes, diced tomatoes with green chilies\\n**Ingredient Quantities**: 1, 1, 1, 1, 1, 1\\n**Nutrition**:\\n- Calories: 123.4 cals\\n- Carbohydrate: 22.5 g\\n- Protein: 6.3 g\\n- Fat: 1.8 g\\n- Saturated Fat: 0.4 g\\n- Fiber: 4.5 g\\n- Cholesterol: 0.6 mg\\n- Sodium: 685.0 mg\\n- Sugar: 3.4 g\\n**Serving**: 10.0 people\\n**Recipe Instruction**: Open cans and pour together into pot., Heat over stove.\\n**Not Suitable for People Who has Allergy**: Legume Allergy, Corn Allergy, Nightshade Allergy]\\n\\n']\n",
            "conversation\n",
            "[{'role': 'system', 'content': [{'type': 'text', 'text': 'You are a home cook chef and nutritionist assistant. Your primary function is to provide users with diet plans, nutrition, recipe, and meal preparation instructions.'}]}, {'role': 'user', 'content': [{'type': 'text', 'text': \"Given the query: 'Give me any soup recipe without chicken.' and the following relevant snippets:\\n\\n  [**Food Name**: 7 - Day - Soup Diet Recipe\\n**User Rating**: 4.5 stars\\n**Food Category**: Vegetable\\n**Cook Time**: 1:30:00\\n**Preparation Time**: 0:30:00\\n**Ingredient Parts**: tomato paste, green onions, beef broth, celery & tops, fresh green beans, green bell peppers, carrots, chili powder, coarse salt, paprika, cayenne pepper, prepared mustard, ground black pepper\\n**Ingredient Quantities**: 3, 2 1/2, 1/2, 6, 2, 1, 2, 2, 2, 2, 1, 2, 1/8, 2, 1\\n**Nutrition**:\\n- Calories: 125.2 cals\\n- Carbohydrate: 23.9 g\\n- Protein: 4.0 g\\n- Fat: 2.4 g\\n- Saturated Fat: 0.6 g\\n- Fiber: 6.4 g\\n- Cholesterol: 1.3 mg\\n- Sodium: 864.6 mg\\n- Sugar: 13.1 g\\n**Serving**: missing people\\n**Recipe Instruction**: In a very large stock pot, combine tomatoes, pasta sauce, tomato paste and beef broth., Over med/high heat, bring mixture to a boil., Reduce heat and simmer covered for 15 minutes., Wash and rough chop carrots, celery (including tops), and green peppers into 1 inch cubes., Wash, trim and cut green beans into 1 inch lengths., Chop green onion into 1/4 inch lengths., Add all vegetables to simmering pot., Stir to combine., Add chili powder, cayenne, mustard, salt, black pepper and paprika to soup mixture., Stir and simmer on low for 60 - 90 minutes., -------------------------------------------., Soup Diet - Day #1., Eat as much of any fruit you want EXCEPT BANANAS., Eat only soup and fruit today but eat all you want., ------------------------------------------., Day #2., All Veggies., Fill up on fresh vegetables (salads etc)., Eat all the soup you want and have a large baked potato with butter at dinner time., But NO FRUIT TODAY., -------------------------------------------., Day #3., Eat all the soup, fruit and veggies you want, but NO POTATOES., If you haven't cheated you will have lost., 5-7 lbs by tomorrow morning., -------------------------------------------., Day #4., Bananas and skim milk., Eat at least 3 bananas and all the milk you want today., Remember, you can have soup anytime you want., --------------------------------------------., Day #5., Beef and Tomatoes., You can have up to 20 ounces of beef and 6 tomatoes in any style you like., Remember to eat soup too., -------------------------------------------., Day #6., Beef and Vegetables., Eat all the beef and veggies you want today., You can have 2-3 steaks if you want, with green leafy vegetables., But NO POTATOES., Don't forget to have soup., --------------------------------------------., Day #7., Brown rice, unsweetened fruit juice, and veggies today., Eat all you want whenever you want and have soup as often as you can., The soup is the key --, --------------------------------------------., If you haven't cheated, you should have lost 10 - 17 lbs., Prescription medications will not be affected by this diet, but check with you doctor before you begin the diet just to be sure., Remember; The more soup you eat, the more weight you will lose.\\n**Not Suitable for People Who has Allergy**: Legume Allergy, Hypersensitivity, Hypersensitivity, Allium Allergy, Nightshade Allergy]\\n\\n[**Food Name**: Natural Vegetable Soup\\n**User Rating**: missing stars\\n**Food Category**: Clear Soup\\n**Cook Time**: 1:00:00\\n**Preparation Time**: 0:45:00\\n**Ingredient Parts**: olive oil, garlic cloves, onions, water, celery, zucchini, broccoli, bell peppers, green beans, salt, butter, pepper, fresh ginger\\n**Ingredient Quantities**: 3, 5, 3, 2 1/2, 3, 3, 4, 2, 3, 3, 1, 1, 1, 1/2, 1, 3\\n**Nutrition**:\\n- Calories: 329.9 cals\\n- Carbohydrate: 31.2 g\\n- Protein: 6.0 g\\n- Fat: 22.8 g\\n- Saturated Fat: 10.8 g\\n- Fiber: 8.4 g\\n- Cholesterol: 40.7 mg\\n- Sodium: 1357.5 mg\\n- Sugar: 9.8 g\\n**Serving**: missing people\\n**Recipe Instruction**: To create your vegetable broth:, Mince garlic and saute in olive oil until golden. Slice onions in to thin strips and simmer in 3 cups of water. Add pepper and sliced ginger root. Add the rest of the water then leave until onion liquifies. 45 minutes., After you create your vegetable broth, add the stick of butter and the rest of the ingredients. Give it 15 minutes for the rest of the vegetables to steam.\\n**Not Suitable for People Who has Allergy**: Legume Allergy, Broccoli allergy, Milk allergy / Lactose intolerance, Hypersensitivity, Allium Allergy, Histamine Allergy, Olive oil, Allium Allergy]\\n\\n[**Food Name**: Soup\\n**User Rating**: missing stars\\n**Food Category**: Vegetable\\n**Cook Time**: 0:20:00\\n**Preparation Time**: 0:05:00\\n**Ingredient Parts**: garlic cloves, half-and-half, heavy cream, mushroom stems and pieces, olive oil, scallion\\n**Ingredient Quantities**: 1, 2, 1, 1, missing, missing\\n**Nutrition**:\\n- Calories: 357.9 cals\\n- Carbohydrate: 24.2 g\\n- Protein: 9.5 g\\n- Fat: 26.3 g\\n- Saturated Fat: 12.8 g\\n- Fiber: 3.3 g\\n- Cholesterol: 55.1 mg\\n- Sodium: 1673.9 mg\\n- Sugar: 5.6 g\\n**Serving**: 2.0 people\\n**Recipe Instruction**: In a sauce pan combine the cream of mushrooms soup, mushroom pieces and stems, minced garlic, salt, pepper, and half and half or cream., Let simmer for 20 minutes., Ladle into bowls and drizzle with olive oil or truffle oil., Garnish with parsley, scallions or other herbs.\\n**Not Suitable for People Who has Allergy**: Milk allergy / Lactose intolerance, Allium Allergy, Olive oil]\\n\\n[**Food Name**: Simply Hot &amp; Sour Soup\\n**User Rating**: missing stars\\n**Food Category**: Clear Soup\\n**Cook Time**: 0:15:00\\n**Preparation Time**: 0:10:00\\n**Ingredient Parts**: water, soy sauce, rice vinegar, white pepper, corn, peas, extra firm tofu, mushroom, red bell pepper, tomato sauce, garlic powder\\n**Ingredient Quantities**: 4, 2, 2, 1/2 - 1, 1/2, 1/2, 1/2, 1/2, 1/4, 1, 1/2\\n**Nutrition**:\\n- Calories: 280.1 cals\\n- Carbohydrate: 38.4 g\\n- Protein: 23.0 g\\n- Fat: 6.9 g\\n- Saturated Fat: 1.3 g\\n- Fiber: 9.4 g\\n- Cholesterol: 0.0 mg\\n- Sodium: 2140.6 mg\\n- Sugar: 12.4 g\\n**Serving**: missing people\\n**Recipe Instruction**: Add all ingredients to the pot and bring to a boil., Lower the heat and simmer for about 10 minutes., Let the soup cool slightly, then serve!\\n**Not Suitable for People Who has Allergy**: Corn Allergy, Allium Allergy, Legume Allergy, Legume Allergy, Rice Allergy, Nightshade Allergy]\\n\\n[**Food Name**: Dump Soup\\n**User Rating**: 5.0 stars\\n**Food Category**: < 15 Mins\\n**Cook Time**: 0:05:00\\n**Preparation Time**: 0:05:00\\n**Ingredient Parts**: white corn, black beans, diced tomatoes, diced tomatoes with green chilies\\n**Ingredient Quantities**: 1, 1, 1, 1, 1, 1\\n**Nutrition**:\\n- Calories: 123.4 cals\\n- Carbohydrate: 22.5 g\\n- Protein: 6.3 g\\n- Fat: 1.8 g\\n- Saturated Fat: 0.4 g\\n- Fiber: 4.5 g\\n- Cholesterol: 0.6 mg\\n- Sodium: 685.0 mg\\n- Sugar: 3.4 g\\n**Serving**: 10.0 people\\n**Recipe Instruction**: Open cans and pour together into pot., Heat over stove.\\n**Not Suitable for People Who has Allergy**: Legume Allergy, Corn Allergy, Nightshade Allergy]\\n\\n\\n\\n  Answer the given query. You can use both your knowledge and data in the snippets. If the some information is 'missing' you can use your knowledge to fill in that question or leave out those information. The response should be in a readable format for recipe and home cook. Then ask user what else do you want to know.\"}]}]\n",
            "image_list\n",
            "[]\n",
            "Setting `pad_token_id` to `eos_token_id`:2 for open-end generation.\n",
            "done import\n",
            "finished load 6.651878356933594e-05\n",
            "done import\n",
            "finished load 6.508827209472656e-05\n",
            "{'sequence': 'Give me the name of the meal that you recommended.', 'labels': ['recipe provider', 'nutrition', 'food tag', 'diet meal planner', 'allergen avoidance'], 'scores': [0.8710872530937195, 0.8220090270042419, 0.7916984558105469, 0.44843387603759766, 0.05760576203465462]}\n",
            "intention_query='Give me the name of the meal that you recommended.'\n",
            "constraint_list=[]\n",
            "text\n",
            "100% 1/1 [00:00<00:00, 85.65it/s]\n",
            "text content: ['There is no context. Please use your knowledge.']\n",
            "len text_content: 1\n",
            "before\n",
            "['There is no context. Please use your knowledge.']\n",
            "after\n",
            "['There is no context. Please use your knowledge.']\n",
            "conversation\n",
            "[{'role': 'system', 'content': [{'type': 'text', 'text': 'You are a home cook chef and nutritionist assistant. Your primary function is to provide users with diet plans, nutrition, recipe, and meal preparation instructions.'}]}, {'role': 'user', 'content': [{'type': 'text', 'text': \"Given the query: 'Give me any soup recipe without chicken.' and the following relevant snippets:\\n\\n  [**Food Name**: 7 - Day - Soup Diet Recipe\\n**User Rating**: 4.5 stars\\n**Food Category**: Vegetable\\n**Cook Time**: 1:30:00\\n**Preparation Time**: 0:30:00\\n**Ingredient Parts**: tomato paste, green onions, beef broth, celery & tops, fresh green beans, green bell peppers, carrots, chili powder, coarse salt, paprika, cayenne pepper, prepared mustard, ground black pepper\\n**Ingredient Quantities**: 3, 2 1/2, 1/2, 6, 2, 1, 2, 2, 2, 2, 1, 2, 1/8, 2, 1\\n**Nutrition**:\\n- Calories: 125.2 cals\\n- Carbohydrate: 23.9 g\\n- Protein: 4.0 g\\n- Fat: 2.4 g\\n- Saturated Fat: 0.6 g\\n- Fiber: 6.4 g\\n- Cholesterol: 1.3 mg\\n- Sodium: 864.6 mg\\n- Sugar: 13.1 g\\n**Serving**: missing people\\n**Recipe Instruction**: In a very large stock pot, combine tomatoes, pasta sauce, tomato paste and beef broth., Over med/high heat, bring mixture to a boil., Reduce heat and simmer covered for 15 minutes., Wash and rough chop carrots, celery (including tops), and green peppers into 1 inch cubes., Wash, trim and cut green beans into 1 inch lengths., Chop green onion into 1/4 inch lengths., Add all vegetables to simmering pot., Stir to combine., Add chili powder, cayenne, mustard, salt, black pepper and paprika to soup mixture., Stir and simmer on low for 60 - 90 minutes., -------------------------------------------., Soup Diet - Day #1., Eat as much of any fruit you want EXCEPT BANANAS., Eat only soup and fruit today but eat all you want., ------------------------------------------., Day #2., All Veggies., Fill up on fresh vegetables (salads etc)., Eat all the soup you want and have a large baked potato with butter at dinner time., But NO FRUIT TODAY., -------------------------------------------., Day #3., Eat all the soup, fruit and veggies you want, but NO POTATOES., If you haven't cheated you will have lost., 5-7 lbs by tomorrow morning., -------------------------------------------., Day #4., Bananas and skim milk., Eat at least 3 bananas and all the milk you want today., Remember, you can have soup anytime you want., --------------------------------------------., Day #5., Beef and Tomatoes., You can have up to 20 ounces of beef and 6 tomatoes in any style you like., Remember to eat soup too., -------------------------------------------., Day #6., Beef and Vegetables., Eat all the beef and veggies you want today., You can have 2-3 steaks if you want, with green leafy vegetables., But NO POTATOES., Don't forget to have soup., --------------------------------------------., Day #7., Brown rice, unsweetened fruit juice, and veggies today., Eat all you want whenever you want and have soup as often as you can., The soup is the key --, --------------------------------------------., If you haven't cheated, you should have lost 10 - 17 lbs., Prescription medications will not be affected by this diet, but check with you doctor before you begin the diet just to be sure., Remember; The more soup you eat, the more weight you will lose.\\n**Not Suitable for People Who has Allergy**: Legume Allergy, Hypersensitivity, Hypersensitivity, Allium Allergy, Nightshade Allergy]\\n\\n[**Food Name**: Natural Vegetable Soup\\n**User Rating**: missing stars\\n**Food Category**: Clear Soup\\n**Cook Time**: 1:00:00\\n**Preparation Time**: 0:45:00\\n**Ingredient Parts**: olive oil, garlic cloves, onions, water, celery, zucchini, broccoli, bell peppers, green beans, salt, butter, pepper, fresh ginger\\n**Ingredient Quantities**: 3, 5, 3, 2 1/2, 3, 3, 4, 2, 3, 3, 1, 1, 1, 1/2, 1, 3\\n**Nutrition**:\\n- Calories: 329.9 cals\\n- Carbohydrate: 31.2 g\\n- Protein: 6.0 g\\n- Fat: 22.8 g\\n- Saturated Fat: 10.8 g\\n- Fiber: 8.4 g\\n- Cholesterol: 40.7 mg\\n- Sodium: 1357.5 mg\\n- Sugar: 9.8 g\\n**Serving**: missing people\\n**Recipe Instruction**: To create your vegetable broth:, Mince garlic and saute in olive oil until golden. Slice onions in to thin strips and simmer in 3 cups of water. Add pepper and sliced ginger root. Add the rest of the water then leave until onion liquifies. 45 minutes., After you create your vegetable broth, add the stick of butter and the rest of the ingredients. Give it 15 minutes for the rest of the vegetables to steam.\\n**Not Suitable for People Who has Allergy**: Legume Allergy, Broccoli allergy, Milk allergy / Lactose intolerance, Hypersensitivity, Allium Allergy, Histamine Allergy, Olive oil, Allium Allergy]\\n\\n[**Food Name**: Soup\\n**User Rating**: missing stars\\n**Food Category**: Vegetable\\n**Cook Time**: 0:20:00\\n**Preparation Time**: 0:05:00\\n**Ingredient Parts**: garlic cloves, half-and-half, heavy cream, mushroom stems and pieces, olive oil, scallion\\n**Ingredient Quantities**: 1, 2, 1, 1, missing, missing\\n**Nutrition**:\\n- Calories: 357.9 cals\\n- Carbohydrate: 24.2 g\\n- Protein: 9.5 g\\n- Fat: 26.3 g\\n- Saturated Fat: 12.8 g\\n- Fiber: 3.3 g\\n- Cholesterol: 55.1 mg\\n- Sodium: 1673.9 mg\\n- Sugar: 5.6 g\\n**Serving**: 2.0 people\\n**Recipe Instruction**: In a sauce pan combine the cream of mushrooms soup, mushroom pieces and stems, minced garlic, salt, pepper, and half and half or cream., Let simmer for 20 minutes., Ladle into bowls and drizzle with olive oil or truffle oil., Garnish with parsley, scallions or other herbs.\\n**Not Suitable for People Who has Allergy**: Milk allergy / Lactose intolerance, Allium Allergy, Olive oil]\\n\\n[**Food Name**: Simply Hot &amp; Sour Soup\\n**User Rating**: missing stars\\n**Food Category**: Clear Soup\\n**Cook Time**: 0:15:00\\n**Preparation Time**: 0:10:00\\n**Ingredient Parts**: water, soy sauce, rice vinegar, white pepper, corn, peas, extra firm tofu, mushroom, red bell pepper, tomato sauce, garlic powder\\n**Ingredient Quantities**: 4, 2, 2, 1/2 - 1, 1/2, 1/2, 1/2, 1/2, 1/4, 1, 1/2\\n**Nutrition**:\\n- Calories: 280.1 cals\\n- Carbohydrate: 38.4 g\\n- Protein: 23.0 g\\n- Fat: 6.9 g\\n- Saturated Fat: 1.3 g\\n- Fiber: 9.4 g\\n- Cholesterol: 0.0 mg\\n- Sodium: 2140.6 mg\\n- Sugar: 12.4 g\\n**Serving**: missing people\\n**Recipe Instruction**: Add all ingredients to the pot and bring to a boil., Lower the heat and simmer for about 10 minutes., Let the soup cool slightly, then serve!\\n**Not Suitable for People Who has Allergy**: Corn Allergy, Allium Allergy, Legume Allergy, Legume Allergy, Rice Allergy, Nightshade Allergy]\\n\\n[**Food Name**: Dump Soup\\n**User Rating**: 5.0 stars\\n**Food Category**: < 15 Mins\\n**Cook Time**: 0:05:00\\n**Preparation Time**: 0:05:00\\n**Ingredient Parts**: white corn, black beans, diced tomatoes, diced tomatoes with green chilies\\n**Ingredient Quantities**: 1, 1, 1, 1, 1, 1\\n**Nutrition**:\\n- Calories: 123.4 cals\\n- Carbohydrate: 22.5 g\\n- Protein: 6.3 g\\n- Fat: 1.8 g\\n- Saturated Fat: 0.4 g\\n- Fiber: 4.5 g\\n- Cholesterol: 0.6 mg\\n- Sodium: 685.0 mg\\n- Sugar: 3.4 g\\n**Serving**: 10.0 people\\n**Recipe Instruction**: Open cans and pour together into pot., Heat over stove.\\n**Not Suitable for People Who has Allergy**: Legume Allergy, Corn Allergy, Nightshade Allergy]\\n\\n\\n\\n  Answer the given query. You can use both your knowledge and data in the snippets. If the some information is 'missing' you can use your knowledge to fill in that question or leave out those information. The response should be in a readable format for recipe and home cook. Then ask user what else do you want to know.\"}]}, {'role': 'assistant', 'content': [{'type': 'text', 'text': 'Here is a recipe for a vegetable soup that does not contain chicken:\\n\\nIngredients:\\n\\n* 3 cups of water\\n* 1/2 cup of tomato paste\\n* 1/2 cup of beef broth\\n* 1/2 cup of carrots, chopped\\n* 1/2 cup of celery, chopped\\n* 1/2 cup of green bell peppers, chopped\\n* 1/2 cup of green onions, chopped\\n* 1/2 cup of fresh green beans, chopped\\n* 1/2 cup of chili powder\\n* 1/2 cup of coarse salt\\n* 1/2 cup of paprika\\n* 1/2 cup of cayenne pepper\\n* 1/2 cup of prepared mustard\\n* 1/2 cup of ground black pepper\\n\\nInstructions:\\n\\n1. In a large pot, combine the water, tomato paste, and beef broth.\\n2. Bring the mixture to a boil over medium-high heat.\\n3. Reduce the heat to low and simmer the soup, covered, for 15 minutes.\\n4. Add the chopped carrots, celery, green bell peppers, green onions, green beans, chili powder, salt, black pepper, and paprika to the soup.\\n5. Stir to combine and simmer the soup on low for 60-90 minutes.\\n\\nThis recipe makes 2 servings.\\n\\nWould you like to know more about this recipe or any other recipe? </s>'}]}, {'role': 'user', 'content': [{'type': 'text', 'text': \"Given the query: 'Give me the name of the meal that you recommended.' and the following relevant snippets:\\n\\n  There is no context. Please use your knowledge.\\n\\n  Answer the given query. You can use both your knowledge and data in the snippets. If the some information is 'missing' you can use your knowledge to fill in that question or leave out those information. The response should be in a readable format for recipe and home cook. Then ask user what else do you want to know.\"}]}]\n",
            "image_list\n",
            "[]\n",
            "Setting `pad_token_id` to `eos_token_id`:2 for open-end generation.\n",
            "done import\n",
            "finished load 6.890296936035156e-05\n",
            "done import\n",
            "finished load 7.343292236328125e-05\n",
            "{'sequence': \"Give me the name of the meal's recipe that you recommended.\", 'labels': ['recipe provider', 'food tag', 'nutrition', 'diet meal planner', 'allergen avoidance'], 'scores': [0.8643494844436646, 0.7080497741699219, 0.547674834728241, 0.2708553969860077, 0.10939835011959076]}\n",
            "intention_query=\"Give me the name of the meal's recipe that you recommended.\"\n",
            "constraint_list=[]\n",
            "text\n",
            "100% 1/1 [00:00<00:00, 85.62it/s]\n",
            "text content: ['[**Food Name**: Great Grain Burgers\\n**User Rating**: 4.0 stars\\n**Food Category**: Lunch/Snacks\\n**Cook Time**: 0:05:00\\n**Preparation Time**: 4:00:00\\n**Ingredient Parts**: brown rice, bulgur, poultry seasoning, water, fresh mushrooms, old fashioned oats, part-skim mozzarella cheese, low-fat cheddar cheese, onion, fat-free cottage cheese, egg substitute, fresh parsley, salt, dried basil, celery seed, canola oil, lettuce leaf, tomatoes\\n**Ingredient Quantities**: 1/2, 1/2, 1, 1/4, 2, 2, 3/4, 1, 1/4, 1/3, 1/2, 1/4, 2, 1, 1/2, 1/8, 3, 12, missing, missing\\n**Nutrition**:\\n- Calories: 264.3 cals\\n- Carbohydrate: 36.7 g\\n- Protein: 13.5 g\\n- Fat: 7.0 g\\n- Saturated Fat: 2.7 g\\n- Fiber: 3.0 g\\n- Cholesterol: 13.1 mg\\n- Sodium: 544.9 mg\\n- Sugar: 3.6 g\\n**Serving**: 12.0 people\\n**Recipe Instruction**: Combine the first 5 ingredients in a large saucepan., Bring to a boil, reduce heat, cover and simmer for 30 to 40 minutes or until rice is tender., Remove from heat and cool completely, refrigerate., Combine the mushrooms, oats, mozzarella, cheese cheddar cheese and onion., In a food processor, process the cottage cheese and egg substitute until smooth., Add mushroom mixture, parsley, salt, basil, celery seed and chilled rice mixture., Using 1/2 cup of mixture, shape into 12 patties., In a non-stick skillet, cook four patties in 1 teaspoon of oil for 5 minutes on each side or until browned and crisp., Repeat with remaining patties and oil., Serve on hamburger rolls with lettuce and tomato slices., Please note the preparation time includes cooking and cooling rice., The cooking time is for the burgers only.\\n**Not Suitable for People Who has Allergy**: Canola oil, Hypersensitivity, Milk allergy / Lactose intolerance, LTP Allergy, Allium Allergy, Hypersensitivity, Rice Allergy, Nightshade Allergy]\\n\\n', '[**Food Name**: Ten Toppings for Potato Pancakes or Latkes\\n**User Rating**: missing stars\\n**Food Category**: Very Low Carbs\\n**Cook Time**: 0:20:00\\n**Preparation Time**: 0:10:00\\n**Ingredient Parts**: cucumber, fresh dill, cherry tomatoes, pesto sauce, parmesan cheese, smoked salmon, lemon slice, watercress, sea salt, beet, horseradish, fresh parsley, blue cheese, walnuts, sage leaf, pear, honey, yogurt, apple, egg, mayonnaise, mustard, chives, spinach, garlic, mango, fresh blueberries, fresh mint leaves\\n**Ingredient Quantities**: missing, missing, missing, missing, missing, missing, missing, missing, missing, missing, missing, missing, missing, missing, missing, missing, missing, missing, missing, missing, missing, missing, missing, missing, missing, missing, missing, missing, missing, missing, missing\\n**Nutrition**:\\n- Calories: 0.0 cals\\n- Carbohydrate: 0.0 g\\n- Protein: 0.0 g\\n- Fat: 0.0 g\\n- Saturated Fat: 0.0 g\\n- Fiber: 0.0 g\\n- Cholesterol: 0.0 mg\\n- Sodium: 0.0 mg\\n- Sugar: 0.0 g\\n**Serving**: 1.0 people\\n**Recipe Instruction**: P, r, e, p, a, r, e,  , y, o, u, r,  , f, a, v, o, r, i, t, e,  , l, a, t, k, e, s,  , a, n, d,  , t, o, p,  , w, i, t, h,  , y, o, u, r,  , c, h, o, i, c, e,  , o, f,  , t, o, p, p, i, n, g, s, .\\n**Not Suitable for People Who has Allergy**: Oral Allergy Syndrome, Milk allergy / Lactose intolerance, Stone Fruit Allergy, Allium Allergy, Honey Allergy, Alpha-gal Syndrome, Cruciferous Allergy, Citrus Allergy, Oral Allergy Syndrome, Hypersensitivity, Oral Allergy Syndrome, Fish Allergy, Histamine Allergy, Nightshade Allergy, Nut Allergy, Watercress]\\n\\n', '[**Food Name**: Tostadas Our Way\\n**User Rating**: missing stars\\n**Food Category**: One Dish Meal\\n**Cook Time**: 0:20:00\\n**Preparation Time**: 0:05:00\\n**Ingredient Parts**: onion, olive oil, garlic clove, recaito, lean ground beef, dried ancho chile powder, ground cumin, corn tortillas, vegetarian refried beans, salsa, sour cream, avocado, lettuce, cheddar cheese\\n**Ingredient Quantities**: 1/2, 2, 1, 1, 1, 1 1/2, 1, 8, 1, 1, 1, missing, missing, missing\\n**Nutrition**:\\n- Calories: 579.1 cals\\n- Carbohydrate: 47.5 g\\n- Protein: 34.5 g\\n- Fat: 28.8 g\\n- Saturated Fat: 13.2 g\\n- Fiber: 10.4 g\\n- Cholesterol: 107.5 mg\\n- Sodium: 844.8 mg\\n- Sugar: 3.7 g\\n**Serving**: 4.0 people\\n**Recipe Instruction**: Sauté the onion in the olive oil over medium-high heat until just soft, then add the garlic and recaito and stir well., Add the ground beef and cook until meat is well-browned, using a spatula to break up the cooked meat into smaller pieces (some folks call this \"hamburger gravel\"), about 8-10 minutes.  Drain off fat.  Add 1 tsp ancho and 1/2 tsp cumin and stir well, cooking for another 2-3 minutes.  Set aside., In a bowl, combine the refried beans, the remaining ancho and cumin, 1/2 cup of salsa, and 1/2 cup sour cream.  Stir well., If using corn tortillas:  heat oil or butter (using butter is is a luxury and a bit decadent, but very tasty!) in a pan and fry the corn tortillas, flat, on both sides until crispy., To make tostada:  spread refried bean mixture, then cooked meat mixture (I prefer my tostadas without meat, but Steingrim puts it on his) onto tostada shell.  Add a bit of salsa and guacamole or avocado chunks on top, then shredded lettuce, grated cheddar, and sour cream.  Eat and enjoy!, Makes 4 servings of 2 tostadas each., Note:  Steingrim likes his extra spicy, so he adds sliced jalapenos, his special very hot salsa or sauce, and extra chopped onion to his tostadas.\\n**Not Suitable for People Who has Allergy**: Oral Allergy Syndrome, Legume Allergy, Milk allergy / Lactose intolerance, Corn Allergy, Milk allergy / Lactose intolerance, Allium Allergy, Olive oil, Allium Allergy, Milk allergy / Lactose intolerance]\\n\\n', '[**Food Name**: Overload\\n**User Rating**: 4.0 stars\\n**Food Category**: Lunch/Snacks\\n**Cook Time**: 0:20:00\\n**Preparation Time**: 0:20:00\\n**Ingredient Parts**: mayonnaise, fresh lemon juice, Worcestershire sauce, ketchup, dried basil, flour, parmesan cheese, black pepper, garlic powder, dried basil, dried thyme, eggs, vegetable shortening, chicken, portabella mushrooms, cremini mushrooms, onions, cheese\\n**Ingredient Quantities**: 1/2, 1, 1, 1/3, 6, 1/8, 3/4, 1/4, 1/4, 1/2, 1/2, 1/2, 2, 2 1/3, 2, 1, 4, 4, 4, 8, 4\\n**Nutrition**:\\n- Calories: 1757.3 cals\\n- Carbohydrate: 83.3 g\\n- Protein: 30.2 g\\n- Fat: 147.1 g\\n- Saturated Fat: 41.2 g\\n- Fiber: 4.8 g\\n- Cholesterol: 170.6 mg\\n- Sodium: 987.3 mg\\n- Sugar: 11.2 g\\n**Serving**: 4.0 people\\n**Recipe Instruction**: Mix together creamy sauce ingredients place in refrigerator, Mix flour with seasonings, Towel dry potatoes set aside, Dip chicken in egg then flour set aside follow with onion rings, mushrooms, Dust the potatoes in the last of the seasoned flour, Heat pan with shortening to 360 degrees, Fry without over crowding chicken, then onions rings, mushrooms then potatoes, These will fry quickly, potatoes taking a bit longer, Draining on paper towels, seasoning with salt and pepper keep warm in a 200 degree oven, Place 2 slices of cheese on each roll, Distribute all the rest of desired ingredients on the cheese, Place under broiler to sizzle up just a couple seconds, Pile on sauce and optional Cole slaw, Garnish with fresh basil\\n**Not Suitable for People Who has Allergy**: Milk allergy / Lactose intolerance, Poultry Allergy, Poultry Allergy, Allium Allergy, Citrus Allergy, Allium Allergy]\\n\\n', '[**Food Name**: Easy One-Pot Dinner , or Eintopf, (For My Non-Cooking Husband!!)\\n**User Rating**: 5.0 stars\\n**Food Category**: One Dish Meal\\n**Cook Time**: 0:40:00\\n**Preparation Time**: 0:10:00\\n**Ingredient Parts**: chicken pieces, canola oil, onion, potatoes, string bean, sugar, ketchup, Worcestershire sauce, seasoning salt, black pepper, water, salsa, garlic, dried herbs\\n**Ingredient Quantities**: 8, missing, 1, 4, 2, 1/2, 1/2, 4 -5, 2, 2 -3, 1, 2, 2, 3, missing\\n**Nutrition**:\\n- Calories: 597.2 cals\\n- Carbohydrate: 128.6 g\\n- Protein: 22.3 g\\n- Fat: 1.9 g\\n- Saturated Fat: 0.4 g\\n- Fiber: 25.9 g\\n- Cholesterol: 0.0 mg\\n- Sodium: 1358.0 mg\\n- Sugar: 29.9 g\\n**Serving**: missing people\\n**Recipe Instruction**: Please dear, to prevent spattering the hob which you might not clean properly afterwards, use my large soup pot., Put it on the wok gas plate and heat it up. Do not walk away, as I don\\'t know what happens to stainless steel which gets red-hot., The \"potjiekos mixture\" or mixed vegetable pillow pack usually consists of baby carrots, chunks of butternut and sweet potato, a few baby potatoes, and some type of marrow (zucchini or squash)., Clean the onion and chop roughly (on a wooden plank, please)., Now find the tin with the stock powder. You can also use chicken or beef stock, whichever you can actually find, although they are all to your right in the grocery cupboard., Heat a film of canola oil in the hot pot. Do keep in mind that oil heated to a certain degree can catch alight. Should that happen, put the lid on the pot and turn off the gas flame., Okay, let\\'s assume you did not wander away. Chuck the chicken pieces into the film of oil. Use a wooden spoon with a long handle for this via dolorosa, and let them fry on both sides if you can manage that., Add some Aromat -- seasoned salt., Add the potatoes and sort of push them in among the sizzling chicken pieces. Add the chopped onion plus ALL the veggies. Please read list of ingredients again., Add the sugar, salt and seasonings. The amounts are guesswork, but keep more or less to what I put down above, unless you taste it all and want more of something., The herbs and garlic -- over to you. You can either actually get up and go find some fresh herbs at the supermarket, ditto garlic, or use dried from the spice drawer. I know the bottles look small, but you only need about 2 teaspoons per herb for this pot., When everything is cooking nicely, turn it over once or twice with one of my long-handled wooden spoons., Now TURN DOWN the heat completely; you are using a HOT gas plate. You easily let things burn, remember. Put ON the lid., You may now leave it for 10 minutes. Just do not go to your computer and forget the food., Come back, check the liquid -- there should be enough not to cook away. My 2 cups as mentioned are usually quite adequate., Pull the pot, large as it is, towards a smaller gas flame. Remember to turn OFF the wok flame!, Turn flame to low, after checking that everything is simmering. Put on the lid. Leave for 20 minutes., Test the potato halves and the carrots from the \"potjiekos pack\" with a fork. If it\\'s soft, the food is done., If there is enough sauce you can always, farm-style, put some bread in your plate and ladle sauce over the bread., Darling, I do hope you can follow this and that you actually get to eat dinner without burning it or finding it tastes awful., Good luck.\\n**Not Suitable for People Who has Allergy**: Legume Allergy, Canola oil, Poultry Allergy, Allium Allergy, Allium Allergy, Potato Allergy, Sugar Allergy / Intolerance]\\n\\n']\n",
            "len text_content: 5\n",
            "before\n",
            "['[**Food Name**: Great Grain Burgers\\n**User Rating**: 4.0 stars\\n**Food Category**: Lunch/Snacks\\n**Cook Time**: 0:05:00\\n**Preparation Time**: 4:00:00\\n**Ingredient Parts**: brown rice, bulgur, poultry seasoning, water, fresh mushrooms, old fashioned oats, part-skim mozzarella cheese, low-fat cheddar cheese, onion, fat-free cottage cheese, egg substitute, fresh parsley, salt, dried basil, celery seed, canola oil, lettuce leaf, tomatoes\\n**Ingredient Quantities**: 1/2, 1/2, 1, 1/4, 2, 2, 3/4, 1, 1/4, 1/3, 1/2, 1/4, 2, 1, 1/2, 1/8, 3, 12, missing, missing\\n**Nutrition**:\\n- Calories: 264.3 cals\\n- Carbohydrate: 36.7 g\\n- Protein: 13.5 g\\n- Fat: 7.0 g\\n- Saturated Fat: 2.7 g\\n- Fiber: 3.0 g\\n- Cholesterol: 13.1 mg\\n- Sodium: 544.9 mg\\n- Sugar: 3.6 g\\n**Serving**: 12.0 people\\n**Recipe Instruction**: Combine the first 5 ingredients in a large saucepan., Bring to a boil, reduce heat, cover and simmer for 30 to 40 minutes or until rice is tender., Remove from heat and cool completely, refrigerate., Combine the mushrooms, oats, mozzarella, cheese cheddar cheese and onion., In a food processor, process the cottage cheese and egg substitute until smooth., Add mushroom mixture, parsley, salt, basil, celery seed and chilled rice mixture., Using 1/2 cup of mixture, shape into 12 patties., In a non-stick skillet, cook four patties in 1 teaspoon of oil for 5 minutes on each side or until browned and crisp., Repeat with remaining patties and oil., Serve on hamburger rolls with lettuce and tomato slices., Please note the preparation time includes cooking and cooling rice., The cooking time is for the burgers only.\\n**Not Suitable for People Who has Allergy**: Canola oil, Hypersensitivity, Milk allergy / Lactose intolerance, LTP Allergy, Allium Allergy, Hypersensitivity, Rice Allergy, Nightshade Allergy]\\n\\n', '[**Food Name**: Ten Toppings for Potato Pancakes or Latkes\\n**User Rating**: missing stars\\n**Food Category**: Very Low Carbs\\n**Cook Time**: 0:20:00\\n**Preparation Time**: 0:10:00\\n**Ingredient Parts**: cucumber, fresh dill, cherry tomatoes, pesto sauce, parmesan cheese, smoked salmon, lemon slice, watercress, sea salt, beet, horseradish, fresh parsley, blue cheese, walnuts, sage leaf, pear, honey, yogurt, apple, egg, mayonnaise, mustard, chives, spinach, garlic, mango, fresh blueberries, fresh mint leaves\\n**Ingredient Quantities**: missing, missing, missing, missing, missing, missing, missing, missing, missing, missing, missing, missing, missing, missing, missing, missing, missing, missing, missing, missing, missing, missing, missing, missing, missing, missing, missing, missing, missing, missing, missing\\n**Nutrition**:\\n- Calories: 0.0 cals\\n- Carbohydrate: 0.0 g\\n- Protein: 0.0 g\\n- Fat: 0.0 g\\n- Saturated Fat: 0.0 g\\n- Fiber: 0.0 g\\n- Cholesterol: 0.0 mg\\n- Sodium: 0.0 mg\\n- Sugar: 0.0 g\\n**Serving**: 1.0 people\\n**Recipe Instruction**: P, r, e, p, a, r, e,  , y, o, u, r,  , f, a, v, o, r, i, t, e,  , l, a, t, k, e, s,  , a, n, d,  , t, o, p,  , w, i, t, h,  , y, o, u, r,  , c, h, o, i, c, e,  , o, f,  , t, o, p, p, i, n, g, s, .\\n**Not Suitable for People Who has Allergy**: Oral Allergy Syndrome, Milk allergy / Lactose intolerance, Stone Fruit Allergy, Allium Allergy, Honey Allergy, Alpha-gal Syndrome, Cruciferous Allergy, Citrus Allergy, Oral Allergy Syndrome, Hypersensitivity, Oral Allergy Syndrome, Fish Allergy, Histamine Allergy, Nightshade Allergy, Nut Allergy, Watercress]\\n\\n', '[**Food Name**: Tostadas Our Way\\n**User Rating**: missing stars\\n**Food Category**: One Dish Meal\\n**Cook Time**: 0:20:00\\n**Preparation Time**: 0:05:00\\n**Ingredient Parts**: onion, olive oil, garlic clove, recaito, lean ground beef, dried ancho chile powder, ground cumin, corn tortillas, vegetarian refried beans, salsa, sour cream, avocado, lettuce, cheddar cheese\\n**Ingredient Quantities**: 1/2, 2, 1, 1, 1, 1 1/2, 1, 8, 1, 1, 1, missing, missing, missing\\n**Nutrition**:\\n- Calories: 579.1 cals\\n- Carbohydrate: 47.5 g\\n- Protein: 34.5 g\\n- Fat: 28.8 g\\n- Saturated Fat: 13.2 g\\n- Fiber: 10.4 g\\n- Cholesterol: 107.5 mg\\n- Sodium: 844.8 mg\\n- Sugar: 3.7 g\\n**Serving**: 4.0 people\\n**Recipe Instruction**: Sauté the onion in the olive oil over medium-high heat until just soft, then add the garlic and recaito and stir well., Add the ground beef and cook until meat is well-browned, using a spatula to break up the cooked meat into smaller pieces (some folks call this \"hamburger gravel\"), about 8-10 minutes.  Drain off fat.  Add 1 tsp ancho and 1/2 tsp cumin and stir well, cooking for another 2-3 minutes.  Set aside., In a bowl, combine the refried beans, the remaining ancho and cumin, 1/2 cup of salsa, and 1/2 cup sour cream.  Stir well., If using corn tortillas:  heat oil or butter (using butter is is a luxury and a bit decadent, but very tasty!) in a pan and fry the corn tortillas, flat, on both sides until crispy., To make tostada:  spread refried bean mixture, then cooked meat mixture (I prefer my tostadas without meat, but Steingrim puts it on his) onto tostada shell.  Add a bit of salsa and guacamole or avocado chunks on top, then shredded lettuce, grated cheddar, and sour cream.  Eat and enjoy!, Makes 4 servings of 2 tostadas each., Note:  Steingrim likes his extra spicy, so he adds sliced jalapenos, his special very hot salsa or sauce, and extra chopped onion to his tostadas.\\n**Not Suitable for People Who has Allergy**: Oral Allergy Syndrome, Legume Allergy, Milk allergy / Lactose intolerance, Corn Allergy, Milk allergy / Lactose intolerance, Allium Allergy, Olive oil, Allium Allergy, Milk allergy / Lactose intolerance]\\n\\n', '[**Food Name**: Overload\\n**User Rating**: 4.0 stars\\n**Food Category**: Lunch/Snacks\\n**Cook Time**: 0:20:00\\n**Preparation Time**: 0:20:00\\n**Ingredient Parts**: mayonnaise, fresh lemon juice, Worcestershire sauce, ketchup, dried basil, flour, parmesan cheese, black pepper, garlic powder, dried basil, dried thyme, eggs, vegetable shortening, chicken, portabella mushrooms, cremini mushrooms, onions, cheese\\n**Ingredient Quantities**: 1/2, 1, 1, 1/3, 6, 1/8, 3/4, 1/4, 1/4, 1/2, 1/2, 1/2, 2, 2 1/3, 2, 1, 4, 4, 4, 8, 4\\n**Nutrition**:\\n- Calories: 1757.3 cals\\n- Carbohydrate: 83.3 g\\n- Protein: 30.2 g\\n- Fat: 147.1 g\\n- Saturated Fat: 41.2 g\\n- Fiber: 4.8 g\\n- Cholesterol: 170.6 mg\\n- Sodium: 987.3 mg\\n- Sugar: 11.2 g\\n**Serving**: 4.0 people\\n**Recipe Instruction**: Mix together creamy sauce ingredients place in refrigerator, Mix flour with seasonings, Towel dry potatoes set aside, Dip chicken in egg then flour set aside follow with onion rings, mushrooms, Dust the potatoes in the last of the seasoned flour, Heat pan with shortening to 360 degrees, Fry without over crowding chicken, then onions rings, mushrooms then potatoes, These will fry quickly, potatoes taking a bit longer, Draining on paper towels, seasoning with salt and pepper keep warm in a 200 degree oven, Place 2 slices of cheese on each roll, Distribute all the rest of desired ingredients on the cheese, Place under broiler to sizzle up just a couple seconds, Pile on sauce and optional Cole slaw, Garnish with fresh basil\\n**Not Suitable for People Who has Allergy**: Milk allergy / Lactose intolerance, Poultry Allergy, Poultry Allergy, Allium Allergy, Citrus Allergy, Allium Allergy]\\n\\n', '[**Food Name**: Easy One-Pot Dinner , or Eintopf, (For My Non-Cooking Husband!!)\\n**User Rating**: 5.0 stars\\n**Food Category**: One Dish Meal\\n**Cook Time**: 0:40:00\\n**Preparation Time**: 0:10:00\\n**Ingredient Parts**: chicken pieces, canola oil, onion, potatoes, string bean, sugar, ketchup, Worcestershire sauce, seasoning salt, black pepper, water, salsa, garlic, dried herbs\\n**Ingredient Quantities**: 8, missing, 1, 4, 2, 1/2, 1/2, 4 -5, 2, 2 -3, 1, 2, 2, 3, missing\\n**Nutrition**:\\n- Calories: 597.2 cals\\n- Carbohydrate: 128.6 g\\n- Protein: 22.3 g\\n- Fat: 1.9 g\\n- Saturated Fat: 0.4 g\\n- Fiber: 25.9 g\\n- Cholesterol: 0.0 mg\\n- Sodium: 1358.0 mg\\n- Sugar: 29.9 g\\n**Serving**: missing people\\n**Recipe Instruction**: Please dear, to prevent spattering the hob which you might not clean properly afterwards, use my large soup pot., Put it on the wok gas plate and heat it up. Do not walk away, as I don\\'t know what happens to stainless steel which gets red-hot., The \"potjiekos mixture\" or mixed vegetable pillow pack usually consists of baby carrots, chunks of butternut and sweet potato, a few baby potatoes, and some type of marrow (zucchini or squash)., Clean the onion and chop roughly (on a wooden plank, please)., Now find the tin with the stock powder. You can also use chicken or beef stock, whichever you can actually find, although they are all to your right in the grocery cupboard., Heat a film of canola oil in the hot pot. Do keep in mind that oil heated to a certain degree can catch alight. Should that happen, put the lid on the pot and turn off the gas flame., Okay, let\\'s assume you did not wander away. Chuck the chicken pieces into the film of oil. Use a wooden spoon with a long handle for this via dolorosa, and let them fry on both sides if you can manage that., Add some Aromat -- seasoned salt., Add the potatoes and sort of push them in among the sizzling chicken pieces. Add the chopped onion plus ALL the veggies. Please read list of ingredients again., Add the sugar, salt and seasonings. The amounts are guesswork, but keep more or less to what I put down above, unless you taste it all and want more of something., The herbs and garlic -- over to you. You can either actually get up and go find some fresh herbs at the supermarket, ditto garlic, or use dried from the spice drawer. I know the bottles look small, but you only need about 2 teaspoons per herb for this pot., When everything is cooking nicely, turn it over once or twice with one of my long-handled wooden spoons., Now TURN DOWN the heat completely; you are using a HOT gas plate. You easily let things burn, remember. Put ON the lid., You may now leave it for 10 minutes. Just do not go to your computer and forget the food., Come back, check the liquid -- there should be enough not to cook away. My 2 cups as mentioned are usually quite adequate., Pull the pot, large as it is, towards a smaller gas flame. Remember to turn OFF the wok flame!, Turn flame to low, after checking that everything is simmering. Put on the lid. Leave for 20 minutes., Test the potato halves and the carrots from the \"potjiekos pack\" with a fork. If it\\'s soft, the food is done., If there is enough sauce you can always, farm-style, put some bread in your plate and ladle sauce over the bread., Darling, I do hope you can follow this and that you actually get to eat dinner without burning it or finding it tastes awful., Good luck.\\n**Not Suitable for People Who has Allergy**: Legume Allergy, Canola oil, Poultry Allergy, Allium Allergy, Allium Allergy, Potato Allergy, Sugar Allergy / Intolerance]\\n\\n']\n",
            "after\n",
            "['[**Food Name**: Easy One-Pot Dinner , or Eintopf, (For My Non-Cooking Husband!!)\\n**User Rating**: 5.0 stars\\n**Food Category**: One Dish Meal\\n**Cook Time**: 0:40:00\\n**Preparation Time**: 0:10:00\\n**Ingredient Parts**: chicken pieces, canola oil, onion, potatoes, string bean, sugar, ketchup, Worcestershire sauce, seasoning salt, black pepper, water, salsa, garlic, dried herbs\\n**Ingredient Quantities**: 8, missing, 1, 4, 2, 1/2, 1/2, 4 -5, 2, 2 -3, 1, 2, 2, 3, missing\\n**Nutrition**:\\n- Calories: 597.2 cals\\n- Carbohydrate: 128.6 g\\n- Protein: 22.3 g\\n- Fat: 1.9 g\\n- Saturated Fat: 0.4 g\\n- Fiber: 25.9 g\\n- Cholesterol: 0.0 mg\\n- Sodium: 1358.0 mg\\n- Sugar: 29.9 g\\n**Serving**: missing people\\n**Recipe Instruction**: Please dear, to prevent spattering the hob which you might not clean properly afterwards, use my large soup pot., Put it on the wok gas plate and heat it up. Do not walk away, as I don\\'t know what happens to stainless steel which gets red-hot., The \"potjiekos mixture\" or mixed vegetable pillow pack usually consists of baby carrots, chunks of butternut and sweet potato, a few baby potatoes, and some type of marrow (zucchini or squash)., Clean the onion and chop roughly (on a wooden plank, please)., Now find the tin with the stock powder. You can also use chicken or beef stock, whichever you can actually find, although they are all to your right in the grocery cupboard., Heat a film of canola oil in the hot pot. Do keep in mind that oil heated to a certain degree can catch alight. Should that happen, put the lid on the pot and turn off the gas flame., Okay, let\\'s assume you did not wander away. Chuck the chicken pieces into the film of oil. Use a wooden spoon with a long handle for this via dolorosa, and let them fry on both sides if you can manage that., Add some Aromat -- seasoned salt., Add the potatoes and sort of push them in among the sizzling chicken pieces. Add the chopped onion plus ALL the veggies. Please read list of ingredients again., Add the sugar, salt and seasonings. The amounts are guesswork, but keep more or less to what I put down above, unless you taste it all and want more of something., The herbs and garlic -- over to you. You can either actually get up and go find some fresh herbs at the supermarket, ditto garlic, or use dried from the spice drawer. I know the bottles look small, but you only need about 2 teaspoons per herb for this pot., When everything is cooking nicely, turn it over once or twice with one of my long-handled wooden spoons., Now TURN DOWN the heat completely; you are using a HOT gas plate. You easily let things burn, remember. Put ON the lid., You may now leave it for 10 minutes. Just do not go to your computer and forget the food., Come back, check the liquid -- there should be enough not to cook away. My 2 cups as mentioned are usually quite adequate., Pull the pot, large as it is, towards a smaller gas flame. Remember to turn OFF the wok flame!, Turn flame to low, after checking that everything is simmering. Put on the lid. Leave for 20 minutes., Test the potato halves and the carrots from the \"potjiekos pack\" with a fork. If it\\'s soft, the food is done., If there is enough sauce you can always, farm-style, put some bread in your plate and ladle sauce over the bread., Darling, I do hope you can follow this and that you actually get to eat dinner without burning it or finding it tastes awful., Good luck.\\n**Not Suitable for People Who has Allergy**: Legume Allergy, Canola oil, Poultry Allergy, Allium Allergy, Allium Allergy, Potato Allergy, Sugar Allergy / Intolerance]\\n\\n', '[**Food Name**: Tostadas Our Way\\n**User Rating**: missing stars\\n**Food Category**: One Dish Meal\\n**Cook Time**: 0:20:00\\n**Preparation Time**: 0:05:00\\n**Ingredient Parts**: onion, olive oil, garlic clove, recaito, lean ground beef, dried ancho chile powder, ground cumin, corn tortillas, vegetarian refried beans, salsa, sour cream, avocado, lettuce, cheddar cheese\\n**Ingredient Quantities**: 1/2, 2, 1, 1, 1, 1 1/2, 1, 8, 1, 1, 1, missing, missing, missing\\n**Nutrition**:\\n- Calories: 579.1 cals\\n- Carbohydrate: 47.5 g\\n- Protein: 34.5 g\\n- Fat: 28.8 g\\n- Saturated Fat: 13.2 g\\n- Fiber: 10.4 g\\n- Cholesterol: 107.5 mg\\n- Sodium: 844.8 mg\\n- Sugar: 3.7 g\\n**Serving**: 4.0 people\\n**Recipe Instruction**: Sauté the onion in the olive oil over medium-high heat until just soft, then add the garlic and recaito and stir well., Add the ground beef and cook until meat is well-browned, using a spatula to break up the cooked meat into smaller pieces (some folks call this \"hamburger gravel\"), about 8-10 minutes.  Drain off fat.  Add 1 tsp ancho and 1/2 tsp cumin and stir well, cooking for another 2-3 minutes.  Set aside., In a bowl, combine the refried beans, the remaining ancho and cumin, 1/2 cup of salsa, and 1/2 cup sour cream.  Stir well., If using corn tortillas:  heat oil or butter (using butter is is a luxury and a bit decadent, but very tasty!) in a pan and fry the corn tortillas, flat, on both sides until crispy., To make tostada:  spread refried bean mixture, then cooked meat mixture (I prefer my tostadas without meat, but Steingrim puts it on his) onto tostada shell.  Add a bit of salsa and guacamole or avocado chunks on top, then shredded lettuce, grated cheddar, and sour cream.  Eat and enjoy!, Makes 4 servings of 2 tostadas each., Note:  Steingrim likes his extra spicy, so he adds sliced jalapenos, his special very hot salsa or sauce, and extra chopped onion to his tostadas.\\n**Not Suitable for People Who has Allergy**: Oral Allergy Syndrome, Legume Allergy, Milk allergy / Lactose intolerance, Corn Allergy, Milk allergy / Lactose intolerance, Allium Allergy, Olive oil, Allium Allergy, Milk allergy / Lactose intolerance]\\n\\n', '[**Food Name**: Ten Toppings for Potato Pancakes or Latkes\\n**User Rating**: missing stars\\n**Food Category**: Very Low Carbs\\n**Cook Time**: 0:20:00\\n**Preparation Time**: 0:10:00\\n**Ingredient Parts**: cucumber, fresh dill, cherry tomatoes, pesto sauce, parmesan cheese, smoked salmon, lemon slice, watercress, sea salt, beet, horseradish, fresh parsley, blue cheese, walnuts, sage leaf, pear, honey, yogurt, apple, egg, mayonnaise, mustard, chives, spinach, garlic, mango, fresh blueberries, fresh mint leaves\\n**Ingredient Quantities**: missing, missing, missing, missing, missing, missing, missing, missing, missing, missing, missing, missing, missing, missing, missing, missing, missing, missing, missing, missing, missing, missing, missing, missing, missing, missing, missing, missing, missing, missing, missing\\n**Nutrition**:\\n- Calories: 0.0 cals\\n- Carbohydrate: 0.0 g\\n- Protein: 0.0 g\\n- Fat: 0.0 g\\n- Saturated Fat: 0.0 g\\n- Fiber: 0.0 g\\n- Cholesterol: 0.0 mg\\n- Sodium: 0.0 mg\\n- Sugar: 0.0 g\\n**Serving**: 1.0 people\\n**Recipe Instruction**: P, r, e, p, a, r, e,  , y, o, u, r,  , f, a, v, o, r, i, t, e,  , l, a, t, k, e, s,  , a, n, d,  , t, o, p,  , w, i, t, h,  , y, o, u, r,  , c, h, o, i, c, e,  , o, f,  , t, o, p, p, i, n, g, s, .\\n**Not Suitable for People Who has Allergy**: Oral Allergy Syndrome, Milk allergy / Lactose intolerance, Stone Fruit Allergy, Allium Allergy, Honey Allergy, Alpha-gal Syndrome, Cruciferous Allergy, Citrus Allergy, Oral Allergy Syndrome, Hypersensitivity, Oral Allergy Syndrome, Fish Allergy, Histamine Allergy, Nightshade Allergy, Nut Allergy, Watercress]\\n\\n', '[**Food Name**: Overload\\n**User Rating**: 4.0 stars\\n**Food Category**: Lunch/Snacks\\n**Cook Time**: 0:20:00\\n**Preparation Time**: 0:20:00\\n**Ingredient Parts**: mayonnaise, fresh lemon juice, Worcestershire sauce, ketchup, dried basil, flour, parmesan cheese, black pepper, garlic powder, dried basil, dried thyme, eggs, vegetable shortening, chicken, portabella mushrooms, cremini mushrooms, onions, cheese\\n**Ingredient Quantities**: 1/2, 1, 1, 1/3, 6, 1/8, 3/4, 1/4, 1/4, 1/2, 1/2, 1/2, 2, 2 1/3, 2, 1, 4, 4, 4, 8, 4\\n**Nutrition**:\\n- Calories: 1757.3 cals\\n- Carbohydrate: 83.3 g\\n- Protein: 30.2 g\\n- Fat: 147.1 g\\n- Saturated Fat: 41.2 g\\n- Fiber: 4.8 g\\n- Cholesterol: 170.6 mg\\n- Sodium: 987.3 mg\\n- Sugar: 11.2 g\\n**Serving**: 4.0 people\\n**Recipe Instruction**: Mix together creamy sauce ingredients place in refrigerator, Mix flour with seasonings, Towel dry potatoes set aside, Dip chicken in egg then flour set aside follow with onion rings, mushrooms, Dust the potatoes in the last of the seasoned flour, Heat pan with shortening to 360 degrees, Fry without over crowding chicken, then onions rings, mushrooms then potatoes, These will fry quickly, potatoes taking a bit longer, Draining on paper towels, seasoning with salt and pepper keep warm in a 200 degree oven, Place 2 slices of cheese on each roll, Distribute all the rest of desired ingredients on the cheese, Place under broiler to sizzle up just a couple seconds, Pile on sauce and optional Cole slaw, Garnish with fresh basil\\n**Not Suitable for People Who has Allergy**: Milk allergy / Lactose intolerance, Poultry Allergy, Poultry Allergy, Allium Allergy, Citrus Allergy, Allium Allergy]\\n\\n', '[**Food Name**: Great Grain Burgers\\n**User Rating**: 4.0 stars\\n**Food Category**: Lunch/Snacks\\n**Cook Time**: 0:05:00\\n**Preparation Time**: 4:00:00\\n**Ingredient Parts**: brown rice, bulgur, poultry seasoning, water, fresh mushrooms, old fashioned oats, part-skim mozzarella cheese, low-fat cheddar cheese, onion, fat-free cottage cheese, egg substitute, fresh parsley, salt, dried basil, celery seed, canola oil, lettuce leaf, tomatoes\\n**Ingredient Quantities**: 1/2, 1/2, 1, 1/4, 2, 2, 3/4, 1, 1/4, 1/3, 1/2, 1/4, 2, 1, 1/2, 1/8, 3, 12, missing, missing\\n**Nutrition**:\\n- Calories: 264.3 cals\\n- Carbohydrate: 36.7 g\\n- Protein: 13.5 g\\n- Fat: 7.0 g\\n- Saturated Fat: 2.7 g\\n- Fiber: 3.0 g\\n- Cholesterol: 13.1 mg\\n- Sodium: 544.9 mg\\n- Sugar: 3.6 g\\n**Serving**: 12.0 people\\n**Recipe Instruction**: Combine the first 5 ingredients in a large saucepan., Bring to a boil, reduce heat, cover and simmer for 30 to 40 minutes or until rice is tender., Remove from heat and cool completely, refrigerate., Combine the mushrooms, oats, mozzarella, cheese cheddar cheese and onion., In a food processor, process the cottage cheese and egg substitute until smooth., Add mushroom mixture, parsley, salt, basil, celery seed and chilled rice mixture., Using 1/2 cup of mixture, shape into 12 patties., In a non-stick skillet, cook four patties in 1 teaspoon of oil for 5 minutes on each side or until browned and crisp., Repeat with remaining patties and oil., Serve on hamburger rolls with lettuce and tomato slices., Please note the preparation time includes cooking and cooling rice., The cooking time is for the burgers only.\\n**Not Suitable for People Who has Allergy**: Canola oil, Hypersensitivity, Milk allergy / Lactose intolerance, LTP Allergy, Allium Allergy, Hypersensitivity, Rice Allergy, Nightshade Allergy]\\n\\n']\n",
            "conversation\n",
            "[{'role': 'system', 'content': [{'type': 'text', 'text': 'You are a home cook chef and nutritionist assistant. Your primary function is to provide users with diet plans, nutrition, recipe, and meal preparation instructions.'}]}, {'role': 'user', 'content': [{'type': 'text', 'text': \"Given the query: 'Give me any soup recipe without chicken.' and the following relevant snippets:\\n\\n  [**Food Name**: 7 - Day - Soup Diet Recipe\\n**User Rating**: 4.5 stars\\n**Food Category**: Vegetable\\n**Cook Time**: 1:30:00\\n**Preparation Time**: 0:30:00\\n**Ingredient Parts**: tomato paste, green onions, beef broth, celery & tops, fresh green beans, green bell peppers, carrots, chili powder, coarse salt, paprika, cayenne pepper, prepared mustard, ground black pepper\\n**Ingredient Quantities**: 3, 2 1/2, 1/2, 6, 2, 1, 2, 2, 2, 2, 1, 2, 1/8, 2, 1\\n**Nutrition**:\\n- Calories: 125.2 cals\\n- Carbohydrate: 23.9 g\\n- Protein: 4.0 g\\n- Fat: 2.4 g\\n- Saturated Fat: 0.6 g\\n- Fiber: 6.4 g\\n- Cholesterol: 1.3 mg\\n- Sodium: 864.6 mg\\n- Sugar: 13.1 g\\n**Serving**: missing people\\n**Recipe Instruction**: In a very large stock pot, combine tomatoes, pasta sauce, tomato paste and beef broth., Over med/high heat, bring mixture to a boil., Reduce heat and simmer covered for 15 minutes., Wash and rough chop carrots, celery (including tops), and green peppers into 1 inch cubes., Wash, trim and cut green beans into 1 inch lengths., Chop green onion into 1/4 inch lengths., Add all vegetables to simmering pot., Stir to combine., Add chili powder, cayenne, mustard, salt, black pepper and paprika to soup mixture., Stir and simmer on low for 60 - 90 minutes., -------------------------------------------., Soup Diet - Day #1., Eat as much of any fruit you want EXCEPT BANANAS., Eat only soup and fruit today but eat all you want., ------------------------------------------., Day #2., All Veggies., Fill up on fresh vegetables (salads etc)., Eat all the soup you want and have a large baked potato with butter at dinner time., But NO FRUIT TODAY., -------------------------------------------., Day #3., Eat all the soup, fruit and veggies you want, but NO POTATOES., If you haven't cheated you will have lost., 5-7 lbs by tomorrow morning., -------------------------------------------., Day #4., Bananas and skim milk., Eat at least 3 bananas and all the milk you want today., Remember, you can have soup anytime you want., --------------------------------------------., Day #5., Beef and Tomatoes., You can have up to 20 ounces of beef and 6 tomatoes in any style you like., Remember to eat soup too., -------------------------------------------., Day #6., Beef and Vegetables., Eat all the beef and veggies you want today., You can have 2-3 steaks if you want, with green leafy vegetables., But NO POTATOES., Don't forget to have soup., --------------------------------------------., Day #7., Brown rice, unsweetened fruit juice, and veggies today., Eat all you want whenever you want and have soup as often as you can., The soup is the key --, --------------------------------------------., If you haven't cheated, you should have lost 10 - 17 lbs., Prescription medications will not be affected by this diet, but check with you doctor before you begin the diet just to be sure., Remember; The more soup you eat, the more weight you will lose.\\n**Not Suitable for People Who has Allergy**: Legume Allergy, Hypersensitivity, Hypersensitivity, Allium Allergy, Nightshade Allergy]\\n\\n[**Food Name**: Natural Vegetable Soup\\n**User Rating**: missing stars\\n**Food Category**: Clear Soup\\n**Cook Time**: 1:00:00\\n**Preparation Time**: 0:45:00\\n**Ingredient Parts**: olive oil, garlic cloves, onions, water, celery, zucchini, broccoli, bell peppers, green beans, salt, butter, pepper, fresh ginger\\n**Ingredient Quantities**: 3, 5, 3, 2 1/2, 3, 3, 4, 2, 3, 3, 1, 1, 1, 1/2, 1, 3\\n**Nutrition**:\\n- Calories: 329.9 cals\\n- Carbohydrate: 31.2 g\\n- Protein: 6.0 g\\n- Fat: 22.8 g\\n- Saturated Fat: 10.8 g\\n- Fiber: 8.4 g\\n- Cholesterol: 40.7 mg\\n- Sodium: 1357.5 mg\\n- Sugar: 9.8 g\\n**Serving**: missing people\\n**Recipe Instruction**: To create your vegetable broth:, Mince garlic and saute in olive oil until golden. Slice onions in to thin strips and simmer in 3 cups of water. Add pepper and sliced ginger root. Add the rest of the water then leave until onion liquifies. 45 minutes., After you create your vegetable broth, add the stick of butter and the rest of the ingredients. Give it 15 minutes for the rest of the vegetables to steam.\\n**Not Suitable for People Who has Allergy**: Legume Allergy, Broccoli allergy, Milk allergy / Lactose intolerance, Hypersensitivity, Allium Allergy, Histamine Allergy, Olive oil, Allium Allergy]\\n\\n[**Food Name**: Soup\\n**User Rating**: missing stars\\n**Food Category**: Vegetable\\n**Cook Time**: 0:20:00\\n**Preparation Time**: 0:05:00\\n**Ingredient Parts**: garlic cloves, half-and-half, heavy cream, mushroom stems and pieces, olive oil, scallion\\n**Ingredient Quantities**: 1, 2, 1, 1, missing, missing\\n**Nutrition**:\\n- Calories: 357.9 cals\\n- Carbohydrate: 24.2 g\\n- Protein: 9.5 g\\n- Fat: 26.3 g\\n- Saturated Fat: 12.8 g\\n- Fiber: 3.3 g\\n- Cholesterol: 55.1 mg\\n- Sodium: 1673.9 mg\\n- Sugar: 5.6 g\\n**Serving**: 2.0 people\\n**Recipe Instruction**: In a sauce pan combine the cream of mushrooms soup, mushroom pieces and stems, minced garlic, salt, pepper, and half and half or cream., Let simmer for 20 minutes., Ladle into bowls and drizzle with olive oil or truffle oil., Garnish with parsley, scallions or other herbs.\\n**Not Suitable for People Who has Allergy**: Milk allergy / Lactose intolerance, Allium Allergy, Olive oil]\\n\\n[**Food Name**: Simply Hot &amp; Sour Soup\\n**User Rating**: missing stars\\n**Food Category**: Clear Soup\\n**Cook Time**: 0:15:00\\n**Preparation Time**: 0:10:00\\n**Ingredient Parts**: water, soy sauce, rice vinegar, white pepper, corn, peas, extra firm tofu, mushroom, red bell pepper, tomato sauce, garlic powder\\n**Ingredient Quantities**: 4, 2, 2, 1/2 - 1, 1/2, 1/2, 1/2, 1/2, 1/4, 1, 1/2\\n**Nutrition**:\\n- Calories: 280.1 cals\\n- Carbohydrate: 38.4 g\\n- Protein: 23.0 g\\n- Fat: 6.9 g\\n- Saturated Fat: 1.3 g\\n- Fiber: 9.4 g\\n- Cholesterol: 0.0 mg\\n- Sodium: 2140.6 mg\\n- Sugar: 12.4 g\\n**Serving**: missing people\\n**Recipe Instruction**: Add all ingredients to the pot and bring to a boil., Lower the heat and simmer for about 10 minutes., Let the soup cool slightly, then serve!\\n**Not Suitable for People Who has Allergy**: Corn Allergy, Allium Allergy, Legume Allergy, Legume Allergy, Rice Allergy, Nightshade Allergy]\\n\\n[**Food Name**: Dump Soup\\n**User Rating**: 5.0 stars\\n**Food Category**: < 15 Mins\\n**Cook Time**: 0:05:00\\n**Preparation Time**: 0:05:00\\n**Ingredient Parts**: white corn, black beans, diced tomatoes, diced tomatoes with green chilies\\n**Ingredient Quantities**: 1, 1, 1, 1, 1, 1\\n**Nutrition**:\\n- Calories: 123.4 cals\\n- Carbohydrate: 22.5 g\\n- Protein: 6.3 g\\n- Fat: 1.8 g\\n- Saturated Fat: 0.4 g\\n- Fiber: 4.5 g\\n- Cholesterol: 0.6 mg\\n- Sodium: 685.0 mg\\n- Sugar: 3.4 g\\n**Serving**: 10.0 people\\n**Recipe Instruction**: Open cans and pour together into pot., Heat over stove.\\n**Not Suitable for People Who has Allergy**: Legume Allergy, Corn Allergy, Nightshade Allergy]\\n\\n\\n\\n  Answer the given query. You can use both your knowledge and data in the snippets. If the some information is 'missing' you can use your knowledge to fill in that question or leave out those information. The response should be in a readable format for recipe and home cook. Then ask user what else do you want to know.\"}]}, {'role': 'assistant', 'content': [{'type': 'text', 'text': 'Here is a recipe for a vegetable soup that does not contain chicken:\\n\\nIngredients:\\n\\n* 3 cups of water\\n* 1/2 cup of tomato paste\\n* 1/2 cup of beef broth\\n* 1/2 cup of carrots, chopped\\n* 1/2 cup of celery, chopped\\n* 1/2 cup of green bell peppers, chopped\\n* 1/2 cup of green onions, chopped\\n* 1/2 cup of fresh green beans, chopped\\n* 1/2 cup of chili powder\\n* 1/2 cup of coarse salt\\n* 1/2 cup of paprika\\n* 1/2 cup of cayenne pepper\\n* 1/2 cup of prepared mustard\\n* 1/2 cup of ground black pepper\\n\\nInstructions:\\n\\n1. In a large pot, combine the water, tomato paste, and beef broth.\\n2. Bring the mixture to a boil over medium-high heat.\\n3. Reduce the heat to low and simmer the soup, covered, for 15 minutes.\\n4. Add the chopped carrots, celery, green bell peppers, green onions, green beans, chili powder, salt, black pepper, and paprika to the soup.\\n5. Stir to combine and simmer the soup on low for 60-90 minutes.\\n\\nThis recipe makes 2 servings.\\n\\nWould you like to know more about this recipe or any other recipe? </s>'}]}, {'role': 'user', 'content': [{'type': 'text', 'text': \"Given the query: 'Give me the name of the meal that you recommended.' and the following relevant snippets:\\n\\n  There is no context. Please use your knowledge.\\n\\n  Answer the given query. You can use both your knowledge and data in the snippets. If the some information is 'missing' you can use your knowledge to fill in that question or leave out those information. The response should be in a readable format for recipe and home cook. Then ask user what else do you want to know.\"}]}, {'role': 'assistant', 'content': [{'type': 'text', 'text': \"I'm sorry, but I am not able to provide a specific meal recommendation without more information. Could you please provide more context or specify what type of meal you are looking for? </s>\"}]}, {'role': 'user', 'content': [{'type': 'text', 'text': 'Given the query: \\'Give me the name of the meal\\'s recipe that you recommended.\\' and the following relevant snippets:\\n\\n  [**Food Name**: Easy One-Pot Dinner , or Eintopf, (For My Non-Cooking Husband!!)\\n**User Rating**: 5.0 stars\\n**Food Category**: One Dish Meal\\n**Cook Time**: 0:40:00\\n**Preparation Time**: 0:10:00\\n**Ingredient Parts**: chicken pieces, canola oil, onion, potatoes, string bean, sugar, ketchup, Worcestershire sauce, seasoning salt, black pepper, water, salsa, garlic, dried herbs\\n**Ingredient Quantities**: 8, missing, 1, 4, 2, 1/2, 1/2, 4 -5, 2, 2 -3, 1, 2, 2, 3, missing\\n**Nutrition**:\\n- Calories: 597.2 cals\\n- Carbohydrate: 128.6 g\\n- Protein: 22.3 g\\n- Fat: 1.9 g\\n- Saturated Fat: 0.4 g\\n- Fiber: 25.9 g\\n- Cholesterol: 0.0 mg\\n- Sodium: 1358.0 mg\\n- Sugar: 29.9 g\\n**Serving**: missing people\\n**Recipe Instruction**: Please dear, to prevent spattering the hob which you might not clean properly afterwards, use my large soup pot., Put it on the wok gas plate and heat it up. Do not walk away, as I don\\'t know what happens to stainless steel which gets red-hot., The \"potjiekos mixture\" or mixed vegetable pillow pack usually consists of baby carrots, chunks of butternut and sweet potato, a few baby potatoes, and some type of marrow (zucchini or squash)., Clean the onion and chop roughly (on a wooden plank, please)., Now find the tin with the stock powder. You can also use chicken or beef stock, whichever you can actually find, although they are all to your right in the grocery cupboard., Heat a film of canola oil in the hot pot. Do keep in mind that oil heated to a certain degree can catch alight. Should that happen, put the lid on the pot and turn off the gas flame., Okay, let\\'s assume you did not wander away. Chuck the chicken pieces into the film of oil. Use a wooden spoon with a long handle for this via dolorosa, and let them fry on both sides if you can manage that., Add some Aromat -- seasoned salt., Add the potatoes and sort of push them in among the sizzling chicken pieces. Add the chopped onion plus ALL the veggies. Please read list of ingredients again., Add the sugar, salt and seasonings. The amounts are guesswork, but keep more or less to what I put down above, unless you taste it all and want more of something., The herbs and garlic -- over to you. You can either actually get up and go find some fresh herbs at the supermarket, ditto garlic, or use dried from the spice drawer. I know the bottles look small, but you only need about 2 teaspoons per herb for this pot., When everything is cooking nicely, turn it over once or twice with one of my long-handled wooden spoons., Now TURN DOWN the heat completely; you are using a HOT gas plate. You easily let things burn, remember. Put ON the lid., You may now leave it for 10 minutes. Just do not go to your computer and forget the food., Come back, check the liquid -- there should be enough not to cook away. My 2 cups as mentioned are usually quite adequate., Pull the pot, large as it is, towards a smaller gas flame. Remember to turn OFF the wok flame!, Turn flame to low, after checking that everything is simmering. Put on the lid. Leave for 20 minutes., Test the potato halves and the carrots from the \"potjiekos pack\" with a fork. If it\\'s soft, the food is done., If there is enough sauce you can always, farm-style, put some bread in your plate and ladle sauce over the bread., Darling, I do hope you can follow this and that you actually get to eat dinner without burning it or finding it tastes awful., Good luck.\\n**Not Suitable for People Who has Allergy**: Legume Allergy, Canola oil, Poultry Allergy, Allium Allergy, Allium Allergy, Potato Allergy, Sugar Allergy / Intolerance]\\n\\n[**Food Name**: Tostadas Our Way\\n**User Rating**: missing stars\\n**Food Category**: One Dish Meal\\n**Cook Time**: 0:20:00\\n**Preparation Time**: 0:05:00\\n**Ingredient Parts**: onion, olive oil, garlic clove, recaito, lean ground beef, dried ancho chile powder, ground cumin, corn tortillas, vegetarian refried beans, salsa, sour cream, avocado, lettuce, cheddar cheese\\n**Ingredient Quantities**: 1/2, 2, 1, 1, 1, 1 1/2, 1, 8, 1, 1, 1, missing, missing, missing\\n**Nutrition**:\\n- Calories: 579.1 cals\\n- Carbohydrate: 47.5 g\\n- Protein: 34.5 g\\n- Fat: 28.8 g\\n- Saturated Fat: 13.2 g\\n- Fiber: 10.4 g\\n- Cholesterol: 107.5 mg\\n- Sodium: 844.8 mg\\n- Sugar: 3.7 g\\n**Serving**: 4.0 people\\n**Recipe Instruction**: Sauté the onion in the olive oil over medium-high heat until just soft, then add the garlic and recaito and stir well., Add the ground beef and cook until meat is well-browned, using a spatula to break up the cooked meat into smaller pieces (some folks call this \"hamburger gravel\"), about 8-10 minutes.  Drain off fat.  Add 1 tsp ancho and 1/2 tsp cumin and stir well, cooking for another 2-3 minutes.  Set aside., In a bowl, combine the refried beans, the remaining ancho and cumin, 1/2 cup of salsa, and 1/2 cup sour cream.  Stir well., If using corn tortillas:  heat oil or butter (using butter is is a luxury and a bit decadent, but very tasty!) in a pan and fry the corn tortillas, flat, on both sides until crispy., To make tostada:  spread refried bean mixture, then cooked meat mixture (I prefer my tostadas without meat, but Steingrim puts it on his) onto tostada shell.  Add a bit of salsa and guacamole or avocado chunks on top, then shredded lettuce, grated cheddar, and sour cream.  Eat and enjoy!, Makes 4 servings of 2 tostadas each., Note:  Steingrim likes his extra spicy, so he adds sliced jalapenos, his special very hot salsa or sauce, and extra chopped onion to his tostadas.\\n**Not Suitable for People Who has Allergy**: Oral Allergy Syndrome, Legume Allergy, Milk allergy / Lactose intolerance, Corn Allergy, Milk allergy / Lactose intolerance, Allium Allergy, Olive oil, Allium Allergy, Milk allergy / Lactose intolerance]\\n\\n[**Food Name**: Ten Toppings for Potato Pancakes or Latkes\\n**User Rating**: missing stars\\n**Food Category**: Very Low Carbs\\n**Cook Time**: 0:20:00\\n**Preparation Time**: 0:10:00\\n**Ingredient Parts**: cucumber, fresh dill, cherry tomatoes, pesto sauce, parmesan cheese, smoked salmon, lemon slice, watercress, sea salt, beet, horseradish, fresh parsley, blue cheese, walnuts, sage leaf, pear, honey, yogurt, apple, egg, mayonnaise, mustard, chives, spinach, garlic, mango, fresh blueberries, fresh mint leaves\\n**Ingredient Quantities**: missing, missing, missing, missing, missing, missing, missing, missing, missing, missing, missing, missing, missing, missing, missing, missing, missing, missing, missing, missing, missing, missing, missing, missing, missing, missing, missing, missing, missing, missing, missing\\n**Nutrition**:\\n- Calories: 0.0 cals\\n- Carbohydrate: 0.0 g\\n- Protein: 0.0 g\\n- Fat: 0.0 g\\n- Saturated Fat: 0.0 g\\n- Fiber: 0.0 g\\n- Cholesterol: 0.0 mg\\n- Sodium: 0.0 mg\\n- Sugar: 0.0 g\\n**Serving**: 1.0 people\\n**Recipe Instruction**: P, r, e, p, a, r, e,  , y, o, u, r,  , f, a, v, o, r, i, t, e,  , l, a, t, k, e, s,  , a, n, d,  , t, o, p,  , w, i, t, h,  , y, o, u, r,  , c, h, o, i, c, e,  , o, f,  , t, o, p, p, i, n, g, s, .\\n**Not Suitable for People Who has Allergy**: Oral Allergy Syndrome, Milk allergy / Lactose intolerance, Stone Fruit Allergy, Allium Allergy, Honey Allergy, Alpha-gal Syndrome, Cruciferous Allergy, Citrus Allergy, Oral Allergy Syndrome, Hypersensitivity, Oral Allergy Syndrome, Fish Allergy, Histamine Allergy, Nightshade Allergy, Nut Allergy, Watercress]\\n\\n[**Food Name**: Overload\\n**User Rating**: 4.0 stars\\n**Food Category**: Lunch/Snacks\\n**Cook Time**: 0:20:00\\n**Preparation Time**: 0:20:00\\n**Ingredient Parts**: mayonnaise, fresh lemon juice, Worcestershire sauce, ketchup, dried basil, flour, parmesan cheese, black pepper, garlic powder, dried basil, dried thyme, eggs, vegetable shortening, chicken, portabella mushrooms, cremini mushrooms, onions, cheese\\n**Ingredient Quantities**: 1/2, 1, 1, 1/3, 6, 1/8, 3/4, 1/4, 1/4, 1/2, 1/2, 1/2, 2, 2 1/3, 2, 1, 4, 4, 4, 8, 4\\n**Nutrition**:\\n- Calories: 1757.3 cals\\n- Carbohydrate: 83.3 g\\n- Protein: 30.2 g\\n- Fat: 147.1 g\\n- Saturated Fat: 41.2 g\\n- Fiber: 4.8 g\\n- Cholesterol: 170.6 mg\\n- Sodium: 987.3 mg\\n- Sugar: 11.2 g\\n**Serving**: 4.0 people\\n**Recipe Instruction**: Mix together creamy sauce ingredients place in refrigerator, Mix flour with seasonings, Towel dry potatoes set aside, Dip chicken in egg then flour set aside follow with onion rings, mushrooms, Dust the potatoes in the last of the seasoned flour, Heat pan with shortening to 360 degrees, Fry without over crowding chicken, then onions rings, mushrooms then potatoes, These will fry quickly, potatoes taking a bit longer, Draining on paper towels, seasoning with salt and pepper keep warm in a 200 degree oven, Place 2 slices of cheese on each roll, Distribute all the rest of desired ingredients on the cheese, Place under broiler to sizzle up just a couple seconds, Pile on sauce and optional Cole slaw, Garnish with fresh basil\\n**Not Suitable for People Who has Allergy**: Milk allergy / Lactose intolerance, Poultry Allergy, Poultry Allergy, Allium Allergy, Citrus Allergy, Allium Allergy]\\n\\n[**Food Name**: Great Grain Burgers\\n**User Rating**: 4.0 stars\\n**Food Category**: Lunch/Snacks\\n**Cook Time**: 0:05:00\\n**Preparation Time**: 4:00:00\\n**Ingredient Parts**: brown rice, bulgur, poultry seasoning, water, fresh mushrooms, old fashioned oats, part-skim mozzarella cheese, low-fat cheddar cheese, onion, fat-free cottage cheese, egg substitute, fresh parsley, salt, dried basil, celery seed, canola oil, lettuce leaf, tomatoes\\n**Ingredient Quantities**: 1/2, 1/2, 1, 1/4, 2, 2, 3/4, 1, 1/4, 1/3, 1/2, 1/4, 2, 1, 1/2, 1/8, 3, 12, missing, missing\\n**Nutrition**:\\n- Calories: 264.3 cals\\n- Carbohydrate: 36.7 g\\n- Protein: 13.5 g\\n- Fat: 7.0 g\\n- Saturated Fat: 2.7 g\\n- Fiber: 3.0 g\\n- Cholesterol: 13.1 mg\\n- Sodium: 544.9 mg\\n- Sugar: 3.6 g\\n**Serving**: 12.0 people\\n**Recipe Instruction**: Combine the first 5 ingredients in a large saucepan., Bring to a boil, reduce heat, cover and simmer for 30 to 40 minutes or until rice is tender., Remove from heat and cool completely, refrigerate., Combine the mushrooms, oats, mozzarella, cheese cheddar cheese and onion., In a food processor, process the cottage cheese and egg substitute until smooth., Add mushroom mixture, parsley, salt, basil, celery seed and chilled rice mixture., Using 1/2 cup of mixture, shape into 12 patties., In a non-stick skillet, cook four patties in 1 teaspoon of oil for 5 minutes on each side or until browned and crisp., Repeat with remaining patties and oil., Serve on hamburger rolls with lettuce and tomato slices., Please note the preparation time includes cooking and cooling rice., The cooking time is for the burgers only.\\n**Not Suitable for People Who has Allergy**: Canola oil, Hypersensitivity, Milk allergy / Lactose intolerance, LTP Allergy, Allium Allergy, Hypersensitivity, Rice Allergy, Nightshade Allergy]\\n\\n\\n\\n  Answer the given query. You can use both your knowledge and data in the snippets. If the some information is \\'missing\\' you can use your knowledge to fill in that question or leave out those information. The response should be in a readable format for recipe and home cook. Then ask user what else do you want to know.'}]}]\n",
            "image_list\n",
            "[]\n",
            "Setting `pad_token_id` to `eos_token_id`:2 for open-end generation.\n",
            "done import\n",
            "finished load 6.079673767089844e-05\n",
            "done import\n",
            "finished load 5.650520324707031e-05\n",
            "{'sequence': 'Give me the nutrition summary of the recipe that you recommended.', 'labels': ['nutrition', 'recipe provider', 'food tag', 'diet meal planner', 'allergen avoidance'], 'scores': [0.9812252521514893, 0.9238905906677246, 0.6294621229171753, 0.5342512130737305, 0.05192972719669342]}\n",
            "intention_query='Give me the nutrition summary of the recipe that you recommended.'\n",
            "constraint_list=[]\n",
            "text\n",
            "100% 1/1 [00:00<00:00, 131.50it/s]\n",
            "text content: ['[**Food Name**: Sauteed Veggies\\n**User Rating**: 5.0 stars\\n**Food Category**: One Dish Meal\\n**Cook Time**: 0:14:00\\n**Preparation Time**: 0:30:00\\n**Ingredient Parts**: soy sauce, liquid honey, rice vinegar, garlic clove, ground ginger, canola oil, onion, broccoli florets, zucchini, red bell pepper, green beans, arugula, bok choy, celery, pasta, sesame seeds\\n**Ingredient Quantities**: 1/3, 2, 2, 1, 1, 1/4, 3, 1, 2, 4, 1, 1, 1, 1, 1/2, 2\\n**Nutrition**:\\n- Calories: 433.8 cals\\n- Carbohydrate: 65.8 g\\n- Protein: 14.7 g\\n- Fat: 14.2 g\\n- Saturated Fat: 1.3 g\\n- Fiber: 5.9 g\\n- Cholesterol: 0.0 mg\\n- Sodium: 1380.1 mg\\n- Sugar: 14.8 g\\n**Serving**: 4.0 people\\n**Recipe Instruction**: In a small bowl, with a whisk, mix soy sauce, honey, rice vinegar, garlic, sesame oil if using and ginger.  Add 2 tablespoon of canola oil while whisking.  Set aside., In a large non adhesive skillet, heat remaining canola oil at medium-high heat.  Add onion and cook, stirring, for 2 minutes.  Add broccoli, zucchini, red bell pepper, green beans and 1/2 cup of the sauce (step 1) and stir.  Keep cooking 3 to 5 minutes.  Add arugula and bok choy and cook, stirring, until soften.  Add the remaining sauce and bring to boil.  Cover and cook about 7 minutes or until green beans and brocoli are tender., Spread cooked pasta and the veggies in 4 plates.  Sprinkle each serving with sesame seeds.  Serve now.\\n**Not Suitable for People Who has Allergy**: Legume Allergy, Broccoli allergy, Canola oil, Hypersensitivity, Allium Allergy, Histamine Allergy, Honey Allergy, Allium Allergy, Rice Allergy, Seed Allergy]\\n\\n', '[**Food Name**: Cornbread Salad\\n**User Rating**: 5.0 stars\\n**Food Category**: Breads\\n**Cook Time**: 0:25:00\\n**Preparation Time**: 0:25:00\\n**Ingredient Parts**: green chilies, ground cumin, dried oregano, sweet basil, mayonnaise, sour cream, pinto beans, whole kernel corn, tomatoes, green peppers, bell pepper, green onion, bacon, cheddar cheese, black-eyed peas, broccoli florets, celery, sliced water chestnuts, kidney beans, great northern beans, canned black beans\\n**Ingredient Quantities**: 2, 2, 1/4, 1/4, 1/4, 1/2, 1 1/2, 1, 3, 2, 3, 1, 1, 10, 4, 2, 16, 2, 2, 1, 16, 16, 16\\n**Nutrition**:\\n- Calories: 367.8 cals\\n- Carbohydrate: 38.9 g\\n- Protein: 13.9 g\\n- Fat: 18.4 g\\n- Saturated Fat: 8.2 g\\n- Fiber: 7.3 g\\n- Cholesterol: 34.2 mg\\n- Sodium: 585.2 mg\\n- Sugar: 6.7 g\\n**Serving**: 24.0 people\\n**Recipe Instruction**: Prepare corn bread batter according to package directions., Stir in chilies, cumin, oregano and sweet basil., Spread in a greased 9 X 13 inches., square baking pan., Bake at 400 for 20-25 minutes or until a toothpick inserted near the center comes out clean., Cool., In a small bowl, combine mayonnaise, sour cream and dressing mix; set aside., Crumble half the corn bread into serving dish., Layer with half of the beans, mayonnaise mixture, corn tomatoes, green pepper, onions, bacon and cheese., Repeat layers (dish will be very full)., Cover and refrigerate for 2 hours., Yield: 24 servings., This recipe may be cut in half, if necessary., If using leftover cornbread, mix chilies (drained), cumin oregano, and sweet basil with all ready prepared cornbread., There is really no limit as to what you can put in this salad.\\n**Not Suitable for People Who has Allergy**: Legume Allergy, Broccoli allergy, Hypersensitivity, Milk allergy / Lactose intolerance, Nut Allergy, Corn Allergy, Milk allergy / Lactose intolerance, Legume Allergy, Allium Allergy, Legume Allergy, Legume Allergy, Milk allergy / Lactose intolerance, Nightshade Allergy]\\n\\n', '[**Food Name**: Overload\\n**User Rating**: 4.0 stars\\n**Food Category**: Lunch/Snacks\\n**Cook Time**: 0:20:00\\n**Preparation Time**: 0:20:00\\n**Ingredient Parts**: mayonnaise, fresh lemon juice, Worcestershire sauce, ketchup, dried basil, flour, parmesan cheese, black pepper, garlic powder, dried basil, dried thyme, eggs, vegetable shortening, chicken, portabella mushrooms, cremini mushrooms, onions, cheese\\n**Ingredient Quantities**: 1/2, 1, 1, 1/3, 6, 1/8, 3/4, 1/4, 1/4, 1/2, 1/2, 1/2, 2, 2 1/3, 2, 1, 4, 4, 4, 8, 4\\n**Nutrition**:\\n- Calories: 1757.3 cals\\n- Carbohydrate: 83.3 g\\n- Protein: 30.2 g\\n- Fat: 147.1 g\\n- Saturated Fat: 41.2 g\\n- Fiber: 4.8 g\\n- Cholesterol: 170.6 mg\\n- Sodium: 987.3 mg\\n- Sugar: 11.2 g\\n**Serving**: 4.0 people\\n**Recipe Instruction**: Mix together creamy sauce ingredients place in refrigerator, Mix flour with seasonings, Towel dry potatoes set aside, Dip chicken in egg then flour set aside follow with onion rings, mushrooms, Dust the potatoes in the last of the seasoned flour, Heat pan with shortening to 360 degrees, Fry without over crowding chicken, then onions rings, mushrooms then potatoes, These will fry quickly, potatoes taking a bit longer, Draining on paper towels, seasoning with salt and pepper keep warm in a 200 degree oven, Place 2 slices of cheese on each roll, Distribute all the rest of desired ingredients on the cheese, Place under broiler to sizzle up just a couple seconds, Pile on sauce and optional Cole slaw, Garnish with fresh basil\\n**Not Suitable for People Who has Allergy**: Milk allergy / Lactose intolerance, Poultry Allergy, Poultry Allergy, Allium Allergy, Citrus Allergy, Allium Allergy]\\n\\n', '[**Food Name**: Great Grain Burgers\\n**User Rating**: 4.0 stars\\n**Food Category**: Lunch/Snacks\\n**Cook Time**: 0:05:00\\n**Preparation Time**: 4:00:00\\n**Ingredient Parts**: brown rice, bulgur, poultry seasoning, water, fresh mushrooms, old fashioned oats, part-skim mozzarella cheese, low-fat cheddar cheese, onion, fat-free cottage cheese, egg substitute, fresh parsley, salt, dried basil, celery seed, canola oil, lettuce leaf, tomatoes\\n**Ingredient Quantities**: 1/2, 1/2, 1, 1/4, 2, 2, 3/4, 1, 1/4, 1/3, 1/2, 1/4, 2, 1, 1/2, 1/8, 3, 12, missing, missing\\n**Nutrition**:\\n- Calories: 264.3 cals\\n- Carbohydrate: 36.7 g\\n- Protein: 13.5 g\\n- Fat: 7.0 g\\n- Saturated Fat: 2.7 g\\n- Fiber: 3.0 g\\n- Cholesterol: 13.1 mg\\n- Sodium: 544.9 mg\\n- Sugar: 3.6 g\\n**Serving**: 12.0 people\\n**Recipe Instruction**: Combine the first 5 ingredients in a large saucepan., Bring to a boil, reduce heat, cover and simmer for 30 to 40 minutes or until rice is tender., Remove from heat and cool completely, refrigerate., Combine the mushrooms, oats, mozzarella, cheese cheddar cheese and onion., In a food processor, process the cottage cheese and egg substitute until smooth., Add mushroom mixture, parsley, salt, basil, celery seed and chilled rice mixture., Using 1/2 cup of mixture, shape into 12 patties., In a non-stick skillet, cook four patties in 1 teaspoon of oil for 5 minutes on each side or until browned and crisp., Repeat with remaining patties and oil., Serve on hamburger rolls with lettuce and tomato slices., Please note the preparation time includes cooking and cooling rice., The cooking time is for the burgers only.\\n**Not Suitable for People Who has Allergy**: Canola oil, Hypersensitivity, Milk allergy / Lactose intolerance, LTP Allergy, Allium Allergy, Hypersensitivity, Rice Allergy, Nightshade Allergy]\\n\\n', '[**Food Name**: Savory Cheese, Cranberry and Herb Mini Muffins\\n**User Rating**: 5.0 stars\\n**Food Category**: Breads\\n**Cook Time**: 0:20:00\\n**Preparation Time**: 0:10:00\\n**Ingredient Parts**: canola oil, scallion, dried thyme, dried oregano, dried sage, all-purpose white flour, whole wheat pastry flour, baking powder, salt, cayenne, dried cranberries, sharp cheddar cheese, egg, low-fat milk\\n**Ingredient Quantities**: 1/4, 1/2, 1/4, 1/4, 1/4, 1, 1, 1, 1, 1, 1/2, 1, 1, 1\\n**Nutrition**:\\n- Calories: 168.6 cals\\n- Carbohydrate: 17.5 g\\n- Protein: 6.1 g\\n- Fat: 8.6 g\\n- Saturated Fat: 2.6 g\\n- Fiber: 1.8 g\\n- Cholesterol: 28.5 mg\\n- Sodium: 359.3 mg\\n- Sugar: 1.5 g\\n**Serving**: 12.0 people\\n**Recipe Instruction**: Preheat oven to 400°F., In a skillet, heat oil over medium heat. Add scallions, thyme, oregano and sage. Cook for 2 minutes until fragrant. Remove from heat and set aside., Combine both flours with baking powder, salt and cayenne. Stir in the cranberries and cheese., In a large mixing bowl, beat egg lightly. Whisk in the milk., Whisk the cooked scallions and herbs, including all the oil, into the milk and egg., Fold the dry ingredients into the egg and milk, mixing until just combined., Scoop batter into lightly greased mini-muffin tins., Bake for 15 to 18 minutes or until lightly browned and a toothpick inserted in the middle comes out clean., Remove from the oven and let cool for a few minutes before taking muffins out of the tin. Serve warm.\\n**Not Suitable for People Who has Allergy**: Canola oil, Milk allergy / Lactose intolerance, Milk allergy / Lactose intolerance, Gluten Allergy]\\n\\n']\n",
            "len text_content: 5\n",
            "before\n",
            "['[**Food Name**: Sauteed Veggies\\n**User Rating**: 5.0 stars\\n**Food Category**: One Dish Meal\\n**Cook Time**: 0:14:00\\n**Preparation Time**: 0:30:00\\n**Ingredient Parts**: soy sauce, liquid honey, rice vinegar, garlic clove, ground ginger, canola oil, onion, broccoli florets, zucchini, red bell pepper, green beans, arugula, bok choy, celery, pasta, sesame seeds\\n**Ingredient Quantities**: 1/3, 2, 2, 1, 1, 1/4, 3, 1, 2, 4, 1, 1, 1, 1, 1/2, 2\\n**Nutrition**:\\n- Calories: 433.8 cals\\n- Carbohydrate: 65.8 g\\n- Protein: 14.7 g\\n- Fat: 14.2 g\\n- Saturated Fat: 1.3 g\\n- Fiber: 5.9 g\\n- Cholesterol: 0.0 mg\\n- Sodium: 1380.1 mg\\n- Sugar: 14.8 g\\n**Serving**: 4.0 people\\n**Recipe Instruction**: In a small bowl, with a whisk, mix soy sauce, honey, rice vinegar, garlic, sesame oil if using and ginger.  Add 2 tablespoon of canola oil while whisking.  Set aside., In a large non adhesive skillet, heat remaining canola oil at medium-high heat.  Add onion and cook, stirring, for 2 minutes.  Add broccoli, zucchini, red bell pepper, green beans and 1/2 cup of the sauce (step 1) and stir.  Keep cooking 3 to 5 minutes.  Add arugula and bok choy and cook, stirring, until soften.  Add the remaining sauce and bring to boil.  Cover and cook about 7 minutes or until green beans and brocoli are tender., Spread cooked pasta and the veggies in 4 plates.  Sprinkle each serving with sesame seeds.  Serve now.\\n**Not Suitable for People Who has Allergy**: Legume Allergy, Broccoli allergy, Canola oil, Hypersensitivity, Allium Allergy, Histamine Allergy, Honey Allergy, Allium Allergy, Rice Allergy, Seed Allergy]\\n\\n', '[**Food Name**: Cornbread Salad\\n**User Rating**: 5.0 stars\\n**Food Category**: Breads\\n**Cook Time**: 0:25:00\\n**Preparation Time**: 0:25:00\\n**Ingredient Parts**: green chilies, ground cumin, dried oregano, sweet basil, mayonnaise, sour cream, pinto beans, whole kernel corn, tomatoes, green peppers, bell pepper, green onion, bacon, cheddar cheese, black-eyed peas, broccoli florets, celery, sliced water chestnuts, kidney beans, great northern beans, canned black beans\\n**Ingredient Quantities**: 2, 2, 1/4, 1/4, 1/4, 1/2, 1 1/2, 1, 3, 2, 3, 1, 1, 10, 4, 2, 16, 2, 2, 1, 16, 16, 16\\n**Nutrition**:\\n- Calories: 367.8 cals\\n- Carbohydrate: 38.9 g\\n- Protein: 13.9 g\\n- Fat: 18.4 g\\n- Saturated Fat: 8.2 g\\n- Fiber: 7.3 g\\n- Cholesterol: 34.2 mg\\n- Sodium: 585.2 mg\\n- Sugar: 6.7 g\\n**Serving**: 24.0 people\\n**Recipe Instruction**: Prepare corn bread batter according to package directions., Stir in chilies, cumin, oregano and sweet basil., Spread in a greased 9 X 13 inches., square baking pan., Bake at 400 for 20-25 minutes or until a toothpick inserted near the center comes out clean., Cool., In a small bowl, combine mayonnaise, sour cream and dressing mix; set aside., Crumble half the corn bread into serving dish., Layer with half of the beans, mayonnaise mixture, corn tomatoes, green pepper, onions, bacon and cheese., Repeat layers (dish will be very full)., Cover and refrigerate for 2 hours., Yield: 24 servings., This recipe may be cut in half, if necessary., If using leftover cornbread, mix chilies (drained), cumin oregano, and sweet basil with all ready prepared cornbread., There is really no limit as to what you can put in this salad.\\n**Not Suitable for People Who has Allergy**: Legume Allergy, Broccoli allergy, Hypersensitivity, Milk allergy / Lactose intolerance, Nut Allergy, Corn Allergy, Milk allergy / Lactose intolerance, Legume Allergy, Allium Allergy, Legume Allergy, Legume Allergy, Milk allergy / Lactose intolerance, Nightshade Allergy]\\n\\n', '[**Food Name**: Overload\\n**User Rating**: 4.0 stars\\n**Food Category**: Lunch/Snacks\\n**Cook Time**: 0:20:00\\n**Preparation Time**: 0:20:00\\n**Ingredient Parts**: mayonnaise, fresh lemon juice, Worcestershire sauce, ketchup, dried basil, flour, parmesan cheese, black pepper, garlic powder, dried basil, dried thyme, eggs, vegetable shortening, chicken, portabella mushrooms, cremini mushrooms, onions, cheese\\n**Ingredient Quantities**: 1/2, 1, 1, 1/3, 6, 1/8, 3/4, 1/4, 1/4, 1/2, 1/2, 1/2, 2, 2 1/3, 2, 1, 4, 4, 4, 8, 4\\n**Nutrition**:\\n- Calories: 1757.3 cals\\n- Carbohydrate: 83.3 g\\n- Protein: 30.2 g\\n- Fat: 147.1 g\\n- Saturated Fat: 41.2 g\\n- Fiber: 4.8 g\\n- Cholesterol: 170.6 mg\\n- Sodium: 987.3 mg\\n- Sugar: 11.2 g\\n**Serving**: 4.0 people\\n**Recipe Instruction**: Mix together creamy sauce ingredients place in refrigerator, Mix flour with seasonings, Towel dry potatoes set aside, Dip chicken in egg then flour set aside follow with onion rings, mushrooms, Dust the potatoes in the last of the seasoned flour, Heat pan with shortening to 360 degrees, Fry without over crowding chicken, then onions rings, mushrooms then potatoes, These will fry quickly, potatoes taking a bit longer, Draining on paper towels, seasoning with salt and pepper keep warm in a 200 degree oven, Place 2 slices of cheese on each roll, Distribute all the rest of desired ingredients on the cheese, Place under broiler to sizzle up just a couple seconds, Pile on sauce and optional Cole slaw, Garnish with fresh basil\\n**Not Suitable for People Who has Allergy**: Milk allergy / Lactose intolerance, Poultry Allergy, Poultry Allergy, Allium Allergy, Citrus Allergy, Allium Allergy]\\n\\n', '[**Food Name**: Great Grain Burgers\\n**User Rating**: 4.0 stars\\n**Food Category**: Lunch/Snacks\\n**Cook Time**: 0:05:00\\n**Preparation Time**: 4:00:00\\n**Ingredient Parts**: brown rice, bulgur, poultry seasoning, water, fresh mushrooms, old fashioned oats, part-skim mozzarella cheese, low-fat cheddar cheese, onion, fat-free cottage cheese, egg substitute, fresh parsley, salt, dried basil, celery seed, canola oil, lettuce leaf, tomatoes\\n**Ingredient Quantities**: 1/2, 1/2, 1, 1/4, 2, 2, 3/4, 1, 1/4, 1/3, 1/2, 1/4, 2, 1, 1/2, 1/8, 3, 12, missing, missing\\n**Nutrition**:\\n- Calories: 264.3 cals\\n- Carbohydrate: 36.7 g\\n- Protein: 13.5 g\\n- Fat: 7.0 g\\n- Saturated Fat: 2.7 g\\n- Fiber: 3.0 g\\n- Cholesterol: 13.1 mg\\n- Sodium: 544.9 mg\\n- Sugar: 3.6 g\\n**Serving**: 12.0 people\\n**Recipe Instruction**: Combine the first 5 ingredients in a large saucepan., Bring to a boil, reduce heat, cover and simmer for 30 to 40 minutes or until rice is tender., Remove from heat and cool completely, refrigerate., Combine the mushrooms, oats, mozzarella, cheese cheddar cheese and onion., In a food processor, process the cottage cheese and egg substitute until smooth., Add mushroom mixture, parsley, salt, basil, celery seed and chilled rice mixture., Using 1/2 cup of mixture, shape into 12 patties., In a non-stick skillet, cook four patties in 1 teaspoon of oil for 5 minutes on each side or until browned and crisp., Repeat with remaining patties and oil., Serve on hamburger rolls with lettuce and tomato slices., Please note the preparation time includes cooking and cooling rice., The cooking time is for the burgers only.\\n**Not Suitable for People Who has Allergy**: Canola oil, Hypersensitivity, Milk allergy / Lactose intolerance, LTP Allergy, Allium Allergy, Hypersensitivity, Rice Allergy, Nightshade Allergy]\\n\\n', '[**Food Name**: Savory Cheese, Cranberry and Herb Mini Muffins\\n**User Rating**: 5.0 stars\\n**Food Category**: Breads\\n**Cook Time**: 0:20:00\\n**Preparation Time**: 0:10:00\\n**Ingredient Parts**: canola oil, scallion, dried thyme, dried oregano, dried sage, all-purpose white flour, whole wheat pastry flour, baking powder, salt, cayenne, dried cranberries, sharp cheddar cheese, egg, low-fat milk\\n**Ingredient Quantities**: 1/4, 1/2, 1/4, 1/4, 1/4, 1, 1, 1, 1, 1, 1/2, 1, 1, 1\\n**Nutrition**:\\n- Calories: 168.6 cals\\n- Carbohydrate: 17.5 g\\n- Protein: 6.1 g\\n- Fat: 8.6 g\\n- Saturated Fat: 2.6 g\\n- Fiber: 1.8 g\\n- Cholesterol: 28.5 mg\\n- Sodium: 359.3 mg\\n- Sugar: 1.5 g\\n**Serving**: 12.0 people\\n**Recipe Instruction**: Preheat oven to 400°F., In a skillet, heat oil over medium heat. Add scallions, thyme, oregano and sage. Cook for 2 minutes until fragrant. Remove from heat and set aside., Combine both flours with baking powder, salt and cayenne. Stir in the cranberries and cheese., In a large mixing bowl, beat egg lightly. Whisk in the milk., Whisk the cooked scallions and herbs, including all the oil, into the milk and egg., Fold the dry ingredients into the egg and milk, mixing until just combined., Scoop batter into lightly greased mini-muffin tins., Bake for 15 to 18 minutes or until lightly browned and a toothpick inserted in the middle comes out clean., Remove from the oven and let cool for a few minutes before taking muffins out of the tin. Serve warm.\\n**Not Suitable for People Who has Allergy**: Canola oil, Milk allergy / Lactose intolerance, Milk allergy / Lactose intolerance, Gluten Allergy]\\n\\n']\n",
            "after\n",
            "['[**Food Name**: Overload\\n**User Rating**: 4.0 stars\\n**Food Category**: Lunch/Snacks\\n**Cook Time**: 0:20:00\\n**Preparation Time**: 0:20:00\\n**Ingredient Parts**: mayonnaise, fresh lemon juice, Worcestershire sauce, ketchup, dried basil, flour, parmesan cheese, black pepper, garlic powder, dried basil, dried thyme, eggs, vegetable shortening, chicken, portabella mushrooms, cremini mushrooms, onions, cheese\\n**Ingredient Quantities**: 1/2, 1, 1, 1/3, 6, 1/8, 3/4, 1/4, 1/4, 1/2, 1/2, 1/2, 2, 2 1/3, 2, 1, 4, 4, 4, 8, 4\\n**Nutrition**:\\n- Calories: 1757.3 cals\\n- Carbohydrate: 83.3 g\\n- Protein: 30.2 g\\n- Fat: 147.1 g\\n- Saturated Fat: 41.2 g\\n- Fiber: 4.8 g\\n- Cholesterol: 170.6 mg\\n- Sodium: 987.3 mg\\n- Sugar: 11.2 g\\n**Serving**: 4.0 people\\n**Recipe Instruction**: Mix together creamy sauce ingredients place in refrigerator, Mix flour with seasonings, Towel dry potatoes set aside, Dip chicken in egg then flour set aside follow with onion rings, mushrooms, Dust the potatoes in the last of the seasoned flour, Heat pan with shortening to 360 degrees, Fry without over crowding chicken, then onions rings, mushrooms then potatoes, These will fry quickly, potatoes taking a bit longer, Draining on paper towels, seasoning with salt and pepper keep warm in a 200 degree oven, Place 2 slices of cheese on each roll, Distribute all the rest of desired ingredients on the cheese, Place under broiler to sizzle up just a couple seconds, Pile on sauce and optional Cole slaw, Garnish with fresh basil\\n**Not Suitable for People Who has Allergy**: Milk allergy / Lactose intolerance, Poultry Allergy, Poultry Allergy, Allium Allergy, Citrus Allergy, Allium Allergy]\\n\\n', '[**Food Name**: Sauteed Veggies\\n**User Rating**: 5.0 stars\\n**Food Category**: One Dish Meal\\n**Cook Time**: 0:14:00\\n**Preparation Time**: 0:30:00\\n**Ingredient Parts**: soy sauce, liquid honey, rice vinegar, garlic clove, ground ginger, canola oil, onion, broccoli florets, zucchini, red bell pepper, green beans, arugula, bok choy, celery, pasta, sesame seeds\\n**Ingredient Quantities**: 1/3, 2, 2, 1, 1, 1/4, 3, 1, 2, 4, 1, 1, 1, 1, 1/2, 2\\n**Nutrition**:\\n- Calories: 433.8 cals\\n- Carbohydrate: 65.8 g\\n- Protein: 14.7 g\\n- Fat: 14.2 g\\n- Saturated Fat: 1.3 g\\n- Fiber: 5.9 g\\n- Cholesterol: 0.0 mg\\n- Sodium: 1380.1 mg\\n- Sugar: 14.8 g\\n**Serving**: 4.0 people\\n**Recipe Instruction**: In a small bowl, with a whisk, mix soy sauce, honey, rice vinegar, garlic, sesame oil if using and ginger.  Add 2 tablespoon of canola oil while whisking.  Set aside., In a large non adhesive skillet, heat remaining canola oil at medium-high heat.  Add onion and cook, stirring, for 2 minutes.  Add broccoli, zucchini, red bell pepper, green beans and 1/2 cup of the sauce (step 1) and stir.  Keep cooking 3 to 5 minutes.  Add arugula and bok choy and cook, stirring, until soften.  Add the remaining sauce and bring to boil.  Cover and cook about 7 minutes or until green beans and brocoli are tender., Spread cooked pasta and the veggies in 4 plates.  Sprinkle each serving with sesame seeds.  Serve now.\\n**Not Suitable for People Who has Allergy**: Legume Allergy, Broccoli allergy, Canola oil, Hypersensitivity, Allium Allergy, Histamine Allergy, Honey Allergy, Allium Allergy, Rice Allergy, Seed Allergy]\\n\\n', '[**Food Name**: Savory Cheese, Cranberry and Herb Mini Muffins\\n**User Rating**: 5.0 stars\\n**Food Category**: Breads\\n**Cook Time**: 0:20:00\\n**Preparation Time**: 0:10:00\\n**Ingredient Parts**: canola oil, scallion, dried thyme, dried oregano, dried sage, all-purpose white flour, whole wheat pastry flour, baking powder, salt, cayenne, dried cranberries, sharp cheddar cheese, egg, low-fat milk\\n**Ingredient Quantities**: 1/4, 1/2, 1/4, 1/4, 1/4, 1, 1, 1, 1, 1, 1/2, 1, 1, 1\\n**Nutrition**:\\n- Calories: 168.6 cals\\n- Carbohydrate: 17.5 g\\n- Protein: 6.1 g\\n- Fat: 8.6 g\\n- Saturated Fat: 2.6 g\\n- Fiber: 1.8 g\\n- Cholesterol: 28.5 mg\\n- Sodium: 359.3 mg\\n- Sugar: 1.5 g\\n**Serving**: 12.0 people\\n**Recipe Instruction**: Preheat oven to 400°F., In a skillet, heat oil over medium heat. Add scallions, thyme, oregano and sage. Cook for 2 minutes until fragrant. Remove from heat and set aside., Combine both flours with baking powder, salt and cayenne. Stir in the cranberries and cheese., In a large mixing bowl, beat egg lightly. Whisk in the milk., Whisk the cooked scallions and herbs, including all the oil, into the milk and egg., Fold the dry ingredients into the egg and milk, mixing until just combined., Scoop batter into lightly greased mini-muffin tins., Bake for 15 to 18 minutes or until lightly browned and a toothpick inserted in the middle comes out clean., Remove from the oven and let cool for a few minutes before taking muffins out of the tin. Serve warm.\\n**Not Suitable for People Who has Allergy**: Canola oil, Milk allergy / Lactose intolerance, Milk allergy / Lactose intolerance, Gluten Allergy]\\n\\n', '[**Food Name**: Cornbread Salad\\n**User Rating**: 5.0 stars\\n**Food Category**: Breads\\n**Cook Time**: 0:25:00\\n**Preparation Time**: 0:25:00\\n**Ingredient Parts**: green chilies, ground cumin, dried oregano, sweet basil, mayonnaise, sour cream, pinto beans, whole kernel corn, tomatoes, green peppers, bell pepper, green onion, bacon, cheddar cheese, black-eyed peas, broccoli florets, celery, sliced water chestnuts, kidney beans, great northern beans, canned black beans\\n**Ingredient Quantities**: 2, 2, 1/4, 1/4, 1/4, 1/2, 1 1/2, 1, 3, 2, 3, 1, 1, 10, 4, 2, 16, 2, 2, 1, 16, 16, 16\\n**Nutrition**:\\n- Calories: 367.8 cals\\n- Carbohydrate: 38.9 g\\n- Protein: 13.9 g\\n- Fat: 18.4 g\\n- Saturated Fat: 8.2 g\\n- Fiber: 7.3 g\\n- Cholesterol: 34.2 mg\\n- Sodium: 585.2 mg\\n- Sugar: 6.7 g\\n**Serving**: 24.0 people\\n**Recipe Instruction**: Prepare corn bread batter according to package directions., Stir in chilies, cumin, oregano and sweet basil., Spread in a greased 9 X 13 inches., square baking pan., Bake at 400 for 20-25 minutes or until a toothpick inserted near the center comes out clean., Cool., In a small bowl, combine mayonnaise, sour cream and dressing mix; set aside., Crumble half the corn bread into serving dish., Layer with half of the beans, mayonnaise mixture, corn tomatoes, green pepper, onions, bacon and cheese., Repeat layers (dish will be very full)., Cover and refrigerate for 2 hours., Yield: 24 servings., This recipe may be cut in half, if necessary., If using leftover cornbread, mix chilies (drained), cumin oregano, and sweet basil with all ready prepared cornbread., There is really no limit as to what you can put in this salad.\\n**Not Suitable for People Who has Allergy**: Legume Allergy, Broccoli allergy, Hypersensitivity, Milk allergy / Lactose intolerance, Nut Allergy, Corn Allergy, Milk allergy / Lactose intolerance, Legume Allergy, Allium Allergy, Legume Allergy, Legume Allergy, Milk allergy / Lactose intolerance, Nightshade Allergy]\\n\\n', '[**Food Name**: Great Grain Burgers\\n**User Rating**: 4.0 stars\\n**Food Category**: Lunch/Snacks\\n**Cook Time**: 0:05:00\\n**Preparation Time**: 4:00:00\\n**Ingredient Parts**: brown rice, bulgur, poultry seasoning, water, fresh mushrooms, old fashioned oats, part-skim mozzarella cheese, low-fat cheddar cheese, onion, fat-free cottage cheese, egg substitute, fresh parsley, salt, dried basil, celery seed, canola oil, lettuce leaf, tomatoes\\n**Ingredient Quantities**: 1/2, 1/2, 1, 1/4, 2, 2, 3/4, 1, 1/4, 1/3, 1/2, 1/4, 2, 1, 1/2, 1/8, 3, 12, missing, missing\\n**Nutrition**:\\n- Calories: 264.3 cals\\n- Carbohydrate: 36.7 g\\n- Protein: 13.5 g\\n- Fat: 7.0 g\\n- Saturated Fat: 2.7 g\\n- Fiber: 3.0 g\\n- Cholesterol: 13.1 mg\\n- Sodium: 544.9 mg\\n- Sugar: 3.6 g\\n**Serving**: 12.0 people\\n**Recipe Instruction**: Combine the first 5 ingredients in a large saucepan., Bring to a boil, reduce heat, cover and simmer for 30 to 40 minutes or until rice is tender., Remove from heat and cool completely, refrigerate., Combine the mushrooms, oats, mozzarella, cheese cheddar cheese and onion., In a food processor, process the cottage cheese and egg substitute until smooth., Add mushroom mixture, parsley, salt, basil, celery seed and chilled rice mixture., Using 1/2 cup of mixture, shape into 12 patties., In a non-stick skillet, cook four patties in 1 teaspoon of oil for 5 minutes on each side or until browned and crisp., Repeat with remaining patties and oil., Serve on hamburger rolls with lettuce and tomato slices., Please note the preparation time includes cooking and cooling rice., The cooking time is for the burgers only.\\n**Not Suitable for People Who has Allergy**: Canola oil, Hypersensitivity, Milk allergy / Lactose intolerance, LTP Allergy, Allium Allergy, Hypersensitivity, Rice Allergy, Nightshade Allergy]\\n\\n']\n",
            "conversation\n",
            "[{'role': 'system', 'content': [{'type': 'text', 'text': 'You are a home cook chef and nutritionist assistant. Your primary function is to provide users with diet plans, nutrition, recipe, and meal preparation instructions.'}]}, {'role': 'user', 'content': [{'type': 'text', 'text': \"Given the query: 'Give me any soup recipe without chicken.' and the following relevant snippets:\\n\\n  [**Food Name**: 7 - Day - Soup Diet Recipe\\n**User Rating**: 4.5 stars\\n**Food Category**: Vegetable\\n**Cook Time**: 1:30:00\\n**Preparation Time**: 0:30:00\\n**Ingredient Parts**: tomato paste, green onions, beef broth, celery & tops, fresh green beans, green bell peppers, carrots, chili powder, coarse salt, paprika, cayenne pepper, prepared mustard, ground black pepper\\n**Ingredient Quantities**: 3, 2 1/2, 1/2, 6, 2, 1, 2, 2, 2, 2, 1, 2, 1/8, 2, 1\\n**Nutrition**:\\n- Calories: 125.2 cals\\n- Carbohydrate: 23.9 g\\n- Protein: 4.0 g\\n- Fat: 2.4 g\\n- Saturated Fat: 0.6 g\\n- Fiber: 6.4 g\\n- Cholesterol: 1.3 mg\\n- Sodium: 864.6 mg\\n- Sugar: 13.1 g\\n**Serving**: missing people\\n**Recipe Instruction**: In a very large stock pot, combine tomatoes, pasta sauce, tomato paste and beef broth., Over med/high heat, bring mixture to a boil., Reduce heat and simmer covered for 15 minutes., Wash and rough chop carrots, celery (including tops), and green peppers into 1 inch cubes., Wash, trim and cut green beans into 1 inch lengths., Chop green onion into 1/4 inch lengths., Add all vegetables to simmering pot., Stir to combine., Add chili powder, cayenne, mustard, salt, black pepper and paprika to soup mixture., Stir and simmer on low for 60 - 90 minutes., -------------------------------------------., Soup Diet - Day #1., Eat as much of any fruit you want EXCEPT BANANAS., Eat only soup and fruit today but eat all you want., ------------------------------------------., Day #2., All Veggies., Fill up on fresh vegetables (salads etc)., Eat all the soup you want and have a large baked potato with butter at dinner time., But NO FRUIT TODAY., -------------------------------------------., Day #3., Eat all the soup, fruit and veggies you want, but NO POTATOES., If you haven't cheated you will have lost., 5-7 lbs by tomorrow morning., -------------------------------------------., Day #4., Bananas and skim milk., Eat at least 3 bananas and all the milk you want today., Remember, you can have soup anytime you want., --------------------------------------------., Day #5., Beef and Tomatoes., You can have up to 20 ounces of beef and 6 tomatoes in any style you like., Remember to eat soup too., -------------------------------------------., Day #6., Beef and Vegetables., Eat all the beef and veggies you want today., You can have 2-3 steaks if you want, with green leafy vegetables., But NO POTATOES., Don't forget to have soup., --------------------------------------------., Day #7., Brown rice, unsweetened fruit juice, and veggies today., Eat all you want whenever you want and have soup as often as you can., The soup is the key --, --------------------------------------------., If you haven't cheated, you should have lost 10 - 17 lbs., Prescription medications will not be affected by this diet, but check with you doctor before you begin the diet just to be sure., Remember; The more soup you eat, the more weight you will lose.\\n**Not Suitable for People Who has Allergy**: Legume Allergy, Hypersensitivity, Hypersensitivity, Allium Allergy, Nightshade Allergy]\\n\\n[**Food Name**: Natural Vegetable Soup\\n**User Rating**: missing stars\\n**Food Category**: Clear Soup\\n**Cook Time**: 1:00:00\\n**Preparation Time**: 0:45:00\\n**Ingredient Parts**: olive oil, garlic cloves, onions, water, celery, zucchini, broccoli, bell peppers, green beans, salt, butter, pepper, fresh ginger\\n**Ingredient Quantities**: 3, 5, 3, 2 1/2, 3, 3, 4, 2, 3, 3, 1, 1, 1, 1/2, 1, 3\\n**Nutrition**:\\n- Calories: 329.9 cals\\n- Carbohydrate: 31.2 g\\n- Protein: 6.0 g\\n- Fat: 22.8 g\\n- Saturated Fat: 10.8 g\\n- Fiber: 8.4 g\\n- Cholesterol: 40.7 mg\\n- Sodium: 1357.5 mg\\n- Sugar: 9.8 g\\n**Serving**: missing people\\n**Recipe Instruction**: To create your vegetable broth:, Mince garlic and saute in olive oil until golden. Slice onions in to thin strips and simmer in 3 cups of water. Add pepper and sliced ginger root. Add the rest of the water then leave until onion liquifies. 45 minutes., After you create your vegetable broth, add the stick of butter and the rest of the ingredients. Give it 15 minutes for the rest of the vegetables to steam.\\n**Not Suitable for People Who has Allergy**: Legume Allergy, Broccoli allergy, Milk allergy / Lactose intolerance, Hypersensitivity, Allium Allergy, Histamine Allergy, Olive oil, Allium Allergy]\\n\\n[**Food Name**: Soup\\n**User Rating**: missing stars\\n**Food Category**: Vegetable\\n**Cook Time**: 0:20:00\\n**Preparation Time**: 0:05:00\\n**Ingredient Parts**: garlic cloves, half-and-half, heavy cream, mushroom stems and pieces, olive oil, scallion\\n**Ingredient Quantities**: 1, 2, 1, 1, missing, missing\\n**Nutrition**:\\n- Calories: 357.9 cals\\n- Carbohydrate: 24.2 g\\n- Protein: 9.5 g\\n- Fat: 26.3 g\\n- Saturated Fat: 12.8 g\\n- Fiber: 3.3 g\\n- Cholesterol: 55.1 mg\\n- Sodium: 1673.9 mg\\n- Sugar: 5.6 g\\n**Serving**: 2.0 people\\n**Recipe Instruction**: In a sauce pan combine the cream of mushrooms soup, mushroom pieces and stems, minced garlic, salt, pepper, and half and half or cream., Let simmer for 20 minutes., Ladle into bowls and drizzle with olive oil or truffle oil., Garnish with parsley, scallions or other herbs.\\n**Not Suitable for People Who has Allergy**: Milk allergy / Lactose intolerance, Allium Allergy, Olive oil]\\n\\n[**Food Name**: Simply Hot &amp; Sour Soup\\n**User Rating**: missing stars\\n**Food Category**: Clear Soup\\n**Cook Time**: 0:15:00\\n**Preparation Time**: 0:10:00\\n**Ingredient Parts**: water, soy sauce, rice vinegar, white pepper, corn, peas, extra firm tofu, mushroom, red bell pepper, tomato sauce, garlic powder\\n**Ingredient Quantities**: 4, 2, 2, 1/2 - 1, 1/2, 1/2, 1/2, 1/2, 1/4, 1, 1/2\\n**Nutrition**:\\n- Calories: 280.1 cals\\n- Carbohydrate: 38.4 g\\n- Protein: 23.0 g\\n- Fat: 6.9 g\\n- Saturated Fat: 1.3 g\\n- Fiber: 9.4 g\\n- Cholesterol: 0.0 mg\\n- Sodium: 2140.6 mg\\n- Sugar: 12.4 g\\n**Serving**: missing people\\n**Recipe Instruction**: Add all ingredients to the pot and bring to a boil., Lower the heat and simmer for about 10 minutes., Let the soup cool slightly, then serve!\\n**Not Suitable for People Who has Allergy**: Corn Allergy, Allium Allergy, Legume Allergy, Legume Allergy, Rice Allergy, Nightshade Allergy]\\n\\n[**Food Name**: Dump Soup\\n**User Rating**: 5.0 stars\\n**Food Category**: < 15 Mins\\n**Cook Time**: 0:05:00\\n**Preparation Time**: 0:05:00\\n**Ingredient Parts**: white corn, black beans, diced tomatoes, diced tomatoes with green chilies\\n**Ingredient Quantities**: 1, 1, 1, 1, 1, 1\\n**Nutrition**:\\n- Calories: 123.4 cals\\n- Carbohydrate: 22.5 g\\n- Protein: 6.3 g\\n- Fat: 1.8 g\\n- Saturated Fat: 0.4 g\\n- Fiber: 4.5 g\\n- Cholesterol: 0.6 mg\\n- Sodium: 685.0 mg\\n- Sugar: 3.4 g\\n**Serving**: 10.0 people\\n**Recipe Instruction**: Open cans and pour together into pot., Heat over stove.\\n**Not Suitable for People Who has Allergy**: Legume Allergy, Corn Allergy, Nightshade Allergy]\\n\\n\\n\\n  Answer the given query. You can use both your knowledge and data in the snippets. If the some information is 'missing' you can use your knowledge to fill in that question or leave out those information. The response should be in a readable format for recipe and home cook. Then ask user what else do you want to know.\"}]}, {'role': 'assistant', 'content': [{'type': 'text', 'text': 'Here is a recipe for a vegetable soup that does not contain chicken:\\n\\nIngredients:\\n\\n* 3 cups of water\\n* 1/2 cup of tomato paste\\n* 1/2 cup of beef broth\\n* 1/2 cup of carrots, chopped\\n* 1/2 cup of celery, chopped\\n* 1/2 cup of green bell peppers, chopped\\n* 1/2 cup of green onions, chopped\\n* 1/2 cup of fresh green beans, chopped\\n* 1/2 cup of chili powder\\n* 1/2 cup of coarse salt\\n* 1/2 cup of paprika\\n* 1/2 cup of cayenne pepper\\n* 1/2 cup of prepared mustard\\n* 1/2 cup of ground black pepper\\n\\nInstructions:\\n\\n1. In a large pot, combine the water, tomato paste, and beef broth.\\n2. Bring the mixture to a boil over medium-high heat.\\n3. Reduce the heat to low and simmer the soup, covered, for 15 minutes.\\n4. Add the chopped carrots, celery, green bell peppers, green onions, green beans, chili powder, salt, black pepper, and paprika to the soup.\\n5. Stir to combine and simmer the soup on low for 60-90 minutes.\\n\\nThis recipe makes 2 servings.\\n\\nWould you like to know more about this recipe or any other recipe? </s>'}]}, {'role': 'user', 'content': [{'type': 'text', 'text': \"Given the query: 'Give me the name of the meal that you recommended.' and the following relevant snippets:\\n\\n  There is no context. Please use your knowledge.\\n\\n  Answer the given query. You can use both your knowledge and data in the snippets. If the some information is 'missing' you can use your knowledge to fill in that question or leave out those information. The response should be in a readable format for recipe and home cook. Then ask user what else do you want to know.\"}]}, {'role': 'assistant', 'content': [{'type': 'text', 'text': \"I'm sorry, but I am not able to provide a specific meal recommendation without more information. Could you please provide more context or specify what type of meal you are looking for? </s>\"}]}, {'role': 'user', 'content': [{'type': 'text', 'text': 'Given the query: \\'Give me the name of the meal\\'s recipe that you recommended.\\' and the following relevant snippets:\\n\\n  [**Food Name**: Easy One-Pot Dinner , or Eintopf, (For My Non-Cooking Husband!!)\\n**User Rating**: 5.0 stars\\n**Food Category**: One Dish Meal\\n**Cook Time**: 0:40:00\\n**Preparation Time**: 0:10:00\\n**Ingredient Parts**: chicken pieces, canola oil, onion, potatoes, string bean, sugar, ketchup, Worcestershire sauce, seasoning salt, black pepper, water, salsa, garlic, dried herbs\\n**Ingredient Quantities**: 8, missing, 1, 4, 2, 1/2, 1/2, 4 -5, 2, 2 -3, 1, 2, 2, 3, missing\\n**Nutrition**:\\n- Calories: 597.2 cals\\n- Carbohydrate: 128.6 g\\n- Protein: 22.3 g\\n- Fat: 1.9 g\\n- Saturated Fat: 0.4 g\\n- Fiber: 25.9 g\\n- Cholesterol: 0.0 mg\\n- Sodium: 1358.0 mg\\n- Sugar: 29.9 g\\n**Serving**: missing people\\n**Recipe Instruction**: Please dear, to prevent spattering the hob which you might not clean properly afterwards, use my large soup pot., Put it on the wok gas plate and heat it up. Do not walk away, as I don\\'t know what happens to stainless steel which gets red-hot., The \"potjiekos mixture\" or mixed vegetable pillow pack usually consists of baby carrots, chunks of butternut and sweet potato, a few baby potatoes, and some type of marrow (zucchini or squash)., Clean the onion and chop roughly (on a wooden plank, please)., Now find the tin with the stock powder. You can also use chicken or beef stock, whichever you can actually find, although they are all to your right in the grocery cupboard., Heat a film of canola oil in the hot pot. Do keep in mind that oil heated to a certain degree can catch alight. Should that happen, put the lid on the pot and turn off the gas flame., Okay, let\\'s assume you did not wander away. Chuck the chicken pieces into the film of oil. Use a wooden spoon with a long handle for this via dolorosa, and let them fry on both sides if you can manage that., Add some Aromat -- seasoned salt., Add the potatoes and sort of push them in among the sizzling chicken pieces. Add the chopped onion plus ALL the veggies. Please read list of ingredients again., Add the sugar, salt and seasonings. The amounts are guesswork, but keep more or less to what I put down above, unless you taste it all and want more of something., The herbs and garlic -- over to you. You can either actually get up and go find some fresh herbs at the supermarket, ditto garlic, or use dried from the spice drawer. I know the bottles look small, but you only need about 2 teaspoons per herb for this pot., When everything is cooking nicely, turn it over once or twice with one of my long-handled wooden spoons., Now TURN DOWN the heat completely; you are using a HOT gas plate. You easily let things burn, remember. Put ON the lid., You may now leave it for 10 minutes. Just do not go to your computer and forget the food., Come back, check the liquid -- there should be enough not to cook away. My 2 cups as mentioned are usually quite adequate., Pull the pot, large as it is, towards a smaller gas flame. Remember to turn OFF the wok flame!, Turn flame to low, after checking that everything is simmering. Put on the lid. Leave for 20 minutes., Test the potato halves and the carrots from the \"potjiekos pack\" with a fork. If it\\'s soft, the food is done., If there is enough sauce you can always, farm-style, put some bread in your plate and ladle sauce over the bread., Darling, I do hope you can follow this and that you actually get to eat dinner without burning it or finding it tastes awful., Good luck.\\n**Not Suitable for People Who has Allergy**: Legume Allergy, Canola oil, Poultry Allergy, Allium Allergy, Allium Allergy, Potato Allergy, Sugar Allergy / Intolerance]\\n\\n[**Food Name**: Tostadas Our Way\\n**User Rating**: missing stars\\n**Food Category**: One Dish Meal\\n**Cook Time**: 0:20:00\\n**Preparation Time**: 0:05:00\\n**Ingredient Parts**: onion, olive oil, garlic clove, recaito, lean ground beef, dried ancho chile powder, ground cumin, corn tortillas, vegetarian refried beans, salsa, sour cream, avocado, lettuce, cheddar cheese\\n**Ingredient Quantities**: 1/2, 2, 1, 1, 1, 1 1/2, 1, 8, 1, 1, 1, missing, missing, missing\\n**Nutrition**:\\n- Calories: 579.1 cals\\n- Carbohydrate: 47.5 g\\n- Protein: 34.5 g\\n- Fat: 28.8 g\\n- Saturated Fat: 13.2 g\\n- Fiber: 10.4 g\\n- Cholesterol: 107.5 mg\\n- Sodium: 844.8 mg\\n- Sugar: 3.7 g\\n**Serving**: 4.0 people\\n**Recipe Instruction**: Sauté the onion in the olive oil over medium-high heat until just soft, then add the garlic and recaito and stir well., Add the ground beef and cook until meat is well-browned, using a spatula to break up the cooked meat into smaller pieces (some folks call this \"hamburger gravel\"), about 8-10 minutes.  Drain off fat.  Add 1 tsp ancho and 1/2 tsp cumin and stir well, cooking for another 2-3 minutes.  Set aside., In a bowl, combine the refried beans, the remaining ancho and cumin, 1/2 cup of salsa, and 1/2 cup sour cream.  Stir well., If using corn tortillas:  heat oil or butter (using butter is is a luxury and a bit decadent, but very tasty!) in a pan and fry the corn tortillas, flat, on both sides until crispy., To make tostada:  spread refried bean mixture, then cooked meat mixture (I prefer my tostadas without meat, but Steingrim puts it on his) onto tostada shell.  Add a bit of salsa and guacamole or avocado chunks on top, then shredded lettuce, grated cheddar, and sour cream.  Eat and enjoy!, Makes 4 servings of 2 tostadas each., Note:  Steingrim likes his extra spicy, so he adds sliced jalapenos, his special very hot salsa or sauce, and extra chopped onion to his tostadas.\\n**Not Suitable for People Who has Allergy**: Oral Allergy Syndrome, Legume Allergy, Milk allergy / Lactose intolerance, Corn Allergy, Milk allergy / Lactose intolerance, Allium Allergy, Olive oil, Allium Allergy, Milk allergy / Lactose intolerance]\\n\\n[**Food Name**: Ten Toppings for Potato Pancakes or Latkes\\n**User Rating**: missing stars\\n**Food Category**: Very Low Carbs\\n**Cook Time**: 0:20:00\\n**Preparation Time**: 0:10:00\\n**Ingredient Parts**: cucumber, fresh dill, cherry tomatoes, pesto sauce, parmesan cheese, smoked salmon, lemon slice, watercress, sea salt, beet, horseradish, fresh parsley, blue cheese, walnuts, sage leaf, pear, honey, yogurt, apple, egg, mayonnaise, mustard, chives, spinach, garlic, mango, fresh blueberries, fresh mint leaves\\n**Ingredient Quantities**: missing, missing, missing, missing, missing, missing, missing, missing, missing, missing, missing, missing, missing, missing, missing, missing, missing, missing, missing, missing, missing, missing, missing, missing, missing, missing, missing, missing, missing, missing, missing\\n**Nutrition**:\\n- Calories: 0.0 cals\\n- Carbohydrate: 0.0 g\\n- Protein: 0.0 g\\n- Fat: 0.0 g\\n- Saturated Fat: 0.0 g\\n- Fiber: 0.0 g\\n- Cholesterol: 0.0 mg\\n- Sodium: 0.0 mg\\n- Sugar: 0.0 g\\n**Serving**: 1.0 people\\n**Recipe Instruction**: P, r, e, p, a, r, e,  , y, o, u, r,  , f, a, v, o, r, i, t, e,  , l, a, t, k, e, s,  , a, n, d,  , t, o, p,  , w, i, t, h,  , y, o, u, r,  , c, h, o, i, c, e,  , o, f,  , t, o, p, p, i, n, g, s, .\\n**Not Suitable for People Who has Allergy**: Oral Allergy Syndrome, Milk allergy / Lactose intolerance, Stone Fruit Allergy, Allium Allergy, Honey Allergy, Alpha-gal Syndrome, Cruciferous Allergy, Citrus Allergy, Oral Allergy Syndrome, Hypersensitivity, Oral Allergy Syndrome, Fish Allergy, Histamine Allergy, Nightshade Allergy, Nut Allergy, Watercress]\\n\\n[**Food Name**: Overload\\n**User Rating**: 4.0 stars\\n**Food Category**: Lunch/Snacks\\n**Cook Time**: 0:20:00\\n**Preparation Time**: 0:20:00\\n**Ingredient Parts**: mayonnaise, fresh lemon juice, Worcestershire sauce, ketchup, dried basil, flour, parmesan cheese, black pepper, garlic powder, dried basil, dried thyme, eggs, vegetable shortening, chicken, portabella mushrooms, cremini mushrooms, onions, cheese\\n**Ingredient Quantities**: 1/2, 1, 1, 1/3, 6, 1/8, 3/4, 1/4, 1/4, 1/2, 1/2, 1/2, 2, 2 1/3, 2, 1, 4, 4, 4, 8, 4\\n**Nutrition**:\\n- Calories: 1757.3 cals\\n- Carbohydrate: 83.3 g\\n- Protein: 30.2 g\\n- Fat: 147.1 g\\n- Saturated Fat: 41.2 g\\n- Fiber: 4.8 g\\n- Cholesterol: 170.6 mg\\n- Sodium: 987.3 mg\\n- Sugar: 11.2 g\\n**Serving**: 4.0 people\\n**Recipe Instruction**: Mix together creamy sauce ingredients place in refrigerator, Mix flour with seasonings, Towel dry potatoes set aside, Dip chicken in egg then flour set aside follow with onion rings, mushrooms, Dust the potatoes in the last of the seasoned flour, Heat pan with shortening to 360 degrees, Fry without over crowding chicken, then onions rings, mushrooms then potatoes, These will fry quickly, potatoes taking a bit longer, Draining on paper towels, seasoning with salt and pepper keep warm in a 200 degree oven, Place 2 slices of cheese on each roll, Distribute all the rest of desired ingredients on the cheese, Place under broiler to sizzle up just a couple seconds, Pile on sauce and optional Cole slaw, Garnish with fresh basil\\n**Not Suitable for People Who has Allergy**: Milk allergy / Lactose intolerance, Poultry Allergy, Poultry Allergy, Allium Allergy, Citrus Allergy, Allium Allergy]\\n\\n[**Food Name**: Great Grain Burgers\\n**User Rating**: 4.0 stars\\n**Food Category**: Lunch/Snacks\\n**Cook Time**: 0:05:00\\n**Preparation Time**: 4:00:00\\n**Ingredient Parts**: brown rice, bulgur, poultry seasoning, water, fresh mushrooms, old fashioned oats, part-skim mozzarella cheese, low-fat cheddar cheese, onion, fat-free cottage cheese, egg substitute, fresh parsley, salt, dried basil, celery seed, canola oil, lettuce leaf, tomatoes\\n**Ingredient Quantities**: 1/2, 1/2, 1, 1/4, 2, 2, 3/4, 1, 1/4, 1/3, 1/2, 1/4, 2, 1, 1/2, 1/8, 3, 12, missing, missing\\n**Nutrition**:\\n- Calories: 264.3 cals\\n- Carbohydrate: 36.7 g\\n- Protein: 13.5 g\\n- Fat: 7.0 g\\n- Saturated Fat: 2.7 g\\n- Fiber: 3.0 g\\n- Cholesterol: 13.1 mg\\n- Sodium: 544.9 mg\\n- Sugar: 3.6 g\\n**Serving**: 12.0 people\\n**Recipe Instruction**: Combine the first 5 ingredients in a large saucepan., Bring to a boil, reduce heat, cover and simmer for 30 to 40 minutes or until rice is tender., Remove from heat and cool completely, refrigerate., Combine the mushrooms, oats, mozzarella, cheese cheddar cheese and onion., In a food processor, process the cottage cheese and egg substitute until smooth., Add mushroom mixture, parsley, salt, basil, celery seed and chilled rice mixture., Using 1/2 cup of mixture, shape into 12 patties., In a non-stick skillet, cook four patties in 1 teaspoon of oil for 5 minutes on each side or until browned and crisp., Repeat with remaining patties and oil., Serve on hamburger rolls with lettuce and tomato slices., Please note the preparation time includes cooking and cooling rice., The cooking time is for the burgers only.\\n**Not Suitable for People Who has Allergy**: Canola oil, Hypersensitivity, Milk allergy / Lactose intolerance, LTP Allergy, Allium Allergy, Hypersensitivity, Rice Allergy, Nightshade Allergy]\\n\\n\\n\\n  Answer the given query. You can use both your knowledge and data in the snippets. If the some information is \\'missing\\' you can use your knowledge to fill in that question or leave out those information. The response should be in a readable format for recipe and home cook. Then ask user what else do you want to know.'}]}, {'role': 'assistant', 'content': [{'type': 'text', 'text': \"I'm sorry, but I am not able to provide a specific meal recommendation without more information. Could you please provide more context or specify what type of meal you are looking for? </s>\"}]}, {'role': 'user', 'content': [{'type': 'text', 'text': \"Given the query: 'Give me the nutrition summary of the recipe that you recommended.' and the following relevant snippets:\\n\\n  [**Food Name**: Overload\\n**User Rating**: 4.0 stars\\n**Food Category**: Lunch/Snacks\\n**Cook Time**: 0:20:00\\n**Preparation Time**: 0:20:00\\n**Ingredient Parts**: mayonnaise, fresh lemon juice, Worcestershire sauce, ketchup, dried basil, flour, parmesan cheese, black pepper, garlic powder, dried basil, dried thyme, eggs, vegetable shortening, chicken, portabella mushrooms, cremini mushrooms, onions, cheese\\n**Ingredient Quantities**: 1/2, 1, 1, 1/3, 6, 1/8, 3/4, 1/4, 1/4, 1/2, 1/2, 1/2, 2, 2 1/3, 2, 1, 4, 4, 4, 8, 4\\n**Nutrition**:\\n- Calories: 1757.3 cals\\n- Carbohydrate: 83.3 g\\n- Protein: 30.2 g\\n- Fat: 147.1 g\\n- Saturated Fat: 41.2 g\\n- Fiber: 4.8 g\\n- Cholesterol: 170.6 mg\\n- Sodium: 987.3 mg\\n- Sugar: 11.2 g\\n**Serving**: 4.0 people\\n**Recipe Instruction**: Mix together creamy sauce ingredients place in refrigerator, Mix flour with seasonings, Towel dry potatoes set aside, Dip chicken in egg then flour set aside follow with onion rings, mushrooms, Dust the potatoes in the last of the seasoned flour, Heat pan with shortening to 360 degrees, Fry without over crowding chicken, then onions rings, mushrooms then potatoes, These will fry quickly, potatoes taking a bit longer, Draining on paper towels, seasoning with salt and pepper keep warm in a 200 degree oven, Place 2 slices of cheese on each roll, Distribute all the rest of desired ingredients on the cheese, Place under broiler to sizzle up just a couple seconds, Pile on sauce and optional Cole slaw, Garnish with fresh basil\\n**Not Suitable for People Who has Allergy**: Milk allergy / Lactose intolerance, Poultry Allergy, Poultry Allergy, Allium Allergy, Citrus Allergy, Allium Allergy]\\n\\n[**Food Name**: Sauteed Veggies\\n**User Rating**: 5.0 stars\\n**Food Category**: One Dish Meal\\n**Cook Time**: 0:14:00\\n**Preparation Time**: 0:30:00\\n**Ingredient Parts**: soy sauce, liquid honey, rice vinegar, garlic clove, ground ginger, canola oil, onion, broccoli florets, zucchini, red bell pepper, green beans, arugula, bok choy, celery, pasta, sesame seeds\\n**Ingredient Quantities**: 1/3, 2, 2, 1, 1, 1/4, 3, 1, 2, 4, 1, 1, 1, 1, 1/2, 2\\n**Nutrition**:\\n- Calories: 433.8 cals\\n- Carbohydrate: 65.8 g\\n- Protein: 14.7 g\\n- Fat: 14.2 g\\n- Saturated Fat: 1.3 g\\n- Fiber: 5.9 g\\n- Cholesterol: 0.0 mg\\n- Sodium: 1380.1 mg\\n- Sugar: 14.8 g\\n**Serving**: 4.0 people\\n**Recipe Instruction**: In a small bowl, with a whisk, mix soy sauce, honey, rice vinegar, garlic, sesame oil if using and ginger.  Add 2 tablespoon of canola oil while whisking.  Set aside., In a large non adhesive skillet, heat remaining canola oil at medium-high heat.  Add onion and cook, stirring, for 2 minutes.  Add broccoli, zucchini, red bell pepper, green beans and 1/2 cup of the sauce (step 1) and stir.  Keep cooking 3 to 5 minutes.  Add arugula and bok choy and cook, stirring, until soften.  Add the remaining sauce and bring to boil.  Cover and cook about 7 minutes or until green beans and brocoli are tender., Spread cooked pasta and the veggies in 4 plates.  Sprinkle each serving with sesame seeds.  Serve now.\\n**Not Suitable for People Who has Allergy**: Legume Allergy, Broccoli allergy, Canola oil, Hypersensitivity, Allium Allergy, Histamine Allergy, Honey Allergy, Allium Allergy, Rice Allergy, Seed Allergy]\\n\\n[**Food Name**: Savory Cheese, Cranberry and Herb Mini Muffins\\n**User Rating**: 5.0 stars\\n**Food Category**: Breads\\n**Cook Time**: 0:20:00\\n**Preparation Time**: 0:10:00\\n**Ingredient Parts**: canola oil, scallion, dried thyme, dried oregano, dried sage, all-purpose white flour, whole wheat pastry flour, baking powder, salt, cayenne, dried cranberries, sharp cheddar cheese, egg, low-fat milk\\n**Ingredient Quantities**: 1/4, 1/2, 1/4, 1/4, 1/4, 1, 1, 1, 1, 1, 1/2, 1, 1, 1\\n**Nutrition**:\\n- Calories: 168.6 cals\\n- Carbohydrate: 17.5 g\\n- Protein: 6.1 g\\n- Fat: 8.6 g\\n- Saturated Fat: 2.6 g\\n- Fiber: 1.8 g\\n- Cholesterol: 28.5 mg\\n- Sodium: 359.3 mg\\n- Sugar: 1.5 g\\n**Serving**: 12.0 people\\n**Recipe Instruction**: Preheat oven to 400°F., In a skillet, heat oil over medium heat. Add scallions, thyme, oregano and sage. Cook for 2 minutes until fragrant. Remove from heat and set aside., Combine both flours with baking powder, salt and cayenne. Stir in the cranberries and cheese., In a large mixing bowl, beat egg lightly. Whisk in the milk., Whisk the cooked scallions and herbs, including all the oil, into the milk and egg., Fold the dry ingredients into the egg and milk, mixing until just combined., Scoop batter into lightly greased mini-muffin tins., Bake for 15 to 18 minutes or until lightly browned and a toothpick inserted in the middle comes out clean., Remove from the oven and let cool for a few minutes before taking muffins out of the tin. Serve warm.\\n**Not Suitable for People Who has Allergy**: Canola oil, Milk allergy / Lactose intolerance, Milk allergy / Lactose intolerance, Gluten Allergy]\\n\\n[**Food Name**: Cornbread Salad\\n**User Rating**: 5.0 stars\\n**Food Category**: Breads\\n**Cook Time**: 0:25:00\\n**Preparation Time**: 0:25:00\\n**Ingredient Parts**: green chilies, ground cumin, dried oregano, sweet basil, mayonnaise, sour cream, pinto beans, whole kernel corn, tomatoes, green peppers, bell pepper, green onion, bacon, cheddar cheese, black-eyed peas, broccoli florets, celery, sliced water chestnuts, kidney beans, great northern beans, canned black beans\\n**Ingredient Quantities**: 2, 2, 1/4, 1/4, 1/4, 1/2, 1 1/2, 1, 3, 2, 3, 1, 1, 10, 4, 2, 16, 2, 2, 1, 16, 16, 16\\n**Nutrition**:\\n- Calories: 367.8 cals\\n- Carbohydrate: 38.9 g\\n- Protein: 13.9 g\\n- Fat: 18.4 g\\n- Saturated Fat: 8.2 g\\n- Fiber: 7.3 g\\n- Cholesterol: 34.2 mg\\n- Sodium: 585.2 mg\\n- Sugar: 6.7 g\\n**Serving**: 24.0 people\\n**Recipe Instruction**: Prepare corn bread batter according to package directions., Stir in chilies, cumin, oregano and sweet basil., Spread in a greased 9 X 13 inches., square baking pan., Bake at 400 for 20-25 minutes or until a toothpick inserted near the center comes out clean., Cool., In a small bowl, combine mayonnaise, sour cream and dressing mix; set aside., Crumble half the corn bread into serving dish., Layer with half of the beans, mayonnaise mixture, corn tomatoes, green pepper, onions, bacon and cheese., Repeat layers (dish will be very full)., Cover and refrigerate for 2 hours., Yield: 24 servings., This recipe may be cut in half, if necessary., If using leftover cornbread, mix chilies (drained), cumin oregano, and sweet basil with all ready prepared cornbread., There is really no limit as to what you can put in this salad.\\n**Not Suitable for People Who has Allergy**: Legume Allergy, Broccoli allergy, Hypersensitivity, Milk allergy / Lactose intolerance, Nut Allergy, Corn Allergy, Milk allergy / Lactose intolerance, Legume Allergy, Allium Allergy, Legume Allergy, Legume Allergy, Milk allergy / Lactose intolerance, Nightshade Allergy]\\n\\n[**Food Name**: Great Grain Burgers\\n**User Rating**: 4.0 stars\\n**Food Category**: Lunch/Snacks\\n**Cook Time**: 0:05:00\\n**Preparation Time**: 4:00:00\\n**Ingredient Parts**: brown rice, bulgur, poultry seasoning, water, fresh mushrooms, old fashioned oats, part-skim mozzarella cheese, low-fat cheddar cheese, onion, fat-free cottage cheese, egg substitute, fresh parsley, salt, dried basil, celery seed, canola oil, lettuce leaf, tomatoes\\n**Ingredient Quantities**: 1/2, 1/2, 1, 1/4, 2, 2, 3/4, 1, 1/4, 1/3, 1/2, 1/4, 2, 1, 1/2, 1/8, 3, 12, missing, missing\\n**Nutrition**:\\n- Calories: 264.3 cals\\n- Carbohydrate: 36.7 g\\n- Protein: 13.5 g\\n- Fat: 7.0 g\\n- Saturated Fat: 2.7 g\\n- Fiber: 3.0 g\\n- Cholesterol: 13.1 mg\\n- Sodium: 544.9 mg\\n- Sugar: 3.6 g\\n**Serving**: 12.0 people\\n**Recipe Instruction**: Combine the first 5 ingredients in a large saucepan., Bring to a boil, reduce heat, cover and simmer for 30 to 40 minutes or until rice is tender., Remove from heat and cool completely, refrigerate., Combine the mushrooms, oats, mozzarella, cheese cheddar cheese and onion., In a food processor, process the cottage cheese and egg substitute until smooth., Add mushroom mixture, parsley, salt, basil, celery seed and chilled rice mixture., Using 1/2 cup of mixture, shape into 12 patties., In a non-stick skillet, cook four patties in 1 teaspoon of oil for 5 minutes on each side or until browned and crisp., Repeat with remaining patties and oil., Serve on hamburger rolls with lettuce and tomato slices., Please note the preparation time includes cooking and cooling rice., The cooking time is for the burgers only.\\n**Not Suitable for People Who has Allergy**: Canola oil, Hypersensitivity, Milk allergy / Lactose intolerance, LTP Allergy, Allium Allergy, Hypersensitivity, Rice Allergy, Nightshade Allergy]\\n\\n\\n\\n  Answer the given query. You can use both your knowledge and data in the snippet. If the some information is 'missing' you can use your knowledge to fill in that question or leave out those information. The response should be in a readable format for nutrition summary. Then ask user what else do you want to know.\"}]}]\n",
            "image_list\n",
            "[]\n",
            "Setting `pad_token_id` to `eos_token_id`:2 for open-end generation.\n",
            "done import\n",
            "finished load 6.747245788574219e-05\n",
            "done import\n",
            "finished load 5.8650970458984375e-05\n",
            "done import\n",
            "finished load 5.8650970458984375e-05\n",
            "done import\n",
            "finished load 7.915496826171875e-05\n",
            "done import\n",
            "finished load 5.2928924560546875e-05\n",
            "{'sequence': \"Can you give me the food's recipe in the image.\", 'labels': ['recipe provider', 'food tag', 'nutrition', 'diet meal planner', 'allergen avoidance'], 'scores': [0.8987720608711243, 0.7909619212150574, 0.44757547974586487, 0.23180647194385529, 0.01490709651261568]}\n",
            "intention_query=\"Can you give me the food's recipe in the image.\"\n",
            "constraint_list=[]\n",
            "image\n",
            "100% 1/1 [00:00<00:00,  1.93it/s]\n",
            "text: yes, image: yes = intent += food label\n",
            "{'name': 'spaghetti_carbonara', 'food image path': PosixPath('/kaggle/input/food41/images/spaghetti_carbonara/1003992.jpg')}\n",
            "Can you give me the food's recipe in the image. The food is spaghetti carbonara.\n",
            "text\n",
            "100% 1/1 [00:00<00:00, 110.88it/s]\n",
            "text content: ['[**Food Name**: Spaghetti Carbonara (With a Difference)\\n**User Rating**: missing stars\\n**Food Category**: One Dish Meal\\n**Cook Time**: 0:10:00\\n**Preparation Time**: 0:15:00\\n**Ingredient Parts**: spaghetti, chicken broth, white wine, lemon juice, garlic clove, butter, salt, pepper, parmesan cheese, eggs\\n**Ingredient Quantities**: 1, 1/2, 2, 1, 1/2, 4, 1, 1/2, 3/4, 2\\n**Nutrition**:\\n- Calories: 533.2 cals\\n- Carbohydrate: 58.0 g\\n- Protein: 19.4 g\\n- Fat: 24.1 g\\n- Saturated Fat: 13.4 g\\n- Fiber: 2.5 g\\n- Cholesterol: 128.0 mg\\n- Sodium: 902.0 mg\\n- Sugar: 1.7 g\\n**Serving**: 6.0 people\\n**Recipe Instruction**: Cook chicken broth, wine, garlic, butter, and bacon in skillet., Bring to a boil over medium heat., Meanwhile, cook spaghetti and drain, but DO NOT rinse.  Put back into pan., Add pepper and salt to spaghetti, then stir in the chicken broth mixture, coating spaghetti well., Beat eggs. Add eggs and parmesan cheese to spaghetti mixture.  Continue to stir until spaghetti is completely coated and eggs are set.  It should take about 1 minute.\\n**Not Suitable for People Who has Allergy**: Milk allergy / Lactose intolerance, Milk allergy / Lactose intolerance, Poultry Allergy, Poultry Allergy, Allium Allergy, Citrus Allergy]\\n\\n', \"[**Food Name**: Spaghetti Alla Carbonara from Feast Cookbook\\n**User Rating**: 5.0 stars\\n**Food Category**: Spaghetti\\n**Cook Time**: 0:30:00\\n**Preparation Time**: 0:05:00\\n**Ingredient Parts**: spaghetti, pancetta, bacon, olive oil, dry white wine, vermouth, eggs, parmesan cheese, black pepper, heavy cream, nutmeg\\n**Ingredient Quantities**: 1, 2, 2, 1/4, 4, 1/2, missing, 1/4, missing\\n**Nutrition**:\\n- Calories: 1347.0 cals\\n- Carbohydrate: 173.6 g\\n- Protein: 52.6 g\\n- Fat: 45.0 g\\n- Saturated Fat: 16.8 g\\n- Fiber: 7.3 g\\n- Cholesterol: 485.8 mg\\n- Sodium: 546.7 mg\\n- Sugar: 5.3 g\\n**Serving**: missing people\\n**Recipe Instruction**: Put a large pan of salted water on to boil for the pasta.  Cut the pancetta into 1/2 X 1/4 inch cubes.  If the pancetta has its rind on, cut it off - and use a bigger piece of pancetta, as the amount I've specified is for prepared cubes - and put the rind in a pan with a film of oil and cook it gently to render down., Then in a large pan that will fit the pasta later, cook the pancetta cubes in the oil until crispy but not crunchy.  Chuck over them the white whine or vermouth and let it bubble away so that, after a few minutes, you have a small amount of salty winey syrup left.  Take the pan off the heat., In a bowl, beat together the eggs, Parmesan, cream and some pepper.  Cook the pasta more or less according to the package instructions, but since you want it kept al dente start checking it at 2 minutes before the package says its done.  Lower in a cup and remove approximately 1/2 cup of the pasta water before draining.  Put the other pan, the one with the bacon cubes, on the heat and add the drained pasta, tossing well to coat with the syrupy pancetta.  Add a little of the reserved pasta water to lubricate if necessary.  Take the pan off the heat again and add the eggs and cheese mixture, swiftly tossing everything in to the mix.  Grind over some more pepper and grate over the nutmeg, carry producing aloft, and dive inches., Serves two hungry people, much too much in love to say goodnight.\\n**Not Suitable for People Who has Allergy**: Milk allergy / Lactose intolerance, Milk allergy / Lactose intolerance, Poultry Allergy, Olive oil]\\n\\n\", '[**Food Name**: No-Cream Carbonara\\n**User Rating**: missing stars\\n**Food Category**: Spaghetti\\n**Cook Time**: 0:20:00\\n**Preparation Time**: 0:10:00\\n**Ingredient Parts**: spaghetti, olive oil, egg, pancetta, parmesan cheese, salt, black pepper\\n**Ingredient Quantities**: 100, 1, 1, 100, 25, missing, missing\\n**Nutrition**:\\n- Calories: 723.5 cals\\n- Carbohydrate: 86.5 g\\n- Protein: 30.8 g\\n- Fat: 27.3 g\\n- Saturated Fat: 8.1 g\\n- Fiber: 3.6 g\\n- Cholesterol: 233.5 mg\\n- Sodium: 458.2 mg\\n- Sugar: 2.6 g\\n**Serving**: 1.0 people\\n**Recipe Instruction**: Get the spaghetti boiling in plenty of salted water., Heat olive oil in pan over medium-high heat and fry the pancetta for 1-2 minutes. Transfer to a bowl., Beat the egg lightly using a fork in another bowl., When the pasta is cooked, drain it but put a bowl under the colander in order to retain some of the water; you may need that later., Now return the pasta to the pan, and stir in first the pancetta with the hot oil, and then the beaten eggs. The egg will cook in the heat from the pasta, but here is where the flair comes in; you need to stir the egg into the mix so that it cooks into a cream and not hundreds of pieces of tiny omelette., Add the cheese, and if the mixture is too dry, stir in a little of the cooking water from the pasta (no more than a spoonful). Cook until the cheese just starts to melt and the egg is still creamy., Serve with coarse-ground black pepper.\\n**Not Suitable for People Who has Allergy**: Milk allergy / Lactose intolerance, Olive oil]\\n\\n', '[**Food Name**: Spaghetti Alla Carbonara - Tyler Florence\\n**User Rating**: missing stars\\n**Food Category**: Spaghetti\\n**Cook Time**: 0:10:00\\n**Preparation Time**: 0:15:00\\n**Ingredient Parts**: spaghetti, extra virgin olive oil, pancetta, thick slab bacon, garlic cloves, eggs, parmigiano-reggiano cheese, fresh ground black pepper, fresh flat-leaf parsley\\n**Ingredient Quantities**: 1, 2, 4, 4, 2, 1, missing, missing\\n**Nutrition**:\\n- Calories: 605.8 cals\\n- Carbohydrate: 87.0 g\\n- Protein: 25.8 g\\n- Fat: 16.3 g\\n- Saturated Fat: 5.5 g\\n- Fiber: 3.7 g\\n- Cholesterol: 107.4 mg\\n- Sodium: 382.2 mg\\n- Sugar: 3.4 g\\n**Serving**: missing people\\n**Recipe Instruction**: Prepare the sauce while the pasta is cooking to ensure that the spaghetti will be hot and ready when the sauce is finished; it is very important that the pasta is hot when adding the egg mixture, so that the heat of the pasta cooks the raw eggs in the sauce., Bring a large pot of salted water to a boil, add the pasta and cook for 8 to 10 minutes or until tender yet firm (as they say in Italian \"al dente.\") Drain the pasta well, reserving 1/2 cup of the starchy cooking water to use in the sauce if you wish., Meanwhile, heat the olive oil in a deep skillet over medium flame. Add the pancetta and saute for about 3 minutes, until the bacon is crisp and the fat is rendered. Toss the garlic into the fat and saute for less than 1 minute to soften., Add the hot, drained spaghetti to the pan and toss for 2 minutes to coat the strands in the bacon fat. Beat the eggs and Parmesan together in a mixing bowl, stirring well to prevent lumps. Remove the pan from the heat and pour the egg/cheese mixture into the pasta, whisking quickly until the eggs thicken, but do not scramble (this is done off the heat to ensure this does not happen.) Thin out the sauce with a bit of the reserved pasta water, until it reaches desired consistency. Season the carbonara with several turns of freshly ground black pepper and taste for salt. Mound the spaghetti carbonara into warm serving bowls and garnish with chopped parsley. Pass more cheese around the table.\\n**Not Suitable for People Who has Allergy**: Milk allergy / Lactose intolerance, Poultry Allergy, Allium Allergy, Olive oil, Hypersensitivity]\\n\\n', '[**Food Name**: Spaghetti Carbonara\\n**User Rating**: 5.0 stars\\n**Food Category**: One Dish Meal\\n**Cook Time**: 0:15:00\\n**Preparation Time**: 0:20:00\\n**Ingredient Parts**: water, salt, bacon, onion, butter, chicken broth, eggs, fresh parsley, fresh parmesan cheese\\n**Ingredient Quantities**: 4, 1/2, 1/2, 1/2, 16, 2, 1/4, 2, 1/2, 1/2\\n**Nutrition**:\\n- Calories: 559.9 cals\\n- Carbohydrate: 53.4 g\\n- Protein: 25.3 g\\n- Fat: 26.7 g\\n- Saturated Fat: 10.3 g\\n- Fiber: 0.3 g\\n- Cholesterol: 113.7 mg\\n- Sodium: 740.5 mg\\n- Sugar: 0.7 g\\n**Serving**: missing people\\n**Recipe Instruction**: In a large saucepan bring 4 quarts of water and 1/2 teaspoon of salt to a boil., In the meantime, cut bacon into 1\" pieces, chop onion, and set other ingredients out., Cook spaghetti in boiling water for 10 minutes or until tender., While cooking, brown bacon pieces in skillet., Remove and pour off all but 2 tablespoons of fat from skillet., Drain cooked spaghetti and add to bacon-onion mixture., Add butter, and toss with spaghetti until butter melts., Pour in chicken broth and mix well., Remove skillet from heat and add eggs.  STIR QUICKLY to blend (you don\\'t want any egg chunks)., Mix in parsley and sprinkle with Parmesan cheese., Toss well and serve immediately.\\n**Not Suitable for People Who has Allergy**: Milk allergy / Lactose intolerance, Milk allergy / Lactose intolerance, Poultry Allergy, Poultry Allergy, Allium Allergy, Hypersensitivity]\\n\\n']\n",
            "len text_content: 5\n",
            "before\n",
            "['[**Food Name**: Spaghetti Carbonara (With a Difference)\\n**User Rating**: missing stars\\n**Food Category**: One Dish Meal\\n**Cook Time**: 0:10:00\\n**Preparation Time**: 0:15:00\\n**Ingredient Parts**: spaghetti, chicken broth, white wine, lemon juice, garlic clove, butter, salt, pepper, parmesan cheese, eggs\\n**Ingredient Quantities**: 1, 1/2, 2, 1, 1/2, 4, 1, 1/2, 3/4, 2\\n**Nutrition**:\\n- Calories: 533.2 cals\\n- Carbohydrate: 58.0 g\\n- Protein: 19.4 g\\n- Fat: 24.1 g\\n- Saturated Fat: 13.4 g\\n- Fiber: 2.5 g\\n- Cholesterol: 128.0 mg\\n- Sodium: 902.0 mg\\n- Sugar: 1.7 g\\n**Serving**: 6.0 people\\n**Recipe Instruction**: Cook chicken broth, wine, garlic, butter, and bacon in skillet., Bring to a boil over medium heat., Meanwhile, cook spaghetti and drain, but DO NOT rinse.  Put back into pan., Add pepper and salt to spaghetti, then stir in the chicken broth mixture, coating spaghetti well., Beat eggs. Add eggs and parmesan cheese to spaghetti mixture.  Continue to stir until spaghetti is completely coated and eggs are set.  It should take about 1 minute.\\n**Not Suitable for People Who has Allergy**: Milk allergy / Lactose intolerance, Milk allergy / Lactose intolerance, Poultry Allergy, Poultry Allergy, Allium Allergy, Citrus Allergy]\\n\\n', \"[**Food Name**: Spaghetti Alla Carbonara from Feast Cookbook\\n**User Rating**: 5.0 stars\\n**Food Category**: Spaghetti\\n**Cook Time**: 0:30:00\\n**Preparation Time**: 0:05:00\\n**Ingredient Parts**: spaghetti, pancetta, bacon, olive oil, dry white wine, vermouth, eggs, parmesan cheese, black pepper, heavy cream, nutmeg\\n**Ingredient Quantities**: 1, 2, 2, 1/4, 4, 1/2, missing, 1/4, missing\\n**Nutrition**:\\n- Calories: 1347.0 cals\\n- Carbohydrate: 173.6 g\\n- Protein: 52.6 g\\n- Fat: 45.0 g\\n- Saturated Fat: 16.8 g\\n- Fiber: 7.3 g\\n- Cholesterol: 485.8 mg\\n- Sodium: 546.7 mg\\n- Sugar: 5.3 g\\n**Serving**: missing people\\n**Recipe Instruction**: Put a large pan of salted water on to boil for the pasta.  Cut the pancetta into 1/2 X 1/4 inch cubes.  If the pancetta has its rind on, cut it off - and use a bigger piece of pancetta, as the amount I've specified is for prepared cubes - and put the rind in a pan with a film of oil and cook it gently to render down., Then in a large pan that will fit the pasta later, cook the pancetta cubes in the oil until crispy but not crunchy.  Chuck over them the white whine or vermouth and let it bubble away so that, after a few minutes, you have a small amount of salty winey syrup left.  Take the pan off the heat., In a bowl, beat together the eggs, Parmesan, cream and some pepper.  Cook the pasta more or less according to the package instructions, but since you want it kept al dente start checking it at 2 minutes before the package says its done.  Lower in a cup and remove approximately 1/2 cup of the pasta water before draining.  Put the other pan, the one with the bacon cubes, on the heat and add the drained pasta, tossing well to coat with the syrupy pancetta.  Add a little of the reserved pasta water to lubricate if necessary.  Take the pan off the heat again and add the eggs and cheese mixture, swiftly tossing everything in to the mix.  Grind over some more pepper and grate over the nutmeg, carry producing aloft, and dive inches., Serves two hungry people, much too much in love to say goodnight.\\n**Not Suitable for People Who has Allergy**: Milk allergy / Lactose intolerance, Milk allergy / Lactose intolerance, Poultry Allergy, Olive oil]\\n\\n\", '[**Food Name**: No-Cream Carbonara\\n**User Rating**: missing stars\\n**Food Category**: Spaghetti\\n**Cook Time**: 0:20:00\\n**Preparation Time**: 0:10:00\\n**Ingredient Parts**: spaghetti, olive oil, egg, pancetta, parmesan cheese, salt, black pepper\\n**Ingredient Quantities**: 100, 1, 1, 100, 25, missing, missing\\n**Nutrition**:\\n- Calories: 723.5 cals\\n- Carbohydrate: 86.5 g\\n- Protein: 30.8 g\\n- Fat: 27.3 g\\n- Saturated Fat: 8.1 g\\n- Fiber: 3.6 g\\n- Cholesterol: 233.5 mg\\n- Sodium: 458.2 mg\\n- Sugar: 2.6 g\\n**Serving**: 1.0 people\\n**Recipe Instruction**: Get the spaghetti boiling in plenty of salted water., Heat olive oil in pan over medium-high heat and fry the pancetta for 1-2 minutes. Transfer to a bowl., Beat the egg lightly using a fork in another bowl., When the pasta is cooked, drain it but put a bowl under the colander in order to retain some of the water; you may need that later., Now return the pasta to the pan, and stir in first the pancetta with the hot oil, and then the beaten eggs. The egg will cook in the heat from the pasta, but here is where the flair comes in; you need to stir the egg into the mix so that it cooks into a cream and not hundreds of pieces of tiny omelette., Add the cheese, and if the mixture is too dry, stir in a little of the cooking water from the pasta (no more than a spoonful). Cook until the cheese just starts to melt and the egg is still creamy., Serve with coarse-ground black pepper.\\n**Not Suitable for People Who has Allergy**: Milk allergy / Lactose intolerance, Olive oil]\\n\\n', '[**Food Name**: Spaghetti Alla Carbonara - Tyler Florence\\n**User Rating**: missing stars\\n**Food Category**: Spaghetti\\n**Cook Time**: 0:10:00\\n**Preparation Time**: 0:15:00\\n**Ingredient Parts**: spaghetti, extra virgin olive oil, pancetta, thick slab bacon, garlic cloves, eggs, parmigiano-reggiano cheese, fresh ground black pepper, fresh flat-leaf parsley\\n**Ingredient Quantities**: 1, 2, 4, 4, 2, 1, missing, missing\\n**Nutrition**:\\n- Calories: 605.8 cals\\n- Carbohydrate: 87.0 g\\n- Protein: 25.8 g\\n- Fat: 16.3 g\\n- Saturated Fat: 5.5 g\\n- Fiber: 3.7 g\\n- Cholesterol: 107.4 mg\\n- Sodium: 382.2 mg\\n- Sugar: 3.4 g\\n**Serving**: missing people\\n**Recipe Instruction**: Prepare the sauce while the pasta is cooking to ensure that the spaghetti will be hot and ready when the sauce is finished; it is very important that the pasta is hot when adding the egg mixture, so that the heat of the pasta cooks the raw eggs in the sauce., Bring a large pot of salted water to a boil, add the pasta and cook for 8 to 10 minutes or until tender yet firm (as they say in Italian \"al dente.\") Drain the pasta well, reserving 1/2 cup of the starchy cooking water to use in the sauce if you wish., Meanwhile, heat the olive oil in a deep skillet over medium flame. Add the pancetta and saute for about 3 minutes, until the bacon is crisp and the fat is rendered. Toss the garlic into the fat and saute for less than 1 minute to soften., Add the hot, drained spaghetti to the pan and toss for 2 minutes to coat the strands in the bacon fat. Beat the eggs and Parmesan together in a mixing bowl, stirring well to prevent lumps. Remove the pan from the heat and pour the egg/cheese mixture into the pasta, whisking quickly until the eggs thicken, but do not scramble (this is done off the heat to ensure this does not happen.) Thin out the sauce with a bit of the reserved pasta water, until it reaches desired consistency. Season the carbonara with several turns of freshly ground black pepper and taste for salt. Mound the spaghetti carbonara into warm serving bowls and garnish with chopped parsley. Pass more cheese around the table.\\n**Not Suitable for People Who has Allergy**: Milk allergy / Lactose intolerance, Poultry Allergy, Allium Allergy, Olive oil, Hypersensitivity]\\n\\n', '[**Food Name**: Spaghetti Carbonara\\n**User Rating**: 5.0 stars\\n**Food Category**: One Dish Meal\\n**Cook Time**: 0:15:00\\n**Preparation Time**: 0:20:00\\n**Ingredient Parts**: water, salt, bacon, onion, butter, chicken broth, eggs, fresh parsley, fresh parmesan cheese\\n**Ingredient Quantities**: 4, 1/2, 1/2, 1/2, 16, 2, 1/4, 2, 1/2, 1/2\\n**Nutrition**:\\n- Calories: 559.9 cals\\n- Carbohydrate: 53.4 g\\n- Protein: 25.3 g\\n- Fat: 26.7 g\\n- Saturated Fat: 10.3 g\\n- Fiber: 0.3 g\\n- Cholesterol: 113.7 mg\\n- Sodium: 740.5 mg\\n- Sugar: 0.7 g\\n**Serving**: missing people\\n**Recipe Instruction**: In a large saucepan bring 4 quarts of water and 1/2 teaspoon of salt to a boil., In the meantime, cut bacon into 1\" pieces, chop onion, and set other ingredients out., Cook spaghetti in boiling water for 10 minutes or until tender., While cooking, brown bacon pieces in skillet., Remove and pour off all but 2 tablespoons of fat from skillet., Drain cooked spaghetti and add to bacon-onion mixture., Add butter, and toss with spaghetti until butter melts., Pour in chicken broth and mix well., Remove skillet from heat and add eggs.  STIR QUICKLY to blend (you don\\'t want any egg chunks)., Mix in parsley and sprinkle with Parmesan cheese., Toss well and serve immediately.\\n**Not Suitable for People Who has Allergy**: Milk allergy / Lactose intolerance, Milk allergy / Lactose intolerance, Poultry Allergy, Poultry Allergy, Allium Allergy, Hypersensitivity]\\n\\n']\n",
            "after\n",
            "[\"[**Food Name**: Spaghetti Alla Carbonara from Feast Cookbook\\n**User Rating**: 5.0 stars\\n**Food Category**: Spaghetti\\n**Cook Time**: 0:30:00\\n**Preparation Time**: 0:05:00\\n**Ingredient Parts**: spaghetti, pancetta, bacon, olive oil, dry white wine, vermouth, eggs, parmesan cheese, black pepper, heavy cream, nutmeg\\n**Ingredient Quantities**: 1, 2, 2, 1/4, 4, 1/2, missing, 1/4, missing\\n**Nutrition**:\\n- Calories: 1347.0 cals\\n- Carbohydrate: 173.6 g\\n- Protein: 52.6 g\\n- Fat: 45.0 g\\n- Saturated Fat: 16.8 g\\n- Fiber: 7.3 g\\n- Cholesterol: 485.8 mg\\n- Sodium: 546.7 mg\\n- Sugar: 5.3 g\\n**Serving**: missing people\\n**Recipe Instruction**: Put a large pan of salted water on to boil for the pasta.  Cut the pancetta into 1/2 X 1/4 inch cubes.  If the pancetta has its rind on, cut it off - and use a bigger piece of pancetta, as the amount I've specified is for prepared cubes - and put the rind in a pan with a film of oil and cook it gently to render down., Then in a large pan that will fit the pasta later, cook the pancetta cubes in the oil until crispy but not crunchy.  Chuck over them the white whine or vermouth and let it bubble away so that, after a few minutes, you have a small amount of salty winey syrup left.  Take the pan off the heat., In a bowl, beat together the eggs, Parmesan, cream and some pepper.  Cook the pasta more or less according to the package instructions, but since you want it kept al dente start checking it at 2 minutes before the package says its done.  Lower in a cup and remove approximately 1/2 cup of the pasta water before draining.  Put the other pan, the one with the bacon cubes, on the heat and add the drained pasta, tossing well to coat with the syrupy pancetta.  Add a little of the reserved pasta water to lubricate if necessary.  Take the pan off the heat again and add the eggs and cheese mixture, swiftly tossing everything in to the mix.  Grind over some more pepper and grate over the nutmeg, carry producing aloft, and dive inches., Serves two hungry people, much too much in love to say goodnight.\\n**Not Suitable for People Who has Allergy**: Milk allergy / Lactose intolerance, Milk allergy / Lactose intolerance, Poultry Allergy, Olive oil]\\n\\n\", '[**Food Name**: No-Cream Carbonara\\n**User Rating**: missing stars\\n**Food Category**: Spaghetti\\n**Cook Time**: 0:20:00\\n**Preparation Time**: 0:10:00\\n**Ingredient Parts**: spaghetti, olive oil, egg, pancetta, parmesan cheese, salt, black pepper\\n**Ingredient Quantities**: 100, 1, 1, 100, 25, missing, missing\\n**Nutrition**:\\n- Calories: 723.5 cals\\n- Carbohydrate: 86.5 g\\n- Protein: 30.8 g\\n- Fat: 27.3 g\\n- Saturated Fat: 8.1 g\\n- Fiber: 3.6 g\\n- Cholesterol: 233.5 mg\\n- Sodium: 458.2 mg\\n- Sugar: 2.6 g\\n**Serving**: 1.0 people\\n**Recipe Instruction**: Get the spaghetti boiling in plenty of salted water., Heat olive oil in pan over medium-high heat and fry the pancetta for 1-2 minutes. Transfer to a bowl., Beat the egg lightly using a fork in another bowl., When the pasta is cooked, drain it but put a bowl under the colander in order to retain some of the water; you may need that later., Now return the pasta to the pan, and stir in first the pancetta with the hot oil, and then the beaten eggs. The egg will cook in the heat from the pasta, but here is where the flair comes in; you need to stir the egg into the mix so that it cooks into a cream and not hundreds of pieces of tiny omelette., Add the cheese, and if the mixture is too dry, stir in a little of the cooking water from the pasta (no more than a spoonful). Cook until the cheese just starts to melt and the egg is still creamy., Serve with coarse-ground black pepper.\\n**Not Suitable for People Who has Allergy**: Milk allergy / Lactose intolerance, Olive oil]\\n\\n', '[**Food Name**: Spaghetti Alla Carbonara - Tyler Florence\\n**User Rating**: missing stars\\n**Food Category**: Spaghetti\\n**Cook Time**: 0:10:00\\n**Preparation Time**: 0:15:00\\n**Ingredient Parts**: spaghetti, extra virgin olive oil, pancetta, thick slab bacon, garlic cloves, eggs, parmigiano-reggiano cheese, fresh ground black pepper, fresh flat-leaf parsley\\n**Ingredient Quantities**: 1, 2, 4, 4, 2, 1, missing, missing\\n**Nutrition**:\\n- Calories: 605.8 cals\\n- Carbohydrate: 87.0 g\\n- Protein: 25.8 g\\n- Fat: 16.3 g\\n- Saturated Fat: 5.5 g\\n- Fiber: 3.7 g\\n- Cholesterol: 107.4 mg\\n- Sodium: 382.2 mg\\n- Sugar: 3.4 g\\n**Serving**: missing people\\n**Recipe Instruction**: Prepare the sauce while the pasta is cooking to ensure that the spaghetti will be hot and ready when the sauce is finished; it is very important that the pasta is hot when adding the egg mixture, so that the heat of the pasta cooks the raw eggs in the sauce., Bring a large pot of salted water to a boil, add the pasta and cook for 8 to 10 minutes or until tender yet firm (as they say in Italian \"al dente.\") Drain the pasta well, reserving 1/2 cup of the starchy cooking water to use in the sauce if you wish., Meanwhile, heat the olive oil in a deep skillet over medium flame. Add the pancetta and saute for about 3 minutes, until the bacon is crisp and the fat is rendered. Toss the garlic into the fat and saute for less than 1 minute to soften., Add the hot, drained spaghetti to the pan and toss for 2 minutes to coat the strands in the bacon fat. Beat the eggs and Parmesan together in a mixing bowl, stirring well to prevent lumps. Remove the pan from the heat and pour the egg/cheese mixture into the pasta, whisking quickly until the eggs thicken, but do not scramble (this is done off the heat to ensure this does not happen.) Thin out the sauce with a bit of the reserved pasta water, until it reaches desired consistency. Season the carbonara with several turns of freshly ground black pepper and taste for salt. Mound the spaghetti carbonara into warm serving bowls and garnish with chopped parsley. Pass more cheese around the table.\\n**Not Suitable for People Who has Allergy**: Milk allergy / Lactose intolerance, Poultry Allergy, Allium Allergy, Olive oil, Hypersensitivity]\\n\\n', '[**Food Name**: Spaghetti Carbonara\\n**User Rating**: 5.0 stars\\n**Food Category**: One Dish Meal\\n**Cook Time**: 0:15:00\\n**Preparation Time**: 0:20:00\\n**Ingredient Parts**: water, salt, bacon, onion, butter, chicken broth, eggs, fresh parsley, fresh parmesan cheese\\n**Ingredient Quantities**: 4, 1/2, 1/2, 1/2, 16, 2, 1/4, 2, 1/2, 1/2\\n**Nutrition**:\\n- Calories: 559.9 cals\\n- Carbohydrate: 53.4 g\\n- Protein: 25.3 g\\n- Fat: 26.7 g\\n- Saturated Fat: 10.3 g\\n- Fiber: 0.3 g\\n- Cholesterol: 113.7 mg\\n- Sodium: 740.5 mg\\n- Sugar: 0.7 g\\n**Serving**: missing people\\n**Recipe Instruction**: In a large saucepan bring 4 quarts of water and 1/2 teaspoon of salt to a boil., In the meantime, cut bacon into 1\" pieces, chop onion, and set other ingredients out., Cook spaghetti in boiling water for 10 minutes or until tender., While cooking, brown bacon pieces in skillet., Remove and pour off all but 2 tablespoons of fat from skillet., Drain cooked spaghetti and add to bacon-onion mixture., Add butter, and toss with spaghetti until butter melts., Pour in chicken broth and mix well., Remove skillet from heat and add eggs.  STIR QUICKLY to blend (you don\\'t want any egg chunks)., Mix in parsley and sprinkle with Parmesan cheese., Toss well and serve immediately.\\n**Not Suitable for People Who has Allergy**: Milk allergy / Lactose intolerance, Milk allergy / Lactose intolerance, Poultry Allergy, Poultry Allergy, Allium Allergy, Hypersensitivity]\\n\\n', '[**Food Name**: Spaghetti Carbonara (With a Difference)\\n**User Rating**: missing stars\\n**Food Category**: One Dish Meal\\n**Cook Time**: 0:10:00\\n**Preparation Time**: 0:15:00\\n**Ingredient Parts**: spaghetti, chicken broth, white wine, lemon juice, garlic clove, butter, salt, pepper, parmesan cheese, eggs\\n**Ingredient Quantities**: 1, 1/2, 2, 1, 1/2, 4, 1, 1/2, 3/4, 2\\n**Nutrition**:\\n- Calories: 533.2 cals\\n- Carbohydrate: 58.0 g\\n- Protein: 19.4 g\\n- Fat: 24.1 g\\n- Saturated Fat: 13.4 g\\n- Fiber: 2.5 g\\n- Cholesterol: 128.0 mg\\n- Sodium: 902.0 mg\\n- Sugar: 1.7 g\\n**Serving**: 6.0 people\\n**Recipe Instruction**: Cook chicken broth, wine, garlic, butter, and bacon in skillet., Bring to a boil over medium heat., Meanwhile, cook spaghetti and drain, but DO NOT rinse.  Put back into pan., Add pepper and salt to spaghetti, then stir in the chicken broth mixture, coating spaghetti well., Beat eggs. Add eggs and parmesan cheese to spaghetti mixture.  Continue to stir until spaghetti is completely coated and eggs are set.  It should take about 1 minute.\\n**Not Suitable for People Who has Allergy**: Milk allergy / Lactose intolerance, Milk allergy / Lactose intolerance, Poultry Allergy, Poultry Allergy, Allium Allergy, Citrus Allergy]\\n\\n']\n",
            "conversation\n",
            "[{'role': 'system', 'content': [{'type': 'text', 'text': 'You are a home cook chef and nutritionist assistant. Your primary function is to provide users with diet plans, nutrition, recipe, and meal preparation instructions.'}]}, {'role': 'user', 'content': [{'type': 'image'}, {'type': 'text', 'text': 'Given the query: \\'Can you give me the food\\'s recipe in the image.\\' and the following relevant snippets:\\n\\n  [**Food Name**: Spaghetti Alla Carbonara from Feast Cookbook\\n**User Rating**: 5.0 stars\\n**Food Category**: Spaghetti\\n**Cook Time**: 0:30:00\\n**Preparation Time**: 0:05:00\\n**Ingredient Parts**: spaghetti, pancetta, bacon, olive oil, dry white wine, vermouth, eggs, parmesan cheese, black pepper, heavy cream, nutmeg\\n**Ingredient Quantities**: 1, 2, 2, 1/4, 4, 1/2, missing, 1/4, missing\\n**Nutrition**:\\n- Calories: 1347.0 cals\\n- Carbohydrate: 173.6 g\\n- Protein: 52.6 g\\n- Fat: 45.0 g\\n- Saturated Fat: 16.8 g\\n- Fiber: 7.3 g\\n- Cholesterol: 485.8 mg\\n- Sodium: 546.7 mg\\n- Sugar: 5.3 g\\n**Serving**: missing people\\n**Recipe Instruction**: Put a large pan of salted water on to boil for the pasta.  Cut the pancetta into 1/2 X 1/4 inch cubes.  If the pancetta has its rind on, cut it off - and use a bigger piece of pancetta, as the amount I\\'ve specified is for prepared cubes - and put the rind in a pan with a film of oil and cook it gently to render down., Then in a large pan that will fit the pasta later, cook the pancetta cubes in the oil until crispy but not crunchy.  Chuck over them the white whine or vermouth and let it bubble away so that, after a few minutes, you have a small amount of salty winey syrup left.  Take the pan off the heat., In a bowl, beat together the eggs, Parmesan, cream and some pepper.  Cook the pasta more or less according to the package instructions, but since you want it kept al dente start checking it at 2 minutes before the package says its done.  Lower in a cup and remove approximately 1/2 cup of the pasta water before draining.  Put the other pan, the one with the bacon cubes, on the heat and add the drained pasta, tossing well to coat with the syrupy pancetta.  Add a little of the reserved pasta water to lubricate if necessary.  Take the pan off the heat again and add the eggs and cheese mixture, swiftly tossing everything in to the mix.  Grind over some more pepper and grate over the nutmeg, carry producing aloft, and dive inches., Serves two hungry people, much too much in love to say goodnight.\\n**Not Suitable for People Who has Allergy**: Milk allergy / Lactose intolerance, Milk allergy / Lactose intolerance, Poultry Allergy, Olive oil]\\n\\n[**Food Name**: No-Cream Carbonara\\n**User Rating**: missing stars\\n**Food Category**: Spaghetti\\n**Cook Time**: 0:20:00\\n**Preparation Time**: 0:10:00\\n**Ingredient Parts**: spaghetti, olive oil, egg, pancetta, parmesan cheese, salt, black pepper\\n**Ingredient Quantities**: 100, 1, 1, 100, 25, missing, missing\\n**Nutrition**:\\n- Calories: 723.5 cals\\n- Carbohydrate: 86.5 g\\n- Protein: 30.8 g\\n- Fat: 27.3 g\\n- Saturated Fat: 8.1 g\\n- Fiber: 3.6 g\\n- Cholesterol: 233.5 mg\\n- Sodium: 458.2 mg\\n- Sugar: 2.6 g\\n**Serving**: 1.0 people\\n**Recipe Instruction**: Get the spaghetti boiling in plenty of salted water., Heat olive oil in pan over medium-high heat and fry the pancetta for 1-2 minutes. Transfer to a bowl., Beat the egg lightly using a fork in another bowl., When the pasta is cooked, drain it but put a bowl under the colander in order to retain some of the water; you may need that later., Now return the pasta to the pan, and stir in first the pancetta with the hot oil, and then the beaten eggs. The egg will cook in the heat from the pasta, but here is where the flair comes in; you need to stir the egg into the mix so that it cooks into a cream and not hundreds of pieces of tiny omelette., Add the cheese, and if the mixture is too dry, stir in a little of the cooking water from the pasta (no more than a spoonful). Cook until the cheese just starts to melt and the egg is still creamy., Serve with coarse-ground black pepper.\\n**Not Suitable for People Who has Allergy**: Milk allergy / Lactose intolerance, Olive oil]\\n\\n[**Food Name**: Spaghetti Alla Carbonara - Tyler Florence\\n**User Rating**: missing stars\\n**Food Category**: Spaghetti\\n**Cook Time**: 0:10:00\\n**Preparation Time**: 0:15:00\\n**Ingredient Parts**: spaghetti, extra virgin olive oil, pancetta, thick slab bacon, garlic cloves, eggs, parmigiano-reggiano cheese, fresh ground black pepper, fresh flat-leaf parsley\\n**Ingredient Quantities**: 1, 2, 4, 4, 2, 1, missing, missing\\n**Nutrition**:\\n- Calories: 605.8 cals\\n- Carbohydrate: 87.0 g\\n- Protein: 25.8 g\\n- Fat: 16.3 g\\n- Saturated Fat: 5.5 g\\n- Fiber: 3.7 g\\n- Cholesterol: 107.4 mg\\n- Sodium: 382.2 mg\\n- Sugar: 3.4 g\\n**Serving**: missing people\\n**Recipe Instruction**: Prepare the sauce while the pasta is cooking to ensure that the spaghetti will be hot and ready when the sauce is finished; it is very important that the pasta is hot when adding the egg mixture, so that the heat of the pasta cooks the raw eggs in the sauce., Bring a large pot of salted water to a boil, add the pasta and cook for 8 to 10 minutes or until tender yet firm (as they say in Italian \"al dente.\") Drain the pasta well, reserving 1/2 cup of the starchy cooking water to use in the sauce if you wish., Meanwhile, heat the olive oil in a deep skillet over medium flame. Add the pancetta and saute for about 3 minutes, until the bacon is crisp and the fat is rendered. Toss the garlic into the fat and saute for less than 1 minute to soften., Add the hot, drained spaghetti to the pan and toss for 2 minutes to coat the strands in the bacon fat. Beat the eggs and Parmesan together in a mixing bowl, stirring well to prevent lumps. Remove the pan from the heat and pour the egg/cheese mixture into the pasta, whisking quickly until the eggs thicken, but do not scramble (this is done off the heat to ensure this does not happen.) Thin out the sauce with a bit of the reserved pasta water, until it reaches desired consistency. Season the carbonara with several turns of freshly ground black pepper and taste for salt. Mound the spaghetti carbonara into warm serving bowls and garnish with chopped parsley. Pass more cheese around the table.\\n**Not Suitable for People Who has Allergy**: Milk allergy / Lactose intolerance, Poultry Allergy, Allium Allergy, Olive oil, Hypersensitivity]\\n\\n[**Food Name**: Spaghetti Carbonara\\n**User Rating**: 5.0 stars\\n**Food Category**: One Dish Meal\\n**Cook Time**: 0:15:00\\n**Preparation Time**: 0:20:00\\n**Ingredient Parts**: water, salt, bacon, onion, butter, chicken broth, eggs, fresh parsley, fresh parmesan cheese\\n**Ingredient Quantities**: 4, 1/2, 1/2, 1/2, 16, 2, 1/4, 2, 1/2, 1/2\\n**Nutrition**:\\n- Calories: 559.9 cals\\n- Carbohydrate: 53.4 g\\n- Protein: 25.3 g\\n- Fat: 26.7 g\\n- Saturated Fat: 10.3 g\\n- Fiber: 0.3 g\\n- Cholesterol: 113.7 mg\\n- Sodium: 740.5 mg\\n- Sugar: 0.7 g\\n**Serving**: missing people\\n**Recipe Instruction**: In a large saucepan bring 4 quarts of water and 1/2 teaspoon of salt to a boil., In the meantime, cut bacon into 1\" pieces, chop onion, and set other ingredients out., Cook spaghetti in boiling water for 10 minutes or until tender., While cooking, brown bacon pieces in skillet., Remove and pour off all but 2 tablespoons of fat from skillet., Drain cooked spaghetti and add to bacon-onion mixture., Add butter, and toss with spaghetti until butter melts., Pour in chicken broth and mix well., Remove skillet from heat and add eggs.  STIR QUICKLY to blend (you don\\'t want any egg chunks)., Mix in parsley and sprinkle with Parmesan cheese., Toss well and serve immediately.\\n**Not Suitable for People Who has Allergy**: Milk allergy / Lactose intolerance, Milk allergy / Lactose intolerance, Poultry Allergy, Poultry Allergy, Allium Allergy, Hypersensitivity]\\n\\n[**Food Name**: Spaghetti Carbonara (With a Difference)\\n**User Rating**: missing stars\\n**Food Category**: One Dish Meal\\n**Cook Time**: 0:10:00\\n**Preparation Time**: 0:15:00\\n**Ingredient Parts**: spaghetti, chicken broth, white wine, lemon juice, garlic clove, butter, salt, pepper, parmesan cheese, eggs\\n**Ingredient Quantities**: 1, 1/2, 2, 1, 1/2, 4, 1, 1/2, 3/4, 2\\n**Nutrition**:\\n- Calories: 533.2 cals\\n- Carbohydrate: 58.0 g\\n- Protein: 19.4 g\\n- Fat: 24.1 g\\n- Saturated Fat: 13.4 g\\n- Fiber: 2.5 g\\n- Cholesterol: 128.0 mg\\n- Sodium: 902.0 mg\\n- Sugar: 1.7 g\\n**Serving**: 6.0 people\\n**Recipe Instruction**: Cook chicken broth, wine, garlic, butter, and bacon in skillet., Bring to a boil over medium heat., Meanwhile, cook spaghetti and drain, but DO NOT rinse.  Put back into pan., Add pepper and salt to spaghetti, then stir in the chicken broth mixture, coating spaghetti well., Beat eggs. Add eggs and parmesan cheese to spaghetti mixture.  Continue to stir until spaghetti is completely coated and eggs are set.  It should take about 1 minute.\\n**Not Suitable for People Who has Allergy**: Milk allergy / Lactose intolerance, Milk allergy / Lactose intolerance, Poultry Allergy, Poultry Allergy, Allium Allergy, Citrus Allergy]\\n\\n\\n\\n  Answer the given query. You can use both your knowledge and data in the snippets. If the some information is \\'missing\\' you can use your knowledge to fill in that question or leave out those information. The response should be in a readable format for recipe and home cook. Then ask user what else do you want to know.'}]}]\n",
            "image_list\n",
            "[<PIL.JpegImagePlugin.JpegImageFile image mode=RGB size=650x975 at 0x7AD234551750>]\n",
            "Setting `pad_token_id` to `eos_token_id`:2 for open-end generation.\n",
            "2025-05-03 18:07:36.065 Examining the path of torch.classes raised:\n",
            "Traceback (most recent call last):\n",
            "  File \"/usr/local/lib/python3.11/dist-packages/streamlit/web/bootstrap.py\", line 347, in run\n",
            "    if asyncio.get_running_loop().is_running():\n",
            "       ^^^^^^^^^^^^^^^^^^^^^^^^^^\n",
            "RuntimeError: no running event loop\n",
            "\n",
            "During handling of the above exception, another exception occurred:\n",
            "\n",
            "Traceback (most recent call last):\n",
            "  File \"/usr/local/lib/python3.11/dist-packages/streamlit/watcher/local_sources_watcher.py\", line 217, in get_module_paths\n",
            "    potential_paths = extract_paths(module)\n",
            "                      ^^^^^^^^^^^^^^^^^^^^^\n",
            "  File \"/usr/local/lib/python3.11/dist-packages/streamlit/watcher/local_sources_watcher.py\", line 210, in <lambda>\n",
            "    lambda m: list(m.__path__._path),\n",
            "                   ^^^^^^^^^^^^^^^^\n",
            "  File \"/usr/local/lib/python3.11/dist-packages/torch/_classes.py\", line 13, in __getattr__\n",
            "    proxy = torch._C._get_custom_class_python_wrapper(self.name, attr)\n",
            "            ^^^^^^^^^^^^^^^^^^^^^^^^^^^^^^^^^^^^^^^^^^^^^^^^^^^^^^^^^^\n",
            "RuntimeError: Tried to instantiate class '__path__._path', but it does not exist! Ensure that it is registered via torch::class_\n",
            "done import\n",
            "finished load 6.0558319091796875e-05\n",
            "done import\n",
            "finished load 5.745887756347656e-05\n",
            "done import\n",
            "finished load 5.7220458984375e-05\n",
            "done import\n",
            "finished load 5.91278076171875e-05\n",
            "{'sequence': 'Can you give me the nutrition summary of the meal that you recommended.', 'labels': ['nutrition', 'recipe provider', 'diet meal planner', 'food tag', 'allergen avoidance'], 'scores': [0.9894185066223145, 0.8504917621612549, 0.7052868008613586, 0.6338399052619934, 0.02985265851020813]}\n",
            "intention_query='Can you give me the nutrition summary of the meal that you recommended.'\n",
            "constraint_list=[]\n",
            "text\n",
            "100% 1/1 [00:00<00:00, 144.42it/s]\n",
            "text content: ['There is no context. Please use your knowledge.']\n",
            "len text_content: 1\n",
            "before\n",
            "['There is no context. Please use your knowledge.']\n",
            "after\n",
            "['There is no context. Please use your knowledge.']\n",
            "conversation\n",
            "[{'role': 'system', 'content': [{'type': 'text', 'text': 'You are a home cook chef and nutritionist assistant. Your primary function is to provide users with diet plans, nutrition, recipe, and meal preparation instructions.'}]}, {'role': 'user', 'content': [{'type': 'image'}, {'type': 'text', 'text': 'Given the query: \\'Can you give me the food\\'s recipe in the image.\\' and the following relevant snippets:\\n\\n  [**Food Name**: Spaghetti Alla Carbonara from Feast Cookbook\\n**User Rating**: 5.0 stars\\n**Food Category**: Spaghetti\\n**Cook Time**: 0:30:00\\n**Preparation Time**: 0:05:00\\n**Ingredient Parts**: spaghetti, pancetta, bacon, olive oil, dry white wine, vermouth, eggs, parmesan cheese, black pepper, heavy cream, nutmeg\\n**Ingredient Quantities**: 1, 2, 2, 1/4, 4, 1/2, missing, 1/4, missing\\n**Nutrition**:\\n- Calories: 1347.0 cals\\n- Carbohydrate: 173.6 g\\n- Protein: 52.6 g\\n- Fat: 45.0 g\\n- Saturated Fat: 16.8 g\\n- Fiber: 7.3 g\\n- Cholesterol: 485.8 mg\\n- Sodium: 546.7 mg\\n- Sugar: 5.3 g\\n**Serving**: missing people\\n**Recipe Instruction**: Put a large pan of salted water on to boil for the pasta.  Cut the pancetta into 1/2 X 1/4 inch cubes.  If the pancetta has its rind on, cut it off - and use a bigger piece of pancetta, as the amount I\\'ve specified is for prepared cubes - and put the rind in a pan with a film of oil and cook it gently to render down., Then in a large pan that will fit the pasta later, cook the pancetta cubes in the oil until crispy but not crunchy.  Chuck over them the white whine or vermouth and let it bubble away so that, after a few minutes, you have a small amount of salty winey syrup left.  Take the pan off the heat., In a bowl, beat together the eggs, Parmesan, cream and some pepper.  Cook the pasta more or less according to the package instructions, but since you want it kept al dente start checking it at 2 minutes before the package says its done.  Lower in a cup and remove approximately 1/2 cup of the pasta water before draining.  Put the other pan, the one with the bacon cubes, on the heat and add the drained pasta, tossing well to coat with the syrupy pancetta.  Add a little of the reserved pasta water to lubricate if necessary.  Take the pan off the heat again and add the eggs and cheese mixture, swiftly tossing everything in to the mix.  Grind over some more pepper and grate over the nutmeg, carry producing aloft, and dive inches., Serves two hungry people, much too much in love to say goodnight.\\n**Not Suitable for People Who has Allergy**: Milk allergy / Lactose intolerance, Milk allergy / Lactose intolerance, Poultry Allergy, Olive oil]\\n\\n[**Food Name**: No-Cream Carbonara\\n**User Rating**: missing stars\\n**Food Category**: Spaghetti\\n**Cook Time**: 0:20:00\\n**Preparation Time**: 0:10:00\\n**Ingredient Parts**: spaghetti, olive oil, egg, pancetta, parmesan cheese, salt, black pepper\\n**Ingredient Quantities**: 100, 1, 1, 100, 25, missing, missing\\n**Nutrition**:\\n- Calories: 723.5 cals\\n- Carbohydrate: 86.5 g\\n- Protein: 30.8 g\\n- Fat: 27.3 g\\n- Saturated Fat: 8.1 g\\n- Fiber: 3.6 g\\n- Cholesterol: 233.5 mg\\n- Sodium: 458.2 mg\\n- Sugar: 2.6 g\\n**Serving**: 1.0 people\\n**Recipe Instruction**: Get the spaghetti boiling in plenty of salted water., Heat olive oil in pan over medium-high heat and fry the pancetta for 1-2 minutes. Transfer to a bowl., Beat the egg lightly using a fork in another bowl., When the pasta is cooked, drain it but put a bowl under the colander in order to retain some of the water; you may need that later., Now return the pasta to the pan, and stir in first the pancetta with the hot oil, and then the beaten eggs. The egg will cook in the heat from the pasta, but here is where the flair comes in; you need to stir the egg into the mix so that it cooks into a cream and not hundreds of pieces of tiny omelette., Add the cheese, and if the mixture is too dry, stir in a little of the cooking water from the pasta (no more than a spoonful). Cook until the cheese just starts to melt and the egg is still creamy., Serve with coarse-ground black pepper.\\n**Not Suitable for People Who has Allergy**: Milk allergy / Lactose intolerance, Olive oil]\\n\\n[**Food Name**: Spaghetti Alla Carbonara - Tyler Florence\\n**User Rating**: missing stars\\n**Food Category**: Spaghetti\\n**Cook Time**: 0:10:00\\n**Preparation Time**: 0:15:00\\n**Ingredient Parts**: spaghetti, extra virgin olive oil, pancetta, thick slab bacon, garlic cloves, eggs, parmigiano-reggiano cheese, fresh ground black pepper, fresh flat-leaf parsley\\n**Ingredient Quantities**: 1, 2, 4, 4, 2, 1, missing, missing\\n**Nutrition**:\\n- Calories: 605.8 cals\\n- Carbohydrate: 87.0 g\\n- Protein: 25.8 g\\n- Fat: 16.3 g\\n- Saturated Fat: 5.5 g\\n- Fiber: 3.7 g\\n- Cholesterol: 107.4 mg\\n- Sodium: 382.2 mg\\n- Sugar: 3.4 g\\n**Serving**: missing people\\n**Recipe Instruction**: Prepare the sauce while the pasta is cooking to ensure that the spaghetti will be hot and ready when the sauce is finished; it is very important that the pasta is hot when adding the egg mixture, so that the heat of the pasta cooks the raw eggs in the sauce., Bring a large pot of salted water to a boil, add the pasta and cook for 8 to 10 minutes or until tender yet firm (as they say in Italian \"al dente.\") Drain the pasta well, reserving 1/2 cup of the starchy cooking water to use in the sauce if you wish., Meanwhile, heat the olive oil in a deep skillet over medium flame. Add the pancetta and saute for about 3 minutes, until the bacon is crisp and the fat is rendered. Toss the garlic into the fat and saute for less than 1 minute to soften., Add the hot, drained spaghetti to the pan and toss for 2 minutes to coat the strands in the bacon fat. Beat the eggs and Parmesan together in a mixing bowl, stirring well to prevent lumps. Remove the pan from the heat and pour the egg/cheese mixture into the pasta, whisking quickly until the eggs thicken, but do not scramble (this is done off the heat to ensure this does not happen.) Thin out the sauce with a bit of the reserved pasta water, until it reaches desired consistency. Season the carbonara with several turns of freshly ground black pepper and taste for salt. Mound the spaghetti carbonara into warm serving bowls and garnish with chopped parsley. Pass more cheese around the table.\\n**Not Suitable for People Who has Allergy**: Milk allergy / Lactose intolerance, Poultry Allergy, Allium Allergy, Olive oil, Hypersensitivity]\\n\\n[**Food Name**: Spaghetti Carbonara\\n**User Rating**: 5.0 stars\\n**Food Category**: One Dish Meal\\n**Cook Time**: 0:15:00\\n**Preparation Time**: 0:20:00\\n**Ingredient Parts**: water, salt, bacon, onion, butter, chicken broth, eggs, fresh parsley, fresh parmesan cheese\\n**Ingredient Quantities**: 4, 1/2, 1/2, 1/2, 16, 2, 1/4, 2, 1/2, 1/2\\n**Nutrition**:\\n- Calories: 559.9 cals\\n- Carbohydrate: 53.4 g\\n- Protein: 25.3 g\\n- Fat: 26.7 g\\n- Saturated Fat: 10.3 g\\n- Fiber: 0.3 g\\n- Cholesterol: 113.7 mg\\n- Sodium: 740.5 mg\\n- Sugar: 0.7 g\\n**Serving**: missing people\\n**Recipe Instruction**: In a large saucepan bring 4 quarts of water and 1/2 teaspoon of salt to a boil., In the meantime, cut bacon into 1\" pieces, chop onion, and set other ingredients out., Cook spaghetti in boiling water for 10 minutes or until tender., While cooking, brown bacon pieces in skillet., Remove and pour off all but 2 tablespoons of fat from skillet., Drain cooked spaghetti and add to bacon-onion mixture., Add butter, and toss with spaghetti until butter melts., Pour in chicken broth and mix well., Remove skillet from heat and add eggs.  STIR QUICKLY to blend (you don\\'t want any egg chunks)., Mix in parsley and sprinkle with Parmesan cheese., Toss well and serve immediately.\\n**Not Suitable for People Who has Allergy**: Milk allergy / Lactose intolerance, Milk allergy / Lactose intolerance, Poultry Allergy, Poultry Allergy, Allium Allergy, Hypersensitivity]\\n\\n[**Food Name**: Spaghetti Carbonara (With a Difference)\\n**User Rating**: missing stars\\n**Food Category**: One Dish Meal\\n**Cook Time**: 0:10:00\\n**Preparation Time**: 0:15:00\\n**Ingredient Parts**: spaghetti, chicken broth, white wine, lemon juice, garlic clove, butter, salt, pepper, parmesan cheese, eggs\\n**Ingredient Quantities**: 1, 1/2, 2, 1, 1/2, 4, 1, 1/2, 3/4, 2\\n**Nutrition**:\\n- Calories: 533.2 cals\\n- Carbohydrate: 58.0 g\\n- Protein: 19.4 g\\n- Fat: 24.1 g\\n- Saturated Fat: 13.4 g\\n- Fiber: 2.5 g\\n- Cholesterol: 128.0 mg\\n- Sodium: 902.0 mg\\n- Sugar: 1.7 g\\n**Serving**: 6.0 people\\n**Recipe Instruction**: Cook chicken broth, wine, garlic, butter, and bacon in skillet., Bring to a boil over medium heat., Meanwhile, cook spaghetti and drain, but DO NOT rinse.  Put back into pan., Add pepper and salt to spaghetti, then stir in the chicken broth mixture, coating spaghetti well., Beat eggs. Add eggs and parmesan cheese to spaghetti mixture.  Continue to stir until spaghetti is completely coated and eggs are set.  It should take about 1 minute.\\n**Not Suitable for People Who has Allergy**: Milk allergy / Lactose intolerance, Milk allergy / Lactose intolerance, Poultry Allergy, Poultry Allergy, Allium Allergy, Citrus Allergy]\\n\\n\\n\\n  Answer the given query. You can use both your knowledge and data in the snippets. If the some information is \\'missing\\' you can use your knowledge to fill in that question or leave out those information. The response should be in a readable format for recipe and home cook. Then ask user what else do you want to know.'}]}, {'role': 'assistant', 'content': [{'type': 'text', 'text': 'Spaghetti Alla Carbonara Recipe\\n\\nIngredients:\\n\\n* 1 pound spaghetti\\n* 4 ounces pancetta, cut into 1/2 inch cubes\\n* 1/4 cup olive oil\\n* 1/4 cup dry white wine\\n* 1/4 cup vermouth\\n* 2 large eggs\\n* 1/2 cup grated Parmesan cheese\\n* 1/4 teaspoon black pepper\\n* 1/4 cup heavy cream\\n* 1/8 teaspoon nutmeg\\n\\nInstructions:\\n\\n1. Bring a large pot of salted water to a boil. Cook the spaghetti according to the package instructions until al dente. Reserve 1/2 cup of the pasta water before draining.\\n2. In a large skillet, cook the pancetta cubes over medium heat until crispy but not crunchy.\\n3. Add the white wine and vermouth to the skillet and cook until the liquid has reduced to a small amount.\\n4. Remove the skillet from the heat and add the drained pasta, tossing well to coat with the syrupy pancetta.\\n5. Add a little of the reserved pasta water to the skillet if necessary to lubricate.\\n6. In a bowl, beat together the eggs, Parmesan cheese, heavy cream, and black pepper.\\n7. Add the egg mixture to the skillet and toss everything together until the eggs are cooked and the cheese is melted.\\n8. Grind over some more black pepper and grate over the nutmeg.\\n9. Serve immediately.\\n\\nNotes:\\n\\n* This recipe is not suitable for people with milk allergy / lactose intolerance, poultry allergy, or olive oil allergy.\\n* The serving size is for two people.\\n\\nWhat else would you like to know about this recipe? </s>'}]}, {'role': 'user', 'content': [{'type': 'text', 'text': \"Given the query: 'Can you give me the nutrition summary of the meal that you recommended.' and the following relevant snippets:\\n\\n  There is no context. Please use your knowledge.\\n\\n  Answer the given query. You can use both your knowledge and data in the snippet. If the some information is 'missing' you can use your knowledge to fill in that question or leave out those information. The response should be in a readable format for nutrition summary. Then ask user what else do you want to know.\"}]}]\n",
            "image_list\n",
            "[<PIL.JpegImagePlugin.JpegImageFile image mode=RGB size=650x975 at 0x7AD234551750>]\n",
            "Setting `pad_token_id` to `eos_token_id`:2 for open-end generation.\n",
            "done import\n",
            "finished load 6.4849853515625e-05\n"
          ]
        }
      ],
      "source": [
        "!streamlit run app.py & npx localtunnel --port 8501"
      ]
    }
  ],
  "metadata": {
    "accelerator": "GPU",
    "colab": {
      "collapsed_sections": [
        "TNiWfN6KO6Ow"
      ],
      "gpuType": "T4",
      "provenance": [],
      "include_colab_link": true
    },
    "kernelspec": {
      "display_name": "Python 3",
      "name": "python3"
    },
    "language_info": {
      "name": "python"
    }
  },
  "nbformat": 4,
  "nbformat_minor": 0
}
