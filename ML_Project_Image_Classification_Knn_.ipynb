{
  "cells": [
    {
      "cell_type": "markdown",
      "metadata": {
        "id": "view-in-github",
        "colab_type": "text"
      },
      "source": [
        "<a href=\"https://colab.research.google.com/github/Seng-Pan/ml_project/blob/main/ML_Project_Image_Classification_Knn_.ipynb\" target=\"_parent\"><img src=\"https://colab.research.google.com/assets/colab-badge.svg\" alt=\"Open In Colab\"/></a>"
      ]
    },
    {
      "cell_type": "code",
      "execution_count": 1,
      "metadata": {
        "colab": {
          "base_uri": "https://localhost:8080/"
        },
        "id": "-Ha8Hs5wVGaG",
        "outputId": "edfddc3c-df3e-41c2-c732-d1ecd0e42e32"
      },
      "outputs": [
        {
          "output_type": "stream",
          "name": "stdout",
          "text": [
            "Requirement already satisfied: tensorflow in /usr/local/lib/python3.11/dist-packages (2.18.0)\n",
            "Requirement already satisfied: absl-py>=1.0.0 in /usr/local/lib/python3.11/dist-packages (from tensorflow) (1.4.0)\n",
            "Requirement already satisfied: astunparse>=1.6.0 in /usr/local/lib/python3.11/dist-packages (from tensorflow) (1.6.3)\n",
            "Requirement already satisfied: flatbuffers>=24.3.25 in /usr/local/lib/python3.11/dist-packages (from tensorflow) (25.2.10)\n",
            "Requirement already satisfied: gast!=0.5.0,!=0.5.1,!=0.5.2,>=0.2.1 in /usr/local/lib/python3.11/dist-packages (from tensorflow) (0.6.0)\n",
            "Requirement already satisfied: google-pasta>=0.1.1 in /usr/local/lib/python3.11/dist-packages (from tensorflow) (0.2.0)\n",
            "Requirement already satisfied: libclang>=13.0.0 in /usr/local/lib/python3.11/dist-packages (from tensorflow) (18.1.1)\n",
            "Requirement already satisfied: opt-einsum>=2.3.2 in /usr/local/lib/python3.11/dist-packages (from tensorflow) (3.4.0)\n",
            "Requirement already satisfied: packaging in /usr/local/lib/python3.11/dist-packages (from tensorflow) (24.2)\n",
            "Requirement already satisfied: protobuf!=4.21.0,!=4.21.1,!=4.21.2,!=4.21.3,!=4.21.4,!=4.21.5,<6.0.0dev,>=3.20.3 in /usr/local/lib/python3.11/dist-packages (from tensorflow) (5.29.4)\n",
            "Requirement already satisfied: requests<3,>=2.21.0 in /usr/local/lib/python3.11/dist-packages (from tensorflow) (2.32.3)\n",
            "Requirement already satisfied: setuptools in /usr/local/lib/python3.11/dist-packages (from tensorflow) (75.2.0)\n",
            "Requirement already satisfied: six>=1.12.0 in /usr/local/lib/python3.11/dist-packages (from tensorflow) (1.17.0)\n",
            "Requirement already satisfied: termcolor>=1.1.0 in /usr/local/lib/python3.11/dist-packages (from tensorflow) (3.1.0)\n",
            "Requirement already satisfied: typing-extensions>=3.6.6 in /usr/local/lib/python3.11/dist-packages (from tensorflow) (4.13.2)\n",
            "Requirement already satisfied: wrapt>=1.11.0 in /usr/local/lib/python3.11/dist-packages (from tensorflow) (1.17.2)\n",
            "Requirement already satisfied: grpcio<2.0,>=1.24.3 in /usr/local/lib/python3.11/dist-packages (from tensorflow) (1.71.0)\n",
            "Requirement already satisfied: tensorboard<2.19,>=2.18 in /usr/local/lib/python3.11/dist-packages (from tensorflow) (2.18.0)\n",
            "Requirement already satisfied: keras>=3.5.0 in /usr/local/lib/python3.11/dist-packages (from tensorflow) (3.8.0)\n",
            "Requirement already satisfied: numpy<2.1.0,>=1.26.0 in /usr/local/lib/python3.11/dist-packages (from tensorflow) (2.0.2)\n",
            "Requirement already satisfied: h5py>=3.11.0 in /usr/local/lib/python3.11/dist-packages (from tensorflow) (3.13.0)\n",
            "Requirement already satisfied: ml-dtypes<0.5.0,>=0.4.0 in /usr/local/lib/python3.11/dist-packages (from tensorflow) (0.4.1)\n",
            "Requirement already satisfied: tensorflow-io-gcs-filesystem>=0.23.1 in /usr/local/lib/python3.11/dist-packages (from tensorflow) (0.37.1)\n",
            "Requirement already satisfied: wheel<1.0,>=0.23.0 in /usr/local/lib/python3.11/dist-packages (from astunparse>=1.6.0->tensorflow) (0.45.1)\n",
            "Requirement already satisfied: rich in /usr/local/lib/python3.11/dist-packages (from keras>=3.5.0->tensorflow) (13.9.4)\n",
            "Requirement already satisfied: namex in /usr/local/lib/python3.11/dist-packages (from keras>=3.5.0->tensorflow) (0.0.9)\n",
            "Requirement already satisfied: optree in /usr/local/lib/python3.11/dist-packages (from keras>=3.5.0->tensorflow) (0.15.0)\n",
            "Requirement already satisfied: charset-normalizer<4,>=2 in /usr/local/lib/python3.11/dist-packages (from requests<3,>=2.21.0->tensorflow) (3.4.1)\n",
            "Requirement already satisfied: idna<4,>=2.5 in /usr/local/lib/python3.11/dist-packages (from requests<3,>=2.21.0->tensorflow) (3.10)\n",
            "Requirement already satisfied: urllib3<3,>=1.21.1 in /usr/local/lib/python3.11/dist-packages (from requests<3,>=2.21.0->tensorflow) (2.4.0)\n",
            "Requirement already satisfied: certifi>=2017.4.17 in /usr/local/lib/python3.11/dist-packages (from requests<3,>=2.21.0->tensorflow) (2025.4.26)\n",
            "Requirement already satisfied: markdown>=2.6.8 in /usr/local/lib/python3.11/dist-packages (from tensorboard<2.19,>=2.18->tensorflow) (3.8)\n",
            "Requirement already satisfied: tensorboard-data-server<0.8.0,>=0.7.0 in /usr/local/lib/python3.11/dist-packages (from tensorboard<2.19,>=2.18->tensorflow) (0.7.2)\n",
            "Requirement already satisfied: werkzeug>=1.0.1 in /usr/local/lib/python3.11/dist-packages (from tensorboard<2.19,>=2.18->tensorflow) (3.1.3)\n",
            "Requirement already satisfied: MarkupSafe>=2.1.1 in /usr/local/lib/python3.11/dist-packages (from werkzeug>=1.0.1->tensorboard<2.19,>=2.18->tensorflow) (3.0.2)\n",
            "Requirement already satisfied: markdown-it-py>=2.2.0 in /usr/local/lib/python3.11/dist-packages (from rich->keras>=3.5.0->tensorflow) (3.0.0)\n",
            "Requirement already satisfied: pygments<3.0.0,>=2.13.0 in /usr/local/lib/python3.11/dist-packages (from rich->keras>=3.5.0->tensorflow) (2.19.1)\n",
            "Requirement already satisfied: mdurl~=0.1 in /usr/local/lib/python3.11/dist-packages (from markdown-it-py>=2.2.0->rich->keras>=3.5.0->tensorflow) (0.1.2)\n"
          ]
        }
      ],
      "source": [
        "!pip install tensorflow"
      ]
    },
    {
      "cell_type": "code",
      "execution_count": 2,
      "metadata": {
        "id": "VwgvcaKJR0m4"
      },
      "outputs": [],
      "source": [
        "import numpy as np\n",
        "import matplotlib.pyplot as plt\n",
        "from sklearn.neighbors import KNeighborsClassifier\n",
        "from sklearn.metrics import (accuracy_score, classification_report, confusion_matrix, precision_score, recall_score, f1_score, precision_recall_fscore_support)\n",
        "from sklearn.model_selection import GridSearchCV, RandomizedSearchCV, StratifiedKFold\n",
        "from sklearn.decomposition import PCA\n",
        "from sklearn.preprocessing import StandardScaler\n",
        "import time\n",
        "import pickle\n",
        "import os\n",
        "import json\n",
        "from pathlib import Path\n",
        "from tensorflow.keras.datasets import cifar100\n",
        "from scipy.stats import randint"
      ]
    },
    {
      "cell_type": "code",
      "execution_count": 3,
      "metadata": {
        "colab": {
          "base_uri": "https://localhost:8080/"
        },
        "id": "8-rjIVFovi7f",
        "outputId": "8c150d60-7c91-4613-ff32-51f9704c9587"
      },
      "outputs": [
        {
          "output_type": "stream",
          "name": "stdout",
          "text": [
            "Mounted at /content/drive\n"
          ]
        }
      ],
      "source": [
        "from google.colab import drive\n",
        "drive.mount('/content/drive')\n",
        "\n",
        "base_path = Path(\"/content/drive/MyDrive/ml_project\")"
      ]
    },
    {
      "cell_type": "markdown",
      "metadata": {
        "id": "UAMwfvk2gD6S"
      },
      "source": [
        "Load Dataset"
      ]
    },
    {
      "cell_type": "code",
      "execution_count": 4,
      "metadata": {
        "id": "9rVO8pzKzcgf"
      },
      "outputs": [],
      "source": [
        "def check_data_validity(X, name='Data'):\n",
        "    \"\"\"Check for NaNs, Infs, or unusually large values in the data.\"\"\"\n",
        "    if np.isnan(X).any():\n",
        "        print(f\"⚠️ {name} contains NaN values.\")\n",
        "    if np.isinf(X).any():\n",
        "        print(f\"⚠️ {name} contains Inf values.\")\n",
        "    if np.any(np.abs(X) > 1e10):\n",
        "        print(f\"⚠️ {name} contains unusually large values.\")"
      ]
    },
    {
      "cell_type": "code",
      "execution_count": 5,
      "metadata": {
        "id": "WZgdQI4P2veM"
      },
      "outputs": [],
      "source": [
        "def load_and_preprocess_data():\n",
        "    print(\"Loading CIFAR-100 dataset...\")\n",
        "    (X_train, y_train), (X_test, y_test) = cifar100.load_data(label_mode='fine')\n",
        "    y_train = y_train.reshape(-1)\n",
        "    y_test = y_test.reshape(-1)\n",
        "\n",
        "    X_train = X_train.reshape(X_train.shape[0], -1).astype('float32') / 255.0\n",
        "    X_test = X_test.reshape(X_test.shape[0], -1).astype('float32') / 255.0\n",
        "\n",
        "    print(f\"Data loaded and preprocessed.\")\n",
        "    print(f\"Training data shape: {X_train.shape}\")\n",
        "    print(f\"Testing data shape: {X_test.shape}\")\n",
        "    print(f\"Number of classes: {len(np.unique(y_train))}\")\n",
        "\n",
        "    return X_train, y_train, X_test, y_test\n"
      ]
    },
    {
      "cell_type": "code",
      "execution_count": 6,
      "metadata": {
        "id": "R0lk5QcuVscv"
      },
      "outputs": [],
      "source": [
        "def apply_pca(X_train, X_test, n_components=100):\n",
        "    print(f\"Applying PCA to reduce dimensions to {n_components}...\")\n",
        "\n",
        "    scaler = StandardScaler()\n",
        "    X_train_scaled = scaler.fit_transform(X_train)\n",
        "    X_test_scaled = scaler.transform(X_test)\n",
        "\n",
        "    check_data_validity(X_train_scaled, name=\"X_train_scaled\")\n",
        "\n",
        "    pca = PCA(n_components=n_components, random_state=42)\n",
        "    X_train_pca = pca.fit_transform(X_train_scaled)\n",
        "    X_test_pca = pca.transform(X_test_scaled)\n",
        "\n",
        "    check_data_validity(X_train_pca, name=\"X_train_pca\")\n",
        "    check_data_validity(X_test_pca, name=\"X_test_pca\")\n",
        "\n",
        "    X_train_pca = np.nan_to_num(X_train_pca, nan=0.0, posinf=0.0, neginf=0.0)\n",
        "    X_test_pca = np.nan_to_num(X_test_pca, nan=0.0, posinf=0.0, neginf=0.0)\n",
        "\n",
        "    explained_variance = np.sum(pca.explained_variance_ratio_) * 100\n",
        "    print(f\"Explained variance with {n_components} components: {explained_variance:.2f}%\")\n",
        "\n",
        "    return X_train_pca, X_test_pca, pca, scaler"
      ]
    },
    {
      "cell_type": "code",
      "execution_count": 7,
      "metadata": {
        "id": "I5c3iACdsdeK"
      },
      "outputs": [],
      "source": [
        "def calculate_far_tar(y_true, y_pred):\n",
        "    cm = confusion_matrix(y_true, y_pred)\n",
        "    far, tar = [], []\n",
        "\n",
        "    for i in range(len(cm)):\n",
        "        tp = cm[i,i]\n",
        "        fp = sum(cm[:,i]) - tp\n",
        "        tn = sum(sum(cm)) - sum(cm[i,:]) - sum(cm[:,i]) + tp\n",
        "        fn = sum(cm[i,:]) - tp\n",
        "\n",
        "        far_class = fp / (fp + tn) if (fp + tn) > 0 else 0\n",
        "        tar_class = tp / (tp + fn) if (tp + fn) > 0 else 0\n",
        "\n",
        "        far.append(far_class)\n",
        "        tar.append(tar_class)\n",
        "\n",
        "    return np.mean(far), np.mean(tar)"
      ]
    },
    {
      "cell_type": "code",
      "execution_count": 8,
      "metadata": {
        "id": "Uq1hwonQWExF"
      },
      "outputs": [],
      "source": [
        "def train_knn(X_train, y_train, X_test, y_test, use_grid_search=False):\n",
        "    print(\"\\nTraining KNN classifier...\")\n",
        "    start_time = time.time()\n",
        "\n",
        "    check_data_validity(X_train, name=\"Final X_train before KNN\")\n",
        "\n",
        "    cv = StratifiedKFold(n_splits=3, shuffle=True, random_state=42)\n",
        "\n",
        "    if use_grid_search:\n",
        "        param_grid = {\n",
        "            'n_neighbors': [3, 5, 7, 9, 11, 15],\n",
        "            'weights': ['uniform', 'distance'],\n",
        "            'algorithm': ['auto', 'ball_tree', 'kd_tree'],\n",
        "            'p': [1, 2],\n",
        "            'leaf_size': [10, 20, 30, 50]\n",
        "        }\n",
        "        knn = GridSearchCV(KNeighborsClassifier(), param_grid, cv=cv, n_jobs=-1, verbose=1, scoring='accuracy', return_train_score=True)\n",
        "    else:\n",
        "        param_dist = {\n",
        "            'n_neighbors': randint(1, 20),\n",
        "            'weights': ['uniform', 'distance'],\n",
        "            'algorithm': ['auto', 'ball_tree', 'kd_tree'],\n",
        "            'p': [1, 2],\n",
        "            'leaf_size': randint(10, 50)\n",
        "        }\n",
        "        knn = RandomizedSearchCV(KNeighborsClassifier(), param_distributions=param_dist, n_iter=20, cv=cv, n_jobs=-1, verbose=2, random_state=42, scoring='accuracy', return_train_score=True)\n",
        "\n",
        "    knn.fit(X_train, y_train)\n",
        "    training_time = time.time() - start_time\n",
        "\n",
        "    y_pred = knn.best_estimator_.predict(X_test)\n",
        "\n",
        "    accuracy = accuracy_score(y_test, y_pred)\n",
        "    precision = precision_score(y_test, y_pred, average='weighted', zero_division=0)\n",
        "    recall = recall_score(y_test, y_pred, average='weighted', zero_division=0)\n",
        "    f1 = f1_score(y_test, y_pred, average='weighted', zero_division=0)\n",
        "    far, tar = calculate_far_tar(y_test, y_pred)\n",
        "\n",
        "    print(\"\\nTest set metrics:\")\n",
        "    print(f\"Accuracy: {accuracy:.4f}\")\n",
        "    print(f\"Precision: {precision:.4f}\")\n",
        "    print(f\"Recall: {recall:.4f}\")\n",
        "    print(f\"F1 Score: {f1:.4f}\")\n",
        "    print(f\"FAR: {far:.4f}\")\n",
        "    print(f\"TAR: {tar:.4f}\")\n",
        "\n",
        "    print(\"\\nClassification Report:\")\n",
        "    print(classification_report(y_test, y_pred, zero_division=0))\n",
        "\n",
        "    return knn.best_estimator_, {\n",
        "        'accuracy': accuracy, 'precision': precision, 'recall': recall, 'f1_score': f1,\n",
        "        'far': far, 'tar': tar, 'training_time': training_time,\n",
        "        'best_params': knn.best_params_, 'cv_results': knn.cv_results_\n",
        "    }\n"
      ]
    },
    {
      "cell_type": "code",
      "execution_count": 9,
      "metadata": {
        "id": "8JmKz--oHYeJ"
      },
      "outputs": [],
      "source": [
        "def make_serializable(obj):\n",
        "    if isinstance(obj, dict):\n",
        "        return {k: make_serializable(v) for k, v in obj.items()}\n",
        "    elif isinstance(obj, np.ndarray):\n",
        "        return obj.tolist()\n",
        "    elif isinstance(obj, (np.float32, np.float64)):\n",
        "        return float(obj)\n",
        "    elif isinstance(obj, (np.int32, np.int64)):\n",
        "        return int(obj)\n",
        "    elif isinstance(obj, (list, tuple)):\n",
        "        return [make_serializable(v) for v in obj]\n",
        "    else:\n",
        "        return obj\n",
        "\n",
        "def save_model_and_metrics(model, metrics, pca, scaler):\n",
        "    if not os.path.exists(base_path):\n",
        "        os.makedirs(base_path)\n",
        "\n",
        "    # Save model\n",
        "    with open(Path(base_path / 'knn_model.pkl'), 'wb') as f:\n",
        "        pickle.dump(model, f)\n",
        "\n",
        "    # Save PCA and scaler\n",
        "    with open(Path(base_path / 'pca.pkl'), 'wb') as f:\n",
        "        pickle.dump(pca, f)\n",
        "    with open(Path(base_path / 'scaler.pkl'), 'wb') as f:\n",
        "        pickle.dump(scaler, f)\n",
        "\n",
        "    serializable_metrics = make_serializable(metrics)\n",
        "    with open(base_path / 'metrics.json', 'w') as f:\n",
        "        json.dump(serializable_metrics, f, indent=4)\n",
        "\n",
        "    print(\"Model and metrics saved.\")"
      ]
    },
    {
      "cell_type": "code",
      "execution_count": 23,
      "metadata": {
        "id": "rKC71rp0WReH"
      },
      "outputs": [],
      "source": [
        "def plot_results(metrics):\n",
        "    keys = ['accuracy', 'precision', 'recall', 'f1_score', 'tar', 'far']\n",
        "    labels = ['Accuracy', 'Precision', 'Recall', 'F1 Score', 'TAR', 'FAR']\n",
        "    values = [metrics[k] for k in keys]\n",
        "\n",
        "    plt.figure(figsize=(10, 6))\n",
        "    bars = plt.bar(labels, values, color=['blue', 'green', 'orange', 'red', 'purple', 'brown'])\n",
        "    for bar in bars:\n",
        "        yval = bar.get_height()\n",
        "        plt.text(bar.get_x() + bar.get_width()/2.0, yval, f'{yval:.4f}', ha='center', va='bottom')\n",
        "\n",
        "    plt.title('KNN Classifier Performance Metrics')\n",
        "    plt.ylim(0, 1.1)\n",
        "    plt.grid(True, axis='y', linestyle='--', alpha=0.7)\n",
        "    plt.tight_layout()\n",
        "    plt.savefig(base_path / 'metrics_plot.png')\n",
        "    plt.show()\n"
      ]
    },
    {
      "cell_type": "markdown",
      "metadata": {
        "id": "WbxyliiwYBfU"
      },
      "source": [
        "### main test"
      ]
    },
    {
      "cell_type": "code",
      "execution_count": 11,
      "metadata": {
        "id": "qekM6MN7WRjB"
      },
      "outputs": [],
      "source": [
        "def main(use_subset=True, pca_components=100, use_grid_search=False):\n",
        "    \"\"\"Main function to orchestrate the workflow\"\"\"\n",
        "\n",
        "    X_train, y_train, X_test, y_test = load_and_preprocess_data()\n",
        "\n",
        "    # If using a subset for faster execution (during development)\n",
        "    if use_subset:\n",
        "        X_train, y_train = X_train[:10000], y_train[:10000]\n",
        "        X_test, y_test = X_test[:2000], y_test[:2000]\n",
        "\n",
        "    # Apply PCA for dimensionality reduction\n",
        "    X_train_pca, X_test_pca, pca, scaler = apply_pca(X_train, X_test, n_components=pca_components)\n",
        "\n",
        "    # Train and evaluate KNN\n",
        "    knn_model, metrics = train_knn(X_train_pca, y_train, X_test_pca, y_test, use_grid_search)\n",
        "\n",
        "    # Save model and metrics\n",
        "    save_model_and_metrics(knn_model, metrics, pca, scaler)\n",
        "\n",
        "    # Plot results\n",
        "    plot_results(metrics)\n",
        "\n",
        "    print(\"\\nTraining and evaluation completed!\")\n",
        "\n",
        "    return knn_model, metrics\n"
      ]
    },
    {
      "cell_type": "code",
      "execution_count": 12,
      "metadata": {
        "colab": {
          "base_uri": "https://localhost:8080/",
          "height": 1000
        },
        "id": "I3KkrryrX4fX",
        "outputId": "b318d927-e4e4-4a05-8612-0c83afe7715b"
      },
      "outputs": [
        {
          "output_type": "stream",
          "name": "stdout",
          "text": [
            "Loading CIFAR-100 dataset...\n",
            "Downloading data from https://www.cs.toronto.edu/~kriz/cifar-100-python.tar.gz\n",
            "\u001b[1m169001437/169001437\u001b[0m \u001b[32m━━━━━━━━━━━━━━━━━━━━\u001b[0m\u001b[37m\u001b[0m \u001b[1m2s\u001b[0m 0us/step\n",
            "Data loaded and preprocessed.\n",
            "Training data shape: (50000, 3072)\n",
            "Testing data shape: (10000, 3072)\n",
            "Number of classes: 100\n",
            "Applying PCA to reduce dimensions to 200...\n",
            "Explained variance with 200 components: 94.98%\n",
            "\n",
            "Training KNN classifier...\n",
            "Fitting 3 folds for each of 288 candidates, totalling 864 fits\n",
            "\n",
            "Test set metrics:\n",
            "Accuracy: 0.1350\n",
            "Precision: 0.1861\n",
            "Recall: 0.1350\n",
            "F1 Score: 0.1267\n",
            "FAR: 0.0087\n",
            "TAR: 0.1370\n",
            "\n",
            "Classification Report:\n",
            "              precision    recall  f1-score   support\n",
            "\n",
            "           0       0.37      0.35      0.36        20\n",
            "           1       0.00      0.00      0.00        19\n",
            "           2       0.00      0.00      0.00        24\n",
            "           3       0.50      0.05      0.08        22\n",
            "           4       0.12      0.43      0.18        14\n",
            "           5       0.25      0.06      0.09        18\n",
            "           6       0.50      0.04      0.08        23\n",
            "           7       0.00      0.00      0.00        24\n",
            "           8       0.25      0.14      0.18        21\n",
            "           9       0.32      0.27      0.29        22\n",
            "          10       0.20      0.08      0.11        25\n",
            "          11       0.00      0.00      0.00        21\n",
            "          12       0.33      0.04      0.07        24\n",
            "          13       0.00      0.00      0.00        17\n",
            "          14       0.50      0.07      0.12        14\n",
            "          15       0.25      0.04      0.07        23\n",
            "          16       0.47      0.33      0.39        21\n",
            "          17       0.00      0.00      0.00        23\n",
            "          18       0.05      0.05      0.05        20\n",
            "          19       0.00      0.00      0.00        21\n",
            "          20       0.56      0.25      0.34        20\n",
            "          21       0.50      0.19      0.28        26\n",
            "          22       0.29      0.16      0.21        25\n",
            "          23       0.08      0.18      0.11        17\n",
            "          24       0.30      0.55      0.39        20\n",
            "          25       0.00      0.00      0.00        23\n",
            "          26       0.00      0.00      0.00        21\n",
            "          27       0.02      0.05      0.03        20\n",
            "          28       0.38      0.19      0.26        26\n",
            "          29       0.00      0.00      0.00        22\n",
            "          30       0.09      0.11      0.10        19\n",
            "          31       0.09      0.05      0.07        19\n",
            "          32       0.00      0.00      0.00        17\n",
            "          33       0.10      0.25      0.14        24\n",
            "          34       0.17      0.18      0.17        17\n",
            "          35       0.00      0.00      0.00        16\n",
            "          36       0.19      0.11      0.14        27\n",
            "          37       0.00      0.00      0.00        24\n",
            "          38       0.06      0.19      0.10        21\n",
            "          39       0.22      0.12      0.15        17\n",
            "          40       0.40      0.11      0.17        18\n",
            "          41       0.93      0.59      0.72        22\n",
            "          42       0.11      0.15      0.12        20\n",
            "          43       0.25      0.10      0.14        20\n",
            "          44       0.02      0.12      0.04        16\n",
            "          45       0.00      0.00      0.00        20\n",
            "          46       0.67      0.10      0.17        20\n",
            "          47       0.20      0.17      0.18        24\n",
            "          48       1.00      0.12      0.22        16\n",
            "          49       0.00      0.00      0.00        21\n",
            "          50       0.03      0.06      0.04        17\n",
            "          51       0.00      0.00      0.00        19\n",
            "          52       0.34      0.60      0.44        20\n",
            "          53       0.58      0.27      0.37        26\n",
            "          54       0.33      0.05      0.08        21\n",
            "          55       0.00      0.00      0.00        21\n",
            "          56       0.14      0.05      0.07        20\n",
            "          57       0.33      0.26      0.29        19\n",
            "          58       0.00      0.00      0.00        20\n",
            "          59       0.05      0.06      0.05        17\n",
            "          60       0.09      0.47      0.15        17\n",
            "          61       0.12      0.32      0.18        19\n",
            "          62       0.30      0.38      0.33        16\n",
            "          63       0.10      0.33      0.16        21\n",
            "          64       0.06      0.05      0.05        22\n",
            "          65       0.09      0.12      0.11        24\n",
            "          66       0.09      0.05      0.06        20\n",
            "          67       0.11      0.20      0.15        20\n",
            "          68       0.08      0.10      0.09        21\n",
            "          69       0.25      0.20      0.22        20\n",
            "          70       0.38      0.18      0.24        17\n",
            "          71       0.13      0.76      0.22        17\n",
            "          72       0.20      0.06      0.09        17\n",
            "          73       0.16      0.23      0.19        13\n",
            "          74       0.00      0.00      0.00        11\n",
            "          75       0.25      0.20      0.22        10\n",
            "          76       0.30      0.25      0.27        24\n",
            "          77       0.00      0.00      0.00        22\n",
            "          78       0.08      0.05      0.06        22\n",
            "          79       0.01      0.11      0.02        18\n",
            "          80       0.00      0.00      0.00        19\n",
            "          81       0.50      0.04      0.08        24\n",
            "          82       0.56      0.26      0.36        19\n",
            "          83       0.25      0.04      0.07        23\n",
            "          84       0.00      0.00      0.00        17\n",
            "          85       0.00      0.00      0.00        15\n",
            "          86       0.29      0.13      0.18        15\n",
            "          87       0.00      0.00      0.00        14\n",
            "          88       0.00      0.00      0.00        22\n",
            "          89       0.00      0.00      0.00        20\n",
            "          90       0.00      0.00      0.00        22\n",
            "          91       0.27      0.30      0.29        20\n",
            "          92       0.00      0.00      0.00        20\n",
            "          93       0.00      0.00      0.00        22\n",
            "          94       0.20      0.47      0.28        19\n",
            "          95       0.33      0.21      0.26        19\n",
            "          96       0.15      0.28      0.19        25\n",
            "          97       0.38      0.18      0.24        17\n",
            "          98       0.00      0.00      0.00        22\n",
            "          99       0.09      0.38      0.15        21\n",
            "\n",
            "    accuracy                           0.14      2000\n",
            "   macro avg       0.18      0.14      0.13      2000\n",
            "weighted avg       0.19      0.14      0.13      2000\n",
            "\n",
            "Model and metrics saved.\n"
          ]
        },
        {
          "output_type": "error",
          "ename": "KeyError",
          "evalue": "'f1 score'",
          "traceback": [
            "\u001b[0;31m---------------------------------------------------------------------------\u001b[0m",
            "\u001b[0;31mKeyError\u001b[0m                                  Traceback (most recent call last)",
            "\u001b[0;32m<ipython-input-12-48010c1f020e>\u001b[0m in \u001b[0;36m<cell line: 0>\u001b[0;34m()\u001b[0m\n\u001b[1;32m      4\u001b[0m     \u001b[0mPCA_COMPONENTS\u001b[0m \u001b[0;34m=\u001b[0m \u001b[0;36m200\u001b[0m\u001b[0;34m\u001b[0m\u001b[0;34m\u001b[0m\u001b[0m\n\u001b[1;32m      5\u001b[0m \u001b[0;34m\u001b[0m\u001b[0m\n\u001b[0;32m----> 6\u001b[0;31m     \u001b[0mknn_model\u001b[0m\u001b[0;34m,\u001b[0m \u001b[0mmetrics\u001b[0m \u001b[0;34m=\u001b[0m \u001b[0mmain\u001b[0m\u001b[0;34m(\u001b[0m\u001b[0muse_subset\u001b[0m\u001b[0;34m=\u001b[0m\u001b[0mUSE_SUBSET\u001b[0m\u001b[0;34m,\u001b[0m \u001b[0mpca_components\u001b[0m\u001b[0;34m=\u001b[0m\u001b[0mPCA_COMPONENTS\u001b[0m\u001b[0;34m,\u001b[0m \u001b[0muse_grid_search\u001b[0m\u001b[0;34m=\u001b[0m\u001b[0mUSE_GRID_SEARCH\u001b[0m\u001b[0;34m)\u001b[0m\u001b[0;34m\u001b[0m\u001b[0;34m\u001b[0m\u001b[0m\n\u001b[0m\u001b[1;32m      7\u001b[0m \u001b[0;34m\u001b[0m\u001b[0m\n\u001b[1;32m      8\u001b[0m     \u001b[0;32mdef\u001b[0m \u001b[0mmake_serializable\u001b[0m\u001b[0;34m(\u001b[0m\u001b[0mobj\u001b[0m\u001b[0;34m)\u001b[0m\u001b[0;34m:\u001b[0m\u001b[0;34m\u001b[0m\u001b[0;34m\u001b[0m\u001b[0m\n",
            "\u001b[0;32m<ipython-input-11-10680742380e>\u001b[0m in \u001b[0;36mmain\u001b[0;34m(use_subset, pca_components, use_grid_search)\u001b[0m\n\u001b[1;32m     19\u001b[0m \u001b[0;34m\u001b[0m\u001b[0m\n\u001b[1;32m     20\u001b[0m     \u001b[0;31m# Plot results\u001b[0m\u001b[0;34m\u001b[0m\u001b[0;34m\u001b[0m\u001b[0m\n\u001b[0;32m---> 21\u001b[0;31m     \u001b[0mplot_results\u001b[0m\u001b[0;34m(\u001b[0m\u001b[0mmetrics\u001b[0m\u001b[0;34m)\u001b[0m\u001b[0;34m\u001b[0m\u001b[0;34m\u001b[0m\u001b[0m\n\u001b[0m\u001b[1;32m     22\u001b[0m \u001b[0;34m\u001b[0m\u001b[0m\n\u001b[1;32m     23\u001b[0m     \u001b[0mprint\u001b[0m\u001b[0;34m(\u001b[0m\u001b[0;34m\"\\nTraining and evaluation completed!\"\u001b[0m\u001b[0;34m)\u001b[0m\u001b[0;34m\u001b[0m\u001b[0;34m\u001b[0m\u001b[0m\n",
            "\u001b[0;32m<ipython-input-10-e2b79b85ca88>\u001b[0m in \u001b[0;36mplot_results\u001b[0;34m(metrics)\u001b[0m\n\u001b[1;32m      1\u001b[0m \u001b[0;32mdef\u001b[0m \u001b[0mplot_results\u001b[0m\u001b[0;34m(\u001b[0m\u001b[0mmetrics\u001b[0m\u001b[0;34m)\u001b[0m\u001b[0;34m:\u001b[0m\u001b[0;34m\u001b[0m\u001b[0;34m\u001b[0m\u001b[0m\n\u001b[1;32m      2\u001b[0m     \u001b[0mnames\u001b[0m \u001b[0;34m=\u001b[0m \u001b[0;34m[\u001b[0m\u001b[0;34m'Accuracy'\u001b[0m\u001b[0;34m,\u001b[0m \u001b[0;34m'Precision'\u001b[0m\u001b[0;34m,\u001b[0m \u001b[0;34m'Recall'\u001b[0m\u001b[0;34m,\u001b[0m \u001b[0;34m'F1 Score'\u001b[0m\u001b[0;34m,\u001b[0m \u001b[0;34m'TAR'\u001b[0m\u001b[0;34m,\u001b[0m \u001b[0;34m'FAR'\u001b[0m\u001b[0;34m]\u001b[0m\u001b[0;34m\u001b[0m\u001b[0;34m\u001b[0m\u001b[0m\n\u001b[0;32m----> 3\u001b[0;31m     \u001b[0mvalues\u001b[0m \u001b[0;34m=\u001b[0m \u001b[0;34m[\u001b[0m\u001b[0mmetrics\u001b[0m\u001b[0;34m[\u001b[0m\u001b[0mn\u001b[0m\u001b[0;34m.\u001b[0m\u001b[0mlower\u001b[0m\u001b[0;34m(\u001b[0m\u001b[0;34m)\u001b[0m\u001b[0;34m]\u001b[0m \u001b[0;32mfor\u001b[0m \u001b[0mn\u001b[0m \u001b[0;32min\u001b[0m \u001b[0mnames\u001b[0m\u001b[0;34m[\u001b[0m\u001b[0;34m:\u001b[0m\u001b[0;34m-\u001b[0m\u001b[0;36m1\u001b[0m\u001b[0;34m]\u001b[0m\u001b[0;34m]\u001b[0m \u001b[0;34m+\u001b[0m \u001b[0;34m[\u001b[0m\u001b[0mmetrics\u001b[0m\u001b[0;34m[\u001b[0m\u001b[0;34m'far'\u001b[0m\u001b[0;34m]\u001b[0m\u001b[0;34m]\u001b[0m\u001b[0;34m\u001b[0m\u001b[0;34m\u001b[0m\u001b[0m\n\u001b[0m\u001b[1;32m      4\u001b[0m \u001b[0;34m\u001b[0m\u001b[0m\n\u001b[1;32m      5\u001b[0m     \u001b[0mplt\u001b[0m\u001b[0;34m.\u001b[0m\u001b[0mfigure\u001b[0m\u001b[0;34m(\u001b[0m\u001b[0mfigsize\u001b[0m\u001b[0;34m=\u001b[0m\u001b[0;34m(\u001b[0m\u001b[0;36m10\u001b[0m\u001b[0;34m,\u001b[0m \u001b[0;36m6\u001b[0m\u001b[0;34m)\u001b[0m\u001b[0;34m)\u001b[0m\u001b[0;34m\u001b[0m\u001b[0;34m\u001b[0m\u001b[0m\n",
            "\u001b[0;32m<ipython-input-10-e2b79b85ca88>\u001b[0m in \u001b[0;36m<listcomp>\u001b[0;34m(.0)\u001b[0m\n\u001b[1;32m      1\u001b[0m \u001b[0;32mdef\u001b[0m \u001b[0mplot_results\u001b[0m\u001b[0;34m(\u001b[0m\u001b[0mmetrics\u001b[0m\u001b[0;34m)\u001b[0m\u001b[0;34m:\u001b[0m\u001b[0;34m\u001b[0m\u001b[0;34m\u001b[0m\u001b[0m\n\u001b[1;32m      2\u001b[0m     \u001b[0mnames\u001b[0m \u001b[0;34m=\u001b[0m \u001b[0;34m[\u001b[0m\u001b[0;34m'Accuracy'\u001b[0m\u001b[0;34m,\u001b[0m \u001b[0;34m'Precision'\u001b[0m\u001b[0;34m,\u001b[0m \u001b[0;34m'Recall'\u001b[0m\u001b[0;34m,\u001b[0m \u001b[0;34m'F1 Score'\u001b[0m\u001b[0;34m,\u001b[0m \u001b[0;34m'TAR'\u001b[0m\u001b[0;34m,\u001b[0m \u001b[0;34m'FAR'\u001b[0m\u001b[0;34m]\u001b[0m\u001b[0;34m\u001b[0m\u001b[0;34m\u001b[0m\u001b[0m\n\u001b[0;32m----> 3\u001b[0;31m     \u001b[0mvalues\u001b[0m \u001b[0;34m=\u001b[0m \u001b[0;34m[\u001b[0m\u001b[0mmetrics\u001b[0m\u001b[0;34m[\u001b[0m\u001b[0mn\u001b[0m\u001b[0;34m.\u001b[0m\u001b[0mlower\u001b[0m\u001b[0;34m(\u001b[0m\u001b[0;34m)\u001b[0m\u001b[0;34m]\u001b[0m \u001b[0;32mfor\u001b[0m \u001b[0mn\u001b[0m \u001b[0;32min\u001b[0m \u001b[0mnames\u001b[0m\u001b[0;34m[\u001b[0m\u001b[0;34m:\u001b[0m\u001b[0;34m-\u001b[0m\u001b[0;36m1\u001b[0m\u001b[0;34m]\u001b[0m\u001b[0;34m]\u001b[0m \u001b[0;34m+\u001b[0m \u001b[0;34m[\u001b[0m\u001b[0mmetrics\u001b[0m\u001b[0;34m[\u001b[0m\u001b[0;34m'far'\u001b[0m\u001b[0;34m]\u001b[0m\u001b[0;34m]\u001b[0m\u001b[0;34m\u001b[0m\u001b[0;34m\u001b[0m\u001b[0m\n\u001b[0m\u001b[1;32m      4\u001b[0m \u001b[0;34m\u001b[0m\u001b[0m\n\u001b[1;32m      5\u001b[0m     \u001b[0mplt\u001b[0m\u001b[0;34m.\u001b[0m\u001b[0mfigure\u001b[0m\u001b[0;34m(\u001b[0m\u001b[0mfigsize\u001b[0m\u001b[0;34m=\u001b[0m\u001b[0;34m(\u001b[0m\u001b[0;36m10\u001b[0m\u001b[0;34m,\u001b[0m \u001b[0;36m6\u001b[0m\u001b[0;34m)\u001b[0m\u001b[0;34m)\u001b[0m\u001b[0;34m\u001b[0m\u001b[0;34m\u001b[0m\u001b[0m\n",
            "\u001b[0;31mKeyError\u001b[0m: 'f1 score'"
          ]
        }
      ],
      "source": [
        "if __name__ == \"__main__\":\n",
        "    USE_GRID_SEARCH = True\n",
        "    USE_SUBSET = True\n",
        "    PCA_COMPONENTS = 200\n",
        "\n",
        "    knn_model, metrics = main(use_subset=USE_SUBSET, pca_components=PCA_COMPONENTS, use_grid_search=USE_GRID_SEARCH)\n",
        "\n",
        "    def make_serializable(obj):\n",
        "        if isinstance(obj, np.ndarray):\n",
        "            return obj.tolist()\n",
        "        elif isinstance(obj, dict):\n",
        "            return {k: make_serializable(v) for k, v in obj.items()}\n",
        "        elif isinstance(obj, list):\n",
        "            return [make_serializable(i) for i in obj]\n",
        "        else:\n",
        "            return obj\n",
        "\n",
        "    serializable_metrics = make_serializable(metrics)\n",
        "    with open(Path(base_path / \"metrics.json\"), \"w\") as f:\n",
        "        json.dump(serializable_metrics, f)\n"
      ]
    },
    {
      "cell_type": "code",
      "source": [
        "with open(base_path / \"metrics.json\", \"r\") as f:\n",
        "    metrics = json.load(f)\n",
        "\n",
        "print(\"Saved metrics:\", metrics.keys())\n"
      ],
      "metadata": {
        "colab": {
          "base_uri": "https://localhost:8080/"
        },
        "id": "joTzwNYkjiBr",
        "outputId": "f2aea95b-53f9-4bfb-98a8-0f89231dfcce"
      },
      "execution_count": 22,
      "outputs": [
        {
          "output_type": "stream",
          "name": "stdout",
          "text": [
            "Saved metrics: dict_keys(['accuracy', 'precision', 'recall', 'f1_score', 'far', 'tar', 'training_time', 'best_params', 'cv_results'])\n"
          ]
        }
      ]
    },
    {
      "cell_type": "code",
      "source": [
        "def reload_saved_model_and_plot():\n",
        "\n",
        "    with open(base_path / \"metrics.json\", \"r\") as f:\n",
        "        metrics = json.load(f)\n",
        "\n",
        "    plot_results(metrics)\n",
        "\n",
        "    print(\"Metrics loaded and plotted successfully.\")\n",
        "\n",
        "if __name__ == \"__main__\":\n",
        "    reload_saved_model_and_plot()"
      ],
      "metadata": {
        "colab": {
          "base_uri": "https://localhost:8080/",
          "height": 625
        },
        "id": "ThufTaR6ijhu",
        "outputId": "f7fdea93-b498-4221-fa1c-ebec1e602ed5"
      },
      "execution_count": 24,
      "outputs": [
        {
          "output_type": "display_data",
          "data": {
            "text/plain": [
              "<Figure size 1000x600 with 1 Axes>"
            ],
            "image/png": "[encoded data removed]"
          },
          "metadata": {}
        },
        {
          "output_type": "stream",
          "name": "stdout",
          "text": [
            "Metrics loaded and plotted successfully.\n"
          ]
        }
      ]
    },
    {
      "cell_type": "code",
      "execution_count": 25,
      "metadata": {
        "id": "_kbcRUlJX4rZ"
      },
      "outputs": [],
      "source": [
        "from sklearn.metrics import classification_report, accuracy_score, confusion_matrix, ConfusionMatrixDisplay\n",
        "\n",
        "def load_model_and_evaluate(X_test_raw, y_test, base_path):\n",
        "    # Load saved objects\n",
        "    with open(Path(base_path) / 'knn_model.pkl', 'rb') as f:\n",
        "        knn_model = pickle.load(f)\n",
        "    with open(Path(base_path) / 'pca.pkl', 'rb') as f:\n",
        "        pca = pickle.load(f)\n",
        "    with open(Path(base_path) / 'scaler.pkl', 'rb') as f:\n",
        "        scaler = pickle.load(f)\n",
        "\n",
        "    # Preprocess test data\n",
        "    X_scaled = scaler.transform(X_test_raw)\n",
        "    X_pca = pca.transform(X_scaled)\n",
        "\n",
        "    # Predict and evaluate\n",
        "    y_pred = knn_model.predict(X_pca)\n",
        "\n",
        "    print(\"Accuracy:\", accuracy_score(y_test, y_pred))\n",
        "    print(\"Classification Report:\\n\", classification_report(y_test, y_pred))\n",
        "\n",
        "    return y_pred\n"
      ]
    },
    {
      "cell_type": "code",
      "source": [
        "X_train, y_train, X_test, y_test = load_and_preprocess_data()\n",
        "\n",
        "y_pred = load_model_and_evaluate(X_test, y_test, base_path)\n"
      ],
      "metadata": {
        "colab": {
          "base_uri": "https://localhost:8080/"
        },
        "id": "wGgSjl3zegOP",
        "outputId": "c7ee6fb8-fb82-4c01-f0ce-77c092525ccd"
      },
      "execution_count": 15,
      "outputs": [
        {
          "output_type": "stream",
          "name": "stdout",
          "text": [
            "Loading CIFAR-100 dataset...\n",
            "Data loaded and preprocessed.\n",
            "Training data shape: (50000, 3072)\n",
            "Testing data shape: (10000, 3072)\n",
            "Number of classes: 100\n",
            "Accuracy: 0.1264\n",
            "Classification Report:\n",
            "               precision    recall  f1-score   support\n",
            "\n",
            "           0       0.45      0.39      0.42       100\n",
            "           1       0.33      0.13      0.19       100\n",
            "           2       0.11      0.02      0.03       100\n",
            "           3       0.12      0.02      0.03       100\n",
            "           4       0.06      0.16      0.09       100\n",
            "           5       0.08      0.02      0.03       100\n",
            "           6       0.50      0.03      0.06       100\n",
            "           7       0.03      0.04      0.03       100\n",
            "           8       0.11      0.09      0.10       100\n",
            "           9       0.31      0.27      0.29       100\n",
            "          10       0.07      0.04      0.05       100\n",
            "          11       0.00      0.00      0.00       100\n",
            "          12       0.17      0.02      0.04       100\n",
            "          13       0.50      0.01      0.02       100\n",
            "          14       0.42      0.05      0.09       100\n",
            "          15       0.11      0.02      0.03       100\n",
            "          16       0.32      0.26      0.29       100\n",
            "          17       0.15      0.03      0.05       100\n",
            "          18       0.10      0.06      0.07       100\n",
            "          19       0.19      0.03      0.05       100\n",
            "          20       0.43      0.30      0.35       100\n",
            "          21       0.24      0.11      0.15       100\n",
            "          22       0.18      0.10      0.13       100\n",
            "          23       0.15      0.26      0.19       100\n",
            "          24       0.31      0.54      0.39       100\n",
            "          25       0.08      0.03      0.04       100\n",
            "          26       0.05      0.06      0.05       100\n",
            "          27       0.03      0.09      0.05       100\n",
            "          28       0.28      0.27      0.27       100\n",
            "          29       0.23      0.10      0.14       100\n",
            "          30       0.20      0.23      0.22       100\n",
            "          31       0.10      0.05      0.07       100\n",
            "          32       0.12      0.09      0.10       100\n",
            "          33       0.08      0.23      0.11       100\n",
            "          34       0.05      0.04      0.04       100\n",
            "          35       0.00      0.00      0.00       100\n",
            "          36       0.19      0.14      0.16       100\n",
            "          37       0.18      0.02      0.04       100\n",
            "          38       0.04      0.11      0.06       100\n",
            "          39       0.12      0.05      0.07       100\n",
            "          40       0.34      0.11      0.17       100\n",
            "          41       0.74      0.43      0.54       100\n",
            "          42       0.04      0.05      0.05       100\n",
            "          43       0.06      0.03      0.04       100\n",
            "          44       0.02      0.10      0.04       100\n",
            "          45       0.17      0.02      0.04       100\n",
            "          46       0.38      0.05      0.09       100\n",
            "          47       0.16      0.19      0.18       100\n",
            "          48       0.91      0.10      0.18       100\n",
            "          49       0.10      0.04      0.06       100\n",
            "          50       0.03      0.05      0.04       100\n",
            "          51       0.12      0.03      0.05       100\n",
            "          52       0.30      0.44      0.36       100\n",
            "          53       0.46      0.28      0.35       100\n",
            "          54       0.29      0.04      0.07       100\n",
            "          55       0.06      0.04      0.05       100\n",
            "          56       0.25      0.08      0.12       100\n",
            "          57       0.26      0.19      0.22       100\n",
            "          58       0.33      0.02      0.04       100\n",
            "          59       0.05      0.04      0.05       100\n",
            "          60       0.13      0.62      0.21       100\n",
            "          61       0.16      0.35      0.22       100\n",
            "          62       0.36      0.33      0.35       100\n",
            "          63       0.07      0.25      0.11       100\n",
            "          64       0.04      0.03      0.03       100\n",
            "          65       0.05      0.08      0.06       100\n",
            "          66       0.08      0.06      0.07       100\n",
            "          67       0.07      0.15      0.09       100\n",
            "          68       0.16      0.24      0.19       100\n",
            "          69       0.20      0.15      0.17       100\n",
            "          70       0.27      0.11      0.16       100\n",
            "          71       0.12      0.60      0.20       100\n",
            "          72       0.06      0.02      0.03       100\n",
            "          73       0.25      0.24      0.24       100\n",
            "          74       0.04      0.02      0.03       100\n",
            "          75       0.19      0.06      0.09       100\n",
            "          76       0.26      0.21      0.23       100\n",
            "          77       0.02      0.02      0.02       100\n",
            "          78       0.05      0.04      0.04       100\n",
            "          79       0.02      0.20      0.04       100\n",
            "          80       0.03      0.04      0.04       100\n",
            "          81       0.12      0.01      0.02       100\n",
            "          82       0.58      0.28      0.38       100\n",
            "          83       0.30      0.06      0.10       100\n",
            "          84       0.08      0.01      0.02       100\n",
            "          85       0.15      0.11      0.13       100\n",
            "          86       0.35      0.13      0.19       100\n",
            "          87       0.24      0.07      0.11       100\n",
            "          88       0.02      0.01      0.01       100\n",
            "          89       0.12      0.02      0.03       100\n",
            "          90       0.00      0.00      0.00       100\n",
            "          91       0.26      0.30      0.28       100\n",
            "          92       0.25      0.01      0.02       100\n",
            "          93       0.00      0.00      0.00       100\n",
            "          94       0.15      0.31      0.21       100\n",
            "          95       0.25      0.15      0.19       100\n",
            "          96       0.07      0.14      0.09       100\n",
            "          97       0.32      0.08      0.13       100\n",
            "          98       0.10      0.01      0.02       100\n",
            "          99       0.06      0.28      0.10       100\n",
            "\n",
            "    accuracy                           0.13     10000\n",
            "   macro avg       0.18      0.13      0.12     10000\n",
            "weighted avg       0.18      0.13      0.12     10000\n",
            "\n"
          ]
        }
      ]
    },
    {
      "cell_type": "code",
      "source": [
        "cm = confusion_matrix(y_test, y_pred)\n",
        "\n",
        "subset_classes = list(range(10))\n",
        "cm_subset = cm[np.ix_(subset_classes, subset_classes)]\n",
        "\n",
        "disp = ConfusionMatrixDisplay(confusion_matrix=cm_subset, display_labels=subset_classes)\n",
        "\n",
        "fig, ax = plt.subplots(figsize=(8, 6))\n",
        "disp.plot(ax=ax, cmap='Blues', colorbar=True)\n",
        "plt.title(\"Confusion Matrix: First 10 Classes\")\n",
        "plt.show()"
      ],
      "metadata": {
        "colab": {
          "base_uri": "https://localhost:8080/",
          "height": 564
        },
        "id": "zaPlUM4Eeofn",
        "outputId": "3637e909-b4f7-4e78-a1ef-43556433b8f1"
      },
      "execution_count": 19,
      "outputs": [
        {
          "output_type": "display_data",
          "data": {
            "text/plain": [
              "<Figure size 800x600 with 2 Axes>"
            ],
            "image/png": "[encoded data removed]"
          },
          "metadata": {}
        }
      ]
    },
    {
      "cell_type": "code",
      "source": [],
      "metadata": {
        "id": "AAp5YP7-gACg"
      },
      "execution_count": null,
      "outputs": []
    }
  ],
  "metadata": {
    "colab": {
      "provenance": [],
      "include_colab_link": true
    },
    "kernelspec": {
      "display_name": "Python 3",
      "name": "python3"
    },
    "language_info": {
      "name": "python"
    }
  },
  "nbformat": 4,
  "nbformat_minor": 0
}